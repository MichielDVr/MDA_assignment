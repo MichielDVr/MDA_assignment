{
 "cells": [
  {
   "cell_type": "markdown",
   "metadata": {},
   "source": [
    "Get CIK list of all investment companies"
   ]
  },
  {
   "cell_type": "code",
   "execution_count": 5,
   "metadata": {},
   "outputs": [],
   "source": [
    "import pandas as pd\n",
    "import requests\n",
    "from bs4 import BeautifulSoup\n",
    "import csv \n",
    "import edgar\n",
    "\n",
    "\n",
    "\n",
    "df_MF = pd.read_csv(r'https://goz39a.s3.eu-central-1.amazonaws.com/13F/CIK_list.csv')\n",
    "df_MF['Entity Name'] = df_MF['Entity Name'].str.lower()\n",
    "#[i.find(isin(t)) for i in df_MF.loc[df_MF['Entity Name']]]\n",
    "\n"
   ]
  },
  {
   "cell_type": "markdown",
   "metadata": {},
   "source": [
    "Add zeros to CIK so that they have 10 digits"
   ]
  },
  {
   "cell_type": "code",
   "execution_count": 6,
   "metadata": {},
   "outputs": [],
   "source": [
    "CIK = df_MF['CIK Number'][0:500]\n",
    "A = [5*str(0)+str(cik) for cik in CIK if len(str(cik)) ==5]\n",
    "B = [6*str(0) + str(cik) for cik in CIK if len(str(cik)) ==4]\n",
    "CIK = A+B"
   ]
  },
  {
   "cell_type": "markdown",
   "metadata": {},
   "source": [
    "download all filings from 2020-2021"
   ]
  },
  {
   "cell_type": "code",
   "execution_count": 328,
   "metadata": {},
   "outputs": [],
   "source": [
    "edgar.download_index('c:/Users/michi/Desktop', 2020, skip_all_present_except_last=False)"
   ]
  },
  {
   "cell_type": "markdown",
   "metadata": {},
   "source": [
    "select the URL to the edgar archive for the 13F-HR filings of first quarters of 2020 and 2021 "
   ]
  },
  {
   "cell_type": "code",
   "execution_count": 17,
   "metadata": {},
   "outputs": [],
   "source": [
    "def get_urls(path_download_index):\n",
    "    with open(path_download_index,'r') as file:\n",
    "        tsvreader = csv.reader(file, delimiter=\"|\")\n",
    "        urls= []\n",
    "        file = []\n",
    "        for line in tsvreader:\n",
    "            if line[1:][1] == '13F-HR':\n",
    "                adress=line[-1]\n",
    "                url =  'https://www.sec.gov/Archives/' + adress\n",
    "                holding = line[1]\n",
    "                urls.append((holding.lower(), url))\n",
    "    return urls\n"
   ]
  },
  {
   "cell_type": "code",
   "execution_count": 18,
   "metadata": {},
   "outputs": [],
   "source": [
    "urls_2020 = get_urls('C:\\\\Users\\\\michi\\\\Desktop\\\\2020-QTR1.tsv')\n",
    "urls_2021 = get_urls('C:\\\\Users\\\\michi\\\\Desktop\\\\2021-QTR1.tsv')\n",
    "    "
   ]
  },
  {
   "cell_type": "markdown",
   "metadata": {},
   "source": [
    "Select only investment companies with 13F-HR filings in Q1 of both 2020 AND 2021"
   ]
  },
  {
   "cell_type": "code",
   "execution_count": 72,
   "metadata": {},
   "outputs": [],
   "source": [
    "urls_2020_names, _ = zip(*urls_2020)\n",
    "companiesBoth = [i for i in urls_2021 if i[0] in urls_2020_names]\n"
   ]
  },
  {
   "cell_type": "markdown",
   "metadata": {},
   "source": [
    "From this, only select biggest companies "
   ]
  },
  {
   "cell_type": "markdown",
   "metadata": {},
   "source": [
    "List of biggest investment companies from https://mutualfunddirectory.org/latest-directory-ranking-here/\n"
   ]
  },
  {
   "cell_type": "code",
   "execution_count": 9,
   "metadata": {},
   "outputs": [],
   "source": [
    "\n",
    "URL = 'https://mutualfunddirectory.org/latest-directory-ranking-here/'\n",
    "page = requests.get(URL)\n",
    "soup = BeautifulSoup(page.content, 'html.parser')\n",
    "table = soup.find('table', class_=\"tablepress-id-109\")\n",
    "for company in table.find_all('tbody'):\n",
    "    rows= company.find_all('tr')\n",
    "    companies =[]\n",
    "    for row in rows:\n",
    "        companies.append(row.find('td', class_=\"column-2\").text)\n",
    "\n",
    "companies = companies[:-1]\n",
    "companies = [i.lower() for i in companies]\n"
   ]
  },
  {
   "cell_type": "code",
   "execution_count": 75,
   "metadata": {},
   "outputs": [
    {
     "data": {
      "text/plain": [
       "['https://www.sec.gov/Archives/edgar/data/1027796/0001567619-21-002265-index.html',\n",
       " 'https://www.sec.gov/Archives/edgar/data/102909/0001104659-21-021334-index.html',\n",
       " 'https://www.sec.gov/Archives/edgar/data/1109448/0001532155-21-000087-index.html',\n",
       " 'https://www.sec.gov/Archives/edgar/data/1123274/0001123274-21-000002-index.html',\n",
       " 'https://www.sec.gov/Archives/edgar/data/1132716/0001132716-21-000004-index.html',\n",
       " 'https://www.sec.gov/Archives/edgar/data/1291274/0000950123-21-002177-index.html',\n",
       " 'https://www.sec.gov/Archives/edgar/data/1454937/0001454937-21-000003-index.html',\n",
       " 'https://www.sec.gov/Archives/edgar/data/1502149/0001567619-21-003904-index.html',\n",
       " 'https://www.sec.gov/Archives/edgar/data/1529735/0001628280-21-002255-index.html',\n",
       " 'https://www.sec.gov/Archives/edgar/data/1535631/0001535631-21-000001-index.html',\n",
       " 'https://www.sec.gov/Archives/edgar/data/1599576/0001599576-21-000001-index.html',\n",
       " 'https://www.sec.gov/Archives/edgar/data/1610520/0000950123-21-001651-index.html',\n",
       " 'https://www.sec.gov/Archives/edgar/data/1730578/0001730578-21-000001-index.html',\n",
       " 'https://www.sec.gov/Archives/edgar/data/801051/0001085146-21-000293-index.html',\n",
       " 'https://www.sec.gov/Archives/edgar/data/861177/0000861177-21-000006-index.html',\n",
       " 'https://www.sec.gov/Archives/edgar/data/870481/0001567619-21-003782-index.html',\n",
       " 'https://www.sec.gov/Archives/edgar/data/9015/0001606779-21-000001-index.html',\n",
       " 'https://www.sec.gov/Archives/edgar/data/914208/0000914208-21-000251-index.html',\n",
       " 'https://www.sec.gov/Archives/edgar/data/949509/0000949509-21-000001-index.html']"
      ]
     },
     "execution_count": 75,
     "metadata": {},
     "output_type": "execute_result"
    }
   ],
   "source": [
    "urls = [element[1] for element in companiesBoth if element[0].split()[0] in companies]\n",
    "#TODO because company names not the same, look if the first element in string is contained, is this reliable? "
   ]
  },
  {
   "cell_type": "markdown",
   "metadata": {},
   "source": [
    "get filing detail page on Edgar for each filing"
   ]
  },
  {
   "cell_type": "code",
   "execution_count": 244,
   "metadata": {},
   "outputs": [],
   "source": [
    "import pandas as pd\n",
    "def parser(urls):\n",
    "    df = []\n",
    "\n",
    "    for url in urls:\n",
    "        my_header = {'User-Agent': 'Mozilla/5.0 (X11; Linux x86_64) ' \n",
    "                              'AppleWebKit/537.11 (KHTML, like Gecko) '\n",
    "                              'Chrome/23.0.1271.64 Safari/537.11',\n",
    "                'Accept': 'text/html,application/xhtml+xml,application/xml;q=0.9,*/*;q=0.8',\n",
    "                'Accept-Charset': 'ISO-8859-1,utf-8;q=0.7,*;q=0.3',\n",
    "                'Accept-Encoding': 'none',\n",
    "                'Accept-Language': 'en-US,en;q=0.8',\n",
    "                'Connection': 'keep-alive'}\n",
    "        #url = 'https://www.sec.gov/Archives/edgar/data/1000742/0001567619-20-003961-index.html'\n",
    "        page = requests.get(url,  headers=my_header)    \n",
    "        data = page.text\n",
    "        soup = BeautifulSoup(data, \"lxml\")\n",
    "        identifier = []\n",
    "        urls = []\n",
    "\n",
    "        result= soup.find_all('div', attrs={'class':'formGrouping'})[0]\n",
    "        date = result.find('div',attrs={'class':'info'}).text\n",
    "        index = soup.find('div',{'id':'secNum'}).text.replace('SEC Accession No. ','').replace('\\n','')\n",
    "\n",
    "\n",
    "        for link in soup.find_all('a'):\n",
    "            try:\n",
    "                if 'xml' in link.get('href'):\n",
    "                    url_to_save = link.get('href')\n",
    "                    identifier.append(url_to_save)\n",
    "                    print(url_to_save)\n",
    "            except:\n",
    "                pass\n",
    "\n",
    "        for item in identifier:\n",
    "\n",
    "            urls.append('https://www.sec.gov'+item)\n",
    "        for url in urls:\n",
    "            try:\n",
    "                DF_13F = pd.read_html(url)\n",
    "                DF_13F = DF_13F[-1]\n",
    "                DF_13F = DF_13F.iloc[2:]\n",
    "                new_header = DF_13F.iloc[0]\n",
    "                DF_13F.columns = new_header\n",
    "                DF_13F = DF_13F.iloc[1:]\n",
    "                DF_13F['date_reported'] = date\n",
    "                cik_company = url.split('data/')[1].split('/')[0]\n",
    "                DF_13F['cik_company'] = cik_company\n",
    "                DF_13F['index'] = index\n",
    "                DF_13F = DF_13F[['index','NAME OF ISSUER','TITLE OF CLASS','CUSIP','(x$1000)','PRN AMT','PRN','date_reported','cik_company']]\n",
    "                df.append(DF_13F)\n",
    "\n",
    "            except:\n",
    "                print('RuntimeError')\n",
    "    return pd.concat(df)\n",
    "\n",
    "\n",
    "\n",
    "\n"
   ]
  },
  {
   "cell_type": "markdown",
   "metadata": {},
   "source": [
    "dataframe <br>\n",
    "TODO: add location (city or state) of company + revenue at that time"
   ]
  },
  {
   "cell_type": "code",
   "execution_count": 245,
   "metadata": {},
   "outputs": [
    {
     "name": "stdout",
     "output_type": "stream",
     "text": [
      "/Archives/edgar/data/1000097/000100009720000004/xslForm13F_X01/primary_doc.xml\n",
      "/Archives/edgar/data/1000097/000100009720000004/primary_doc.xml\n",
      "/Archives/edgar/data/1000097/000100009720000004/xslForm13F_X01/data.xml\n",
      "/Archives/edgar/data/1000097/000100009720000004/data.xml\n",
      "RuntimeError\n",
      "RuntimeError\n",
      "RuntimeError\n",
      "/Archives/edgar/data/1000275/000156761920003889/xslForm13F_X01/primary_doc.xml\n",
      "/Archives/edgar/data/1000275/000156761920003889/primary_doc.xml\n",
      "/Archives/edgar/data/1000275/000156761920003889/xslForm13F_X01/form13fInfoTable.xml\n",
      "/Archives/edgar/data/1000275/000156761920003889/form13fInfoTable.xml\n",
      "RuntimeError\n",
      "RuntimeError\n",
      "RuntimeError\n",
      "/Archives/edgar/data/1000490/000100049020000001/xslForm13F_X01/primary_doc.xml\n",
      "/Archives/edgar/data/1000490/000100049020000001/primary_doc.xml\n",
      "/Archives/edgar/data/1000490/000100049020000001/xslForm13F_X01/12312019Girard.xml\n",
      "/Archives/edgar/data/1000490/000100049020000001/12312019Girard.xml\n",
      "RuntimeError\n",
      "RuntimeError\n",
      "RuntimeError\n",
      "RuntimeError\n"
     ]
    },
    {
     "data": {
      "text/html": [
       "<div>\n",
       "<style scoped>\n",
       "    .dataframe tbody tr th:only-of-type {\n",
       "        vertical-align: middle;\n",
       "    }\n",
       "\n",
       "    .dataframe tbody tr th {\n",
       "        vertical-align: top;\n",
       "    }\n",
       "\n",
       "    .dataframe thead th {\n",
       "        text-align: right;\n",
       "    }\n",
       "</style>\n",
       "<table border=\"1\" class=\"dataframe\">\n",
       "  <thead>\n",
       "    <tr style=\"text-align: right;\">\n",
       "      <th>2</th>\n",
       "      <th>index</th>\n",
       "      <th>NAME OF ISSUER</th>\n",
       "      <th>TITLE OF CLASS</th>\n",
       "      <th>CUSIP</th>\n",
       "      <th>(x$1000)</th>\n",
       "      <th>PRN AMT</th>\n",
       "      <th>PRN</th>\n",
       "      <th>date_reported</th>\n",
       "      <th>cik_company</th>\n",
       "    </tr>\n",
       "  </thead>\n",
       "  <tbody>\n",
       "    <tr>\n",
       "      <th>3</th>\n",
       "      <td>0001000097-20-000004</td>\n",
       "      <td>AERIE PHARMACEUTICALS INC</td>\n",
       "      <td>COM</td>\n",
       "      <td>00771V108</td>\n",
       "      <td>29604</td>\n",
       "      <td>1224825</td>\n",
       "      <td>SH</td>\n",
       "      <td>2020-02-14</td>\n",
       "      <td>1000097</td>\n",
       "    </tr>\n",
       "    <tr>\n",
       "      <th>4</th>\n",
       "      <td>0001000097-20-000004</td>\n",
       "      <td>AKAZOO SA</td>\n",
       "      <td>SHS</td>\n",
       "      <td>L0164E108</td>\n",
       "      <td>1695</td>\n",
       "      <td>321600</td>\n",
       "      <td>SH</td>\n",
       "      <td>2020-02-14</td>\n",
       "      <td>1000097</td>\n",
       "    </tr>\n",
       "    <tr>\n",
       "      <th>5</th>\n",
       "      <td>0001000097-20-000004</td>\n",
       "      <td>ALLY FINL INC</td>\n",
       "      <td>COM</td>\n",
       "      <td>02005N100</td>\n",
       "      <td>21821</td>\n",
       "      <td>714040</td>\n",
       "      <td>SH</td>\n",
       "      <td>2020-02-14</td>\n",
       "      <td>1000097</td>\n",
       "    </tr>\n",
       "    <tr>\n",
       "      <th>6</th>\n",
       "      <td>0001000097-20-000004</td>\n",
       "      <td>ALPHABET INC</td>\n",
       "      <td>CAP STK CL A</td>\n",
       "      <td>02079K305</td>\n",
       "      <td>32317</td>\n",
       "      <td>24128</td>\n",
       "      <td>SH</td>\n",
       "      <td>2020-02-14</td>\n",
       "      <td>1000097</td>\n",
       "    </tr>\n",
       "    <tr>\n",
       "      <th>7</th>\n",
       "      <td>0001000097-20-000004</td>\n",
       "      <td>ARQULE INC</td>\n",
       "      <td>COM</td>\n",
       "      <td>04269E107</td>\n",
       "      <td>1996</td>\n",
       "      <td>100000</td>\n",
       "      <td>SH</td>\n",
       "      <td>2020-02-14</td>\n",
       "      <td>1000097</td>\n",
       "    </tr>\n",
       "    <tr>\n",
       "      <th>...</th>\n",
       "      <td>...</td>\n",
       "      <td>...</td>\n",
       "      <td>...</td>\n",
       "      <td>...</td>\n",
       "      <td>...</td>\n",
       "      <td>...</td>\n",
       "      <td>...</td>\n",
       "      <td>...</td>\n",
       "      <td>...</td>\n",
       "    </tr>\n",
       "    <tr>\n",
       "      <th>26741</th>\n",
       "      <td>0001567619-20-003889</td>\n",
       "      <td>TEEKAY TANKERS LTD</td>\n",
       "      <td>CL A</td>\n",
       "      <td>Y8565N300</td>\n",
       "      <td>21</td>\n",
       "      <td>893</td>\n",
       "      <td>SH</td>\n",
       "      <td>2020-02-14</td>\n",
       "      <td>1000275</td>\n",
       "    </tr>\n",
       "    <tr>\n",
       "      <th>26742</th>\n",
       "      <td>0001567619-20-003889</td>\n",
       "      <td>TEEKAY TANKERS LTD</td>\n",
       "      <td>CL A</td>\n",
       "      <td>Y8565N300</td>\n",
       "      <td>53</td>\n",
       "      <td>2200</td>\n",
       "      <td>SH</td>\n",
       "      <td>2020-02-14</td>\n",
       "      <td>1000275</td>\n",
       "    </tr>\n",
       "    <tr>\n",
       "      <th>26743</th>\n",
       "      <td>0001567619-20-003889</td>\n",
       "      <td>TEEKAY TANKERS LTD</td>\n",
       "      <td>CL A</td>\n",
       "      <td>Y8565N300</td>\n",
       "      <td>16</td>\n",
       "      <td>649</td>\n",
       "      <td>SH</td>\n",
       "      <td>2020-02-14</td>\n",
       "      <td>1000275</td>\n",
       "    </tr>\n",
       "    <tr>\n",
       "      <th>26744</th>\n",
       "      <td>0001567619-20-003889</td>\n",
       "      <td>WAVE LIFE SCIENCES LTD</td>\n",
       "      <td>SHS</td>\n",
       "      <td>Y95308105</td>\n",
       "      <td>10</td>\n",
       "      <td>1222</td>\n",
       "      <td>SH</td>\n",
       "      <td>2020-02-14</td>\n",
       "      <td>1000275</td>\n",
       "    </tr>\n",
       "    <tr>\n",
       "      <th>26745</th>\n",
       "      <td>0001567619-20-003889</td>\n",
       "      <td>WAVE LIFE SCIENCES LTD</td>\n",
       "      <td>SHS</td>\n",
       "      <td>Y95308105</td>\n",
       "      <td>6</td>\n",
       "      <td>700</td>\n",
       "      <td>SH</td>\n",
       "      <td>2020-02-14</td>\n",
       "      <td>1000275</td>\n",
       "    </tr>\n",
       "  </tbody>\n",
       "</table>\n",
       "<p>26798 rows × 9 columns</p>\n",
       "</div>"
      ],
      "text/plain": [
       "2                           index             NAME OF ISSUER TITLE OF CLASS  \\\n",
       "3      0001000097-20-000004        AERIE PHARMACEUTICALS INC            COM   \n",
       "4      0001000097-20-000004                        AKAZOO SA            SHS   \n",
       "5      0001000097-20-000004                    ALLY FINL INC            COM   \n",
       "6      0001000097-20-000004                     ALPHABET INC   CAP STK CL A   \n",
       "7      0001000097-20-000004                       ARQULE INC            COM   \n",
       "...                           ...                        ...            ...   \n",
       "26741  0001567619-20-003889               TEEKAY TANKERS LTD           CL A   \n",
       "26742  0001567619-20-003889               TEEKAY TANKERS LTD           CL A   \n",
       "26743  0001567619-20-003889               TEEKAY TANKERS LTD           CL A   \n",
       "26744  0001567619-20-003889           WAVE LIFE SCIENCES LTD            SHS   \n",
       "26745  0001567619-20-003889           WAVE LIFE SCIENCES LTD            SHS   \n",
       "\n",
       "2          CUSIP (x$1000)  PRN AMT PRN date_reported cik_company  \n",
       "3      00771V108    29604  1224825  SH    2020-02-14     1000097  \n",
       "4      L0164E108     1695   321600  SH    2020-02-14     1000097  \n",
       "5      02005N100    21821   714040  SH    2020-02-14     1000097  \n",
       "6      02079K305    32317    24128  SH    2020-02-14     1000097  \n",
       "7      04269E107     1996   100000  SH    2020-02-14     1000097  \n",
       "...          ...      ...      ...  ..           ...         ...  \n",
       "26741  Y8565N300       21      893  SH    2020-02-14     1000275  \n",
       "26742  Y8565N300       53     2200  SH    2020-02-14     1000275  \n",
       "26743  Y8565N300       16      649  SH    2020-02-14     1000275  \n",
       "26744  Y95308105       10     1222  SH    2020-02-14     1000275  \n",
       "26745  Y95308105        6      700  SH    2020-02-14     1000275  \n",
       "\n",
       "[26798 rows x 9 columns]"
      ]
     },
     "execution_count": 245,
     "metadata": {},
     "output_type": "execute_result"
    }
   ],
   "source": [
    "parser(urls)"
   ]
  }
 ],
 "metadata": {
  "kernelspec": {
   "display_name": "Python 3",
   "language": "python",
   "name": "python3"
  },
  "language_info": {
   "codemirror_mode": {
    "name": "ipython",
    "version": 3
   },
   "file_extension": ".py",
   "mimetype": "text/x-python",
   "name": "python",
   "nbconvert_exporter": "python",
   "pygments_lexer": "ipython3",
   "version": "3.7.6"
  }
 },
 "nbformat": 4,
 "nbformat_minor": 4
}
