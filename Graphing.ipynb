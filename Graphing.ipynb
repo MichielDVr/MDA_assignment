{
 "cells": [
  {
   "cell_type": "code",
   "execution_count": 4,
   "metadata": {},
   "outputs": [],
   "source": [
    "import pandas as pd\n",
    "import requests\n",
    "from bs4 import BeautifulSoup\n",
    "import csv \n",
    "import edgar\n",
    "import os\n",
    "import pickle\n",
    "import numpy as np\n",
    "import networkx as nx\n",
    "import matplotlib.pyplot as plt\n",
    "import plotly.graph_objects as go\n"
   ]
  },
  {
   "cell_type": "code",
   "execution_count": null,
   "metadata": {},
   "outputs": [],
   "source": [
    "df=pickle.load(open('df_All',\"rb\"))"
   ]
  },
  {
   "cell_type": "code",
   "execution_count": null,
   "metadata": {},
   "outputs": [],
   "source": [
    "# entity names as labels\n",
    "labels = list(set(df['Entity name'].str.lower()))\n"
   ]
  },
  {
   "cell_type": "code",
   "execution_count": 3,
   "metadata": {},
   "outputs": [],
   "source": [
    "def Adj_weight(df):\n",
    "    dummies = pd.get_dummies(df['CUSIP']).astype(float)\n",
    "    weights=dummies.T*np.asarray(df['(x$1000)']).astype(float)\n",
    "    df_ = pd.concat([df[['CIK']],weights.T],axis=1)\n",
    "    weights = df_.groupby(['CIK']).sum()\n",
    "    v=np.dot(weights,weights.T)\n",
    "    v=np.tril(v,-1)\n",
    "    return v,weights"
   ]
  },
  {
   "cell_type": "code",
   "execution_count": null,
   "metadata": {},
   "outputs": [],
   "source": [
    "adj, weights = Adj_weight(df)\n",
    "q1=[adj, weights]\n",
    "with open(\"C:/Users/michi/Desktop/MDA/2019_1\",\"wb\") as f:\n",
    "    pickle.dump(q1, f)\n",
    "f.close()"
   ]
  },
  {
   "cell_type": "code",
   "execution_count": 6,
   "metadata": {},
   "outputs": [],
   "source": [
    "q2=pickle.load(open('q2',\"rb\"))"
   ]
  },
  {
   "cell_type": "code",
   "execution_count": 8,
   "metadata": {},
   "outputs": [],
   "source": [
    "def centrality_attr(G):\n",
    "    bb = nx.betweenness_centrality(G)\n",
    "    cc = nx.closeness_centrality(G)\n",
    "    dc = nx.degree_centrality(G)\n",
    "    centrality = {j:{'betweenness':bb[j],'closeness': cc[j],'degree': dc[j]} for i,j in enumerate(G.nodes)}\n",
    "    nx.set_node_attributes(G, centrality)\n",
    "\n",
    "    "
   ]
  },
  {
   "cell_type": "code",
   "execution_count": 17,
   "metadata": {},
   "outputs": [],
   "source": [
    "#TODO: instead of CIK numbers company names\n",
    "def plot_network(adj,weight,centrality_metric):\n",
    "    np.random.seed(3)\n",
    "    # define network in networkx\n",
    "    G = nx.from_numpy_matrix(adj)\n",
    "    # labels are CIK numbers\n",
    "    labels={i: weight.index[i] for i in G.nodes}\n",
    "    G=nx.relabel_nodes(G, labels)\n",
    "    \n",
    "    # calculate centrality metrics + assign to node attributes\n",
    "    centrality_attr(G)\n",
    "    \n",
    "    ranking = sorted(nx.degree_centrality(G).items(), key=lambda x: x[1], reverse=True)\n",
    "    top_central_txt ='<b>Most central companies</b>'+ '<br>' +'CIK ' +str(ranking[0][0]) +' : ' + str(ranking[0][1]) + '<br>'+' CIK ' +str(ranking[1][0]) +' : ' + str(ranking[1][1]) + '<br>'+' CIK ' +str(ranking[2][0]) +' : ' + str(ranking[2][1])\n",
    "    bottom_central_txt ='<b>Most decentral company</b>' +'<br>'+ 'CIK ' +str(ranking[-1][0]) +' : ' + str(np.round(ranking[-1][1],4))\n",
    "    connectivity = '<b>Connectivity: </b>'+ '<br>'+ 'Diameter: ' + str(nx.diameter(G)) +'<br>' + 'Node connectivity: ' + str(nx.node_connectivity(G)) + '<br>' +'Edge connectivity: ' + str(nx.edge_connectivity(G))\n",
    "    \n",
    "    # positions of nodes according to spring algorithm\n",
    "    pos=nx.spring_layout(G, dim=2)\n",
    "\n",
    "    #we need to seperate the X,Y coordinates for Plotly\n",
    "    x_nodes = [pos[i][0] for i in G.nodes]# x-coordinates of nodes\n",
    "    y_nodes = [pos[i][1] for i in G.nodes]# y-coordinates\n",
    "    \n",
    "    # hover info for node\n",
    "    node_info=['CIK: ' + str(i)+'<br>'+str(centrality_metric)+' centrality :'+str(np.round(G.nodes[i][centrality_metric],4)) for i in (G.nodes)]\n",
    "    #edge_info=['MV of shared sec.:' + str(i) for i in adj]\n",
    "\n",
    "    # traces for edges: different weights -> different widths of lines (I scale them to 0-1 so that abs differences are not to big)\n",
    "    edge_list= G.edges\n",
    "    total_weight=[]\n",
    "    for edge in edge_list:\n",
    "        total_weight.append(list(G[edge[0]][edge[1]].values())[0])\n",
    "    edges_list=[ dict(type='scatter',\n",
    "                 x=[pos[edge[0]][0],pos[edge[1]][0]],\n",
    "                 y=[pos[edge[0]][1],pos[edge[1]][1]],\n",
    "                  mode='lines',hoverinfo='skip',text=np.max(G[edge[0]][edge[1]]['weight']),\n",
    "                  line=dict(width=(list(G[edge[0]][edge[1]].values())[0]-np.min(total_weight))/(np.max(total_weight)-np.min(total_weight))*4+0.05,color='blue'))  for edge in edge_list]\n",
    "\n",
    "    # trace3_list = []\n",
    "    # a=[]\n",
    "    # middle_node_trace = go.Scatter(\n",
    "    #     x=[],\n",
    "    #     y=[],\n",
    "    #     text=[],\n",
    "    #     mode='markers',\n",
    "    #     hoverinfo='text',\n",
    "    #     marker=go.Marker(\n",
    "    #         opacity=0\n",
    "    #     )\n",
    "    # )\n",
    "    # for edge in G.edges(data=True):\n",
    "    #     trace3=go.Scatter(\n",
    "    #         x=[],\n",
    "    #         y=[],\n",
    "    #         mode='lines',\n",
    "    #         line=dict(color='rgb(210,210,210)', width=edge[2]['weight']),\n",
    "    #         hoverinfo='none'\n",
    "    #     )\n",
    "    #     x0, y0 = pos[edge[0]]\n",
    "    #     x1, y1 = pos[edge[1]]\n",
    "    #     trace3['x'] += (x0, x1, None)\n",
    "    #     trace3['y'] += (y0, y1, None)\n",
    "    #     trace3_list += trace3\n",
    "\n",
    "    #     middle_node_trace['x']+=(x0+x1)/2\n",
    "    #     middle_node_trace['y']+=(y0+y1)/2\n",
    "    #     a.append(edge[2]['weight'])\n",
    "    # middle_node_trace['text'] =a\n",
    "\n",
    "    # edges_list.append(trace3_list)\n",
    "    #txt='Most central companies:<br>1. %s <br> 2. %s <br> 3. %s' %(d[0],d[1],d[2])\n",
    "    \n",
    "    \n",
    "    # trace for nodes, different node sizes -> choose centrality alg\n",
    "    # node sizes are multiplied by a number so that abs differences are bigger\n",
    "    trace_nodes = go.Scatter(x=x_nodes,\n",
    "                             y=y_nodes,\n",
    "                            #z=z_nodes,\n",
    "                             mode='markers',\n",
    "                             marker=dict(symbol='circle',size=[G.nodes[i][centrality_metric]*20 for i in G.nodes],colorscale=['lightgreen','magenta']), line=dict(color='red', width=0.5),\n",
    "                             text= node_info,\n",
    "                             hoverinfo='text')\n",
    "\n",
    "    axis = dict(showbackground=True,\n",
    "                showline=False,\n",
    "                zeroline=False,\n",
    "                showgrid=False,\n",
    "                showticklabels=False,\n",
    "                title='')\n",
    "    #layout for the plot\n",
    "    layout = go.Layout(title=\"Network with shared positions of investment companies\",\n",
    "                    width=650,\n",
    "                    height=625,\n",
    "                    showlegend=False,\n",
    "                    xaxis=dict(autorange=True, showgrid=False, ticks='', showticklabels=False),\n",
    "                    yaxis=dict(autorange=True, showgrid=False, ticks='', showticklabels=False),\n",
    "                    margin=dict(t=100),\n",
    "                    hovermode='x',\n",
    "                    paper_bgcolor='rgba(0,0,0,0)',\n",
    "                    plot_bgcolor='rgba(0,0,0,0)',\n",
    "                      annotations=[\n",
    "            go.layout.Annotation(\n",
    "                text=top_central_txt,\n",
    "                align='left',\n",
    "                showarrow=False,\n",
    "                xref='paper',\n",
    "                yref='paper',\n",
    "                x=1.1,\n",
    "                y=1,\n",
    "                bordercolor='black',\n",
    "                borderwidth=1\n",
    "            ),\n",
    "            go.layout.Annotation(\n",
    "                text=bottom_central_txt,\n",
    "                align='left',\n",
    "                showarrow=False,\n",
    "                xref='paper',\n",
    "                yref='paper',\n",
    "                x=1.1,\n",
    "                y=0.85,\n",
    "                bordercolor='black',\n",
    "                borderwidth=1\n",
    "            ),\n",
    "                go.layout.Annotation(\n",
    "                text=connectivity,\n",
    "                align='left',\n",
    "                showarrow=False,\n",
    "                xref='paper',\n",
    "                yref='paper',\n",
    "                x=1.1,\n",
    "                y=0.76,\n",
    "                bordercolor='black',\n",
    "                borderwidth=1\n",
    "            )\n",
    "        ])\n",
    "        \n",
    "\n",
    "    #Include the traces, create a figure\n",
    "    data = edges_list+[trace_nodes ]\n",
    "    fig = go.Figure(data=data, layout=layout)\n",
    "\n",
    "    fig.show()\n",
    "\n"
   ]
  },
  {
   "cell_type": "code",
   "execution_count": 19,
   "metadata": {},
   "outputs": [
    {
     "data": {
      "application/vnd.plotly.v1+json": {
       "config": {
        "plotlyServerURL": "https://plot.ly"
       },
       "data": [
        {
         "hoverinfo": "skip",
         "line": {
          "color": "blue",
          "width": 0.05004655484517294
         },
         "mode": "lines",
         "text": "42174991860171.0",
         "type": "scatter",
         "x": [
          -0.14788755633200684,
          0.09289258707936421
         ],
         "y": [
          0.0219400834019119,
          -0.689164741634031
         ]
        },
        {
         "hoverinfo": "skip",
         "line": {
          "color": "blue",
          "width": 0.050002233445254576
         },
         "mode": "lines",
         "text": "2023324003922.0",
         "type": "scatter",
         "x": [
          -0.14788755633200684,
          0.06166727094573401
         ],
         "y": [
          0.0219400834019119,
          0.17631969354848728
         ]
        },
        {
         "hoverinfo": "skip",
         "line": {
          "color": "blue",
          "width": 0.05000001353672277
         },
         "mode": "lines",
         "text": "12263202494.0",
         "type": "scatter",
         "x": [
          -0.14788755633200684,
          -0.07171309840314498
         ],
         "y": [
          0.0219400834019119,
          0.045015217522372315
         ]
        },
        {
         "hoverinfo": "skip",
         "line": {
          "color": "blue",
          "width": 0.05000320136887788
         },
         "mode": "lines",
         "text": "2900185924000.0",
         "type": "scatter",
         "x": [
          -0.14788755633200684,
          -0.0890221595419031
         ],
         "y": [
          0.0219400834019119,
          0.26078569217434955
         ]
        },
        {
         "hoverinfo": "skip",
         "line": {
          "color": "blue",
          "width": 0.050000645184808304
         },
         "mode": "lines",
         "text": "584486195874.0",
         "type": "scatter",
         "x": [
          -0.14788755633200684,
          -0.21957618178535965
         ],
         "y": [
          0.0219400834019119,
          0.1303889278571887
         ]
        },
        {
         "hoverinfo": "skip",
         "line": {
          "color": "blue",
          "width": 0.050000000396212836
         },
         "mode": "lines",
         "text": "358944248.0",
         "type": "scatter",
         "x": [
          -0.14788755633200684,
          0.11793257377459164
         ],
         "y": [
          0.0219400834019119,
          0.03036211669011828
         ]
        },
        {
         "hoverinfo": "skip",
         "line": {
          "color": "blue",
          "width": 0.05000014351631248
         },
         "mode": "lines",
         "text": "130014386429.0",
         "type": "scatter",
         "x": [
          -0.14788755633200684,
          0.4267845350748087
         ],
         "y": [
          0.0219400834019119,
          -0.5003728609262499
         ]
        },
        {
         "hoverinfo": "skip",
         "line": {
          "color": "blue",
          "width": 0.05000005688925147
         },
         "mode": "lines",
         "text": "51537149981.0",
         "type": "scatter",
         "x": [
          -0.14788755633200684,
          0.2524310030838184
         ],
         "y": [
          0.0219400834019119,
          -0.2669388483782732
         ]
        },
        {
         "hoverinfo": "skip",
         "line": {
          "color": "blue",
          "width": 0.0500000021598559
         },
         "mode": "lines",
         "text": "1956664778.0",
         "type": "scatter",
         "x": [
          -0.14788755633200684,
          -0.19550891065857323
         ],
         "y": [
          0.0219400834019119,
          -0.15537502384687474
         ]
        },
        {
         "hoverinfo": "skip",
         "line": {
          "color": "blue",
          "width": 0.05000000080693456
         },
         "mode": "lines",
         "text": "731025500.0",
         "type": "scatter",
         "x": [
          -0.14788755633200684,
          0.18907882349467978
         ],
         "y": [
          0.0219400834019119,
          -0.19759796587727918
         ]
        },
        {
         "hoverinfo": "skip",
         "line": {
          "color": "blue",
          "width": 0.050000005334041524
         },
         "mode": "lines",
         "text": "4832224824.0",
         "type": "scatter",
         "x": [
          -0.14788755633200684,
          -0.10508213068898441
         ],
         "y": [
          0.0219400834019119,
          -0.10123425059664076
         ]
        },
        {
         "hoverinfo": "skip",
         "line": {
          "color": "blue",
          "width": 0.05000242784451649
         },
         "mode": "lines",
         "text": "2199434293983.0",
         "type": "scatter",
         "x": [
          -0.14788755633200684,
          0.21335469768789028
         ],
         "y": [
          0.0219400834019119,
          0.0433513350507331
         ]
        },
        {
         "hoverinfo": "skip",
         "line": {
          "color": "blue",
          "width": 0.05000000086083944
         },
         "mode": "lines",
         "text": "779859041.0",
         "type": "scatter",
         "x": [
          -0.14788755633200684,
          0.29829324959871156
         ],
         "y": [
          0.0219400834019119,
          -0.28991122404154945
         ]
        },
        {
         "hoverinfo": "skip",
         "line": {
          "color": "blue",
          "width": 0.050000038088184255
         },
         "mode": "lines",
         "text": "34504876460.0",
         "type": "scatter",
         "x": [
          -0.14788755633200684,
          0.022898454547114633
         ],
         "y": [
          0.0219400834019119,
          0.10632543725739717
         ]
        },
        {
         "hoverinfo": "skip",
         "line": {
          "color": "blue",
          "width": 0.052400217378708494
         },
         "mode": "lines",
         "text": "2174406294713749.0",
         "type": "scatter",
         "x": [
          -0.14788755633200684,
          -0.7363351081837023
         ],
         "y": [
          0.0219400834019119,
          1
         ]
        },
        {
         "hoverinfo": "skip",
         "line": {
          "color": "blue",
          "width": 0.050000000103136794
         },
         "mode": "lines",
         "text": "93440631.0",
         "type": "scatter",
         "x": [
          -0.14788755633200684,
          0.09610837230404637
         ],
         "y": [
          0.0219400834019119,
          0.43682897809678295
         ]
        },
        {
         "hoverinfo": "skip",
         "line": {
          "color": "blue",
          "width": 0.05000002562637351
         },
         "mode": "lines",
         "text": "23215465777.0",
         "type": "scatter",
         "x": [
          -0.14788755633200684,
          -0.1381063270271228
         ],
         "y": [
          0.0219400834019119,
          -0.14687488837188614
         ]
        },
        {
         "hoverinfo": "skip",
         "line": {
          "color": "blue",
          "width": 0.050005521106022674
         },
         "mode": "lines",
         "text": "5001683519367.0",
         "type": "scatter",
         "x": [
          -0.14788755633200684,
          -0.19456541913131645
         ],
         "y": [
          0.0219400834019119,
          -0.008930493351442794
         ]
        },
        {
         "hoverinfo": "skip",
         "line": {
          "color": "blue",
          "width": 0.05000001814221138
         },
         "mode": "lines",
         "text": "16435409352.0",
         "type": "scatter",
         "x": [
          -0.14788755633200684,
          -0.1948494780080632
         ],
         "y": [
          0.0219400834019119,
          -0.07670476754110407
         ]
        },
        {
         "hoverinfo": "skip",
         "line": {
          "color": "blue",
          "width": 0.053863214468727966
         },
         "mode": "lines",
         "text": "3499765451719717.0",
         "type": "scatter",
         "x": [
          0.09289258707936421,
          0.06166727094573401
         ],
         "y": [
          -0.689164741634031,
          0.17631969354848728
         ]
        },
        {
         "hoverinfo": "skip",
         "line": {
          "color": "blue",
          "width": 0.050049402358639236
         },
         "mode": "lines",
         "text": "44754612881294.0",
         "type": "scatter",
         "x": [
          0.09289258707936421,
          -0.07171309840314498
         ],
         "y": [
          -0.689164741634031,
          0.045015217522372315
         ]
        },
        {
         "hoverinfo": "skip",
         "line": {
          "color": "blue",
          "width": 0.058135715715457094
         },
         "mode": "lines",
         "text": "7370312214459000.0",
         "type": "scatter",
         "x": [
          0.09289258707936421,
          -0.0890221595419031
         ],
         "y": [
          -0.689164741634031,
          0.26078569217434955
         ]
        },
        {
         "hoverinfo": "skip",
         "line": {
          "color": "blue",
          "width": 0.05076010094488453
         },
         "mode": "lines",
         "text": "688591080894264.0",
         "type": "scatter",
         "x": [
          0.09289258707936421,
          -0.21957618178535965
         ],
         "y": [
          -0.689164741634031,
          0.1303889278571887
         ]
        },
        {
         "hoverinfo": "skip",
         "line": {
          "color": "blue",
          "width": 0.050000403172002564
         },
         "mode": "lines",
         "text": "365241817066.0",
         "type": "scatter",
         "x": [
          0.09289258707936421,
          0.32120480216941744
         ],
         "y": [
          -0.689164741634031,
          0.1817875829652392
         ]
        },
        {
         "hoverinfo": "skip",
         "line": {
          "color": "blue",
          "width": 0.05000163673959266
         },
         "mode": "lines",
         "text": "1482756070838.0",
         "type": "scatter",
         "x": [
          0.09289258707936421,
          0.11793257377459164
         ],
         "y": [
          -0.689164741634031,
          0.03036211669011828
         ]
        },
        {
         "hoverinfo": "skip",
         "line": {
          "color": "blue",
          "width": 0.05021027173501723
         },
         "mode": "lines",
         "text": "190489489949011.0",
         "type": "scatter",
         "x": [
          0.09289258707936421,
          0.4267845350748087
         ],
         "y": [
          -0.689164741634031,
          -0.5003728609262499
         ]
        },
        {
         "hoverinfo": "skip",
         "line": {
          "color": "blue",
          "width": 0.05017895998684008
         },
         "mode": "lines",
         "text": "162123533207494.0",
         "type": "scatter",
         "x": [
          0.09289258707936421,
          0.2524310030838184
         ],
         "y": [
          -0.689164741634031,
          -0.2669388483782732
         ]
        },
        {
         "hoverinfo": "skip",
         "line": {
          "color": "blue",
          "width": 0.050003184513825794
         },
         "mode": "lines",
         "text": "2884916585617.0",
         "type": "scatter",
         "x": [
          0.09289258707936421,
          -0.19550891065857323
         ],
         "y": [
          -0.689164741634031,
          -0.15537502384687474
         ]
        },
        {
         "hoverinfo": "skip",
         "line": {
          "color": "blue",
          "width": 0.050006402509644984
         },
         "mode": "lines",
         "text": "5800165190871.0",
         "type": "scatter",
         "x": [
          0.09289258707936421,
          0.18907882349467978
         ],
         "y": [
          -0.689164741634031,
          -0.19759796587727918
         ]
        },
        {
         "hoverinfo": "skip",
         "line": {
          "color": "blue",
          "width": 0.05002036367946707
         },
         "mode": "lines",
         "text": "18447876107349.0",
         "type": "scatter",
         "x": [
          0.09289258707936421,
          -0.10508213068898441
         ],
         "y": [
          -0.689164741634031,
          -0.10123425059664076
         ]
        },
        {
         "hoverinfo": "skip",
         "line": {
          "color": "blue",
          "width": 0.05398303556047453
         },
         "mode": "lines",
         "text": "3608313843396039.0",
         "type": "scatter",
         "x": [
          0.09289258707936421,
          0.21335469768789028
         ],
         "y": [
          -0.689164741634031,
          0.0433513350507331
         ]
        },
        {
         "hoverinfo": "skip",
         "line": {
          "color": "blue",
          "width": 0.050002711865190466
         },
         "mode": "lines",
         "text": "2456734464714.0",
         "type": "scatter",
         "x": [
          0.09289258707936421,
          0.29829324959871156
         ],
         "y": [
          -0.689164741634031,
          -0.28991122404154945
         ]
        },
        {
         "hoverinfo": "skip",
         "line": {
          "color": "blue",
          "width": 0.05002931468546044
         },
         "mode": "lines",
         "text": "26556776554696.0",
         "type": "scatter",
         "x": [
          0.09289258707936421,
          0.022898454547114633
         ],
         "y": [
          -0.689164741634031,
          0.10632543725739717
         ]
        },
        {
         "hoverinfo": "skip",
         "line": {
          "color": "blue",
          "width": 4.05
         },
         "mode": "lines",
         "text": "3.623682278105773e+18",
         "type": "scatter",
         "x": [
          0.09289258707936421,
          -0.7363351081837023
         ],
         "y": [
          -0.689164741634031,
          1
         ]
        },
        {
         "hoverinfo": "skip",
         "line": {
          "color": "blue",
          "width": 0.050000030371196026
         },
         "mode": "lines",
         "text": "27513898088.0",
         "type": "scatter",
         "x": [
          0.09289258707936421,
          0.09610837230404637
         ],
         "y": [
          -0.689164741634031,
          0.43682897809678295
         ]
        },
        {
         "hoverinfo": "skip",
         "line": {
          "color": "blue",
          "width": 0.050035222262707804
         },
         "mode": "lines",
         "text": "31908572299149.0",
         "type": "scatter",
         "x": [
          0.09289258707936421,
          -0.1381063270271228
         ],
         "y": [
          -0.689164741634031,
          -0.14687488837188614
         ]
        },
        {
         "hoverinfo": "skip",
         "line": {
          "color": "blue",
          "width": 0.053686317349512125
         },
         "mode": "lines",
         "text": "3339510712732113.0",
         "type": "scatter",
         "x": [
          0.09289258707936421,
          -0.19456541913131645
         ],
         "y": [
          -0.689164741634031,
          -0.008930493351442794
         ]
        },
        {
         "hoverinfo": "skip",
         "line": {
          "color": "blue",
          "width": 0.05000255440689978
         },
         "mode": "lines",
         "text": "2314089760342.0",
         "type": "scatter",
         "x": [
          0.09289258707936421,
          -0.1948494780080632
         ],
         "y": [
          -0.689164741634031,
          -0.07670476754110407
         ]
        },
        {
         "hoverinfo": "skip",
         "line": {
          "color": "blue",
          "width": 0.05000321935911915
         },
         "mode": "lines",
         "text": "2916483653618.0",
         "type": "scatter",
         "x": [
          0.06166727094573401,
          -0.07171309840314498
         ],
         "y": [
          0.17631969354848728,
          0.045015217522372315
         ]
        },
        {
         "hoverinfo": "skip",
         "line": {
          "color": "blue",
          "width": 0.05052314585716698
         },
         "mode": "lines",
         "text": "473928592877000.0",
         "type": "scatter",
         "x": [
          0.06166727094573401,
          -0.0890221595419031
         ],
         "y": [
          0.17631969354848728,
          0.26078569217434955
         ]
        },
        {
         "hoverinfo": "skip",
         "line": {
          "color": "blue",
          "width": 0.050045633105094384
         },
         "mode": "lines",
         "text": "41339968563254.0",
         "type": "scatter",
         "x": [
          0.06166727094573401,
          -0.21957618178535965
         ],
         "y": [
          0.17631969354848728,
          0.1303889278571887
         ]
        },
        {
         "hoverinfo": "skip",
         "line": {
          "color": "blue",
          "width": 0.05000000553663762
         },
         "mode": "lines",
         "text": "5015760795.0",
         "type": "scatter",
         "x": [
          0.06166727094573401,
          0.32120480216941744
         ],
         "y": [
          0.17631969354848728,
          0.1817875829652392
         ]
        },
        {
         "hoverinfo": "skip",
         "line": {
          "color": "blue",
          "width": 0.05000009987479339
         },
         "mode": "lines",
         "text": "90478636594.0",
         "type": "scatter",
         "x": [
          0.06166727094573401,
          0.11793257377459164
         ],
         "y": [
          0.17631969354848728,
          0.03036211669011828
         ]
        },
        {
         "hoverinfo": "skip",
         "line": {
          "color": "blue",
          "width": 0.0500140847334314
         },
         "mode": "lines",
         "text": "12759649738686.0",
         "type": "scatter",
         "x": [
          0.06166727094573401,
          0.4267845350748087
         ],
         "y": [
          0.17631969354848728,
          -0.5003728609262499
         ]
        },
        {
         "hoverinfo": "skip",
         "line": {
          "color": "blue",
          "width": 0.050012050961106336
         },
         "mode": "lines",
         "text": "10917213555681.0",
         "type": "scatter",
         "x": [
          0.06166727094573401,
          0.2524310030838184
         ],
         "y": [
          0.17631969354848728,
          -0.2669388483782732
         ]
        },
        {
         "hoverinfo": "skip",
         "line": {
          "color": "blue",
          "width": 0.05000020137006261
         },
         "mode": "lines",
         "text": "182425288690.0",
         "type": "scatter",
         "x": [
          0.06166727094573401,
          -0.19550891065857323
         ],
         "y": [
          0.17631969354848728,
          -0.15537502384687474
         ]
        },
        {
         "hoverinfo": "skip",
         "line": {
          "color": "blue",
          "width": 0.050000454910789555
         },
         "mode": "lines",
         "text": "412113048442.0",
         "type": "scatter",
         "x": [
          0.06166727094573401,
          0.18907882349467978
         ],
         "y": [
          0.17631969354848728,
          -0.19759796587727918
         ]
        },
        {
         "hoverinfo": "skip",
         "line": {
          "color": "blue",
          "width": 0.05000124517702176
         },
         "mode": "lines",
         "text": "1128031483599.0",
         "type": "scatter",
         "x": [
          0.06166727094573401,
          -0.10508213068898441
         ],
         "y": [
          0.17631969354848728,
          -0.10123425059664076
         ]
        },
        {
         "hoverinfo": "skip",
         "line": {
          "color": "blue",
          "width": 0.0502356361627932
         },
         "mode": "lines",
         "text": "213467646805532.0",
         "type": "scatter",
         "x": [
          0.06166727094573401,
          0.21335469768789028
         ],
         "y": [
          0.17631969354848728,
          0.0433513350507331
         ]
        },
        {
         "hoverinfo": "skip",
         "line": {
          "color": "blue",
          "width": 0.050000145127702574
         },
         "mode": "lines",
         "text": "131474177860.0",
         "type": "scatter",
         "x": [
          0.06166727094573401,
          0.29829324959871156
         ],
         "y": [
          0.17631969354848728,
          -0.28991122404154945
         ]
        },
        {
         "hoverinfo": "skip",
         "line": {
          "color": "blue",
          "width": 0.05000152341022883
         },
         "mode": "lines",
         "text": "1380088669011.0",
         "type": "scatter",
         "x": [
          0.06166727094573401,
          0.022898454547114633
         ],
         "y": [
          0.17631969354848728,
          0.10632543725739717
         ]
        },
        {
         "hoverinfo": "skip",
         "line": {
          "color": "blue",
          "width": 0.2854486707054698
         },
         "mode": "lines",
         "text": "2.132977938597497e+17",
         "type": "scatter",
         "x": [
          0.06166727094573401,
          -0.7363351081837023
         ],
         "y": [
          0.17631969354848728,
          1
         ]
        },
        {
         "hoverinfo": "skip",
         "line": {
          "color": "blue",
          "width": 0.05000000110288636
         },
         "mode": "lines",
         "text": "999134330.0",
         "type": "scatter",
         "x": [
          0.06166727094573401,
          0.09610837230404637
         ],
         "y": [
          0.17631969354848728,
          0.43682897809678295
         ]
        },
        {
         "hoverinfo": "skip",
         "line": {
          "color": "blue",
          "width": 0.05000211289438852
         },
         "mode": "lines",
         "text": "1914114494689.0",
         "type": "scatter",
         "x": [
          0.06166727094573401,
          -0.1381063270271228
         ],
         "y": [
          0.17631969354848728,
          -0.14687488837188614
         ]
        },
        {
         "hoverinfo": "skip",
         "line": {
          "color": "blue",
          "width": 0.0502182761020488
         },
         "mode": "lines",
         "text": "197740810688947.0",
         "type": "scatter",
         "x": [
          0.06166727094573401,
          -0.19456541913131645
         ],
         "y": [
          0.17631969354848728,
          -0.008930493351442794
         ]
        },
        {
         "hoverinfo": "skip",
         "line": {
          "color": "blue",
          "width": 0.05000008462773653
         },
         "mode": "lines",
         "text": "76666014162.0",
         "type": "scatter",
         "x": [
          0.06166727094573401,
          -0.1948494780080632
         ],
         "y": [
          0.17631969354848728,
          -0.07670476754110407
         ]
        },
        {
         "hoverinfo": "skip",
         "line": {
          "color": "blue",
          "width": 0.05000860370107082
         },
         "mode": "lines",
         "text": "7794269781000.0",
         "type": "scatter",
         "x": [
          -0.07171309840314498,
          -0.0890221595419031
         ],
         "y": [
          0.045015217522372315,
          0.26078569217434955
         ]
        },
        {
         "hoverinfo": "skip",
         "line": {
          "color": "blue",
          "width": 0.05000057404288614
         },
         "mode": "lines",
         "text": "520037265231.0",
         "type": "scatter",
         "x": [
          -0.07171309840314498,
          -0.21957618178535965
         ],
         "y": [
          0.045015217522372315,
          0.1303889278571887
         ]
        },
        {
         "hoverinfo": "skip",
         "line": {
          "color": "blue",
          "width": 0.05000000425052868
         },
         "mode": "lines",
         "text": "3850648254.0",
         "type": "scatter",
         "x": [
          -0.07171309840314498,
          0.11793257377459164
         ],
         "y": [
          0.045015217522372315,
          0.03036211669011828
         ]
        },
        {
         "hoverinfo": "skip",
         "line": {
          "color": "blue",
          "width": 0.0500002085198128
         },
         "mode": "lines",
         "text": "188902394457.0",
         "type": "scatter",
         "x": [
          -0.07171309840314498,
          0.4267845350748087
         ],
         "y": [
          0.045015217522372315,
          -0.5003728609262499
         ]
        },
        {
         "hoverinfo": "skip",
         "line": {
          "color": "blue",
          "width": 0.0500002435999253
         },
         "mode": "lines",
         "text": "220682189947.0",
         "type": "scatter",
         "x": [
          -0.07171309840314498,
          0.2524310030838184
         ],
         "y": [
          0.045015217522372315,
          -0.2669388483782732
         ]
        },
        {
         "hoverinfo": "skip",
         "line": {
          "color": "blue",
          "width": 0.05000000449687823
         },
         "mode": "lines",
         "text": "4073821372.0",
         "type": "scatter",
         "x": [
          -0.07171309840314498,
          -0.19550891065857323
         ],
         "y": [
          0.045015217522372315,
          -0.15537502384687474
         ]
        },
        {
         "hoverinfo": "skip",
         "line": {
          "color": "blue",
          "width": 0.05000000927358475
         },
         "mode": "lines",
         "text": "8401138063.0",
         "type": "scatter",
         "x": [
          -0.07171309840314498,
          0.18907882349467978
         ],
         "y": [
          0.045015217522372315,
          -0.19759796587727918
         ]
        },
        {
         "hoverinfo": "skip",
         "line": {
          "color": "blue",
          "width": 0.050000018460136283
         },
         "mode": "lines",
         "text": "16723424066.0",
         "type": "scatter",
         "x": [
          -0.07171309840314498,
          -0.10508213068898441
         ],
         "y": [
          0.045015217522372315,
          -0.10123425059664076
         ]
        },
        {
         "hoverinfo": "skip",
         "line": {
          "color": "blue",
          "width": 0.05000352560018877
         },
         "mode": "lines",
         "text": "3193913737819.0",
         "type": "scatter",
         "x": [
          -0.07171309840314498,
          0.21335469768789028
         ],
         "y": [
          0.045015217522372315,
          0.0433513350507331
         ]
        },
        {
         "hoverinfo": "skip",
         "line": {
          "color": "blue",
          "width": 0.05000000219735601
         },
         "mode": "lines",
         "text": "1990636891.0",
         "type": "scatter",
         "x": [
          -0.07171309840314498,
          0.29829324959871156
         ],
         "y": [
          0.045015217522372315,
          -0.28991122404154945
         ]
        },
        {
         "hoverinfo": "skip",
         "line": {
          "color": "blue",
          "width": 0.05000001716780609
         },
         "mode": "lines",
         "text": "15552675558.0",
         "type": "scatter",
         "x": [
          -0.07171309840314498,
          0.022898454547114633
         ],
         "y": [
          0.045015217522372315,
          0.10632543725739717
         ]
        },
        {
         "hoverinfo": "skip",
         "line": {
          "color": "blue",
          "width": 0.053086884733294135
         },
         "mode": "lines",
         "text": "2796472375655189.0",
         "type": "scatter",
         "x": [
          -0.07171309840314498,
          -0.7363351081837023
         ],
         "y": [
          0.045015217522372315,
          1
         ]
        },
        {
         "hoverinfo": "skip",
         "line": {
          "color": "blue",
          "width": 0.050000025003327224
         },
         "mode": "lines",
         "text": "22651035325.0",
         "type": "scatter",
         "x": [
          -0.07171309840314498,
          -0.1381063270271228
         ],
         "y": [
          0.045015217522372315,
          -0.14687488837188614
         ]
        },
        {
         "hoverinfo": "skip",
         "line": {
          "color": "blue",
          "width": 0.050002904340580245
         },
         "mode": "lines",
         "text": "2631101879439.0",
         "type": "scatter",
         "x": [
          -0.07171309840314498,
          -0.19456541913131645
         ],
         "y": [
          0.045015217522372315,
          -0.008930493351442794
         ]
        },
        {
         "hoverinfo": "skip",
         "line": {
          "color": "blue",
          "width": 0.0500000001910423
         },
         "mode": "lines",
         "text": "173076040.0",
         "type": "scatter",
         "x": [
          -0.07171309840314498,
          -0.1948494780080632
         ],
         "y": [
          0.045015217522372315,
          -0.07670476754110407
         ]
        },
        {
         "hoverinfo": "skip",
         "line": {
          "color": "blue",
          "width": 0.0501098341325279
         },
         "mode": "lines",
         "text": "99500999900000.0",
         "type": "scatter",
         "x": [
          -0.0890221595419031,
          -0.21957618178535965
         ],
         "y": [
          0.26078569217434955,
          0.1303889278571887
         ]
        },
        {
         "hoverinfo": "skip",
         "line": {
          "color": "blue",
          "width": 0.05000001984546296
         },
         "mode": "lines",
         "text": "17978420000.0",
         "type": "scatter",
         "x": [
          -0.0890221595419031,
          0.32120480216941744
         ],
         "y": [
          0.26078569217434955,
          0.1817875829652392
         ]
        },
        {
         "hoverinfo": "skip",
         "line": {
          "color": "blue",
          "width": 0.050000182917705686
         },
         "mode": "lines",
         "text": "165708919000.0",
         "type": "scatter",
         "x": [
          -0.0890221595419031,
          0.11793257377459164
         ],
         "y": [
          0.26078569217434955,
          0.03036211669011828
         ]
        },
        {
         "hoverinfo": "skip",
         "line": {
          "color": "blue",
          "width": 0.0500511010635097
         },
         "mode": "lines",
         "text": "46293504565000.0",
         "type": "scatter",
         "x": [
          -0.0890221595419031,
          0.4267845350748087
         ],
         "y": [
          0.26078569217434955,
          -0.5003728609262499
         ]
        },
        {
         "hoverinfo": "skip",
         "line": {
          "color": "blue",
          "width": 0.05003918419608098
         },
         "mode": "lines",
         "text": "35497769237000.0",
         "type": "scatter",
         "x": [
          -0.0890221595419031,
          0.2524310030838184
         ],
         "y": [
          0.26078569217434955,
          -0.2669388483782732
         ]
        },
        {
         "hoverinfo": "skip",
         "line": {
          "color": "blue",
          "width": 0.05000095456369708
         },
         "mode": "lines",
         "text": "864758895000.0",
         "type": "scatter",
         "x": [
          -0.0890221595419031,
          -0.19550891065857323
         ],
         "y": [
          0.26078569217434955,
          -0.15537502384687474
         ]
        },
        {
         "hoverinfo": "skip",
         "line": {
          "color": "blue",
          "width": 0.050001574216280195
         },
         "mode": "lines",
         "text": "1426114916000.0",
         "type": "scatter",
         "x": [
          -0.0890221595419031,
          0.18907882349467978
         ],
         "y": [
          0.26078569217434955,
          -0.19759796587727918
         ]
        },
        {
         "hoverinfo": "skip",
         "line": {
          "color": "blue",
          "width": 0.05000274901587279
         },
         "mode": "lines",
         "text": "2490390032000.0",
         "type": "scatter",
         "x": [
          -0.0890221595419031,
          -0.10508213068898441
         ],
         "y": [
          0.26078569217434955,
          -0.10123425059664076
         ]
        },
        {
         "hoverinfo": "skip",
         "line": {
          "color": "blue",
          "width": 0.05063779059213121
         },
         "mode": "lines",
         "text": "577787616469000.0",
         "type": "scatter",
         "x": [
          -0.0890221595419031,
          0.21335469768789028
         ],
         "y": [
          0.26078569217434955,
          0.0433513350507331
         ]
        },
        {
         "hoverinfo": "skip",
         "line": {
          "color": "blue",
          "width": 0.05000052428922478
         },
         "mode": "lines",
         "text": "474964400000.0",
         "type": "scatter",
         "x": [
          -0.0890221595419031,
          0.29829324959871156
         ],
         "y": [
          0.26078569217434955,
          -0.28991122404154945
         ]
        },
        {
         "hoverinfo": "skip",
         "line": {
          "color": "blue",
          "width": 0.05000231383673649
         },
         "mode": "lines",
         "text": "2096152301000.0",
         "type": "scatter",
         "x": [
          -0.0890221595419031,
          0.022898454547114633
         ],
         "y": [
          0.26078569217434955,
          0.10632543725739717
         ]
        },
        {
         "hoverinfo": "skip",
         "line": {
          "color": "blue",
          "width": 0.5926041367939873
         },
         "mode": "lines",
         "text": "4.91556248631819e+17",
         "type": "scatter",
         "x": [
          -0.0890221595419031,
          -0.7363351081837023
         ],
         "y": [
          0.26078569217434955,
          1
         ]
        },
        {
         "hoverinfo": "skip",
         "line": {
          "color": "blue",
          "width": 0.050000349040046944
         },
         "mode": "lines",
         "text": "316202565000.0",
         "type": "scatter",
         "x": [
          -0.0890221595419031,
          0.09610837230404637
         ],
         "y": [
          0.26078569217434955,
          0.43682897809678295
         ]
        },
        {
         "hoverinfo": "skip",
         "line": {
          "color": "blue",
          "width": 0.050005685944866894
         },
         "mode": "lines",
         "text": "5151014419000.0",
         "type": "scatter",
         "x": [
          -0.0890221595419031,
          -0.1381063270271228
         ],
         "y": [
          0.26078569217434955,
          -0.14687488837188614
         ]
        },
        {
         "hoverinfo": "skip",
         "line": {
          "color": "blue",
          "width": 0.050621001711765076
         },
         "mode": "lines",
         "text": "562578224406000.0",
         "type": "scatter",
         "x": [
          -0.0890221595419031,
          -0.19456541913131645
         ],
         "y": [
          0.26078569217434955,
          -0.008930493351442794
         ]
        },
        {
         "hoverinfo": "skip",
         "line": {
          "color": "blue",
          "width": 0.050016950488371334
         },
         "mode": "lines",
         "text": "15355796086000.0",
         "type": "scatter",
         "x": [
          -0.0890221595419031,
          -0.1948494780080632
         ],
         "y": [
          0.26078569217434955,
          -0.07670476754110407
         ]
        },
        {
         "hoverinfo": "skip",
         "line": {
          "color": "blue",
          "width": 0.05
         },
         "mode": "lines",
         "text": "6890.0",
         "type": "scatter",
         "x": [
          -0.21957618178535965,
          0.32120480216941744
         ],
         "y": [
          0.1303889278571887,
          0.1817875829652392
         ]
        },
        {
         "hoverinfo": "skip",
         "line": {
          "color": "blue",
          "width": 0.05000002049121735
         },
         "mode": "lines",
         "text": "18563422181.0",
         "type": "scatter",
         "x": [
          -0.21957618178535965,
          0.11793257377459164
         ],
         "y": [
          0.1303889278571887,
          0.03036211669011828
         ]
        },
        {
         "hoverinfo": "skip",
         "line": {
          "color": "blue",
          "width": 0.05000234822794751
         },
         "mode": "lines",
         "text": "2127308006476.0",
         "type": "scatter",
         "x": [
          -0.21957618178535965,
          0.4267845350748087
         ],
         "y": [
          0.1303889278571887,
          -0.5003728609262499
         ]
        },
        {
         "hoverinfo": "skip",
         "line": {
          "color": "blue",
          "width": 0.05000205454709002
         },
         "mode": "lines",
         "text": "1861256476802.0",
         "type": "scatter",
         "x": [
          -0.21957618178535965,
          0.2524310030838184
         ],
         "y": [
          0.1303889278571887,
          -0.2669388483782732
         ]
        },
        {
         "hoverinfo": "skip",
         "line": {
          "color": "blue",
          "width": 0.05000004193048294
         },
         "mode": "lines",
         "text": "37985693877.0",
         "type": "scatter",
         "x": [
          -0.21957618178535965,
          -0.19550891065857323
         ],
         "y": [
          0.1303889278571887,
          -0.15537502384687474
         ]
        },
        {
         "hoverinfo": "skip",
         "line": {
          "color": "blue",
          "width": 0.050000073187371784
         },
         "mode": "lines",
         "text": "66301952413.0",
         "type": "scatter",
         "x": [
          -0.21957618178535965,
          0.18907882349467978
         ],
         "y": [
          0.1303889278571887,
          -0.19759796587727918
         ]
        },
        {
         "hoverinfo": "skip",
         "line": {
          "color": "blue",
          "width": 0.05000022105122219
         },
         "mode": "lines",
         "text": "200254855991.0",
         "type": "scatter",
         "x": [
          -0.21957618178535965,
          -0.10508213068898441
         ],
         "y": [
          0.1303889278571887,
          -0.10123425059664076
         ]
        },
        {
         "hoverinfo": "skip",
         "line": {
          "color": "blue",
          "width": 0.05004446503855046
         },
         "mode": "lines",
         "text": "40281793054535.0",
         "type": "scatter",
         "x": [
          -0.21957618178535965,
          0.21335469768789028
         ],
         "y": [
          0.1303889278571887,
          0.0433513350507331
         ]
        },
        {
         "hoverinfo": "skip",
         "line": {
          "color": "blue",
          "width": 0.05000002863703518
         },
         "mode": "lines",
         "text": "25942886112.0",
         "type": "scatter",
         "x": [
          -0.21957618178535965,
          0.29829324959871156
         ],
         "y": [
          0.1303889278571887,
          -0.28991122404154945
         ]
        },
        {
         "hoverinfo": "skip",
         "line": {
          "color": "blue",
          "width": 0.05000034746643186
         },
         "mode": "lines",
         "text": "314776994729.0",
         "type": "scatter",
         "x": [
          -0.21957618178535965,
          0.022898454547114633
         ],
         "y": [
          0.1303889278571887,
          0.10632543725739717
         ]
        },
        {
         "hoverinfo": "skip",
         "line": {
          "color": "blue",
          "width": 0.09647684077708941
         },
         "mode": "lines",
         "text": "4.210432606657747e+16",
         "type": "scatter",
         "x": [
          -0.21957618178535965,
          -0.7363351081837023
         ],
         "y": [
          0.1303889278571887,
          1
         ]
        },
        {
         "hoverinfo": "skip",
         "line": {
          "color": "blue",
          "width": 0.05000000075831353
         },
         "mode": "lines",
         "text": "686978712.0",
         "type": "scatter",
         "x": [
          -0.21957618178535965,
          0.09610837230404637
         ],
         "y": [
          0.1303889278571887,
          0.43682897809678295
         ]
        },
        {
         "hoverinfo": "skip",
         "line": {
          "color": "blue",
          "width": 0.050000389764131604
         },
         "mode": "lines",
         "text": "353095350973.0",
         "type": "scatter",
         "x": [
          -0.21957618178535965,
          -0.1381063270271228
         ],
         "y": [
          0.1303889278571887,
          -0.14687488837188614
         ]
        },
        {
         "hoverinfo": "skip",
         "line": {
          "color": "blue",
          "width": 0.05004638025256063
         },
         "mode": "lines",
         "text": "42016824821392.0",
         "type": "scatter",
         "x": [
          -0.21957618178535965,
          -0.19456541913131645
         ],
         "y": [
          0.1303889278571887,
          -0.008930493351442794
         ]
        },
        {
         "hoverinfo": "skip",
         "line": {
          "color": "blue",
          "width": 0.050000042890542336
         },
         "mode": "lines",
         "text": "38855431426.0",
         "type": "scatter",
         "x": [
          -0.21957618178535965,
          -0.1948494780080632
         ],
         "y": [
          0.1303889278571887,
          -0.07670476754110407
         ]
        },
        {
         "hoverinfo": "skip",
         "line": {
          "color": "blue",
          "width": 0.0500000002295525
         },
         "mode": "lines",
         "text": "207963215.0",
         "type": "scatter",
         "x": [
          0.32120480216941744,
          0.11793257377459164
         ],
         "y": [
          0.1817875829652392,
          0.03036211669011828
         ]
        },
        {
         "hoverinfo": "skip",
         "line": {
          "color": "blue",
          "width": 0.0500000000076879
         },
         "mode": "lines",
         "text": "6971514.0",
         "type": "scatter",
         "x": [
          0.32120480216941744,
          0.4267845350748087
         ],
         "y": [
          0.1817875829652392,
          -0.5003728609262499
         ]
        },
        {
         "hoverinfo": "skip",
         "line": {
          "color": "blue",
          "width": 0.05000018826724093
         },
         "mode": "lines",
         "text": "170555173014.0",
         "type": "scatter",
         "x": [
          0.32120480216941744,
          0.21335469768789028
         ],
         "y": [
          0.1817875829652392,
          0.0433513350507331
         ]
        },
        {
         "hoverinfo": "skip",
         "line": {
          "color": "blue",
          "width": 0.05000000000366076
         },
         "mode": "lines",
         "text": "3323250.0",
         "type": "scatter",
         "x": [
          0.32120480216941744,
          0.29829324959871156
         ],
         "y": [
          0.1817875829652392,
          -0.28991122404154945
         ]
        },
        {
         "hoverinfo": "skip",
         "line": {
          "color": "blue",
          "width": 0.05000000222902898
         },
         "mode": "lines",
         "text": "2019330089.0",
         "type": "scatter",
         "x": [
          0.32120480216941744,
          0.022898454547114633
         ],
         "y": [
          0.1817875829652392,
          0.10632543725739717
         ]
        },
        {
         "hoverinfo": "skip",
         "line": {
          "color": "blue",
          "width": 0.05000074817760324
         },
         "mode": "lines",
         "text": "677789487321.0",
         "type": "scatter",
         "x": [
          0.32120480216941744,
          -0.7363351081837023
         ],
         "y": [
          0.1817875829652392,
          1
         ]
        },
        {
         "hoverinfo": "skip",
         "line": {
          "color": "blue",
          "width": 0.05000000001445295
         },
         "mode": "lines",
         "text": "13100110.0",
         "type": "scatter",
         "x": [
          0.32120480216941744,
          0.09610837230404637
         ],
         "y": [
          0.1817875829652392,
          0.43682897809678295
         ]
        },
        {
         "hoverinfo": "skip",
         "line": {
          "color": "blue",
          "width": 0.05000000056109573
         },
         "mode": "lines",
         "text": "508315050.0",
         "type": "scatter",
         "x": [
          0.32120480216941744,
          -0.1381063270271228
         ],
         "y": [
          0.1817875829652392,
          -0.14687488837188614
         ]
        },
        {
         "hoverinfo": "skip",
         "line": {
          "color": "blue",
          "width": 0.05000000256311146
         },
         "mode": "lines",
         "text": "2321982280.0",
         "type": "scatter",
         "x": [
          0.32120480216941744,
          -0.19456541913131645
         ],
         "y": [
          0.1817875829652392,
          -0.008930493351442794
         ]
        },
        {
         "hoverinfo": "skip",
         "line": {
          "color": "blue",
          "width": 0.05000000030699225
         },
         "mode": "lines",
         "text": "278117481.0",
         "type": "scatter",
         "x": [
          0.32120480216941744,
          -0.1948494780080632
         ],
         "y": [
          0.1817875829652392,
          -0.07670476754110407
         ]
        },
        {
         "hoverinfo": "skip",
         "line": {
          "color": "blue",
          "width": 0.05000000608234642
         },
         "mode": "lines",
         "text": "5510129622.0",
         "type": "scatter",
         "x": [
          0.11793257377459164,
          0.4267845350748087
         ],
         "y": [
          0.03036211669011828,
          -0.5003728609262499
         ]
        },
        {
         "hoverinfo": "skip",
         "line": {
          "color": "blue",
          "width": 0.05000000815233718
         },
         "mode": "lines",
         "text": "7385376829.0",
         "type": "scatter",
         "x": [
          0.11793257377459164,
          0.2524310030838184
         ],
         "y": [
          0.03036211669011828,
          -0.2669388483782732
         ]
        },
        {
         "hoverinfo": "skip",
         "line": {
          "color": "blue",
          "width": 0.05000000063986628
         },
         "mode": "lines",
         "text": "579674910.0",
         "type": "scatter",
         "x": [
          0.11793257377459164,
          -0.19550891065857323
         ],
         "y": [
          0.03036211669011828,
          -0.15537502384687474
         ]
        },
        {
         "hoverinfo": "skip",
         "line": {
          "color": "blue",
          "width": 0.05000000020627651
         },
         "mode": "lines",
         "text": "186877026.0",
         "type": "scatter",
         "x": [
          0.11793257377459164,
          0.18907882349467978
         ],
         "y": [
          0.03036211669011828,
          -0.19759796587727918
         ]
        },
        {
         "hoverinfo": "skip",
         "line": {
          "color": "blue",
          "width": 0.05000000219490766
         },
         "mode": "lines",
         "text": "1988418886.0",
         "type": "scatter",
         "x": [
          0.11793257377459164,
          -0.10508213068898441
         ],
         "y": [
          0.03036211669011828,
          -0.10123425059664076
         ]
        },
        {
         "hoverinfo": "skip",
         "line": {
          "color": "blue",
          "width": 0.0500005893769947
         },
         "mode": "lines",
         "text": "533928749590.0",
         "type": "scatter",
         "x": [
          0.11793257377459164,
          0.21335469768789028
         ],
         "y": [
          0.03036211669011828,
          0.0433513350507331
         ]
        },
        {
         "hoverinfo": "skip",
         "line": {
          "color": "blue",
          "width": 0.05000000006244495
         },
         "mode": "lines",
         "text": "56577053.0",
         "type": "scatter",
         "x": [
          0.11793257377459164,
          0.29829324959871156
         ],
         "y": [
          0.03036211669011828,
          -0.28991122404154945
         ]
        },
        {
         "hoverinfo": "skip",
         "line": {
          "color": "blue",
          "width": 0.0500000017993872
         },
         "mode": "lines",
         "text": "1630108760.0",
         "type": "scatter",
         "x": [
          0.11793257377459164,
          0.022898454547114633
         ],
         "y": [
          0.03036211669011828,
          0.10632543725739717
         ]
        },
        {
         "hoverinfo": "skip",
         "line": {
          "color": "blue",
          "width": 0.050095221191108964
         },
         "mode": "lines",
         "text": "86262835687309.0",
         "type": "scatter",
         "x": [
          0.11793257377459164,
          -0.7363351081837023
         ],
         "y": [
          0.03036211669011828,
          1
         ]
        },
        {
         "hoverinfo": "skip",
         "line": {
          "color": "blue",
          "width": 0.05000000211801339
         },
         "mode": "lines",
         "text": "1918758789.0",
         "type": "scatter",
         "x": [
          0.11793257377459164,
          -0.1381063270271228
         ],
         "y": [
          0.03036211669011828,
          -0.14687488837188614
         ]
        },
        {
         "hoverinfo": "skip",
         "line": {
          "color": "blue",
          "width": 0.05000011151820858
         },
         "mode": "lines",
         "text": "101026645918.0",
         "type": "scatter",
         "x": [
          0.11793257377459164,
          -0.19456541913131645
         ],
         "y": [
          0.03036211669011828,
          -0.008930493351442794
         ]
        },
        {
         "hoverinfo": "skip",
         "line": {
          "color": "blue",
          "width": 0.0500000000002127
         },
         "mode": "lines",
         "text": "199575.0",
         "type": "scatter",
         "x": [
          0.11793257377459164,
          -0.1948494780080632
         ],
         "y": [
          0.03036211669011828,
          -0.07670476754110407
         ]
        },
        {
         "hoverinfo": "skip",
         "line": {
          "color": "blue",
          "width": 0.05000078397013083
         },
         "mode": "lines",
         "text": "710214674301.0",
         "type": "scatter",
         "x": [
          0.4267845350748087,
          0.2524310030838184
         ],
         "y": [
          -0.5003728609262499,
          -0.2669388483782732
         ]
        },
        {
         "hoverinfo": "skip",
         "line": {
          "color": "blue",
          "width": 0.05000010417483126
         },
         "mode": "lines",
         "text": "94374129348.0",
         "type": "scatter",
         "x": [
          0.4267845350748087,
          -0.19550891065857323
         ],
         "y": [
          -0.5003728609262499,
          -0.15537502384687474
         ]
        },
        {
         "hoverinfo": "skip",
         "line": {
          "color": "blue",
          "width": 0.05000002218007679
         },
         "mode": "lines",
         "text": "20093394686.0",
         "type": "scatter",
         "x": [
          0.4267845350748087,
          0.18907882349467978
         ],
         "y": [
          -0.5003728609262499,
          -0.19759796587727918
         ]
        },
        {
         "hoverinfo": "skip",
         "line": {
          "color": "blue",
          "width": 0.050000091951372005
         },
         "mode": "lines",
         "text": "83300646182.0",
         "type": "scatter",
         "x": [
          0.4267845350748087,
          -0.10508213068898441
         ],
         "y": [
          -0.5003728609262499,
          -0.10123425059664076
         ]
        },
        {
         "hoverinfo": "skip",
         "line": {
          "color": "blue",
          "width": 0.05005106243164475
         },
         "mode": "lines",
         "text": "46258507163903.0",
         "type": "scatter",
         "x": [
          0.4267845350748087,
          0.21335469768789028
         ],
         "y": [
          -0.5003728609262499,
          0.0433513350507331
         ]
        },
        {
         "hoverinfo": "skip",
         "line": {
          "color": "blue",
          "width": 0.050000008678213456
         },
         "mode": "lines",
         "text": "7861778964.0",
         "type": "scatter",
         "x": [
          0.4267845350748087,
          0.29829324959871156
         ],
         "y": [
          -0.5003728609262499,
          -0.28991122404154945
         ]
        },
        {
         "hoverinfo": "skip",
         "line": {
          "color": "blue",
          "width": 0.05000030250953958
         },
         "mode": "lines",
         "text": "274049621270.0",
         "type": "scatter",
         "x": [
          0.4267845350748087,
          0.022898454547114633
         ],
         "y": [
          -0.5003728609262499,
          0.10632543725739717
         ]
        },
        {
         "hoverinfo": "skip",
         "line": {
          "color": "blue",
          "width": 0.06228675599956769
         },
         "mode": "lines",
         "text": "1.1130824992767676e+16",
         "type": "scatter",
         "x": [
          0.4267845350748087,
          -0.7363351081837023
         ],
         "y": [
          -0.5003728609262499,
          1
         ]
        },
        {
         "hoverinfo": "skip",
         "line": {
          "color": "blue",
          "width": 0.05000000003249237
         },
         "mode": "lines",
         "text": "29442396.0",
         "type": "scatter",
         "x": [
          0.4267845350748087,
          0.09610837230404637
         ],
         "y": [
          -0.5003728609262499,
          0.43682897809678295
         ]
        },
        {
         "hoverinfo": "skip",
         "line": {
          "color": "blue",
          "width": 0.050000166719140274
         },
         "mode": "lines",
         "text": "151034305394.0",
         "type": "scatter",
         "x": [
          0.4267845350748087,
          -0.1381063270271228
         ],
         "y": [
          -0.5003728609262499,
          -0.14687488837188614
         ]
        },
        {
         "hoverinfo": "skip",
         "line": {
          "color": "blue",
          "width": 0.05001126394904021
         },
         "mode": "lines",
         "text": "10204243136507.0",
         "type": "scatter",
         "x": [
          0.4267845350748087,
          -0.19456541913131645
         ],
         "y": [
          -0.5003728609262499,
          -0.008930493351442794
         ]
        },
        {
         "hoverinfo": "skip",
         "line": {
          "color": "blue",
          "width": 0.05000000154591076
         },
         "mode": "lines",
         "text": "1400479249.0",
         "type": "scatter",
         "x": [
          0.4267845350748087,
          -0.1948494780080632
         ],
         "y": [
          -0.5003728609262499,
          -0.07670476754110407
         ]
        },
        {
         "hoverinfo": "skip",
         "line": {
          "color": "blue",
          "width": 0.05000001793024504
         },
         "mode": "lines",
         "text": "16243384689.0",
         "type": "scatter",
         "x": [
          0.2524310030838184,
          -0.19550891065857323
         ],
         "y": [
          -0.2669388483782732,
          -0.15537502384687474
         ]
        },
        {
         "hoverinfo": "skip",
         "line": {
          "color": "blue",
          "width": 0.0500000566905435
         },
         "mode": "lines",
         "text": "51357136338.0",
         "type": "scatter",
         "x": [
          0.2524310030838184,
          0.18907882349467978
         ],
         "y": [
          -0.2669388483782732,
          -0.19759796587727918
         ]
        },
        {
         "hoverinfo": "skip",
         "line": {
          "color": "blue",
          "width": 0.05000006715937011
         },
         "mode": "lines",
         "text": "60841061704.0",
         "type": "scatter",
         "x": [
          0.2524310030838184,
          -0.10508213068898441
         ],
         "y": [
          -0.2669388483782732,
          -0.10123425059664076
         ]
        },
        {
         "hoverinfo": "skip",
         "line": {
          "color": "blue",
          "width": 0.05001244824397403
         },
         "mode": "lines",
         "text": "11277120277447.0",
         "type": "scatter",
         "x": [
          0.2524310030838184,
          0.21335469768789028
         ],
         "y": [
          -0.2669388483782732,
          0.0433513350507331
         ]
        },
        {
         "hoverinfo": "skip",
         "line": {
          "color": "blue",
          "width": 0.05000000852533234
         },
         "mode": "lines",
         "text": "7723280818.0",
         "type": "scatter",
         "x": [
          0.2524310030838184,
          0.29829324959871156
         ],
         "y": [
          -0.2669388483782732,
          -0.28991122404154945
         ]
        },
        {
         "hoverinfo": "skip",
         "line": {
          "color": "blue",
          "width": 0.05000007668893085
         },
         "mode": "lines",
         "text": "69474086796.0",
         "type": "scatter",
         "x": [
          0.2524310030838184,
          0.022898454547114633
         ],
         "y": [
          -0.2669388483782732,
          0.10632543725739717
         ]
        },
        {
         "hoverinfo": "skip",
         "line": {
          "color": "blue",
          "width": 0.061185542445940974
         },
         "mode": "lines",
         "text": "1.013321298309592e+16",
         "type": "scatter",
         "x": [
          0.2524310030838184,
          -0.7363351081837023
         ],
         "y": [
          -0.2669388483782732,
          1
         ]
        },
        {
         "hoverinfo": "skip",
         "line": {
          "color": "blue",
          "width": 0.050000094074810944
         },
         "mode": "lines",
         "text": "85224313198.0",
         "type": "scatter",
         "x": [
          0.2524310030838184,
          -0.1381063270271228
         ],
         "y": [
          -0.2669388483782732,
          -0.14687488837188614
         ]
        },
        {
         "hoverinfo": "skip",
         "line": {
          "color": "blue",
          "width": 0.05001077871561581
         },
         "mode": "lines",
         "text": "9764660196323.0",
         "type": "scatter",
         "x": [
          0.2524310030838184,
          -0.19456541913131645
         ],
         "y": [
          -0.2669388483782732,
          -0.008930493351442794
         ]
        },
        {
         "hoverinfo": "skip",
         "line": {
          "color": "blue",
          "width": 0.050000001547202494
         },
         "mode": "lines",
         "text": "1401649452.0",
         "type": "scatter",
         "x": [
          0.2524310030838184,
          -0.1948494780080632
         ],
         "y": [
          -0.2669388483782732,
          -0.07670476754110407
         ]
        },
        {
         "hoverinfo": "skip",
         "line": {
          "color": "blue",
          "width": 0.05000000057109683
         },
         "mode": "lines",
         "text": "517375255.0",
         "type": "scatter",
         "x": [
          -0.19550891065857323,
          0.18907882349467978
         ],
         "y": [
          -0.15537502384687474,
          -0.19759796587727918
         ]
        },
        {
         "hoverinfo": "skip",
         "line": {
          "color": "blue",
          "width": 0.05000000159547999
         },
         "mode": "lines",
         "text": "1445385027.0",
         "type": "scatter",
         "x": [
          -0.19550891065857323,
          -0.10508213068898441
         ],
         "y": [
          -0.15537502384687474,
          -0.10123425059664076
         ]
        },
        {
         "hoverinfo": "skip",
         "line": {
          "color": "blue",
          "width": 0.05000066120183221
         },
         "mode": "lines",
         "text": "598996347300.0",
         "type": "scatter",
         "x": [
          -0.19550891065857323,
          0.21335469768789028
         ],
         "y": [
          -0.15537502384687474,
          0.0433513350507331
         ]
        },
        {
         "hoverinfo": "skip",
         "line": {
          "color": "blue",
          "width": 0.050000000167312264
         },
         "mode": "lines",
         "text": "151578506.0",
         "type": "scatter",
         "x": [
          -0.19550891065857323,
          0.29829324959871156
         ],
         "y": [
          -0.15537502384687474,
          -0.28991122404154945
         ]
        },
        {
         "hoverinfo": "skip",
         "line": {
          "color": "blue",
          "width": 0.050000003437159636
         },
         "mode": "lines",
         "text": "3113800505.0",
         "type": "scatter",
         "x": [
          -0.19550891065857323,
          0.022898454547114633
         ],
         "y": [
          -0.15537502384687474,
          0.10632543725739717
         ]
        },
        {
         "hoverinfo": "skip",
         "line": {
          "color": "blue",
          "width": 0.05019290067497152
         },
         "mode": "lines",
         "text": "174752689339122.0",
         "type": "scatter",
         "x": [
          -0.19550891065857323,
          -0.7363351081837023
         ],
         "y": [
          -0.15537502384687474,
          1
         ]
        },
        {
         "hoverinfo": "skip",
         "line": {
          "color": "blue",
          "width": 0.050000002169946975
         },
         "mode": "lines",
         "text": "1965806489.0",
         "type": "scatter",
         "x": [
          -0.19550891065857323,
          -0.1381063270271228
         ],
         "y": [
          -0.15537502384687474,
          -0.14687488837188614
         ]
        },
        {
         "hoverinfo": "skip",
         "line": {
          "color": "blue",
          "width": 0.05000018720018219
         },
         "mode": "lines",
         "text": "169588502557.0",
         "type": "scatter",
         "x": [
          -0.19550891065857323,
          -0.19456541913131645
         ],
         "y": [
          -0.15537502384687474,
          -0.008930493351442794
         ]
        },
        {
         "hoverinfo": "skip",
         "line": {
          "color": "blue",
          "width": 0.05000000000732806
         },
         "mode": "lines",
         "text": "6645528.0",
         "type": "scatter",
         "x": [
          -0.19550891065857323,
          -0.1948494780080632
         ],
         "y": [
          -0.15537502384687474,
          -0.07670476754110407
         ]
        },
        {
         "hoverinfo": "skip",
         "line": {
          "color": "blue",
          "width": 0.050000001536964815
         },
         "mode": "lines",
         "text": "1392374927.0",
         "type": "scatter",
         "x": [
          0.18907882349467978,
          -0.10508213068898441
         ],
         "y": [
          -0.19759796587727918,
          -0.10123425059664076
         ]
        },
        {
         "hoverinfo": "skip",
         "line": {
          "color": "blue",
          "width": 0.050000390965742915
         },
         "mode": "lines",
         "text": "354183915377.0",
         "type": "scatter",
         "x": [
          0.18907882349467978,
          0.21335469768789028
         ],
         "y": [
          -0.19759796587727918,
          0.0433513350507331
         ]
        },
        {
         "hoverinfo": "skip",
         "line": {
          "color": "blue",
          "width": 0.05000000034022794
         },
         "mode": "lines",
         "text": "308226376.0",
         "type": "scatter",
         "x": [
          0.18907882349467978,
          0.29829324959871156
         ],
         "y": [
          -0.19759796587727918,
          -0.28991122404154945
         ]
        },
        {
         "hoverinfo": "skip",
         "line": {
          "color": "blue",
          "width": 0.05000000327109664
         },
         "mode": "lines",
         "text": "2963360620.0",
         "type": "scatter",
         "x": [
          0.18907882349467978,
          0.022898454547114633
         ],
         "y": [
          -0.19759796587727918,
          0.10632543725739717
         ]
        },
        {
         "hoverinfo": "skip",
         "line": {
          "color": "blue",
          "width": 0.05039633402983148
         },
         "mode": "lines",
         "text": "359047150034530.0",
         "type": "scatter",
         "x": [
          0.18907882349467978,
          -0.7363351081837023
         ],
         "y": [
          -0.19759796587727918,
          1
         ]
        },
        {
         "hoverinfo": "skip",
         "line": {
          "color": "blue",
          "width": 0.05000000333311876
         },
         "mode": "lines",
         "text": "3019547738.0",
         "type": "scatter",
         "x": [
          0.18907882349467978,
          -0.1381063270271228
         ],
         "y": [
          -0.19759796587727918,
          -0.14687488837188614
         ]
        },
        {
         "hoverinfo": "skip",
         "line": {
          "color": "blue",
          "width": 0.050000373693537596
         },
         "mode": "lines",
         "text": "338536669298.0",
         "type": "scatter",
         "x": [
          0.18907882349467978,
          -0.19456541913131645
         ],
         "y": [
          -0.19759796587727918,
          -0.008930493351442794
         ]
        },
        {
         "hoverinfo": "skip",
         "line": {
          "color": "blue",
          "width": 0.05000000007542281
         },
         "mode": "lines",
         "text": "68333961.0",
         "type": "scatter",
         "x": [
          0.18907882349467978,
          -0.1948494780080632
         ],
         "y": [
          -0.19759796587727918,
          -0.07670476754110407
         ]
        },
        {
         "hoverinfo": "skip",
         "line": {
          "color": "blue",
          "width": 0.05000162670267043
         },
         "mode": "lines",
         "text": "1473663416530.0",
         "type": "scatter",
         "x": [
          -0.10508213068898441,
          0.21335469768789028
         ],
         "y": [
          -0.10123425059664076,
          0.0433513350507331
         ]
        },
        {
         "hoverinfo": "skip",
         "line": {
          "color": "blue",
          "width": 0.050000000877912315
         },
         "mode": "lines",
         "text": "795325709.0",
         "type": "scatter",
         "x": [
          -0.10508213068898441,
          0.29829324959871156
         ],
         "y": [
          -0.10123425059664076,
          -0.28991122404154945
         ]
        },
        {
         "hoverinfo": "skip",
         "line": {
          "color": "blue",
          "width": 0.05000000652953706
         },
         "mode": "lines",
         "text": "5915248819.0",
         "type": "scatter",
         "x": [
          -0.10508213068898441,
          0.022898454547114633
         ],
         "y": [
          -0.10123425059664076,
          0.10632543725739717
         ]
        },
        {
         "hoverinfo": "skip",
         "line": {
          "color": "blue",
          "width": 0.05124038077919751
         },
         "mode": "lines",
         "text": "1123686461927142.0",
         "type": "scatter",
         "x": [
          -0.10508213068898441,
          -0.7363351081837023
         ],
         "y": [
          -0.10123425059664076,
          1
         ]
        },
        {
         "hoverinfo": "skip",
         "line": {
          "color": "blue",
          "width": 0.05000001471065242
         },
         "mode": "lines",
         "text": "13326689504.0",
         "type": "scatter",
         "x": [
          -0.10508213068898441,
          -0.1381063270271228
         ],
         "y": [
          -0.10123425059664076,
          -0.14687488837188614
         ]
        },
        {
         "hoverinfo": "skip",
         "line": {
          "color": "blue",
          "width": 0.050001110536691644
         },
         "mode": "lines",
         "text": "1006058039062.0",
         "type": "scatter",
         "x": [
          -0.10508213068898441,
          -0.19456541913131645
         ],
         "y": [
          -0.10123425059664076,
          -0.008930493351442794
         ]
        },
        {
         "hoverinfo": "skip",
         "line": {
          "color": "blue",
          "width": 0.0500000008440438
         },
         "mode": "lines",
         "text": "764643530.0",
         "type": "scatter",
         "x": [
          -0.10508213068898441,
          -0.1948494780080632
         ],
         "y": [
          -0.10123425059664076,
          -0.07670476754110407
         ]
        },
        {
         "hoverinfo": "skip",
         "line": {
          "color": "blue",
          "width": 0.05000016750764371
         },
         "mode": "lines",
         "text": "151748626877.0",
         "type": "scatter",
         "x": [
          0.21335469768789028,
          0.29829324959871156
         ],
         "y": [
          0.0433513350507331,
          -0.28991122404154945
         ]
        },
        {
         "hoverinfo": "skip",
         "line": {
          "color": "blue",
          "width": 0.05000297534899498
         },
         "mode": "lines",
         "text": "2695429862954.0",
         "type": "scatter",
         "x": [
          0.21335469768789028,
          0.022898454547114633
         ],
         "y": [
          0.0433513350507331,
          0.10632543725739717
         ]
        },
        {
         "hoverinfo": "skip",
         "line": {
          "color": "blue",
          "width": 0.3067647792931509
         },
         "mode": "lines",
         "text": "2.3260849509158922e+17",
         "type": "scatter",
         "x": [
          0.21335469768789028,
          -0.7363351081837023
         ],
         "y": [
          0.0433513350507331,
          1
         ]
        },
        {
         "hoverinfo": "skip",
         "line": {
          "color": "blue",
          "width": 0.05000000147912995
         },
         "mode": "lines",
         "text": "1339981137.0",
         "type": "scatter",
         "x": [
          0.21335469768789028,
          0.09610837230404637
         ],
         "y": [
          0.0433513350507331,
          0.43682897809678295
         ]
        },
        {
         "hoverinfo": "skip",
         "line": {
          "color": "blue",
          "width": 0.05000386846535053
         },
         "mode": "lines",
         "text": "3504522340430.0",
         "type": "scatter",
         "x": [
          0.21335469768789028,
          -0.1381063270271228
         ],
         "y": [
          0.0433513350507331,
          -0.14687488837188614
         ]
        },
        {
         "hoverinfo": "skip",
         "line": {
          "color": "blue",
          "width": 0.05023553424014985
         },
         "mode": "lines",
         "text": "213375312986416.0",
         "type": "scatter",
         "x": [
          0.21335469768789028,
          -0.19456541913131645
         ],
         "y": [
          0.0433513350507331,
          -0.008930493351442794
         ]
        },
        {
         "hoverinfo": "skip",
         "line": {
          "color": "blue",
          "width": 0.05000044173724527
         },
         "mode": "lines",
         "text": "400178863706.0",
         "type": "scatter",
         "x": [
          0.21335469768789028,
          -0.1948494780080632
         ],
         "y": [
          0.0433513350507331,
          -0.07670476754110407
         ]
        },
        {
         "hoverinfo": "skip",
         "line": {
          "color": "blue",
          "width": 0.0500000009751666
         },
         "mode": "lines",
         "text": "883430370.0",
         "type": "scatter",
         "x": [
          0.29829324959871156,
          0.022898454547114633
         ],
         "y": [
          -0.28991122404154945,
          0.10632543725739717
         ]
        },
        {
         "hoverinfo": "skip",
         "line": {
          "color": "blue",
          "width": 0.05016063049824138
         },
         "mode": "lines",
         "text": "145518472457037.0",
         "type": "scatter",
         "x": [
          0.29829324959871156,
          -0.7363351081837023
         ],
         "y": [
          -0.28991122404154945,
          1
         ]
        },
        {
         "hoverinfo": "skip",
         "line": {
          "color": "blue",
          "width": 0.050000001527174126
         },
         "mode": "lines",
         "text": "1383505340.0",
         "type": "scatter",
         "x": [
          0.29829324959871156,
          -0.1381063270271228
         ],
         "y": [
          -0.28991122404154945,
          -0.14687488837188614
         ]
        },
        {
         "hoverinfo": "skip",
         "line": {
          "color": "blue",
          "width": 0.05000014083106839
         },
         "mode": "lines",
         "text": "127581768576.0",
         "type": "scatter",
         "x": [
          0.29829324959871156,
          -0.19456541913131645
         ],
         "y": [
          -0.28991122404154945,
          -0.008930493351442794
         ]
        },
        {
         "hoverinfo": "skip",
         "line": {
          "color": "blue",
          "width": 0.050000000098212066
         },
         "mode": "lines",
         "text": "88979220.0",
         "type": "scatter",
         "x": [
          0.29829324959871156,
          -0.1948494780080632
         ],
         "y": [
          -0.28991122404154945,
          -0.07670476754110407
         ]
        },
        {
         "hoverinfo": "skip",
         "line": {
          "color": "blue",
          "width": 0.05163893290058938
         },
         "mode": "lines",
         "text": "1484743026724441.0",
         "type": "scatter",
         "x": [
          0.022898454547114633,
          -0.7363351081837023
         ],
         "y": [
          0.10632543725739717,
          1
         ]
        },
        {
         "hoverinfo": "skip",
         "line": {
          "color": "blue",
          "width": 0.050000000003003815
         },
         "mode": "lines",
         "text": "2728103.0",
         "type": "scatter",
         "x": [
          0.022898454547114633,
          0.09610837230404637
         ],
         "y": [
          0.10632543725739717,
          0.43682897809678295
         ]
        },
        {
         "hoverinfo": "skip",
         "line": {
          "color": "blue",
          "width": 0.05000002800355662
         },
         "mode": "lines",
         "text": "25369004849.0",
         "type": "scatter",
         "x": [
          0.022898454547114633,
          -0.1381063270271228
         ],
         "y": [
          0.10632543725739717,
          -0.14687488837188614
         ]
        },
        {
         "hoverinfo": "skip",
         "line": {
          "color": "blue",
          "width": 0.05000197490175427
         },
         "mode": "lines",
         "text": "1789104128878.0",
         "type": "scatter",
         "x": [
          0.022898454547114633,
          -0.19456541913131645
         ],
         "y": [
          0.10632543725739717,
          -0.008930493351442794
         ]
        },
        {
         "hoverinfo": "skip",
         "line": {
          "color": "blue",
          "width": 0.0500000005731317
         },
         "mode": "lines",
         "text": "519218684.0",
         "type": "scatter",
         "x": [
          0.022898454547114633,
          -0.1948494780080632
         ],
         "y": [
          0.10632543725739717,
          -0.07670476754110407
         ]
        },
        {
         "hoverinfo": "skip",
         "line": {
          "color": "blue",
          "width": 0.05000090742812711
         },
         "mode": "lines",
         "text": "822057812599.0",
         "type": "scatter",
         "x": [
          -0.7363351081837023,
          0.09610837230404637
         ],
         "y": [
          1,
          0.43682897809678295
         ]
        },
        {
         "hoverinfo": "skip",
         "line": {
          "color": "blue",
          "width": 0.053658595098304784
         },
         "mode": "lines",
         "text": "3314396555129808.0",
         "type": "scatter",
         "x": [
          -0.7363351081837023,
          -0.1381063270271228
         ],
         "y": [
          1,
          -0.14687488837188614
         ]
        },
        {
         "hoverinfo": "skip",
         "line": {
          "color": "blue",
          "width": 0.2995757291646918
         },
         "mode": "lines",
         "text": "2.2609578670486138e+17",
         "type": "scatter",
         "x": [
          -0.7363351081837023,
          -0.19456541913131645
         ],
         "y": [
          1,
          -0.008930493351442794
         ]
        },
        {
         "hoverinfo": "skip",
         "line": {
          "color": "blue",
          "width": 0.05048598180226193
         },
         "mode": "lines",
         "text": "440260911091502.0",
         "type": "scatter",
         "x": [
          -0.7363351081837023,
          -0.1948494780080632
         ],
         "y": [
          1,
          -0.07670476754110407
         ]
        },
        {
         "hoverinfo": "skip",
         "line": {
          "color": "blue",
          "width": 0.0500000056601592
         },
         "mode": "lines",
         "text": "5127661534.0",
         "type": "scatter",
         "x": [
          0.09610837230404637,
          -0.19456541913131645
         ],
         "y": [
          0.43682897809678295,
          -0.008930493351442794
         ]
        },
        {
         "hoverinfo": "skip",
         "line": {
          "color": "blue",
          "width": 0.05000001653287006
         },
         "mode": "lines",
         "text": "14977473951.0",
         "type": "scatter",
         "x": [
          0.09610837230404637,
          -0.1948494780080632
         ],
         "y": [
          0.43682897809678295,
          -0.07670476754110407
         ]
        },
        {
         "hoverinfo": "skip",
         "line": {
          "color": "blue",
          "width": 0.05000344584491301
         },
         "mode": "lines",
         "text": "3121661792979.0",
         "type": "scatter",
         "x": [
          -0.1381063270271228,
          -0.19456541913131645
         ],
         "y": [
          -0.14687488837188614,
          -0.008930493351442794
         ]
        },
        {
         "hoverinfo": "skip",
         "line": {
          "color": "blue",
          "width": 0.050000030436914034
         },
         "mode": "lines",
         "text": "27573433385.0",
         "type": "scatter",
         "x": [
          -0.1381063270271228,
          -0.1948494780080632
         ],
         "y": [
          -0.14687488837188614,
          -0.07670476754110407
         ]
        },
        {
         "hoverinfo": "skip",
         "line": {
          "color": "blue",
          "width": 0.05000069445583404
         },
         "mode": "lines",
         "text": "629121831577.0",
         "type": "scatter",
         "x": [
          -0.19456541913131645,
          -0.1948494780080632
         ],
         "y": [
          -0.008930493351442794,
          -0.07670476754110407
         ]
        },
        {
         "hoverinfo": "text",
         "line": {
          "color": "red",
          "width": 0.5
         },
         "marker": {
          "colorscale": [
           [
            0,
            "lightgreen"
           ],
           [
            1,
            "magenta"
           ]
          ],
          "size": [
           19.047619047619047,
           20,
           20,
           18.18181818181818,
           20,
           20,
           15.384615384615385,
           19.047619047619047,
           20,
           18.18181818181818,
           18.18181818181818,
           18.18181818181818,
           18.18181818181818,
           20,
           19.047619047619047,
           20,
           20,
           14.285714285714286,
           19.047619047619047,
           20,
           20
          ],
          "symbol": "circle"
         },
         "mode": "markers",
         "text": [
          "CIK:1027796<br>closeness centrality:0.9524",
          "CIK:102909<br>closeness centrality:1.0",
          "CIK:1109448<br>closeness centrality:1.0",
          "CIK:1123274<br>closeness centrality:0.9091",
          "CIK:1132716<br>closeness centrality:1.0",
          "CIK:1291274<br>closeness centrality:1.0",
          "CIK:1454937<br>closeness centrality:0.7692",
          "CIK:1502149<br>closeness centrality:0.9524",
          "CIK:1529735<br>closeness centrality:1.0",
          "CIK:1535602<br>closeness centrality:0.9091",
          "CIK:1535631<br>closeness centrality:0.9091",
          "CIK:1599469<br>closeness centrality:0.9091",
          "CIK:1599576<br>closeness centrality:0.9091",
          "CIK:1610520<br>closeness centrality:1.0",
          "CIK:1730578<br>closeness centrality:0.9524",
          "CIK:801051<br>closeness centrality:1.0",
          "CIK:861177<br>closeness centrality:1.0",
          "CIK:870481<br>closeness centrality:0.7143",
          "CIK:9015<br>closeness centrality:0.9524",
          "CIK:914208<br>closeness centrality:1.0",
          "CIK:949509<br>closeness centrality:1.0"
         ],
         "type": "scatter",
         "x": [
          -0.14788755633200684,
          0.09289258707936421,
          0.06166727094573401,
          -0.07171309840314498,
          -0.0890221595419031,
          -0.21957618178535965,
          0.32120480216941744,
          0.11793257377459164,
          0.4267845350748087,
          0.2524310030838184,
          -0.19550891065857323,
          0.18907882349467978,
          -0.10508213068898441,
          0.21335469768789028,
          0.29829324959871156,
          0.022898454547114633,
          -0.7363351081837023,
          0.09610837230404637,
          -0.1381063270271228,
          -0.19456541913131645,
          -0.1948494780080632
         ],
         "y": [
          0.0219400834019119,
          -0.689164741634031,
          0.17631969354848728,
          0.045015217522372315,
          0.26078569217434955,
          0.1303889278571887,
          0.1817875829652392,
          0.03036211669011828,
          -0.5003728609262499,
          -0.2669388483782732,
          -0.15537502384687474,
          -0.19759796587727918,
          -0.10123425059664076,
          0.0433513350507331,
          -0.28991122404154945,
          0.10632543725739717,
          1,
          0.43682897809678295,
          -0.14687488837188614,
          -0.008930493351442794,
          -0.07670476754110407
         ]
        }
       ],
       "layout": {
        "annotations": [
         {
          "align": "left",
          "bordercolor": "black",
          "borderwidth": 1,
          "showarrow": false,
          "text": "<b>Most central companies</b><br>CIK 102909 : 1.0<br> CIK 1109448 : 1.0<br> CIK 1132716 : 1.0",
          "x": 1.1,
          "xref": "paper",
          "y": 1,
          "yref": "paper"
         },
         {
          "align": "left",
          "bordercolor": "black",
          "borderwidth": 1,
          "showarrow": false,
          "text": "<b>Most decentral company</b><br>CIK 870481 : 0.6",
          "x": 1.1,
          "xref": "paper",
          "y": 0.85,
          "yref": "paper"
         },
         {
          "align": "left",
          "bordercolor": "black",
          "borderwidth": 1,
          "showarrow": false,
          "text": "<b>Connectivity: </b><br>Diameter: 2<br>Node connectivity: 12<br>Edge connectivity: 12",
          "x": 1.1,
          "xref": "paper",
          "y": 0.76,
          "yref": "paper"
         }
        ],
        "height": 625,
        "hovermode": "x",
        "margin": {
         "t": 100
        },
        "paper_bgcolor": "rgba(0,0,0,0)",
        "plot_bgcolor": "rgba(0,0,0,0)",
        "showlegend": false,
        "template": {
         "data": {
          "bar": [
           {
            "error_x": {
             "color": "#2a3f5f"
            },
            "error_y": {
             "color": "#2a3f5f"
            },
            "marker": {
             "line": {
              "color": "#E5ECF6",
              "width": 0.5
             }
            },
            "type": "bar"
           }
          ],
          "barpolar": [
           {
            "marker": {
             "line": {
              "color": "#E5ECF6",
              "width": 0.5
             }
            },
            "type": "barpolar"
           }
          ],
          "carpet": [
           {
            "aaxis": {
             "endlinecolor": "#2a3f5f",
             "gridcolor": "white",
             "linecolor": "white",
             "minorgridcolor": "white",
             "startlinecolor": "#2a3f5f"
            },
            "baxis": {
             "endlinecolor": "#2a3f5f",
             "gridcolor": "white",
             "linecolor": "white",
             "minorgridcolor": "white",
             "startlinecolor": "#2a3f5f"
            },
            "type": "carpet"
           }
          ],
          "choropleth": [
           {
            "colorbar": {
             "outlinewidth": 0,
             "ticks": ""
            },
            "type": "choropleth"
           }
          ],
          "contour": [
           {
            "colorbar": {
             "outlinewidth": 0,
             "ticks": ""
            },
            "colorscale": [
             [
              0,
              "#0d0887"
             ],
             [
              0.1111111111111111,
              "#46039f"
             ],
             [
              0.2222222222222222,
              "#7201a8"
             ],
             [
              0.3333333333333333,
              "#9c179e"
             ],
             [
              0.4444444444444444,
              "#bd3786"
             ],
             [
              0.5555555555555556,
              "#d8576b"
             ],
             [
              0.6666666666666666,
              "#ed7953"
             ],
             [
              0.7777777777777778,
              "#fb9f3a"
             ],
             [
              0.8888888888888888,
              "#fdca26"
             ],
             [
              1,
              "#f0f921"
             ]
            ],
            "type": "contour"
           }
          ],
          "contourcarpet": [
           {
            "colorbar": {
             "outlinewidth": 0,
             "ticks": ""
            },
            "type": "contourcarpet"
           }
          ],
          "heatmap": [
           {
            "colorbar": {
             "outlinewidth": 0,
             "ticks": ""
            },
            "colorscale": [
             [
              0,
              "#0d0887"
             ],
             [
              0.1111111111111111,
              "#46039f"
             ],
             [
              0.2222222222222222,
              "#7201a8"
             ],
             [
              0.3333333333333333,
              "#9c179e"
             ],
             [
              0.4444444444444444,
              "#bd3786"
             ],
             [
              0.5555555555555556,
              "#d8576b"
             ],
             [
              0.6666666666666666,
              "#ed7953"
             ],
             [
              0.7777777777777778,
              "#fb9f3a"
             ],
             [
              0.8888888888888888,
              "#fdca26"
             ],
             [
              1,
              "#f0f921"
             ]
            ],
            "type": "heatmap"
           }
          ],
          "heatmapgl": [
           {
            "colorbar": {
             "outlinewidth": 0,
             "ticks": ""
            },
            "colorscale": [
             [
              0,
              "#0d0887"
             ],
             [
              0.1111111111111111,
              "#46039f"
             ],
             [
              0.2222222222222222,
              "#7201a8"
             ],
             [
              0.3333333333333333,
              "#9c179e"
             ],
             [
              0.4444444444444444,
              "#bd3786"
             ],
             [
              0.5555555555555556,
              "#d8576b"
             ],
             [
              0.6666666666666666,
              "#ed7953"
             ],
             [
              0.7777777777777778,
              "#fb9f3a"
             ],
             [
              0.8888888888888888,
              "#fdca26"
             ],
             [
              1,
              "#f0f921"
             ]
            ],
            "type": "heatmapgl"
           }
          ],
          "histogram": [
           {
            "marker": {
             "colorbar": {
              "outlinewidth": 0,
              "ticks": ""
             }
            },
            "type": "histogram"
           }
          ],
          "histogram2d": [
           {
            "colorbar": {
             "outlinewidth": 0,
             "ticks": ""
            },
            "colorscale": [
             [
              0,
              "#0d0887"
             ],
             [
              0.1111111111111111,
              "#46039f"
             ],
             [
              0.2222222222222222,
              "#7201a8"
             ],
             [
              0.3333333333333333,
              "#9c179e"
             ],
             [
              0.4444444444444444,
              "#bd3786"
             ],
             [
              0.5555555555555556,
              "#d8576b"
             ],
             [
              0.6666666666666666,
              "#ed7953"
             ],
             [
              0.7777777777777778,
              "#fb9f3a"
             ],
             [
              0.8888888888888888,
              "#fdca26"
             ],
             [
              1,
              "#f0f921"
             ]
            ],
            "type": "histogram2d"
           }
          ],
          "histogram2dcontour": [
           {
            "colorbar": {
             "outlinewidth": 0,
             "ticks": ""
            },
            "colorscale": [
             [
              0,
              "#0d0887"
             ],
             [
              0.1111111111111111,
              "#46039f"
             ],
             [
              0.2222222222222222,
              "#7201a8"
             ],
             [
              0.3333333333333333,
              "#9c179e"
             ],
             [
              0.4444444444444444,
              "#bd3786"
             ],
             [
              0.5555555555555556,
              "#d8576b"
             ],
             [
              0.6666666666666666,
              "#ed7953"
             ],
             [
              0.7777777777777778,
              "#fb9f3a"
             ],
             [
              0.8888888888888888,
              "#fdca26"
             ],
             [
              1,
              "#f0f921"
             ]
            ],
            "type": "histogram2dcontour"
           }
          ],
          "mesh3d": [
           {
            "colorbar": {
             "outlinewidth": 0,
             "ticks": ""
            },
            "type": "mesh3d"
           }
          ],
          "parcoords": [
           {
            "line": {
             "colorbar": {
              "outlinewidth": 0,
              "ticks": ""
             }
            },
            "type": "parcoords"
           }
          ],
          "pie": [
           {
            "automargin": true,
            "type": "pie"
           }
          ],
          "scatter": [
           {
            "marker": {
             "colorbar": {
              "outlinewidth": 0,
              "ticks": ""
             }
            },
            "type": "scatter"
           }
          ],
          "scatter3d": [
           {
            "line": {
             "colorbar": {
              "outlinewidth": 0,
              "ticks": ""
             }
            },
            "marker": {
             "colorbar": {
              "outlinewidth": 0,
              "ticks": ""
             }
            },
            "type": "scatter3d"
           }
          ],
          "scattercarpet": [
           {
            "marker": {
             "colorbar": {
              "outlinewidth": 0,
              "ticks": ""
             }
            },
            "type": "scattercarpet"
           }
          ],
          "scattergeo": [
           {
            "marker": {
             "colorbar": {
              "outlinewidth": 0,
              "ticks": ""
             }
            },
            "type": "scattergeo"
           }
          ],
          "scattergl": [
           {
            "marker": {
             "colorbar": {
              "outlinewidth": 0,
              "ticks": ""
             }
            },
            "type": "scattergl"
           }
          ],
          "scattermapbox": [
           {
            "marker": {
             "colorbar": {
              "outlinewidth": 0,
              "ticks": ""
             }
            },
            "type": "scattermapbox"
           }
          ],
          "scatterpolar": [
           {
            "marker": {
             "colorbar": {
              "outlinewidth": 0,
              "ticks": ""
             }
            },
            "type": "scatterpolar"
           }
          ],
          "scatterpolargl": [
           {
            "marker": {
             "colorbar": {
              "outlinewidth": 0,
              "ticks": ""
             }
            },
            "type": "scatterpolargl"
           }
          ],
          "scatterternary": [
           {
            "marker": {
             "colorbar": {
              "outlinewidth": 0,
              "ticks": ""
             }
            },
            "type": "scatterternary"
           }
          ],
          "surface": [
           {
            "colorbar": {
             "outlinewidth": 0,
             "ticks": ""
            },
            "colorscale": [
             [
              0,
              "#0d0887"
             ],
             [
              0.1111111111111111,
              "#46039f"
             ],
             [
              0.2222222222222222,
              "#7201a8"
             ],
             [
              0.3333333333333333,
              "#9c179e"
             ],
             [
              0.4444444444444444,
              "#bd3786"
             ],
             [
              0.5555555555555556,
              "#d8576b"
             ],
             [
              0.6666666666666666,
              "#ed7953"
             ],
             [
              0.7777777777777778,
              "#fb9f3a"
             ],
             [
              0.8888888888888888,
              "#fdca26"
             ],
             [
              1,
              "#f0f921"
             ]
            ],
            "type": "surface"
           }
          ],
          "table": [
           {
            "cells": {
             "fill": {
              "color": "#EBF0F8"
             },
             "line": {
              "color": "white"
             }
            },
            "header": {
             "fill": {
              "color": "#C8D4E3"
             },
             "line": {
              "color": "white"
             }
            },
            "type": "table"
           }
          ]
         },
         "layout": {
          "annotationdefaults": {
           "arrowcolor": "#2a3f5f",
           "arrowhead": 0,
           "arrowwidth": 1
          },
          "autotypenumbers": "strict",
          "coloraxis": {
           "colorbar": {
            "outlinewidth": 0,
            "ticks": ""
           }
          },
          "colorscale": {
           "diverging": [
            [
             0,
             "#8e0152"
            ],
            [
             0.1,
             "#c51b7d"
            ],
            [
             0.2,
             "#de77ae"
            ],
            [
             0.3,
             "#f1b6da"
            ],
            [
             0.4,
             "#fde0ef"
            ],
            [
             0.5,
             "#f7f7f7"
            ],
            [
             0.6,
             "#e6f5d0"
            ],
            [
             0.7,
             "#b8e186"
            ],
            [
             0.8,
             "#7fbc41"
            ],
            [
             0.9,
             "#4d9221"
            ],
            [
             1,
             "#276419"
            ]
           ],
           "sequential": [
            [
             0,
             "#0d0887"
            ],
            [
             0.1111111111111111,
             "#46039f"
            ],
            [
             0.2222222222222222,
             "#7201a8"
            ],
            [
             0.3333333333333333,
             "#9c179e"
            ],
            [
             0.4444444444444444,
             "#bd3786"
            ],
            [
             0.5555555555555556,
             "#d8576b"
            ],
            [
             0.6666666666666666,
             "#ed7953"
            ],
            [
             0.7777777777777778,
             "#fb9f3a"
            ],
            [
             0.8888888888888888,
             "#fdca26"
            ],
            [
             1,
             "#f0f921"
            ]
           ],
           "sequentialminus": [
            [
             0,
             "#0d0887"
            ],
            [
             0.1111111111111111,
             "#46039f"
            ],
            [
             0.2222222222222222,
             "#7201a8"
            ],
            [
             0.3333333333333333,
             "#9c179e"
            ],
            [
             0.4444444444444444,
             "#bd3786"
            ],
            [
             0.5555555555555556,
             "#d8576b"
            ],
            [
             0.6666666666666666,
             "#ed7953"
            ],
            [
             0.7777777777777778,
             "#fb9f3a"
            ],
            [
             0.8888888888888888,
             "#fdca26"
            ],
            [
             1,
             "#f0f921"
            ]
           ]
          },
          "colorway": [
           "#636efa",
           "#EF553B",
           "#00cc96",
           "#ab63fa",
           "#FFA15A",
           "#19d3f3",
           "#FF6692",
           "#B6E880",
           "#FF97FF",
           "#FECB52"
          ],
          "font": {
           "color": "#2a3f5f"
          },
          "geo": {
           "bgcolor": "white",
           "lakecolor": "white",
           "landcolor": "#E5ECF6",
           "showlakes": true,
           "showland": true,
           "subunitcolor": "white"
          },
          "hoverlabel": {
           "align": "left"
          },
          "hovermode": "closest",
          "mapbox": {
           "style": "light"
          },
          "paper_bgcolor": "white",
          "plot_bgcolor": "#E5ECF6",
          "polar": {
           "angularaxis": {
            "gridcolor": "white",
            "linecolor": "white",
            "ticks": ""
           },
           "bgcolor": "#E5ECF6",
           "radialaxis": {
            "gridcolor": "white",
            "linecolor": "white",
            "ticks": ""
           }
          },
          "scene": {
           "xaxis": {
            "backgroundcolor": "#E5ECF6",
            "gridcolor": "white",
            "gridwidth": 2,
            "linecolor": "white",
            "showbackground": true,
            "ticks": "",
            "zerolinecolor": "white"
           },
           "yaxis": {
            "backgroundcolor": "#E5ECF6",
            "gridcolor": "white",
            "gridwidth": 2,
            "linecolor": "white",
            "showbackground": true,
            "ticks": "",
            "zerolinecolor": "white"
           },
           "zaxis": {
            "backgroundcolor": "#E5ECF6",
            "gridcolor": "white",
            "gridwidth": 2,
            "linecolor": "white",
            "showbackground": true,
            "ticks": "",
            "zerolinecolor": "white"
           }
          },
          "shapedefaults": {
           "line": {
            "color": "#2a3f5f"
           }
          },
          "ternary": {
           "aaxis": {
            "gridcolor": "white",
            "linecolor": "white",
            "ticks": ""
           },
           "baxis": {
            "gridcolor": "white",
            "linecolor": "white",
            "ticks": ""
           },
           "bgcolor": "#E5ECF6",
           "caxis": {
            "gridcolor": "white",
            "linecolor": "white",
            "ticks": ""
           }
          },
          "title": {
           "x": 0.05
          },
          "xaxis": {
           "automargin": true,
           "gridcolor": "white",
           "linecolor": "white",
           "ticks": "",
           "title": {
            "standoff": 15
           },
           "zerolinecolor": "white",
           "zerolinewidth": 2
          },
          "yaxis": {
           "automargin": true,
           "gridcolor": "white",
           "linecolor": "white",
           "ticks": "",
           "title": {
            "standoff": 15
           },
           "zerolinecolor": "white",
           "zerolinewidth": 2
          }
         }
        },
        "title": {
         "text": "Network with shared positions of investment companies"
        },
        "width": 650,
        "xaxis": {
         "autorange": true,
         "showgrid": false,
         "showticklabels": false,
         "ticks": ""
        },
        "yaxis": {
         "autorange": true,
         "showgrid": false,
         "showticklabels": false,
         "ticks": ""
        }
       }
      },
      "text/html": [
       "<div>                            <div id=\"50b85b2a-e59c-41d5-bb75-290e4117ca4e\" class=\"plotly-graph-div\" style=\"height:625px; width:650px;\"></div>            <script type=\"text/javascript\">                require([\"plotly\"], function(Plotly) {                    window.PLOTLYENV=window.PLOTLYENV || {};                                    if (document.getElementById(\"50b85b2a-e59c-41d5-bb75-290e4117ca4e\")) {                    Plotly.newPlot(                        \"50b85b2a-e59c-41d5-bb75-290e4117ca4e\",                        [{\"hoverinfo\": \"skip\", \"line\": {\"color\": \"blue\", \"width\": 0.05004655484517294}, \"mode\": \"lines\", \"text\": \"42174991860171.0\", \"type\": \"scatter\", \"x\": [-0.14788755633200684, 0.09289258707936421], \"y\": [0.0219400834019119, -0.689164741634031]}, {\"hoverinfo\": \"skip\", \"line\": {\"color\": \"blue\", \"width\": 0.050002233445254576}, \"mode\": \"lines\", \"text\": \"2023324003922.0\", \"type\": \"scatter\", \"x\": [-0.14788755633200684, 0.06166727094573401], \"y\": [0.0219400834019119, 0.17631969354848728]}, {\"hoverinfo\": \"skip\", \"line\": {\"color\": \"blue\", \"width\": 0.05000001353672277}, \"mode\": \"lines\", \"text\": \"12263202494.0\", \"type\": \"scatter\", \"x\": [-0.14788755633200684, -0.07171309840314498], \"y\": [0.0219400834019119, 0.045015217522372315]}, {\"hoverinfo\": \"skip\", \"line\": {\"color\": \"blue\", \"width\": 0.05000320136887788}, \"mode\": \"lines\", \"text\": \"2900185924000.0\", \"type\": \"scatter\", \"x\": [-0.14788755633200684, -0.0890221595419031], \"y\": [0.0219400834019119, 0.26078569217434955]}, {\"hoverinfo\": \"skip\", \"line\": {\"color\": \"blue\", \"width\": 0.050000645184808304}, \"mode\": \"lines\", \"text\": \"584486195874.0\", \"type\": \"scatter\", \"x\": [-0.14788755633200684, -0.21957618178535965], \"y\": [0.0219400834019119, 0.1303889278571887]}, {\"hoverinfo\": \"skip\", \"line\": {\"color\": \"blue\", \"width\": 0.050000000396212836}, \"mode\": \"lines\", \"text\": \"358944248.0\", \"type\": \"scatter\", \"x\": [-0.14788755633200684, 0.11793257377459164], \"y\": [0.0219400834019119, 0.03036211669011828]}, {\"hoverinfo\": \"skip\", \"line\": {\"color\": \"blue\", \"width\": 0.05000014351631248}, \"mode\": \"lines\", \"text\": \"130014386429.0\", \"type\": \"scatter\", \"x\": [-0.14788755633200684, 0.4267845350748087], \"y\": [0.0219400834019119, -0.5003728609262499]}, {\"hoverinfo\": \"skip\", \"line\": {\"color\": \"blue\", \"width\": 0.05000005688925147}, \"mode\": \"lines\", \"text\": \"51537149981.0\", \"type\": \"scatter\", \"x\": [-0.14788755633200684, 0.2524310030838184], \"y\": [0.0219400834019119, -0.2669388483782732]}, {\"hoverinfo\": \"skip\", \"line\": {\"color\": \"blue\", \"width\": 0.0500000021598559}, \"mode\": \"lines\", \"text\": \"1956664778.0\", \"type\": \"scatter\", \"x\": [-0.14788755633200684, -0.19550891065857323], \"y\": [0.0219400834019119, -0.15537502384687474]}, {\"hoverinfo\": \"skip\", \"line\": {\"color\": \"blue\", \"width\": 0.05000000080693456}, \"mode\": \"lines\", \"text\": \"731025500.0\", \"type\": \"scatter\", \"x\": [-0.14788755633200684, 0.18907882349467978], \"y\": [0.0219400834019119, -0.19759796587727918]}, {\"hoverinfo\": \"skip\", \"line\": {\"color\": \"blue\", \"width\": 0.050000005334041524}, \"mode\": \"lines\", \"text\": \"4832224824.0\", \"type\": \"scatter\", \"x\": [-0.14788755633200684, -0.10508213068898441], \"y\": [0.0219400834019119, -0.10123425059664076]}, {\"hoverinfo\": \"skip\", \"line\": {\"color\": \"blue\", \"width\": 0.05000242784451649}, \"mode\": \"lines\", \"text\": \"2199434293983.0\", \"type\": \"scatter\", \"x\": [-0.14788755633200684, 0.21335469768789028], \"y\": [0.0219400834019119, 0.0433513350507331]}, {\"hoverinfo\": \"skip\", \"line\": {\"color\": \"blue\", \"width\": 0.05000000086083944}, \"mode\": \"lines\", \"text\": \"779859041.0\", \"type\": \"scatter\", \"x\": [-0.14788755633200684, 0.29829324959871156], \"y\": [0.0219400834019119, -0.28991122404154945]}, {\"hoverinfo\": \"skip\", \"line\": {\"color\": \"blue\", \"width\": 0.050000038088184255}, \"mode\": \"lines\", \"text\": \"34504876460.0\", \"type\": \"scatter\", \"x\": [-0.14788755633200684, 0.022898454547114633], \"y\": [0.0219400834019119, 0.10632543725739717]}, {\"hoverinfo\": \"skip\", \"line\": {\"color\": \"blue\", \"width\": 0.052400217378708494}, \"mode\": \"lines\", \"text\": \"2174406294713749.0\", \"type\": \"scatter\", \"x\": [-0.14788755633200684, -0.7363351081837023], \"y\": [0.0219400834019119, 1.0]}, {\"hoverinfo\": \"skip\", \"line\": {\"color\": \"blue\", \"width\": 0.050000000103136794}, \"mode\": \"lines\", \"text\": \"93440631.0\", \"type\": \"scatter\", \"x\": [-0.14788755633200684, 0.09610837230404637], \"y\": [0.0219400834019119, 0.43682897809678295]}, {\"hoverinfo\": \"skip\", \"line\": {\"color\": \"blue\", \"width\": 0.05000002562637351}, \"mode\": \"lines\", \"text\": \"23215465777.0\", \"type\": \"scatter\", \"x\": [-0.14788755633200684, -0.1381063270271228], \"y\": [0.0219400834019119, -0.14687488837188614]}, {\"hoverinfo\": \"skip\", \"line\": {\"color\": \"blue\", \"width\": 0.050005521106022674}, \"mode\": \"lines\", \"text\": \"5001683519367.0\", \"type\": \"scatter\", \"x\": [-0.14788755633200684, -0.19456541913131645], \"y\": [0.0219400834019119, -0.008930493351442794]}, {\"hoverinfo\": \"skip\", \"line\": {\"color\": \"blue\", \"width\": 0.05000001814221138}, \"mode\": \"lines\", \"text\": \"16435409352.0\", \"type\": \"scatter\", \"x\": [-0.14788755633200684, -0.1948494780080632], \"y\": [0.0219400834019119, -0.07670476754110407]}, {\"hoverinfo\": \"skip\", \"line\": {\"color\": \"blue\", \"width\": 0.053863214468727966}, \"mode\": \"lines\", \"text\": \"3499765451719717.0\", \"type\": \"scatter\", \"x\": [0.09289258707936421, 0.06166727094573401], \"y\": [-0.689164741634031, 0.17631969354848728]}, {\"hoverinfo\": \"skip\", \"line\": {\"color\": \"blue\", \"width\": 0.050049402358639236}, \"mode\": \"lines\", \"text\": \"44754612881294.0\", \"type\": \"scatter\", \"x\": [0.09289258707936421, -0.07171309840314498], \"y\": [-0.689164741634031, 0.045015217522372315]}, {\"hoverinfo\": \"skip\", \"line\": {\"color\": \"blue\", \"width\": 0.058135715715457094}, \"mode\": \"lines\", \"text\": \"7370312214459000.0\", \"type\": \"scatter\", \"x\": [0.09289258707936421, -0.0890221595419031], \"y\": [-0.689164741634031, 0.26078569217434955]}, {\"hoverinfo\": \"skip\", \"line\": {\"color\": \"blue\", \"width\": 0.05076010094488453}, \"mode\": \"lines\", \"text\": \"688591080894264.0\", \"type\": \"scatter\", \"x\": [0.09289258707936421, -0.21957618178535965], \"y\": [-0.689164741634031, 0.1303889278571887]}, {\"hoverinfo\": \"skip\", \"line\": {\"color\": \"blue\", \"width\": 0.050000403172002564}, \"mode\": \"lines\", \"text\": \"365241817066.0\", \"type\": \"scatter\", \"x\": [0.09289258707936421, 0.32120480216941744], \"y\": [-0.689164741634031, 0.1817875829652392]}, {\"hoverinfo\": \"skip\", \"line\": {\"color\": \"blue\", \"width\": 0.05000163673959266}, \"mode\": \"lines\", \"text\": \"1482756070838.0\", \"type\": \"scatter\", \"x\": [0.09289258707936421, 0.11793257377459164], \"y\": [-0.689164741634031, 0.03036211669011828]}, {\"hoverinfo\": \"skip\", \"line\": {\"color\": \"blue\", \"width\": 0.05021027173501723}, \"mode\": \"lines\", \"text\": \"190489489949011.0\", \"type\": \"scatter\", \"x\": [0.09289258707936421, 0.4267845350748087], \"y\": [-0.689164741634031, -0.5003728609262499]}, {\"hoverinfo\": \"skip\", \"line\": {\"color\": \"blue\", \"width\": 0.05017895998684008}, \"mode\": \"lines\", \"text\": \"162123533207494.0\", \"type\": \"scatter\", \"x\": [0.09289258707936421, 0.2524310030838184], \"y\": [-0.689164741634031, -0.2669388483782732]}, {\"hoverinfo\": \"skip\", \"line\": {\"color\": \"blue\", \"width\": 0.050003184513825794}, \"mode\": \"lines\", \"text\": \"2884916585617.0\", \"type\": \"scatter\", \"x\": [0.09289258707936421, -0.19550891065857323], \"y\": [-0.689164741634031, -0.15537502384687474]}, {\"hoverinfo\": \"skip\", \"line\": {\"color\": \"blue\", \"width\": 0.050006402509644984}, \"mode\": \"lines\", \"text\": \"5800165190871.0\", \"type\": \"scatter\", \"x\": [0.09289258707936421, 0.18907882349467978], \"y\": [-0.689164741634031, -0.19759796587727918]}, {\"hoverinfo\": \"skip\", \"line\": {\"color\": \"blue\", \"width\": 0.05002036367946707}, \"mode\": \"lines\", \"text\": \"18447876107349.0\", \"type\": \"scatter\", \"x\": [0.09289258707936421, -0.10508213068898441], \"y\": [-0.689164741634031, -0.10123425059664076]}, {\"hoverinfo\": \"skip\", \"line\": {\"color\": \"blue\", \"width\": 0.05398303556047453}, \"mode\": \"lines\", \"text\": \"3608313843396039.0\", \"type\": \"scatter\", \"x\": [0.09289258707936421, 0.21335469768789028], \"y\": [-0.689164741634031, 0.0433513350507331]}, {\"hoverinfo\": \"skip\", \"line\": {\"color\": \"blue\", \"width\": 0.050002711865190466}, \"mode\": \"lines\", \"text\": \"2456734464714.0\", \"type\": \"scatter\", \"x\": [0.09289258707936421, 0.29829324959871156], \"y\": [-0.689164741634031, -0.28991122404154945]}, {\"hoverinfo\": \"skip\", \"line\": {\"color\": \"blue\", \"width\": 0.05002931468546044}, \"mode\": \"lines\", \"text\": \"26556776554696.0\", \"type\": \"scatter\", \"x\": [0.09289258707936421, 0.022898454547114633], \"y\": [-0.689164741634031, 0.10632543725739717]}, {\"hoverinfo\": \"skip\", \"line\": {\"color\": \"blue\", \"width\": 4.05}, \"mode\": \"lines\", \"text\": \"3.623682278105773e+18\", \"type\": \"scatter\", \"x\": [0.09289258707936421, -0.7363351081837023], \"y\": [-0.689164741634031, 1.0]}, {\"hoverinfo\": \"skip\", \"line\": {\"color\": \"blue\", \"width\": 0.050000030371196026}, \"mode\": \"lines\", \"text\": \"27513898088.0\", \"type\": \"scatter\", \"x\": [0.09289258707936421, 0.09610837230404637], \"y\": [-0.689164741634031, 0.43682897809678295]}, {\"hoverinfo\": \"skip\", \"line\": {\"color\": \"blue\", \"width\": 0.050035222262707804}, \"mode\": \"lines\", \"text\": \"31908572299149.0\", \"type\": \"scatter\", \"x\": [0.09289258707936421, -0.1381063270271228], \"y\": [-0.689164741634031, -0.14687488837188614]}, {\"hoverinfo\": \"skip\", \"line\": {\"color\": \"blue\", \"width\": 0.053686317349512125}, \"mode\": \"lines\", \"text\": \"3339510712732113.0\", \"type\": \"scatter\", \"x\": [0.09289258707936421, -0.19456541913131645], \"y\": [-0.689164741634031, -0.008930493351442794]}, {\"hoverinfo\": \"skip\", \"line\": {\"color\": \"blue\", \"width\": 0.05000255440689978}, \"mode\": \"lines\", \"text\": \"2314089760342.0\", \"type\": \"scatter\", \"x\": [0.09289258707936421, -0.1948494780080632], \"y\": [-0.689164741634031, -0.07670476754110407]}, {\"hoverinfo\": \"skip\", \"line\": {\"color\": \"blue\", \"width\": 0.05000321935911915}, \"mode\": \"lines\", \"text\": \"2916483653618.0\", \"type\": \"scatter\", \"x\": [0.06166727094573401, -0.07171309840314498], \"y\": [0.17631969354848728, 0.045015217522372315]}, {\"hoverinfo\": \"skip\", \"line\": {\"color\": \"blue\", \"width\": 0.05052314585716698}, \"mode\": \"lines\", \"text\": \"473928592877000.0\", \"type\": \"scatter\", \"x\": [0.06166727094573401, -0.0890221595419031], \"y\": [0.17631969354848728, 0.26078569217434955]}, {\"hoverinfo\": \"skip\", \"line\": {\"color\": \"blue\", \"width\": 0.050045633105094384}, \"mode\": \"lines\", \"text\": \"41339968563254.0\", \"type\": \"scatter\", \"x\": [0.06166727094573401, -0.21957618178535965], \"y\": [0.17631969354848728, 0.1303889278571887]}, {\"hoverinfo\": \"skip\", \"line\": {\"color\": \"blue\", \"width\": 0.05000000553663762}, \"mode\": \"lines\", \"text\": \"5015760795.0\", \"type\": \"scatter\", \"x\": [0.06166727094573401, 0.32120480216941744], \"y\": [0.17631969354848728, 0.1817875829652392]}, {\"hoverinfo\": \"skip\", \"line\": {\"color\": \"blue\", \"width\": 0.05000009987479339}, \"mode\": \"lines\", \"text\": \"90478636594.0\", \"type\": \"scatter\", \"x\": [0.06166727094573401, 0.11793257377459164], \"y\": [0.17631969354848728, 0.03036211669011828]}, {\"hoverinfo\": \"skip\", \"line\": {\"color\": \"blue\", \"width\": 0.0500140847334314}, \"mode\": \"lines\", \"text\": \"12759649738686.0\", \"type\": \"scatter\", \"x\": [0.06166727094573401, 0.4267845350748087], \"y\": [0.17631969354848728, -0.5003728609262499]}, {\"hoverinfo\": \"skip\", \"line\": {\"color\": \"blue\", \"width\": 0.050012050961106336}, \"mode\": \"lines\", \"text\": \"10917213555681.0\", \"type\": \"scatter\", \"x\": [0.06166727094573401, 0.2524310030838184], \"y\": [0.17631969354848728, -0.2669388483782732]}, {\"hoverinfo\": \"skip\", \"line\": {\"color\": \"blue\", \"width\": 0.05000020137006261}, \"mode\": \"lines\", \"text\": \"182425288690.0\", \"type\": \"scatter\", \"x\": [0.06166727094573401, -0.19550891065857323], \"y\": [0.17631969354848728, -0.15537502384687474]}, {\"hoverinfo\": \"skip\", \"line\": {\"color\": \"blue\", \"width\": 0.050000454910789555}, \"mode\": \"lines\", \"text\": \"412113048442.0\", \"type\": \"scatter\", \"x\": [0.06166727094573401, 0.18907882349467978], \"y\": [0.17631969354848728, -0.19759796587727918]}, {\"hoverinfo\": \"skip\", \"line\": {\"color\": \"blue\", \"width\": 0.05000124517702176}, \"mode\": \"lines\", \"text\": \"1128031483599.0\", \"type\": \"scatter\", \"x\": [0.06166727094573401, -0.10508213068898441], \"y\": [0.17631969354848728, -0.10123425059664076]}, {\"hoverinfo\": \"skip\", \"line\": {\"color\": \"blue\", \"width\": 0.0502356361627932}, \"mode\": \"lines\", \"text\": \"213467646805532.0\", \"type\": \"scatter\", \"x\": [0.06166727094573401, 0.21335469768789028], \"y\": [0.17631969354848728, 0.0433513350507331]}, {\"hoverinfo\": \"skip\", \"line\": {\"color\": \"blue\", \"width\": 0.050000145127702574}, \"mode\": \"lines\", \"text\": \"131474177860.0\", \"type\": \"scatter\", \"x\": [0.06166727094573401, 0.29829324959871156], \"y\": [0.17631969354848728, -0.28991122404154945]}, {\"hoverinfo\": \"skip\", \"line\": {\"color\": \"blue\", \"width\": 0.05000152341022883}, \"mode\": \"lines\", \"text\": \"1380088669011.0\", \"type\": \"scatter\", \"x\": [0.06166727094573401, 0.022898454547114633], \"y\": [0.17631969354848728, 0.10632543725739717]}, {\"hoverinfo\": \"skip\", \"line\": {\"color\": \"blue\", \"width\": 0.2854486707054698}, \"mode\": \"lines\", \"text\": \"2.132977938597497e+17\", \"type\": \"scatter\", \"x\": [0.06166727094573401, -0.7363351081837023], \"y\": [0.17631969354848728, 1.0]}, {\"hoverinfo\": \"skip\", \"line\": {\"color\": \"blue\", \"width\": 0.05000000110288636}, \"mode\": \"lines\", \"text\": \"999134330.0\", \"type\": \"scatter\", \"x\": [0.06166727094573401, 0.09610837230404637], \"y\": [0.17631969354848728, 0.43682897809678295]}, {\"hoverinfo\": \"skip\", \"line\": {\"color\": \"blue\", \"width\": 0.05000211289438852}, \"mode\": \"lines\", \"text\": \"1914114494689.0\", \"type\": \"scatter\", \"x\": [0.06166727094573401, -0.1381063270271228], \"y\": [0.17631969354848728, -0.14687488837188614]}, {\"hoverinfo\": \"skip\", \"line\": {\"color\": \"blue\", \"width\": 0.0502182761020488}, \"mode\": \"lines\", \"text\": \"197740810688947.0\", \"type\": \"scatter\", \"x\": [0.06166727094573401, -0.19456541913131645], \"y\": [0.17631969354848728, -0.008930493351442794]}, {\"hoverinfo\": \"skip\", \"line\": {\"color\": \"blue\", \"width\": 0.05000008462773653}, \"mode\": \"lines\", \"text\": \"76666014162.0\", \"type\": \"scatter\", \"x\": [0.06166727094573401, -0.1948494780080632], \"y\": [0.17631969354848728, -0.07670476754110407]}, {\"hoverinfo\": \"skip\", \"line\": {\"color\": \"blue\", \"width\": 0.05000860370107082}, \"mode\": \"lines\", \"text\": \"7794269781000.0\", \"type\": \"scatter\", \"x\": [-0.07171309840314498, -0.0890221595419031], \"y\": [0.045015217522372315, 0.26078569217434955]}, {\"hoverinfo\": \"skip\", \"line\": {\"color\": \"blue\", \"width\": 0.05000057404288614}, \"mode\": \"lines\", \"text\": \"520037265231.0\", \"type\": \"scatter\", \"x\": [-0.07171309840314498, -0.21957618178535965], \"y\": [0.045015217522372315, 0.1303889278571887]}, {\"hoverinfo\": \"skip\", \"line\": {\"color\": \"blue\", \"width\": 0.05000000425052868}, \"mode\": \"lines\", \"text\": \"3850648254.0\", \"type\": \"scatter\", \"x\": [-0.07171309840314498, 0.11793257377459164], \"y\": [0.045015217522372315, 0.03036211669011828]}, {\"hoverinfo\": \"skip\", \"line\": {\"color\": \"blue\", \"width\": 0.0500002085198128}, \"mode\": \"lines\", \"text\": \"188902394457.0\", \"type\": \"scatter\", \"x\": [-0.07171309840314498, 0.4267845350748087], \"y\": [0.045015217522372315, -0.5003728609262499]}, {\"hoverinfo\": \"skip\", \"line\": {\"color\": \"blue\", \"width\": 0.0500002435999253}, \"mode\": \"lines\", \"text\": \"220682189947.0\", \"type\": \"scatter\", \"x\": [-0.07171309840314498, 0.2524310030838184], \"y\": [0.045015217522372315, -0.2669388483782732]}, {\"hoverinfo\": \"skip\", \"line\": {\"color\": \"blue\", \"width\": 0.05000000449687823}, \"mode\": \"lines\", \"text\": \"4073821372.0\", \"type\": \"scatter\", \"x\": [-0.07171309840314498, -0.19550891065857323], \"y\": [0.045015217522372315, -0.15537502384687474]}, {\"hoverinfo\": \"skip\", \"line\": {\"color\": \"blue\", \"width\": 0.05000000927358475}, \"mode\": \"lines\", \"text\": \"8401138063.0\", \"type\": \"scatter\", \"x\": [-0.07171309840314498, 0.18907882349467978], \"y\": [0.045015217522372315, -0.19759796587727918]}, {\"hoverinfo\": \"skip\", \"line\": {\"color\": \"blue\", \"width\": 0.050000018460136283}, \"mode\": \"lines\", \"text\": \"16723424066.0\", \"type\": \"scatter\", \"x\": [-0.07171309840314498, -0.10508213068898441], \"y\": [0.045015217522372315, -0.10123425059664076]}, {\"hoverinfo\": \"skip\", \"line\": {\"color\": \"blue\", \"width\": 0.05000352560018877}, \"mode\": \"lines\", \"text\": \"3193913737819.0\", \"type\": \"scatter\", \"x\": [-0.07171309840314498, 0.21335469768789028], \"y\": [0.045015217522372315, 0.0433513350507331]}, {\"hoverinfo\": \"skip\", \"line\": {\"color\": \"blue\", \"width\": 0.05000000219735601}, \"mode\": \"lines\", \"text\": \"1990636891.0\", \"type\": \"scatter\", \"x\": [-0.07171309840314498, 0.29829324959871156], \"y\": [0.045015217522372315, -0.28991122404154945]}, {\"hoverinfo\": \"skip\", \"line\": {\"color\": \"blue\", \"width\": 0.05000001716780609}, \"mode\": \"lines\", \"text\": \"15552675558.0\", \"type\": \"scatter\", \"x\": [-0.07171309840314498, 0.022898454547114633], \"y\": [0.045015217522372315, 0.10632543725739717]}, {\"hoverinfo\": \"skip\", \"line\": {\"color\": \"blue\", \"width\": 0.053086884733294135}, \"mode\": \"lines\", \"text\": \"2796472375655189.0\", \"type\": \"scatter\", \"x\": [-0.07171309840314498, -0.7363351081837023], \"y\": [0.045015217522372315, 1.0]}, {\"hoverinfo\": \"skip\", \"line\": {\"color\": \"blue\", \"width\": 0.050000025003327224}, \"mode\": \"lines\", \"text\": \"22651035325.0\", \"type\": \"scatter\", \"x\": [-0.07171309840314498, -0.1381063270271228], \"y\": [0.045015217522372315, -0.14687488837188614]}, {\"hoverinfo\": \"skip\", \"line\": {\"color\": \"blue\", \"width\": 0.050002904340580245}, \"mode\": \"lines\", \"text\": \"2631101879439.0\", \"type\": \"scatter\", \"x\": [-0.07171309840314498, -0.19456541913131645], \"y\": [0.045015217522372315, -0.008930493351442794]}, {\"hoverinfo\": \"skip\", \"line\": {\"color\": \"blue\", \"width\": 0.0500000001910423}, \"mode\": \"lines\", \"text\": \"173076040.0\", \"type\": \"scatter\", \"x\": [-0.07171309840314498, -0.1948494780080632], \"y\": [0.045015217522372315, -0.07670476754110407]}, {\"hoverinfo\": \"skip\", \"line\": {\"color\": \"blue\", \"width\": 0.0501098341325279}, \"mode\": \"lines\", \"text\": \"99500999900000.0\", \"type\": \"scatter\", \"x\": [-0.0890221595419031, -0.21957618178535965], \"y\": [0.26078569217434955, 0.1303889278571887]}, {\"hoverinfo\": \"skip\", \"line\": {\"color\": \"blue\", \"width\": 0.05000001984546296}, \"mode\": \"lines\", \"text\": \"17978420000.0\", \"type\": \"scatter\", \"x\": [-0.0890221595419031, 0.32120480216941744], \"y\": [0.26078569217434955, 0.1817875829652392]}, {\"hoverinfo\": \"skip\", \"line\": {\"color\": \"blue\", \"width\": 0.050000182917705686}, \"mode\": \"lines\", \"text\": \"165708919000.0\", \"type\": \"scatter\", \"x\": [-0.0890221595419031, 0.11793257377459164], \"y\": [0.26078569217434955, 0.03036211669011828]}, {\"hoverinfo\": \"skip\", \"line\": {\"color\": \"blue\", \"width\": 0.0500511010635097}, \"mode\": \"lines\", \"text\": \"46293504565000.0\", \"type\": \"scatter\", \"x\": [-0.0890221595419031, 0.4267845350748087], \"y\": [0.26078569217434955, -0.5003728609262499]}, {\"hoverinfo\": \"skip\", \"line\": {\"color\": \"blue\", \"width\": 0.05003918419608098}, \"mode\": \"lines\", \"text\": \"35497769237000.0\", \"type\": \"scatter\", \"x\": [-0.0890221595419031, 0.2524310030838184], \"y\": [0.26078569217434955, -0.2669388483782732]}, {\"hoverinfo\": \"skip\", \"line\": {\"color\": \"blue\", \"width\": 0.05000095456369708}, \"mode\": \"lines\", \"text\": \"864758895000.0\", \"type\": \"scatter\", \"x\": [-0.0890221595419031, -0.19550891065857323], \"y\": [0.26078569217434955, -0.15537502384687474]}, {\"hoverinfo\": \"skip\", \"line\": {\"color\": \"blue\", \"width\": 0.050001574216280195}, \"mode\": \"lines\", \"text\": \"1426114916000.0\", \"type\": \"scatter\", \"x\": [-0.0890221595419031, 0.18907882349467978], \"y\": [0.26078569217434955, -0.19759796587727918]}, {\"hoverinfo\": \"skip\", \"line\": {\"color\": \"blue\", \"width\": 0.05000274901587279}, \"mode\": \"lines\", \"text\": \"2490390032000.0\", \"type\": \"scatter\", \"x\": [-0.0890221595419031, -0.10508213068898441], \"y\": [0.26078569217434955, -0.10123425059664076]}, {\"hoverinfo\": \"skip\", \"line\": {\"color\": \"blue\", \"width\": 0.05063779059213121}, \"mode\": \"lines\", \"text\": \"577787616469000.0\", \"type\": \"scatter\", \"x\": [-0.0890221595419031, 0.21335469768789028], \"y\": [0.26078569217434955, 0.0433513350507331]}, {\"hoverinfo\": \"skip\", \"line\": {\"color\": \"blue\", \"width\": 0.05000052428922478}, \"mode\": \"lines\", \"text\": \"474964400000.0\", \"type\": \"scatter\", \"x\": [-0.0890221595419031, 0.29829324959871156], \"y\": [0.26078569217434955, -0.28991122404154945]}, {\"hoverinfo\": \"skip\", \"line\": {\"color\": \"blue\", \"width\": 0.05000231383673649}, \"mode\": \"lines\", \"text\": \"2096152301000.0\", \"type\": \"scatter\", \"x\": [-0.0890221595419031, 0.022898454547114633], \"y\": [0.26078569217434955, 0.10632543725739717]}, {\"hoverinfo\": \"skip\", \"line\": {\"color\": \"blue\", \"width\": 0.5926041367939873}, \"mode\": \"lines\", \"text\": \"4.91556248631819e+17\", \"type\": \"scatter\", \"x\": [-0.0890221595419031, -0.7363351081837023], \"y\": [0.26078569217434955, 1.0]}, {\"hoverinfo\": \"skip\", \"line\": {\"color\": \"blue\", \"width\": 0.050000349040046944}, \"mode\": \"lines\", \"text\": \"316202565000.0\", \"type\": \"scatter\", \"x\": [-0.0890221595419031, 0.09610837230404637], \"y\": [0.26078569217434955, 0.43682897809678295]}, {\"hoverinfo\": \"skip\", \"line\": {\"color\": \"blue\", \"width\": 0.050005685944866894}, \"mode\": \"lines\", \"text\": \"5151014419000.0\", \"type\": \"scatter\", \"x\": [-0.0890221595419031, -0.1381063270271228], \"y\": [0.26078569217434955, -0.14687488837188614]}, {\"hoverinfo\": \"skip\", \"line\": {\"color\": \"blue\", \"width\": 0.050621001711765076}, \"mode\": \"lines\", \"text\": \"562578224406000.0\", \"type\": \"scatter\", \"x\": [-0.0890221595419031, -0.19456541913131645], \"y\": [0.26078569217434955, -0.008930493351442794]}, {\"hoverinfo\": \"skip\", \"line\": {\"color\": \"blue\", \"width\": 0.050016950488371334}, \"mode\": \"lines\", \"text\": \"15355796086000.0\", \"type\": \"scatter\", \"x\": [-0.0890221595419031, -0.1948494780080632], \"y\": [0.26078569217434955, -0.07670476754110407]}, {\"hoverinfo\": \"skip\", \"line\": {\"color\": \"blue\", \"width\": 0.05}, \"mode\": \"lines\", \"text\": \"6890.0\", \"type\": \"scatter\", \"x\": [-0.21957618178535965, 0.32120480216941744], \"y\": [0.1303889278571887, 0.1817875829652392]}, {\"hoverinfo\": \"skip\", \"line\": {\"color\": \"blue\", \"width\": 0.05000002049121735}, \"mode\": \"lines\", \"text\": \"18563422181.0\", \"type\": \"scatter\", \"x\": [-0.21957618178535965, 0.11793257377459164], \"y\": [0.1303889278571887, 0.03036211669011828]}, {\"hoverinfo\": \"skip\", \"line\": {\"color\": \"blue\", \"width\": 0.05000234822794751}, \"mode\": \"lines\", \"text\": \"2127308006476.0\", \"type\": \"scatter\", \"x\": [-0.21957618178535965, 0.4267845350748087], \"y\": [0.1303889278571887, -0.5003728609262499]}, {\"hoverinfo\": \"skip\", \"line\": {\"color\": \"blue\", \"width\": 0.05000205454709002}, \"mode\": \"lines\", \"text\": \"1861256476802.0\", \"type\": \"scatter\", \"x\": [-0.21957618178535965, 0.2524310030838184], \"y\": [0.1303889278571887, -0.2669388483782732]}, {\"hoverinfo\": \"skip\", \"line\": {\"color\": \"blue\", \"width\": 0.05000004193048294}, \"mode\": \"lines\", \"text\": \"37985693877.0\", \"type\": \"scatter\", \"x\": [-0.21957618178535965, -0.19550891065857323], \"y\": [0.1303889278571887, -0.15537502384687474]}, {\"hoverinfo\": \"skip\", \"line\": {\"color\": \"blue\", \"width\": 0.050000073187371784}, \"mode\": \"lines\", \"text\": \"66301952413.0\", \"type\": \"scatter\", \"x\": [-0.21957618178535965, 0.18907882349467978], \"y\": [0.1303889278571887, -0.19759796587727918]}, {\"hoverinfo\": \"skip\", \"line\": {\"color\": \"blue\", \"width\": 0.05000022105122219}, \"mode\": \"lines\", \"text\": \"200254855991.0\", \"type\": \"scatter\", \"x\": [-0.21957618178535965, -0.10508213068898441], \"y\": [0.1303889278571887, -0.10123425059664076]}, {\"hoverinfo\": \"skip\", \"line\": {\"color\": \"blue\", \"width\": 0.05004446503855046}, \"mode\": \"lines\", \"text\": \"40281793054535.0\", \"type\": \"scatter\", \"x\": [-0.21957618178535965, 0.21335469768789028], \"y\": [0.1303889278571887, 0.0433513350507331]}, {\"hoverinfo\": \"skip\", \"line\": {\"color\": \"blue\", \"width\": 0.05000002863703518}, \"mode\": \"lines\", \"text\": \"25942886112.0\", \"type\": \"scatter\", \"x\": [-0.21957618178535965, 0.29829324959871156], \"y\": [0.1303889278571887, -0.28991122404154945]}, {\"hoverinfo\": \"skip\", \"line\": {\"color\": \"blue\", \"width\": 0.05000034746643186}, \"mode\": \"lines\", \"text\": \"314776994729.0\", \"type\": \"scatter\", \"x\": [-0.21957618178535965, 0.022898454547114633], \"y\": [0.1303889278571887, 0.10632543725739717]}, {\"hoverinfo\": \"skip\", \"line\": {\"color\": \"blue\", \"width\": 0.09647684077708941}, \"mode\": \"lines\", \"text\": \"4.210432606657747e+16\", \"type\": \"scatter\", \"x\": [-0.21957618178535965, -0.7363351081837023], \"y\": [0.1303889278571887, 1.0]}, {\"hoverinfo\": \"skip\", \"line\": {\"color\": \"blue\", \"width\": 0.05000000075831353}, \"mode\": \"lines\", \"text\": \"686978712.0\", \"type\": \"scatter\", \"x\": [-0.21957618178535965, 0.09610837230404637], \"y\": [0.1303889278571887, 0.43682897809678295]}, {\"hoverinfo\": \"skip\", \"line\": {\"color\": \"blue\", \"width\": 0.050000389764131604}, \"mode\": \"lines\", \"text\": \"353095350973.0\", \"type\": \"scatter\", \"x\": [-0.21957618178535965, -0.1381063270271228], \"y\": [0.1303889278571887, -0.14687488837188614]}, {\"hoverinfo\": \"skip\", \"line\": {\"color\": \"blue\", \"width\": 0.05004638025256063}, \"mode\": \"lines\", \"text\": \"42016824821392.0\", \"type\": \"scatter\", \"x\": [-0.21957618178535965, -0.19456541913131645], \"y\": [0.1303889278571887, -0.008930493351442794]}, {\"hoverinfo\": \"skip\", \"line\": {\"color\": \"blue\", \"width\": 0.050000042890542336}, \"mode\": \"lines\", \"text\": \"38855431426.0\", \"type\": \"scatter\", \"x\": [-0.21957618178535965, -0.1948494780080632], \"y\": [0.1303889278571887, -0.07670476754110407]}, {\"hoverinfo\": \"skip\", \"line\": {\"color\": \"blue\", \"width\": 0.0500000002295525}, \"mode\": \"lines\", \"text\": \"207963215.0\", \"type\": \"scatter\", \"x\": [0.32120480216941744, 0.11793257377459164], \"y\": [0.1817875829652392, 0.03036211669011828]}, {\"hoverinfo\": \"skip\", \"line\": {\"color\": \"blue\", \"width\": 0.0500000000076879}, \"mode\": \"lines\", \"text\": \"6971514.0\", \"type\": \"scatter\", \"x\": [0.32120480216941744, 0.4267845350748087], \"y\": [0.1817875829652392, -0.5003728609262499]}, {\"hoverinfo\": \"skip\", \"line\": {\"color\": \"blue\", \"width\": 0.05000018826724093}, \"mode\": \"lines\", \"text\": \"170555173014.0\", \"type\": \"scatter\", \"x\": [0.32120480216941744, 0.21335469768789028], \"y\": [0.1817875829652392, 0.0433513350507331]}, {\"hoverinfo\": \"skip\", \"line\": {\"color\": \"blue\", \"width\": 0.05000000000366076}, \"mode\": \"lines\", \"text\": \"3323250.0\", \"type\": \"scatter\", \"x\": [0.32120480216941744, 0.29829324959871156], \"y\": [0.1817875829652392, -0.28991122404154945]}, {\"hoverinfo\": \"skip\", \"line\": {\"color\": \"blue\", \"width\": 0.05000000222902898}, \"mode\": \"lines\", \"text\": \"2019330089.0\", \"type\": \"scatter\", \"x\": [0.32120480216941744, 0.022898454547114633], \"y\": [0.1817875829652392, 0.10632543725739717]}, {\"hoverinfo\": \"skip\", \"line\": {\"color\": \"blue\", \"width\": 0.05000074817760324}, \"mode\": \"lines\", \"text\": \"677789487321.0\", \"type\": \"scatter\", \"x\": [0.32120480216941744, -0.7363351081837023], \"y\": [0.1817875829652392, 1.0]}, {\"hoverinfo\": \"skip\", \"line\": {\"color\": \"blue\", \"width\": 0.05000000001445295}, \"mode\": \"lines\", \"text\": \"13100110.0\", \"type\": \"scatter\", \"x\": [0.32120480216941744, 0.09610837230404637], \"y\": [0.1817875829652392, 0.43682897809678295]}, {\"hoverinfo\": \"skip\", \"line\": {\"color\": \"blue\", \"width\": 0.05000000056109573}, \"mode\": \"lines\", \"text\": \"508315050.0\", \"type\": \"scatter\", \"x\": [0.32120480216941744, -0.1381063270271228], \"y\": [0.1817875829652392, -0.14687488837188614]}, {\"hoverinfo\": \"skip\", \"line\": {\"color\": \"blue\", \"width\": 0.05000000256311146}, \"mode\": \"lines\", \"text\": \"2321982280.0\", \"type\": \"scatter\", \"x\": [0.32120480216941744, -0.19456541913131645], \"y\": [0.1817875829652392, -0.008930493351442794]}, {\"hoverinfo\": \"skip\", \"line\": {\"color\": \"blue\", \"width\": 0.05000000030699225}, \"mode\": \"lines\", \"text\": \"278117481.0\", \"type\": \"scatter\", \"x\": [0.32120480216941744, -0.1948494780080632], \"y\": [0.1817875829652392, -0.07670476754110407]}, {\"hoverinfo\": \"skip\", \"line\": {\"color\": \"blue\", \"width\": 0.05000000608234642}, \"mode\": \"lines\", \"text\": \"5510129622.0\", \"type\": \"scatter\", \"x\": [0.11793257377459164, 0.4267845350748087], \"y\": [0.03036211669011828, -0.5003728609262499]}, {\"hoverinfo\": \"skip\", \"line\": {\"color\": \"blue\", \"width\": 0.05000000815233718}, \"mode\": \"lines\", \"text\": \"7385376829.0\", \"type\": \"scatter\", \"x\": [0.11793257377459164, 0.2524310030838184], \"y\": [0.03036211669011828, -0.2669388483782732]}, {\"hoverinfo\": \"skip\", \"line\": {\"color\": \"blue\", \"width\": 0.05000000063986628}, \"mode\": \"lines\", \"text\": \"579674910.0\", \"type\": \"scatter\", \"x\": [0.11793257377459164, -0.19550891065857323], \"y\": [0.03036211669011828, -0.15537502384687474]}, {\"hoverinfo\": \"skip\", \"line\": {\"color\": \"blue\", \"width\": 0.05000000020627651}, \"mode\": \"lines\", \"text\": \"186877026.0\", \"type\": \"scatter\", \"x\": [0.11793257377459164, 0.18907882349467978], \"y\": [0.03036211669011828, -0.19759796587727918]}, {\"hoverinfo\": \"skip\", \"line\": {\"color\": \"blue\", \"width\": 0.05000000219490766}, \"mode\": \"lines\", \"text\": \"1988418886.0\", \"type\": \"scatter\", \"x\": [0.11793257377459164, -0.10508213068898441], \"y\": [0.03036211669011828, -0.10123425059664076]}, {\"hoverinfo\": \"skip\", \"line\": {\"color\": \"blue\", \"width\": 0.0500005893769947}, \"mode\": \"lines\", \"text\": \"533928749590.0\", \"type\": \"scatter\", \"x\": [0.11793257377459164, 0.21335469768789028], \"y\": [0.03036211669011828, 0.0433513350507331]}, {\"hoverinfo\": \"skip\", \"line\": {\"color\": \"blue\", \"width\": 0.05000000006244495}, \"mode\": \"lines\", \"text\": \"56577053.0\", \"type\": \"scatter\", \"x\": [0.11793257377459164, 0.29829324959871156], \"y\": [0.03036211669011828, -0.28991122404154945]}, {\"hoverinfo\": \"skip\", \"line\": {\"color\": \"blue\", \"width\": 0.0500000017993872}, \"mode\": \"lines\", \"text\": \"1630108760.0\", \"type\": \"scatter\", \"x\": [0.11793257377459164, 0.022898454547114633], \"y\": [0.03036211669011828, 0.10632543725739717]}, {\"hoverinfo\": \"skip\", \"line\": {\"color\": \"blue\", \"width\": 0.050095221191108964}, \"mode\": \"lines\", \"text\": \"86262835687309.0\", \"type\": \"scatter\", \"x\": [0.11793257377459164, -0.7363351081837023], \"y\": [0.03036211669011828, 1.0]}, {\"hoverinfo\": \"skip\", \"line\": {\"color\": \"blue\", \"width\": 0.05000000211801339}, \"mode\": \"lines\", \"text\": \"1918758789.0\", \"type\": \"scatter\", \"x\": [0.11793257377459164, -0.1381063270271228], \"y\": [0.03036211669011828, -0.14687488837188614]}, {\"hoverinfo\": \"skip\", \"line\": {\"color\": \"blue\", \"width\": 0.05000011151820858}, \"mode\": \"lines\", \"text\": \"101026645918.0\", \"type\": \"scatter\", \"x\": [0.11793257377459164, -0.19456541913131645], \"y\": [0.03036211669011828, -0.008930493351442794]}, {\"hoverinfo\": \"skip\", \"line\": {\"color\": \"blue\", \"width\": 0.0500000000002127}, \"mode\": \"lines\", \"text\": \"199575.0\", \"type\": \"scatter\", \"x\": [0.11793257377459164, -0.1948494780080632], \"y\": [0.03036211669011828, -0.07670476754110407]}, {\"hoverinfo\": \"skip\", \"line\": {\"color\": \"blue\", \"width\": 0.05000078397013083}, \"mode\": \"lines\", \"text\": \"710214674301.0\", \"type\": \"scatter\", \"x\": [0.4267845350748087, 0.2524310030838184], \"y\": [-0.5003728609262499, -0.2669388483782732]}, {\"hoverinfo\": \"skip\", \"line\": {\"color\": \"blue\", \"width\": 0.05000010417483126}, \"mode\": \"lines\", \"text\": \"94374129348.0\", \"type\": \"scatter\", \"x\": [0.4267845350748087, -0.19550891065857323], \"y\": [-0.5003728609262499, -0.15537502384687474]}, {\"hoverinfo\": \"skip\", \"line\": {\"color\": \"blue\", \"width\": 0.05000002218007679}, \"mode\": \"lines\", \"text\": \"20093394686.0\", \"type\": \"scatter\", \"x\": [0.4267845350748087, 0.18907882349467978], \"y\": [-0.5003728609262499, -0.19759796587727918]}, {\"hoverinfo\": \"skip\", \"line\": {\"color\": \"blue\", \"width\": 0.050000091951372005}, \"mode\": \"lines\", \"text\": \"83300646182.0\", \"type\": \"scatter\", \"x\": [0.4267845350748087, -0.10508213068898441], \"y\": [-0.5003728609262499, -0.10123425059664076]}, {\"hoverinfo\": \"skip\", \"line\": {\"color\": \"blue\", \"width\": 0.05005106243164475}, \"mode\": \"lines\", \"text\": \"46258507163903.0\", \"type\": \"scatter\", \"x\": [0.4267845350748087, 0.21335469768789028], \"y\": [-0.5003728609262499, 0.0433513350507331]}, {\"hoverinfo\": \"skip\", \"line\": {\"color\": \"blue\", \"width\": 0.050000008678213456}, \"mode\": \"lines\", \"text\": \"7861778964.0\", \"type\": \"scatter\", \"x\": [0.4267845350748087, 0.29829324959871156], \"y\": [-0.5003728609262499, -0.28991122404154945]}, {\"hoverinfo\": \"skip\", \"line\": {\"color\": \"blue\", \"width\": 0.05000030250953958}, \"mode\": \"lines\", \"text\": \"274049621270.0\", \"type\": \"scatter\", \"x\": [0.4267845350748087, 0.022898454547114633], \"y\": [-0.5003728609262499, 0.10632543725739717]}, {\"hoverinfo\": \"skip\", \"line\": {\"color\": \"blue\", \"width\": 0.06228675599956769}, \"mode\": \"lines\", \"text\": \"1.1130824992767676e+16\", \"type\": \"scatter\", \"x\": [0.4267845350748087, -0.7363351081837023], \"y\": [-0.5003728609262499, 1.0]}, {\"hoverinfo\": \"skip\", \"line\": {\"color\": \"blue\", \"width\": 0.05000000003249237}, \"mode\": \"lines\", \"text\": \"29442396.0\", \"type\": \"scatter\", \"x\": [0.4267845350748087, 0.09610837230404637], \"y\": [-0.5003728609262499, 0.43682897809678295]}, {\"hoverinfo\": \"skip\", \"line\": {\"color\": \"blue\", \"width\": 0.050000166719140274}, \"mode\": \"lines\", \"text\": \"151034305394.0\", \"type\": \"scatter\", \"x\": [0.4267845350748087, -0.1381063270271228], \"y\": [-0.5003728609262499, -0.14687488837188614]}, {\"hoverinfo\": \"skip\", \"line\": {\"color\": \"blue\", \"width\": 0.05001126394904021}, \"mode\": \"lines\", \"text\": \"10204243136507.0\", \"type\": \"scatter\", \"x\": [0.4267845350748087, -0.19456541913131645], \"y\": [-0.5003728609262499, -0.008930493351442794]}, {\"hoverinfo\": \"skip\", \"line\": {\"color\": \"blue\", \"width\": 0.05000000154591076}, \"mode\": \"lines\", \"text\": \"1400479249.0\", \"type\": \"scatter\", \"x\": [0.4267845350748087, -0.1948494780080632], \"y\": [-0.5003728609262499, -0.07670476754110407]}, {\"hoverinfo\": \"skip\", \"line\": {\"color\": \"blue\", \"width\": 0.05000001793024504}, \"mode\": \"lines\", \"text\": \"16243384689.0\", \"type\": \"scatter\", \"x\": [0.2524310030838184, -0.19550891065857323], \"y\": [-0.2669388483782732, -0.15537502384687474]}, {\"hoverinfo\": \"skip\", \"line\": {\"color\": \"blue\", \"width\": 0.0500000566905435}, \"mode\": \"lines\", \"text\": \"51357136338.0\", \"type\": \"scatter\", \"x\": [0.2524310030838184, 0.18907882349467978], \"y\": [-0.2669388483782732, -0.19759796587727918]}, {\"hoverinfo\": \"skip\", \"line\": {\"color\": \"blue\", \"width\": 0.05000006715937011}, \"mode\": \"lines\", \"text\": \"60841061704.0\", \"type\": \"scatter\", \"x\": [0.2524310030838184, -0.10508213068898441], \"y\": [-0.2669388483782732, -0.10123425059664076]}, {\"hoverinfo\": \"skip\", \"line\": {\"color\": \"blue\", \"width\": 0.05001244824397403}, \"mode\": \"lines\", \"text\": \"11277120277447.0\", \"type\": \"scatter\", \"x\": [0.2524310030838184, 0.21335469768789028], \"y\": [-0.2669388483782732, 0.0433513350507331]}, {\"hoverinfo\": \"skip\", \"line\": {\"color\": \"blue\", \"width\": 0.05000000852533234}, \"mode\": \"lines\", \"text\": \"7723280818.0\", \"type\": \"scatter\", \"x\": [0.2524310030838184, 0.29829324959871156], \"y\": [-0.2669388483782732, -0.28991122404154945]}, {\"hoverinfo\": \"skip\", \"line\": {\"color\": \"blue\", \"width\": 0.05000007668893085}, \"mode\": \"lines\", \"text\": \"69474086796.0\", \"type\": \"scatter\", \"x\": [0.2524310030838184, 0.022898454547114633], \"y\": [-0.2669388483782732, 0.10632543725739717]}, {\"hoverinfo\": \"skip\", \"line\": {\"color\": \"blue\", \"width\": 0.061185542445940974}, \"mode\": \"lines\", \"text\": \"1.013321298309592e+16\", \"type\": \"scatter\", \"x\": [0.2524310030838184, -0.7363351081837023], \"y\": [-0.2669388483782732, 1.0]}, {\"hoverinfo\": \"skip\", \"line\": {\"color\": \"blue\", \"width\": 0.050000094074810944}, \"mode\": \"lines\", \"text\": \"85224313198.0\", \"type\": \"scatter\", \"x\": [0.2524310030838184, -0.1381063270271228], \"y\": [-0.2669388483782732, -0.14687488837188614]}, {\"hoverinfo\": \"skip\", \"line\": {\"color\": \"blue\", \"width\": 0.05001077871561581}, \"mode\": \"lines\", \"text\": \"9764660196323.0\", \"type\": \"scatter\", \"x\": [0.2524310030838184, -0.19456541913131645], \"y\": [-0.2669388483782732, -0.008930493351442794]}, {\"hoverinfo\": \"skip\", \"line\": {\"color\": \"blue\", \"width\": 0.050000001547202494}, \"mode\": \"lines\", \"text\": \"1401649452.0\", \"type\": \"scatter\", \"x\": [0.2524310030838184, -0.1948494780080632], \"y\": [-0.2669388483782732, -0.07670476754110407]}, {\"hoverinfo\": \"skip\", \"line\": {\"color\": \"blue\", \"width\": 0.05000000057109683}, \"mode\": \"lines\", \"text\": \"517375255.0\", \"type\": \"scatter\", \"x\": [-0.19550891065857323, 0.18907882349467978], \"y\": [-0.15537502384687474, -0.19759796587727918]}, {\"hoverinfo\": \"skip\", \"line\": {\"color\": \"blue\", \"width\": 0.05000000159547999}, \"mode\": \"lines\", \"text\": \"1445385027.0\", \"type\": \"scatter\", \"x\": [-0.19550891065857323, -0.10508213068898441], \"y\": [-0.15537502384687474, -0.10123425059664076]}, {\"hoverinfo\": \"skip\", \"line\": {\"color\": \"blue\", \"width\": 0.05000066120183221}, \"mode\": \"lines\", \"text\": \"598996347300.0\", \"type\": \"scatter\", \"x\": [-0.19550891065857323, 0.21335469768789028], \"y\": [-0.15537502384687474, 0.0433513350507331]}, {\"hoverinfo\": \"skip\", \"line\": {\"color\": \"blue\", \"width\": 0.050000000167312264}, \"mode\": \"lines\", \"text\": \"151578506.0\", \"type\": \"scatter\", \"x\": [-0.19550891065857323, 0.29829324959871156], \"y\": [-0.15537502384687474, -0.28991122404154945]}, {\"hoverinfo\": \"skip\", \"line\": {\"color\": \"blue\", \"width\": 0.050000003437159636}, \"mode\": \"lines\", \"text\": \"3113800505.0\", \"type\": \"scatter\", \"x\": [-0.19550891065857323, 0.022898454547114633], \"y\": [-0.15537502384687474, 0.10632543725739717]}, {\"hoverinfo\": \"skip\", \"line\": {\"color\": \"blue\", \"width\": 0.05019290067497152}, \"mode\": \"lines\", \"text\": \"174752689339122.0\", \"type\": \"scatter\", \"x\": [-0.19550891065857323, -0.7363351081837023], \"y\": [-0.15537502384687474, 1.0]}, {\"hoverinfo\": \"skip\", \"line\": {\"color\": \"blue\", \"width\": 0.050000002169946975}, \"mode\": \"lines\", \"text\": \"1965806489.0\", \"type\": \"scatter\", \"x\": [-0.19550891065857323, -0.1381063270271228], \"y\": [-0.15537502384687474, -0.14687488837188614]}, {\"hoverinfo\": \"skip\", \"line\": {\"color\": \"blue\", \"width\": 0.05000018720018219}, \"mode\": \"lines\", \"text\": \"169588502557.0\", \"type\": \"scatter\", \"x\": [-0.19550891065857323, -0.19456541913131645], \"y\": [-0.15537502384687474, -0.008930493351442794]}, {\"hoverinfo\": \"skip\", \"line\": {\"color\": \"blue\", \"width\": 0.05000000000732806}, \"mode\": \"lines\", \"text\": \"6645528.0\", \"type\": \"scatter\", \"x\": [-0.19550891065857323, -0.1948494780080632], \"y\": [-0.15537502384687474, -0.07670476754110407]}, {\"hoverinfo\": \"skip\", \"line\": {\"color\": \"blue\", \"width\": 0.050000001536964815}, \"mode\": \"lines\", \"text\": \"1392374927.0\", \"type\": \"scatter\", \"x\": [0.18907882349467978, -0.10508213068898441], \"y\": [-0.19759796587727918, -0.10123425059664076]}, {\"hoverinfo\": \"skip\", \"line\": {\"color\": \"blue\", \"width\": 0.050000390965742915}, \"mode\": \"lines\", \"text\": \"354183915377.0\", \"type\": \"scatter\", \"x\": [0.18907882349467978, 0.21335469768789028], \"y\": [-0.19759796587727918, 0.0433513350507331]}, {\"hoverinfo\": \"skip\", \"line\": {\"color\": \"blue\", \"width\": 0.05000000034022794}, \"mode\": \"lines\", \"text\": \"308226376.0\", \"type\": \"scatter\", \"x\": [0.18907882349467978, 0.29829324959871156], \"y\": [-0.19759796587727918, -0.28991122404154945]}, {\"hoverinfo\": \"skip\", \"line\": {\"color\": \"blue\", \"width\": 0.05000000327109664}, \"mode\": \"lines\", \"text\": \"2963360620.0\", \"type\": \"scatter\", \"x\": [0.18907882349467978, 0.022898454547114633], \"y\": [-0.19759796587727918, 0.10632543725739717]}, {\"hoverinfo\": \"skip\", \"line\": {\"color\": \"blue\", \"width\": 0.05039633402983148}, \"mode\": \"lines\", \"text\": \"359047150034530.0\", \"type\": \"scatter\", \"x\": [0.18907882349467978, -0.7363351081837023], \"y\": [-0.19759796587727918, 1.0]}, {\"hoverinfo\": \"skip\", \"line\": {\"color\": \"blue\", \"width\": 0.05000000333311876}, \"mode\": \"lines\", \"text\": \"3019547738.0\", \"type\": \"scatter\", \"x\": [0.18907882349467978, -0.1381063270271228], \"y\": [-0.19759796587727918, -0.14687488837188614]}, {\"hoverinfo\": \"skip\", \"line\": {\"color\": \"blue\", \"width\": 0.050000373693537596}, \"mode\": \"lines\", \"text\": \"338536669298.0\", \"type\": \"scatter\", \"x\": [0.18907882349467978, -0.19456541913131645], \"y\": [-0.19759796587727918, -0.008930493351442794]}, {\"hoverinfo\": \"skip\", \"line\": {\"color\": \"blue\", \"width\": 0.05000000007542281}, \"mode\": \"lines\", \"text\": \"68333961.0\", \"type\": \"scatter\", \"x\": [0.18907882349467978, -0.1948494780080632], \"y\": [-0.19759796587727918, -0.07670476754110407]}, {\"hoverinfo\": \"skip\", \"line\": {\"color\": \"blue\", \"width\": 0.05000162670267043}, \"mode\": \"lines\", \"text\": \"1473663416530.0\", \"type\": \"scatter\", \"x\": [-0.10508213068898441, 0.21335469768789028], \"y\": [-0.10123425059664076, 0.0433513350507331]}, {\"hoverinfo\": \"skip\", \"line\": {\"color\": \"blue\", \"width\": 0.050000000877912315}, \"mode\": \"lines\", \"text\": \"795325709.0\", \"type\": \"scatter\", \"x\": [-0.10508213068898441, 0.29829324959871156], \"y\": [-0.10123425059664076, -0.28991122404154945]}, {\"hoverinfo\": \"skip\", \"line\": {\"color\": \"blue\", \"width\": 0.05000000652953706}, \"mode\": \"lines\", \"text\": \"5915248819.0\", \"type\": \"scatter\", \"x\": [-0.10508213068898441, 0.022898454547114633], \"y\": [-0.10123425059664076, 0.10632543725739717]}, {\"hoverinfo\": \"skip\", \"line\": {\"color\": \"blue\", \"width\": 0.05124038077919751}, \"mode\": \"lines\", \"text\": \"1123686461927142.0\", \"type\": \"scatter\", \"x\": [-0.10508213068898441, -0.7363351081837023], \"y\": [-0.10123425059664076, 1.0]}, {\"hoverinfo\": \"skip\", \"line\": {\"color\": \"blue\", \"width\": 0.05000001471065242}, \"mode\": \"lines\", \"text\": \"13326689504.0\", \"type\": \"scatter\", \"x\": [-0.10508213068898441, -0.1381063270271228], \"y\": [-0.10123425059664076, -0.14687488837188614]}, {\"hoverinfo\": \"skip\", \"line\": {\"color\": \"blue\", \"width\": 0.050001110536691644}, \"mode\": \"lines\", \"text\": \"1006058039062.0\", \"type\": \"scatter\", \"x\": [-0.10508213068898441, -0.19456541913131645], \"y\": [-0.10123425059664076, -0.008930493351442794]}, {\"hoverinfo\": \"skip\", \"line\": {\"color\": \"blue\", \"width\": 0.0500000008440438}, \"mode\": \"lines\", \"text\": \"764643530.0\", \"type\": \"scatter\", \"x\": [-0.10508213068898441, -0.1948494780080632], \"y\": [-0.10123425059664076, -0.07670476754110407]}, {\"hoverinfo\": \"skip\", \"line\": {\"color\": \"blue\", \"width\": 0.05000016750764371}, \"mode\": \"lines\", \"text\": \"151748626877.0\", \"type\": \"scatter\", \"x\": [0.21335469768789028, 0.29829324959871156], \"y\": [0.0433513350507331, -0.28991122404154945]}, {\"hoverinfo\": \"skip\", \"line\": {\"color\": \"blue\", \"width\": 0.05000297534899498}, \"mode\": \"lines\", \"text\": \"2695429862954.0\", \"type\": \"scatter\", \"x\": [0.21335469768789028, 0.022898454547114633], \"y\": [0.0433513350507331, 0.10632543725739717]}, {\"hoverinfo\": \"skip\", \"line\": {\"color\": \"blue\", \"width\": 0.3067647792931509}, \"mode\": \"lines\", \"text\": \"2.3260849509158922e+17\", \"type\": \"scatter\", \"x\": [0.21335469768789028, -0.7363351081837023], \"y\": [0.0433513350507331, 1.0]}, {\"hoverinfo\": \"skip\", \"line\": {\"color\": \"blue\", \"width\": 0.05000000147912995}, \"mode\": \"lines\", \"text\": \"1339981137.0\", \"type\": \"scatter\", \"x\": [0.21335469768789028, 0.09610837230404637], \"y\": [0.0433513350507331, 0.43682897809678295]}, {\"hoverinfo\": \"skip\", \"line\": {\"color\": \"blue\", \"width\": 0.05000386846535053}, \"mode\": \"lines\", \"text\": \"3504522340430.0\", \"type\": \"scatter\", \"x\": [0.21335469768789028, -0.1381063270271228], \"y\": [0.0433513350507331, -0.14687488837188614]}, {\"hoverinfo\": \"skip\", \"line\": {\"color\": \"blue\", \"width\": 0.05023553424014985}, \"mode\": \"lines\", \"text\": \"213375312986416.0\", \"type\": \"scatter\", \"x\": [0.21335469768789028, -0.19456541913131645], \"y\": [0.0433513350507331, -0.008930493351442794]}, {\"hoverinfo\": \"skip\", \"line\": {\"color\": \"blue\", \"width\": 0.05000044173724527}, \"mode\": \"lines\", \"text\": \"400178863706.0\", \"type\": \"scatter\", \"x\": [0.21335469768789028, -0.1948494780080632], \"y\": [0.0433513350507331, -0.07670476754110407]}, {\"hoverinfo\": \"skip\", \"line\": {\"color\": \"blue\", \"width\": 0.0500000009751666}, \"mode\": \"lines\", \"text\": \"883430370.0\", \"type\": \"scatter\", \"x\": [0.29829324959871156, 0.022898454547114633], \"y\": [-0.28991122404154945, 0.10632543725739717]}, {\"hoverinfo\": \"skip\", \"line\": {\"color\": \"blue\", \"width\": 0.05016063049824138}, \"mode\": \"lines\", \"text\": \"145518472457037.0\", \"type\": \"scatter\", \"x\": [0.29829324959871156, -0.7363351081837023], \"y\": [-0.28991122404154945, 1.0]}, {\"hoverinfo\": \"skip\", \"line\": {\"color\": \"blue\", \"width\": 0.050000001527174126}, \"mode\": \"lines\", \"text\": \"1383505340.0\", \"type\": \"scatter\", \"x\": [0.29829324959871156, -0.1381063270271228], \"y\": [-0.28991122404154945, -0.14687488837188614]}, {\"hoverinfo\": \"skip\", \"line\": {\"color\": \"blue\", \"width\": 0.05000014083106839}, \"mode\": \"lines\", \"text\": \"127581768576.0\", \"type\": \"scatter\", \"x\": [0.29829324959871156, -0.19456541913131645], \"y\": [-0.28991122404154945, -0.008930493351442794]}, {\"hoverinfo\": \"skip\", \"line\": {\"color\": \"blue\", \"width\": 0.050000000098212066}, \"mode\": \"lines\", \"text\": \"88979220.0\", \"type\": \"scatter\", \"x\": [0.29829324959871156, -0.1948494780080632], \"y\": [-0.28991122404154945, -0.07670476754110407]}, {\"hoverinfo\": \"skip\", \"line\": {\"color\": \"blue\", \"width\": 0.05163893290058938}, \"mode\": \"lines\", \"text\": \"1484743026724441.0\", \"type\": \"scatter\", \"x\": [0.022898454547114633, -0.7363351081837023], \"y\": [0.10632543725739717, 1.0]}, {\"hoverinfo\": \"skip\", \"line\": {\"color\": \"blue\", \"width\": 0.050000000003003815}, \"mode\": \"lines\", \"text\": \"2728103.0\", \"type\": \"scatter\", \"x\": [0.022898454547114633, 0.09610837230404637], \"y\": [0.10632543725739717, 0.43682897809678295]}, {\"hoverinfo\": \"skip\", \"line\": {\"color\": \"blue\", \"width\": 0.05000002800355662}, \"mode\": \"lines\", \"text\": \"25369004849.0\", \"type\": \"scatter\", \"x\": [0.022898454547114633, -0.1381063270271228], \"y\": [0.10632543725739717, -0.14687488837188614]}, {\"hoverinfo\": \"skip\", \"line\": {\"color\": \"blue\", \"width\": 0.05000197490175427}, \"mode\": \"lines\", \"text\": \"1789104128878.0\", \"type\": \"scatter\", \"x\": [0.022898454547114633, -0.19456541913131645], \"y\": [0.10632543725739717, -0.008930493351442794]}, {\"hoverinfo\": \"skip\", \"line\": {\"color\": \"blue\", \"width\": 0.0500000005731317}, \"mode\": \"lines\", \"text\": \"519218684.0\", \"type\": \"scatter\", \"x\": [0.022898454547114633, -0.1948494780080632], \"y\": [0.10632543725739717, -0.07670476754110407]}, {\"hoverinfo\": \"skip\", \"line\": {\"color\": \"blue\", \"width\": 0.05000090742812711}, \"mode\": \"lines\", \"text\": \"822057812599.0\", \"type\": \"scatter\", \"x\": [-0.7363351081837023, 0.09610837230404637], \"y\": [1.0, 0.43682897809678295]}, {\"hoverinfo\": \"skip\", \"line\": {\"color\": \"blue\", \"width\": 0.053658595098304784}, \"mode\": \"lines\", \"text\": \"3314396555129808.0\", \"type\": \"scatter\", \"x\": [-0.7363351081837023, -0.1381063270271228], \"y\": [1.0, -0.14687488837188614]}, {\"hoverinfo\": \"skip\", \"line\": {\"color\": \"blue\", \"width\": 0.2995757291646918}, \"mode\": \"lines\", \"text\": \"2.2609578670486138e+17\", \"type\": \"scatter\", \"x\": [-0.7363351081837023, -0.19456541913131645], \"y\": [1.0, -0.008930493351442794]}, {\"hoverinfo\": \"skip\", \"line\": {\"color\": \"blue\", \"width\": 0.05048598180226193}, \"mode\": \"lines\", \"text\": \"440260911091502.0\", \"type\": \"scatter\", \"x\": [-0.7363351081837023, -0.1948494780080632], \"y\": [1.0, -0.07670476754110407]}, {\"hoverinfo\": \"skip\", \"line\": {\"color\": \"blue\", \"width\": 0.0500000056601592}, \"mode\": \"lines\", \"text\": \"5127661534.0\", \"type\": \"scatter\", \"x\": [0.09610837230404637, -0.19456541913131645], \"y\": [0.43682897809678295, -0.008930493351442794]}, {\"hoverinfo\": \"skip\", \"line\": {\"color\": \"blue\", \"width\": 0.05000001653287006}, \"mode\": \"lines\", \"text\": \"14977473951.0\", \"type\": \"scatter\", \"x\": [0.09610837230404637, -0.1948494780080632], \"y\": [0.43682897809678295, -0.07670476754110407]}, {\"hoverinfo\": \"skip\", \"line\": {\"color\": \"blue\", \"width\": 0.05000344584491301}, \"mode\": \"lines\", \"text\": \"3121661792979.0\", \"type\": \"scatter\", \"x\": [-0.1381063270271228, -0.19456541913131645], \"y\": [-0.14687488837188614, -0.008930493351442794]}, {\"hoverinfo\": \"skip\", \"line\": {\"color\": \"blue\", \"width\": 0.050000030436914034}, \"mode\": \"lines\", \"text\": \"27573433385.0\", \"type\": \"scatter\", \"x\": [-0.1381063270271228, -0.1948494780080632], \"y\": [-0.14687488837188614, -0.07670476754110407]}, {\"hoverinfo\": \"skip\", \"line\": {\"color\": \"blue\", \"width\": 0.05000069445583404}, \"mode\": \"lines\", \"text\": \"629121831577.0\", \"type\": \"scatter\", \"x\": [-0.19456541913131645, -0.1948494780080632], \"y\": [-0.008930493351442794, -0.07670476754110407]}, {\"hoverinfo\": \"text\", \"line\": {\"color\": \"red\", \"width\": 0.5}, \"marker\": {\"colorscale\": [[0.0, \"lightgreen\"], [1.0, \"magenta\"]], \"size\": [19.047619047619047, 20.0, 20.0, 18.18181818181818, 20.0, 20.0, 15.384615384615385, 19.047619047619047, 20.0, 18.18181818181818, 18.18181818181818, 18.18181818181818, 18.18181818181818, 20.0, 19.047619047619047, 20.0, 20.0, 14.285714285714286, 19.047619047619047, 20.0, 20.0], \"symbol\": \"circle\"}, \"mode\": \"markers\", \"text\": [\"CIK:1027796<br>closeness centrality:0.9524\", \"CIK:102909<br>closeness centrality:1.0\", \"CIK:1109448<br>closeness centrality:1.0\", \"CIK:1123274<br>closeness centrality:0.9091\", \"CIK:1132716<br>closeness centrality:1.0\", \"CIK:1291274<br>closeness centrality:1.0\", \"CIK:1454937<br>closeness centrality:0.7692\", \"CIK:1502149<br>closeness centrality:0.9524\", \"CIK:1529735<br>closeness centrality:1.0\", \"CIK:1535602<br>closeness centrality:0.9091\", \"CIK:1535631<br>closeness centrality:0.9091\", \"CIK:1599469<br>closeness centrality:0.9091\", \"CIK:1599576<br>closeness centrality:0.9091\", \"CIK:1610520<br>closeness centrality:1.0\", \"CIK:1730578<br>closeness centrality:0.9524\", \"CIK:801051<br>closeness centrality:1.0\", \"CIK:861177<br>closeness centrality:1.0\", \"CIK:870481<br>closeness centrality:0.7143\", \"CIK:9015<br>closeness centrality:0.9524\", \"CIK:914208<br>closeness centrality:1.0\", \"CIK:949509<br>closeness centrality:1.0\"], \"type\": \"scatter\", \"x\": [-0.14788755633200684, 0.09289258707936421, 0.06166727094573401, -0.07171309840314498, -0.0890221595419031, -0.21957618178535965, 0.32120480216941744, 0.11793257377459164, 0.4267845350748087, 0.2524310030838184, -0.19550891065857323, 0.18907882349467978, -0.10508213068898441, 0.21335469768789028, 0.29829324959871156, 0.022898454547114633, -0.7363351081837023, 0.09610837230404637, -0.1381063270271228, -0.19456541913131645, -0.1948494780080632], \"y\": [0.0219400834019119, -0.689164741634031, 0.17631969354848728, 0.045015217522372315, 0.26078569217434955, 0.1303889278571887, 0.1817875829652392, 0.03036211669011828, -0.5003728609262499, -0.2669388483782732, -0.15537502384687474, -0.19759796587727918, -0.10123425059664076, 0.0433513350507331, -0.28991122404154945, 0.10632543725739717, 1.0, 0.43682897809678295, -0.14687488837188614, -0.008930493351442794, -0.07670476754110407]}],                        {\"annotations\": [{\"align\": \"left\", \"bordercolor\": \"black\", \"borderwidth\": 1, \"showarrow\": false, \"text\": \"<b>Most central companies</b><br>CIK 102909 : 1.0<br> CIK 1109448 : 1.0<br> CIK 1132716 : 1.0\", \"x\": 1.1, \"xref\": \"paper\", \"y\": 1, \"yref\": \"paper\"}, {\"align\": \"left\", \"bordercolor\": \"black\", \"borderwidth\": 1, \"showarrow\": false, \"text\": \"<b>Most decentral company</b><br>CIK 870481 : 0.6\", \"x\": 1.1, \"xref\": \"paper\", \"y\": 0.85, \"yref\": \"paper\"}, {\"align\": \"left\", \"bordercolor\": \"black\", \"borderwidth\": 1, \"showarrow\": false, \"text\": \"<b>Connectivity: </b><br>Diameter: 2<br>Node connectivity: 12<br>Edge connectivity: 12\", \"x\": 1.1, \"xref\": \"paper\", \"y\": 0.76, \"yref\": \"paper\"}], \"height\": 625, \"hovermode\": \"x\", \"margin\": {\"t\": 100}, \"paper_bgcolor\": \"rgba(0,0,0,0)\", \"plot_bgcolor\": \"rgba(0,0,0,0)\", \"showlegend\": false, \"template\": {\"data\": {\"bar\": [{\"error_x\": {\"color\": \"#2a3f5f\"}, \"error_y\": {\"color\": \"#2a3f5f\"}, \"marker\": {\"line\": {\"color\": \"#E5ECF6\", \"width\": 0.5}}, \"type\": \"bar\"}], \"barpolar\": [{\"marker\": {\"line\": {\"color\": \"#E5ECF6\", \"width\": 0.5}}, \"type\": \"barpolar\"}], \"carpet\": [{\"aaxis\": {\"endlinecolor\": \"#2a3f5f\", \"gridcolor\": \"white\", \"linecolor\": \"white\", \"minorgridcolor\": \"white\", \"startlinecolor\": \"#2a3f5f\"}, \"baxis\": {\"endlinecolor\": \"#2a3f5f\", \"gridcolor\": \"white\", \"linecolor\": \"white\", \"minorgridcolor\": \"white\", \"startlinecolor\": \"#2a3f5f\"}, \"type\": \"carpet\"}], \"choropleth\": [{\"colorbar\": {\"outlinewidth\": 0, \"ticks\": \"\"}, \"type\": \"choropleth\"}], \"contour\": [{\"colorbar\": {\"outlinewidth\": 0, \"ticks\": \"\"}, \"colorscale\": [[0.0, \"#0d0887\"], [0.1111111111111111, \"#46039f\"], [0.2222222222222222, \"#7201a8\"], [0.3333333333333333, \"#9c179e\"], [0.4444444444444444, \"#bd3786\"], [0.5555555555555556, \"#d8576b\"], [0.6666666666666666, \"#ed7953\"], [0.7777777777777778, \"#fb9f3a\"], [0.8888888888888888, \"#fdca26\"], [1.0, \"#f0f921\"]], \"type\": \"contour\"}], \"contourcarpet\": [{\"colorbar\": {\"outlinewidth\": 0, \"ticks\": \"\"}, \"type\": \"contourcarpet\"}], \"heatmap\": [{\"colorbar\": {\"outlinewidth\": 0, \"ticks\": \"\"}, \"colorscale\": [[0.0, \"#0d0887\"], [0.1111111111111111, \"#46039f\"], [0.2222222222222222, \"#7201a8\"], [0.3333333333333333, \"#9c179e\"], [0.4444444444444444, \"#bd3786\"], [0.5555555555555556, \"#d8576b\"], [0.6666666666666666, \"#ed7953\"], [0.7777777777777778, \"#fb9f3a\"], [0.8888888888888888, \"#fdca26\"], [1.0, \"#f0f921\"]], \"type\": \"heatmap\"}], \"heatmapgl\": [{\"colorbar\": {\"outlinewidth\": 0, \"ticks\": \"\"}, \"colorscale\": [[0.0, \"#0d0887\"], [0.1111111111111111, \"#46039f\"], [0.2222222222222222, \"#7201a8\"], [0.3333333333333333, \"#9c179e\"], [0.4444444444444444, \"#bd3786\"], [0.5555555555555556, \"#d8576b\"], [0.6666666666666666, \"#ed7953\"], [0.7777777777777778, \"#fb9f3a\"], [0.8888888888888888, \"#fdca26\"], [1.0, \"#f0f921\"]], \"type\": \"heatmapgl\"}], \"histogram\": [{\"marker\": {\"colorbar\": {\"outlinewidth\": 0, \"ticks\": \"\"}}, \"type\": \"histogram\"}], \"histogram2d\": [{\"colorbar\": {\"outlinewidth\": 0, \"ticks\": \"\"}, \"colorscale\": [[0.0, \"#0d0887\"], [0.1111111111111111, \"#46039f\"], [0.2222222222222222, \"#7201a8\"], [0.3333333333333333, \"#9c179e\"], [0.4444444444444444, \"#bd3786\"], [0.5555555555555556, \"#d8576b\"], [0.6666666666666666, \"#ed7953\"], [0.7777777777777778, \"#fb9f3a\"], [0.8888888888888888, \"#fdca26\"], [1.0, \"#f0f921\"]], \"type\": \"histogram2d\"}], \"histogram2dcontour\": [{\"colorbar\": {\"outlinewidth\": 0, \"ticks\": \"\"}, \"colorscale\": [[0.0, \"#0d0887\"], [0.1111111111111111, \"#46039f\"], [0.2222222222222222, \"#7201a8\"], [0.3333333333333333, \"#9c179e\"], [0.4444444444444444, \"#bd3786\"], [0.5555555555555556, \"#d8576b\"], [0.6666666666666666, \"#ed7953\"], [0.7777777777777778, \"#fb9f3a\"], [0.8888888888888888, \"#fdca26\"], [1.0, \"#f0f921\"]], \"type\": \"histogram2dcontour\"}], \"mesh3d\": [{\"colorbar\": {\"outlinewidth\": 0, \"ticks\": \"\"}, \"type\": \"mesh3d\"}], \"parcoords\": [{\"line\": {\"colorbar\": {\"outlinewidth\": 0, \"ticks\": \"\"}}, \"type\": \"parcoords\"}], \"pie\": [{\"automargin\": true, \"type\": \"pie\"}], \"scatter\": [{\"marker\": {\"colorbar\": {\"outlinewidth\": 0, \"ticks\": \"\"}}, \"type\": \"scatter\"}], \"scatter3d\": [{\"line\": {\"colorbar\": {\"outlinewidth\": 0, \"ticks\": \"\"}}, \"marker\": {\"colorbar\": {\"outlinewidth\": 0, \"ticks\": \"\"}}, \"type\": \"scatter3d\"}], \"scattercarpet\": [{\"marker\": {\"colorbar\": {\"outlinewidth\": 0, \"ticks\": \"\"}}, \"type\": \"scattercarpet\"}], \"scattergeo\": [{\"marker\": {\"colorbar\": {\"outlinewidth\": 0, \"ticks\": \"\"}}, \"type\": \"scattergeo\"}], \"scattergl\": [{\"marker\": {\"colorbar\": {\"outlinewidth\": 0, \"ticks\": \"\"}}, \"type\": \"scattergl\"}], \"scattermapbox\": [{\"marker\": {\"colorbar\": {\"outlinewidth\": 0, \"ticks\": \"\"}}, \"type\": \"scattermapbox\"}], \"scatterpolar\": [{\"marker\": {\"colorbar\": {\"outlinewidth\": 0, \"ticks\": \"\"}}, \"type\": \"scatterpolar\"}], \"scatterpolargl\": [{\"marker\": {\"colorbar\": {\"outlinewidth\": 0, \"ticks\": \"\"}}, \"type\": \"scatterpolargl\"}], \"scatterternary\": [{\"marker\": {\"colorbar\": {\"outlinewidth\": 0, \"ticks\": \"\"}}, \"type\": \"scatterternary\"}], \"surface\": [{\"colorbar\": {\"outlinewidth\": 0, \"ticks\": \"\"}, \"colorscale\": [[0.0, \"#0d0887\"], [0.1111111111111111, \"#46039f\"], [0.2222222222222222, \"#7201a8\"], [0.3333333333333333, \"#9c179e\"], [0.4444444444444444, \"#bd3786\"], [0.5555555555555556, \"#d8576b\"], [0.6666666666666666, \"#ed7953\"], [0.7777777777777778, \"#fb9f3a\"], [0.8888888888888888, \"#fdca26\"], [1.0, \"#f0f921\"]], \"type\": \"surface\"}], \"table\": [{\"cells\": {\"fill\": {\"color\": \"#EBF0F8\"}, \"line\": {\"color\": \"white\"}}, \"header\": {\"fill\": {\"color\": \"#C8D4E3\"}, \"line\": {\"color\": \"white\"}}, \"type\": \"table\"}]}, \"layout\": {\"annotationdefaults\": {\"arrowcolor\": \"#2a3f5f\", \"arrowhead\": 0, \"arrowwidth\": 1}, \"autotypenumbers\": \"strict\", \"coloraxis\": {\"colorbar\": {\"outlinewidth\": 0, \"ticks\": \"\"}}, \"colorscale\": {\"diverging\": [[0, \"#8e0152\"], [0.1, \"#c51b7d\"], [0.2, \"#de77ae\"], [0.3, \"#f1b6da\"], [0.4, \"#fde0ef\"], [0.5, \"#f7f7f7\"], [0.6, \"#e6f5d0\"], [0.7, \"#b8e186\"], [0.8, \"#7fbc41\"], [0.9, \"#4d9221\"], [1, \"#276419\"]], \"sequential\": [[0.0, \"#0d0887\"], [0.1111111111111111, \"#46039f\"], [0.2222222222222222, \"#7201a8\"], [0.3333333333333333, \"#9c179e\"], [0.4444444444444444, \"#bd3786\"], [0.5555555555555556, \"#d8576b\"], [0.6666666666666666, \"#ed7953\"], [0.7777777777777778, \"#fb9f3a\"], [0.8888888888888888, \"#fdca26\"], [1.0, \"#f0f921\"]], \"sequentialminus\": [[0.0, \"#0d0887\"], [0.1111111111111111, \"#46039f\"], [0.2222222222222222, \"#7201a8\"], [0.3333333333333333, \"#9c179e\"], [0.4444444444444444, \"#bd3786\"], [0.5555555555555556, \"#d8576b\"], [0.6666666666666666, \"#ed7953\"], [0.7777777777777778, \"#fb9f3a\"], [0.8888888888888888, \"#fdca26\"], [1.0, \"#f0f921\"]]}, \"colorway\": [\"#636efa\", \"#EF553B\", \"#00cc96\", \"#ab63fa\", \"#FFA15A\", \"#19d3f3\", \"#FF6692\", \"#B6E880\", \"#FF97FF\", \"#FECB52\"], \"font\": {\"color\": \"#2a3f5f\"}, \"geo\": {\"bgcolor\": \"white\", \"lakecolor\": \"white\", \"landcolor\": \"#E5ECF6\", \"showlakes\": true, \"showland\": true, \"subunitcolor\": \"white\"}, \"hoverlabel\": {\"align\": \"left\"}, \"hovermode\": \"closest\", \"mapbox\": {\"style\": \"light\"}, \"paper_bgcolor\": \"white\", \"plot_bgcolor\": \"#E5ECF6\", \"polar\": {\"angularaxis\": {\"gridcolor\": \"white\", \"linecolor\": \"white\", \"ticks\": \"\"}, \"bgcolor\": \"#E5ECF6\", \"radialaxis\": {\"gridcolor\": \"white\", \"linecolor\": \"white\", \"ticks\": \"\"}}, \"scene\": {\"xaxis\": {\"backgroundcolor\": \"#E5ECF6\", \"gridcolor\": \"white\", \"gridwidth\": 2, \"linecolor\": \"white\", \"showbackground\": true, \"ticks\": \"\", \"zerolinecolor\": \"white\"}, \"yaxis\": {\"backgroundcolor\": \"#E5ECF6\", \"gridcolor\": \"white\", \"gridwidth\": 2, \"linecolor\": \"white\", \"showbackground\": true, \"ticks\": \"\", \"zerolinecolor\": \"white\"}, \"zaxis\": {\"backgroundcolor\": \"#E5ECF6\", \"gridcolor\": \"white\", \"gridwidth\": 2, \"linecolor\": \"white\", \"showbackground\": true, \"ticks\": \"\", \"zerolinecolor\": \"white\"}}, \"shapedefaults\": {\"line\": {\"color\": \"#2a3f5f\"}}, \"ternary\": {\"aaxis\": {\"gridcolor\": \"white\", \"linecolor\": \"white\", \"ticks\": \"\"}, \"baxis\": {\"gridcolor\": \"white\", \"linecolor\": \"white\", \"ticks\": \"\"}, \"bgcolor\": \"#E5ECF6\", \"caxis\": {\"gridcolor\": \"white\", \"linecolor\": \"white\", \"ticks\": \"\"}}, \"title\": {\"x\": 0.05}, \"xaxis\": {\"automargin\": true, \"gridcolor\": \"white\", \"linecolor\": \"white\", \"ticks\": \"\", \"title\": {\"standoff\": 15}, \"zerolinecolor\": \"white\", \"zerolinewidth\": 2}, \"yaxis\": {\"automargin\": true, \"gridcolor\": \"white\", \"linecolor\": \"white\", \"ticks\": \"\", \"title\": {\"standoff\": 15}, \"zerolinecolor\": \"white\", \"zerolinewidth\": 2}}}, \"title\": {\"text\": \"Network with shared positions of investment companies\"}, \"width\": 650, \"xaxis\": {\"autorange\": true, \"showgrid\": false, \"showticklabels\": false, \"ticks\": \"\"}, \"yaxis\": {\"autorange\": true, \"showgrid\": false, \"showticklabels\": false, \"ticks\": \"\"}},                        {\"responsive\": true}                    ).then(function(){\n",
       "                            \n",
       "var gd = document.getElementById('50b85b2a-e59c-41d5-bb75-290e4117ca4e');\n",
       "var x = new MutationObserver(function (mutations, observer) {{\n",
       "        var display = window.getComputedStyle(gd).display;\n",
       "        if (!display || display === 'none') {{\n",
       "            console.log([gd, 'removed!']);\n",
       "            Plotly.purge(gd);\n",
       "            observer.disconnect();\n",
       "        }}\n",
       "}});\n",
       "\n",
       "// Listen for the removal of the full notebook cells\n",
       "var notebookContainer = gd.closest('#notebook-container');\n",
       "if (notebookContainer) {{\n",
       "    x.observe(notebookContainer, {childList: true});\n",
       "}}\n",
       "\n",
       "// Listen for the clearing of the current output cell\n",
       "var outputEl = gd.closest('.output');\n",
       "if (outputEl) {{\n",
       "    x.observe(outputEl, {childList: true});\n",
       "}}\n",
       "\n",
       "                        })                };                });            </script>        </div>"
      ]
     },
     "metadata": {},
     "output_type": "display_data"
    }
   ],
   "source": [
    "plot_network(q2[0],q2[1],'closeness')"
   ]
  }
 ],
 "metadata": {
  "kernelspec": {
   "display_name": "Python 3",
   "language": "python",
   "name": "python3"
  },
  "language_info": {
   "codemirror_mode": {
    "name": "ipython",
    "version": 3
   },
   "file_extension": ".py",
   "mimetype": "text/x-python",
   "name": "python",
   "nbconvert_exporter": "python",
   "pygments_lexer": "ipython3",
   "version": "3.7.6"
  }
 },
 "nbformat": 4,
 "nbformat_minor": 4
}
