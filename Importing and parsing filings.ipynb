{
 "cells": [
  {
   "cell_type": "markdown",
   "metadata": {},
   "source": [
    "Get CIK list of all investment companies"
   ]
  },
  {
   "cell_type": "code",
   "execution_count": 5,
   "metadata": {},
   "outputs": [],
   "source": [
    "import pandas as pd\n",
    "import requests\n",
    "from bs4 import BeautifulSoup\n",
    "import csv \n",
    "import edgar\n",
    "\n",
    "\n",
    "\n",
    "df_MF = pd.read_csv(r'https://goz39a.s3.eu-central-1.amazonaws.com/13F/CIK_list.csv')\n",
    "df_MF['Entity Name'] = df_MF['Entity Name'].str.lower()\n",
    "#[i.find(isin(t)) for i in df_MF.loc[df_MF['Entity Name']]]\n",
    "\n"
   ]
  },
  {
   "cell_type": "markdown",
   "metadata": {},
   "source": [
    "Add zeros to CIK so that they have 10 digits"
   ]
  },
  {
   "cell_type": "code",
   "execution_count": 6,
   "metadata": {},
   "outputs": [],
   "source": [
    "CIK = df_MF['CIK Number'][0:500]\n",
    "A = [5*str(0)+str(cik) for cik in CIK if len(str(cik)) ==5]\n",
    "B = [6*str(0) + str(cik) for cik in CIK if len(str(cik)) ==4]\n",
    "CIK = A+B"
   ]
  },
  {
   "cell_type": "markdown",
   "metadata": {},
   "source": [
    "download all filings from 2020-2021"
   ]
  },
  {
   "cell_type": "code",
   "execution_count": 328,
   "metadata": {},
   "outputs": [],
   "source": [
    "edgar.download_index('c:/Users/michi/Desktop', 2020, skip_all_present_except_last=False)"
   ]
  },
  {
   "cell_type": "markdown",
   "metadata": {},
   "source": [
    "select the URL to the edgar archive for the 13F-HR filings of 2020 until q1 of 2021 "
   ]
  },
  {
   "cell_type": "code",
   "execution_count": 17,
   "metadata": {},
   "outputs": [],
   "source": [
    "def get_urls(path_download_index):\n",
    "    with open(path_download_index,'r') as file:\n",
    "        tsvreader = csv.reader(file, delimiter=\"|\")\n",
    "        urls= []\n",
    "        file = []\n",
    "        for line in tsvreader:\n",
    "            if line[1:][1] == '13F-HR':\n",
    "                adress=line[-1]\n",
    "                url =  'https://www.sec.gov/Archives/' + adress\n",
    "                holding = line[1]\n",
    "                urls.append((holding.lower(), url))\n",
    "    return urls\n"
   ]
  },
  {
   "cell_type": "code",
   "execution_count": 159,
   "metadata": {},
   "outputs": [],
   "source": [
    "urls_2020_1 = get_urls('C:\\\\Users\\\\michi\\\\Desktop\\\\2020-QTR1.tsv')\n",
    "urls_2020_2 = get_urls('C:\\\\Users\\\\michi\\\\Desktop\\\\2020-QTR2.tsv')\n",
    "urls_2020_3 = get_urls('C:\\\\Users\\\\michi\\\\Desktop\\\\2020-QTR3.tsv')\n",
    "urls_2020_4 = get_urls('C:\\\\Users\\\\michi\\\\Desktop\\\\2020-QTR4.tsv')\n",
    "urls_2021 = get_urls('C:\\\\Users\\\\michi\\\\Desktop\\\\2021-QTR1.tsv')\n",
    "    "
   ]
  },
  {
   "cell_type": "markdown",
   "metadata": {},
   "source": [
    "Select only investment companies with 13F-HR filings in all quarters"
   ]
  },
  {
   "cell_type": "code",
   "execution_count": 160,
   "metadata": {},
   "outputs": [],
   "source": [
    "urls_2020_1names, _ = zip(*urls_2020_1)\n",
    "urls_2020_2names, _ = zip(*urls_2020_2)\n",
    "urls_2020_3names, _ = zip(*urls_2020_3)\n",
    "urls_2020_4names, _ = zip(*urls_2020_4)\n",
    "\n",
    "companiesBoth = [i for i in urls_2021 if i[0] in (urls_2020_1names and urls_2020_2names and urls_2020_3names and urls_2020_4names)]\n"
   ]
  },
  {
   "cell_type": "code",
   "execution_count": 161,
   "metadata": {},
   "outputs": [
    {
     "data": {
      "text/plain": [
       "5168"
      ]
     },
     "execution_count": 161,
     "metadata": {},
     "output_type": "execute_result"
    }
   ],
   "source": [
    "len(companiesBoth)"
   ]
  },
  {
   "cell_type": "markdown",
   "metadata": {},
   "source": [
    "From this, only select biggest companies "
   ]
  },
  {
   "cell_type": "markdown",
   "metadata": {},
   "source": [
    "List of biggest investment companies from https://mutualfunddirectory.org/latest-directory-ranking-here/\n"
   ]
  },
  {
   "cell_type": "code",
   "execution_count": 163,
   "metadata": {},
   "outputs": [],
   "source": [
    "\n",
    "URL = 'https://mutualfunddirectory.org/latest-directory-ranking-here/'\n",
    "page = requests.get(URL)\n",
    "soup = BeautifulSoup(page.content, 'html.parser')\n",
    "table = soup.find('table', class_=\"tablepress-id-109\")\n",
    "for company in table.find_all('tbody'):\n",
    "    rows= company.find_all('tr')\n",
    "    companies =[]\n",
    "    for row in rows:\n",
    "        companies.append(row.find('td', class_=\"column-2\").text)\n",
    "\n",
    "companies = companies[:-1]\n",
    "companies = [i.lower() for i in companies]\n"
   ]
  },
  {
   "cell_type": "code",
   "execution_count": 164,
   "metadata": {},
   "outputs": [],
   "source": [
    "urls=[]\n",
    "for element in companiesBoth:\n",
    "    if len(element[0].split())>1:\n",
    "        if element[0].split()[0] in companies or element[0].split()[1] in companies:\n",
    "            urls.append(element[1])\n",
    "    else:\n",
    "        if element[0].split()[0] in companies:\n",
    "            urls.append(element[1])\n"
   ]
  },
  {
   "cell_type": "code",
   "execution_count": 165,
   "metadata": {},
   "outputs": [
    {
     "data": {
      "text/plain": [
       "22"
      ]
     },
     "execution_count": 165,
     "metadata": {},
     "output_type": "execute_result"
    }
   ],
   "source": [
    "len(urls)"
   ]
  },
  {
   "cell_type": "markdown",
   "metadata": {},
   "source": [
    "get filing detail page on Edgar for each filing"
   ]
  },
  {
   "cell_type": "code",
   "execution_count": 135,
   "metadata": {},
   "outputs": [],
   "source": [
    "import pandas as pd\n",
    "def parser(urls):\n",
    "    df = []\n",
    "\n",
    "    for url in urls:\n",
    "        my_header = {'User-Agent': 'Mozilla/5.0 (X11; Linux x86_64) ' \n",
    "                              'AppleWebKit/537.11 (KHTML, like Gecko) '\n",
    "                              'Chrome/23.0.1271.64 Safari/537.11',\n",
    "                'Accept': 'text/html,application/xhtml+xml,application/xml;q=0.9,*/*;q=0.8',\n",
    "                'Accept-Charset': 'ISO-8859-1,utf-8;q=0.7,*;q=0.3',\n",
    "                'Accept-Encoding': 'none',\n",
    "                'Accept-Language': 'en-US,en;q=0.8',\n",
    "                'Connection': 'keep-alive'}\n",
    "        #url = 'https://www.sec.gov/Archives/edgar/data/1000742/0001567619-20-003961-index.html'\n",
    "        page = requests.get(url,  headers=my_header)    \n",
    "        data = page.text\n",
    "        soup = BeautifulSoup(data, \"lxml\")\n",
    "        identifier = []\n",
    "        urls = []\n",
    "\n",
    "        result= soup.find_all('div', attrs={'class':'formGrouping'})[0]\n",
    "        date = result.find('div',attrs={'class':'info'}).text\n",
    "        index = soup.find('div',{'id':'secNum'}).text.replace('SEC Accession No. ','').replace('\\n','')\n",
    "\n",
    "\n",
    "        for link in soup.find_all('a'):\n",
    "            try:\n",
    "                if 'xml' in link.get('href'):\n",
    "                    url_to_save = link.get('href')\n",
    "                    identifier.append(url_to_save)\n",
    "            except:\n",
    "                pass\n",
    "\n",
    "        for item in identifier:\n",
    "\n",
    "            urls.append('https://www.sec.gov'+item)\n",
    "        for url in urls:\n",
    "            try:\n",
    "                DF_13F = pd.read_html(url)\n",
    "                DF_13F = DF_13F[-1]\n",
    "                DF_13F = DF_13F.iloc[2:]\n",
    "                new_header = DF_13F.iloc[0]\n",
    "                DF_13F.columns = new_header\n",
    "                DF_13F = DF_13F.iloc[1:]\n",
    "                DF_13F['date_reported'] = date\n",
    "                cik_company = url.split('data/')[1].split('/')[0]\n",
    "                DF_13F['cik_company'] = cik_company\n",
    "                DF_13F['index'] = index\n",
    "                DF_13F = DF_13F[['index','NAME OF ISSUER','TITLE OF CLASS','CUSIP','(x$1000)','PRN AMT','PRN','date_reported','cik_company']]\n",
    "                df.append(DF_13F)\n",
    "                print('Filing found for cik %s at %s' %(cik_company,url))\n",
    "\n",
    "            except:\n",
    "                print('Error: no information found for cik %s at: %s'%(cik_company,url))\n",
    "    return pd.concat(df)\n",
    "\n",
    "\n",
    "\n",
    "\n"
   ]
  },
  {
   "cell_type": "markdown",
   "metadata": {},
   "source": [
    "dataframe <br>\n",
    "TODO: add location (city or state) of company + revenue at that time"
   ]
  },
  {
   "cell_type": "code",
   "execution_count": 157,
   "metadata": {},
   "outputs": [
    {
     "name": "stdout",
     "output_type": "stream",
     "text": [
      "Error: no information found for 1027796 at: https://www.sec.gov/Archives/edgar/data/1027796/000156761921002265/xslForm13F_X01/primary_doc.xml\n",
      "Error: no information found for 1027796 at: https://www.sec.gov/Archives/edgar/data/1027796/000156761921002265/primary_doc.xml\n",
      "Filing found for 1027796 at https://www.sec.gov/Archives/edgar/data/1027796/000156761921002265/xslForm13F_X01/form13fInfoTable.xml\n",
      "Error: no information found for 1027796 at: https://www.sec.gov/Archives/edgar/data/1027796/000156761921002265/form13fInfoTable.xml\n",
      "Error: no information found for 102909 at: https://www.sec.gov/Archives/edgar/data/102909/000110465921021334/xslForm13F_X01/primary_doc.xml\n",
      "Error: no information found for 102909 at: https://www.sec.gov/Archives/edgar/data/102909/000110465921021334/primary_doc.xml\n",
      "Error: no information found for 102909 at: https://www.sec.gov/Archives/edgar/data/102909/000110465921021334/xslForm13F_X01/infotable.xml\n",
      "Error: no information found for 102909 at: https://www.sec.gov/Archives/edgar/data/102909/000110465921021334/infotable.xml\n",
      "Error: no information found for 1109448 at: https://www.sec.gov/Archives/edgar/data/1109448/000153215521000087/xslForm13F_X01/primary_doc.xml\n",
      "Error: no information found for 1109448 at: https://www.sec.gov/Archives/edgar/data/1109448/000153215521000087/primary_doc.xml\n",
      "Filing found for 1109448 at https://www.sec.gov/Archives/edgar/data/1109448/000153215521000087/xslForm13F_X01/ABInfoTable.xml\n",
      "Error: no information found for 1109448 at: https://www.sec.gov/Archives/edgar/data/1109448/000153215521000087/ABInfoTable.xml\n",
      "Error: no information found for 1109448 at: https://www.sec.gov/Archives/edgar/data/1123274/000112327421000002/xslForm13F_X01/primary_doc.xml\n",
      "Error: no information found for 1109448 at: https://www.sec.gov/Archives/edgar/data/1123274/000112327421000002/primary_doc.xml\n",
      "Filing found for 1123274 at https://www.sec.gov/Archives/edgar/data/1123274/000112327421000002/xslForm13F_X01/US13F_PEUSA_2020_Q4.xml\n",
      "Error: no information found for 1123274 at: https://www.sec.gov/Archives/edgar/data/1123274/000112327421000002/US13F_PEUSA_2020_Q4.xml\n",
      "Error: no information found for 1132716 at: https://www.sec.gov/Archives/edgar/data/1132716/000113271621000004/xslForm13F_X01/primary_doc.xml\n",
      "Error: no information found for 1132716 at: https://www.sec.gov/Archives/edgar/data/1132716/000113271621000004/primary_doc.xml\n",
      "Filing found for 1132716 at https://www.sec.gov/Archives/edgar/data/1132716/000113271621000004/xslForm13F_X01/ubsocQ4_20infotable.xml\n",
      "Error: no information found for 1132716 at: https://www.sec.gov/Archives/edgar/data/1132716/000113271621000004/ubsocQ4_20infotable.xml\n",
      "Error: no information found for 1291274 at: https://www.sec.gov/Archives/edgar/data/1291274/000095012321002177/xslForm13F_X01/primary_doc.xml\n",
      "Error: no information found for 1291274 at: https://www.sec.gov/Archives/edgar/data/1291274/000095012321002177/primary_doc.xml\n",
      "Error: no information found for 1291274 at: https://www.sec.gov/Archives/edgar/data/1291274/000095012321002177/xslForm13F_X01/0000950123-21-002177-3243.xml\n",
      "Error: no information found for 1291274 at: https://www.sec.gov/Archives/edgar/data/1291274/000095012321002177/0000950123-21-002177-3243.xml\n",
      "Error: no information found for 1454937 at: https://www.sec.gov/Archives/edgar/data/1454937/000145493721000003/xslForm13F_X01/primary_doc.xml\n",
      "Error: no information found for 1454937 at: https://www.sec.gov/Archives/edgar/data/1454937/000145493721000003/primary_doc.xml\n",
      "Filing found for 1454937 at https://www.sec.gov/Archives/edgar/data/1454937/000145493721000003/xslForm13F_X01/infotable.xml\n",
      "Error: no information found for 1454937 at: https://www.sec.gov/Archives/edgar/data/1454937/000145493721000003/infotable.xml\n",
      "Error: no information found for 1502149 at: https://www.sec.gov/Archives/edgar/data/1502149/000156761921003904/xslForm13F_X01/primary_doc.xml\n",
      "Error: no information found for 1502149 at: https://www.sec.gov/Archives/edgar/data/1502149/000156761921003904/primary_doc.xml\n",
      "Error: no information found for 1502149 at: https://www.sec.gov/Archives/edgar/data/1502149/000156761921003904/xslForm13F_X01/form13fInfoTable.xml\n",
      "Error: no information found for 1502149 at: https://www.sec.gov/Archives/edgar/data/1502149/000156761921003904/form13fInfoTable.xml\n",
      "Error: no information found for 1529735 at: https://www.sec.gov/Archives/edgar/data/1529735/000162828021002255/xslForm13F_X01/primary_doc.xml\n",
      "Error: no information found for 1529735 at: https://www.sec.gov/Archives/edgar/data/1529735/000162828021002255/primary_doc.xml\n",
      "Filing found for 1529735 at https://www.sec.gov/Archives/edgar/data/1529735/000162828021002255/xslForm13F_X01/information_table.xml\n",
      "Error: no information found for 1529735 at: https://www.sec.gov/Archives/edgar/data/1529735/000162828021002255/information_table.xml\n",
      "Error: no information found for 1529735 at: https://www.sec.gov/Archives/edgar/data/1535602/000153560221000002/xslForm13F_X01/primary_doc.xml\n",
      "Error: no information found for 1529735 at: https://www.sec.gov/Archives/edgar/data/1535602/000153560221000002/primary_doc.xml\n",
      "Filing found for 1535602 at https://www.sec.gov/Archives/edgar/data/1535602/000153560221000002/xslForm13F_X01/US13F_BPSA_2020_Q4.xml\n",
      "Error: no information found for 1535602 at: https://www.sec.gov/Archives/edgar/data/1535602/000153560221000002/US13F_BPSA_2020_Q4.xml\n",
      "Error: no information found for 1535602 at: https://www.sec.gov/Archives/edgar/data/1535631/000153563121000001/xslForm13F_X01/primary_doc.xml\n",
      "Error: no information found for 1535602 at: https://www.sec.gov/Archives/edgar/data/1535631/000153563121000001/primary_doc.xml\n",
      "Filing found for 1535631 at https://www.sec.gov/Archives/edgar/data/1535631/000153563121000001/xslForm13F_X01/US13F_PBT.xml\n",
      "Error: no information found for 1535631 at: https://www.sec.gov/Archives/edgar/data/1535631/000153563121000001/US13F_PBT.xml\n",
      "Error: no information found for 1535631 at: https://www.sec.gov/Archives/edgar/data/1539994/000153999421000005/xslForm13F_X01/primary_doc.xml\n",
      "Error: no information found for 1535631 at: https://www.sec.gov/Archives/edgar/data/1539994/000153999421000005/primary_doc.xml\n",
      "Filing found for 1539994 at https://www.sec.gov/Archives/edgar/data/1539994/000153999421000005/xslForm13F_X01/form13fInfoTable.xml\n",
      "Error: no information found for 1539994 at: https://www.sec.gov/Archives/edgar/data/1539994/000153999421000005/form13fInfoTable.xml\n",
      "Error: no information found for 1599469 at: https://www.sec.gov/Archives/edgar/data/1599469/000159946921000001/xslForm13F_X01/primary_doc.xml\n",
      "Error: no information found for 1599469 at: https://www.sec.gov/Archives/edgar/data/1599469/000159946921000001/primary_doc.xml\n",
      "Filing found for 1599469 at https://www.sec.gov/Archives/edgar/data/1599469/000159946921000001/xslForm13F_X01/US13F_BPCAL_2020_Q4.xml\n",
      "Error: no information found for 1599469 at: https://www.sec.gov/Archives/edgar/data/1599469/000159946921000001/US13F_BPCAL_2020_Q4.xml\n",
      "Error: no information found for 1599576 at: https://www.sec.gov/Archives/edgar/data/1599576/000159957621000001/xslForm13F_X01/primary_doc.xml\n",
      "Error: no information found for 1599576 at: https://www.sec.gov/Archives/edgar/data/1599576/000159957621000001/primary_doc.xml\n",
      "Filing found for 1599576 at https://www.sec.gov/Archives/edgar/data/1599576/000159957621000001/xslForm13F_X01/US13F_PNAA_2020_Q4.xml\n",
      "Error: no information found for 1599576 at: https://www.sec.gov/Archives/edgar/data/1599576/000159957621000001/US13F_PNAA_2020_Q4.xml\n",
      "Error: no information found for 1610520 at: https://www.sec.gov/Archives/edgar/data/1610520/000095012321001651/xslForm13F_X01/primary_doc.xml\n",
      "Error: no information found for 1610520 at: https://www.sec.gov/Archives/edgar/data/1610520/000095012321001651/primary_doc.xml\n",
      "Filing found for 1610520 at https://www.sec.gov/Archives/edgar/data/1610520/000095012321001651/xslForm13F_X01/0000950123-21-001651-3074.xml\n",
      "Error: no information found for 1610520 at: https://www.sec.gov/Archives/edgar/data/1610520/000095012321001651/0000950123-21-001651-3074.xml\n",
      "Error: no information found for 801051 at: https://www.sec.gov/Archives/edgar/data/801051/000108514621000293/xslForm13F_X01/primary_doc.xml\n",
      "Error: no information found for 801051 at: https://www.sec.gov/Archives/edgar/data/801051/000108514621000293/primary_doc.xml\n"
     ]
    },
    {
     "name": "stdout",
     "output_type": "stream",
     "text": [
      "Error: no information found for 801051 at: https://www.sec.gov/Archives/edgar/data/801051/000108514621000293/xslForm13F_X01/infotable.xml\n",
      "Error: no information found for 801051 at: https://www.sec.gov/Archives/edgar/data/801051/000108514621000293/infotable.xml\n",
      "Error: no information found for 861177 at: https://www.sec.gov/Archives/edgar/data/861177/000086117721000006/xslForm13F_X01/primary_doc.xml\n",
      "Error: no information found for 861177 at: https://www.sec.gov/Archives/edgar/data/861177/000086117721000006/primary_doc.xml\n",
      "Error: no information found for 861177 at: https://www.sec.gov/Archives/edgar/data/861177/000086117721000006/xslForm13F_X01/Information_Table.xml\n",
      "Error: no information found for 861177 at: https://www.sec.gov/Archives/edgar/data/861177/000086117721000006/Information_Table.xml\n",
      "Error: no information found for 870481 at: https://www.sec.gov/Archives/edgar/data/870481/000156761921003782/xslForm13F_X01/primary_doc.xml\n",
      "Error: no information found for 870481 at: https://www.sec.gov/Archives/edgar/data/870481/000156761921003782/primary_doc.xml\n",
      "Filing found for 870481 at https://www.sec.gov/Archives/edgar/data/870481/000156761921003782/xslForm13F_X01/form13fInfoTable.xml\n",
      "Error: no information found for 870481 at: https://www.sec.gov/Archives/edgar/data/870481/000156761921003782/form13fInfoTable.xml\n",
      "Error: no information found for 898427 at: https://www.sec.gov/Archives/edgar/data/898427/000089842721000010/xslForm13F_X01/primary_doc.xml\n",
      "Error: no information found for 898427 at: https://www.sec.gov/Archives/edgar/data/898427/000089842721000010/primary_doc.xml\n",
      "Filing found for 898427 at https://www.sec.gov/Archives/edgar/data/898427/000089842721000010/xslForm13F_X01/13f.infotable-axasa_q42020.xml\n",
      "Error: no information found for 898427 at: https://www.sec.gov/Archives/edgar/data/898427/000089842721000010/13f.infotable-axasa_q42020.xml\n",
      "Error: no information found for 9015 at: https://www.sec.gov/Archives/edgar/data/9015/000160677921000001/xslForm13F_X01/primary_doc.xml\n",
      "Error: no information found for 9015 at: https://www.sec.gov/Archives/edgar/data/9015/000160677921000001/primary_doc.xml\n",
      "Filing found for 9015 at https://www.sec.gov/Archives/edgar/data/9015/000160677921000001/xslForm13F_X01/Informationtable.xml\n",
      "Error: no information found for 9015 at: https://www.sec.gov/Archives/edgar/data/9015/000160677921000001/Informationtable.xml\n",
      "Error: no information found for 914208 at: https://www.sec.gov/Archives/edgar/data/914208/000091420821000251/xslForm13F_X01/primary_doc.xml\n",
      "Error: no information found for 914208 at: https://www.sec.gov/Archives/edgar/data/914208/000091420821000251/primary_doc.xml\n",
      "Filing found for 914208 at https://www.sec.gov/Archives/edgar/data/914208/000091420821000251/xslForm13F_X01/form13fInfoTable.xml\n",
      "Error: no information found for 914208 at: https://www.sec.gov/Archives/edgar/data/914208/000091420821000251/form13fInfoTable.xml\n",
      "Error: no information found for 949509 at: https://www.sec.gov/Archives/edgar/data/949509/000094950921000001/xslForm13F_X01/primary_doc.xml\n",
      "Error: no information found for 949509 at: https://www.sec.gov/Archives/edgar/data/949509/000094950921000001/primary_doc.xml\n",
      "Filing found for 949509 at https://www.sec.gov/Archives/edgar/data/949509/000094950921000001/xslForm13F_X01/4Q20_13F_XML.xml\n",
      "Error: no information found for 949509 at: https://www.sec.gov/Archives/edgar/data/949509/000094950921000001/4Q20_13F_XML.xml\n"
     ]
    }
   ],
   "source": [
    "df=parser(urls)"
   ]
  },
  {
   "cell_type": "code",
   "execution_count": 158,
   "metadata": {},
   "outputs": [
    {
     "data": {
      "text/html": [
       "<div>\n",
       "<style scoped>\n",
       "    .dataframe tbody tr th:only-of-type {\n",
       "        vertical-align: middle;\n",
       "    }\n",
       "\n",
       "    .dataframe tbody tr th {\n",
       "        vertical-align: top;\n",
       "    }\n",
       "\n",
       "    .dataframe thead th {\n",
       "        text-align: right;\n",
       "    }\n",
       "</style>\n",
       "<table border=\"1\" class=\"dataframe\">\n",
       "  <thead>\n",
       "    <tr style=\"text-align: right;\">\n",
       "      <th>2</th>\n",
       "      <th>index</th>\n",
       "      <th>NAME OF ISSUER</th>\n",
       "      <th>TITLE OF CLASS</th>\n",
       "      <th>CUSIP</th>\n",
       "      <th>(x$1000)</th>\n",
       "      <th>PRN AMT</th>\n",
       "      <th>PRN</th>\n",
       "      <th>date_reported</th>\n",
       "      <th>cik_company</th>\n",
       "    </tr>\n",
       "  </thead>\n",
       "  <tbody>\n",
       "    <tr>\n",
       "      <th>3</th>\n",
       "      <td>0001567619-21-002265</td>\n",
       "      <td>ABBVIE INC.</td>\n",
       "      <td>COM</td>\n",
       "      <td>00287Y109</td>\n",
       "      <td>668</td>\n",
       "      <td>6233</td>\n",
       "      <td>SH</td>\n",
       "      <td>2021-02-05</td>\n",
       "      <td>1027796</td>\n",
       "    </tr>\n",
       "    <tr>\n",
       "      <th>4</th>\n",
       "      <td>0001567619-21-002265</td>\n",
       "      <td>AECOM</td>\n",
       "      <td>COM</td>\n",
       "      <td>00766T100</td>\n",
       "      <td>23149</td>\n",
       "      <td>465025</td>\n",
       "      <td>SH</td>\n",
       "      <td>2021-02-05</td>\n",
       "      <td>1027796</td>\n",
       "    </tr>\n",
       "    <tr>\n",
       "      <th>5</th>\n",
       "      <td>0001567619-21-002265</td>\n",
       "      <td>ALEXION PHARMACEUTICALS INC.</td>\n",
       "      <td>COM</td>\n",
       "      <td>015351109</td>\n",
       "      <td>633</td>\n",
       "      <td>4049</td>\n",
       "      <td>SH</td>\n",
       "      <td>2021-02-05</td>\n",
       "      <td>1027796</td>\n",
       "    </tr>\n",
       "    <tr>\n",
       "      <th>6</th>\n",
       "      <td>0001567619-21-002265</td>\n",
       "      <td>ALLSTATE CORPORATION</td>\n",
       "      <td>COM</td>\n",
       "      <td>020002101</td>\n",
       "      <td>516</td>\n",
       "      <td>4692</td>\n",
       "      <td>SH</td>\n",
       "      <td>2021-02-05</td>\n",
       "      <td>1027796</td>\n",
       "    </tr>\n",
       "    <tr>\n",
       "      <th>7</th>\n",
       "      <td>0001567619-21-002265</td>\n",
       "      <td>AMBEV SA SPON ADR</td>\n",
       "      <td>COM</td>\n",
       "      <td>02319V103</td>\n",
       "      <td>5035</td>\n",
       "      <td>1645310</td>\n",
       "      <td>SH</td>\n",
       "      <td>2021-02-05</td>\n",
       "      <td>1027796</td>\n",
       "    </tr>\n",
       "    <tr>\n",
       "      <th>...</th>\n",
       "      <td>...</td>\n",
       "      <td>...</td>\n",
       "      <td>...</td>\n",
       "      <td>...</td>\n",
       "      <td>...</td>\n",
       "      <td>...</td>\n",
       "      <td>...</td>\n",
       "      <td>...</td>\n",
       "      <td>...</td>\n",
       "    </tr>\n",
       "    <tr>\n",
       "      <th>181</th>\n",
       "      <td>0000949509-21-000001</td>\n",
       "      <td>VONAGE HOLDINGS CORP</td>\n",
       "      <td>CONVERTIBLE BOND</td>\n",
       "      <td>92886TAJ1</td>\n",
       "      <td>14130</td>\n",
       "      <td>12963000</td>\n",
       "      <td>PRN</td>\n",
       "      <td>2021-02-16</td>\n",
       "      <td>949509</td>\n",
       "    </tr>\n",
       "    <tr>\n",
       "      <th>182</th>\n",
       "      <td>0000949509-21-000001</td>\n",
       "      <td>WEIBO CORP</td>\n",
       "      <td>CONVERTIBLE BOND</td>\n",
       "      <td>948596AC5</td>\n",
       "      <td>6799</td>\n",
       "      <td>6974000</td>\n",
       "      <td>PRN</td>\n",
       "      <td>2021-02-16</td>\n",
       "      <td>949509</td>\n",
       "    </tr>\n",
       "    <tr>\n",
       "      <th>183</th>\n",
       "      <td>0000949509-21-000001</td>\n",
       "      <td>WESTERN DIGITAL CORP</td>\n",
       "      <td>CONVERTIBLE BOND</td>\n",
       "      <td>958102AP0</td>\n",
       "      <td>17271</td>\n",
       "      <td>17290000</td>\n",
       "      <td>PRN</td>\n",
       "      <td>2021-02-16</td>\n",
       "      <td>949509</td>\n",
       "    </tr>\n",
       "    <tr>\n",
       "      <th>184</th>\n",
       "      <td>0000949509-21-000001</td>\n",
       "      <td>WORKDAY INC</td>\n",
       "      <td>CONVERTIBLE BOND</td>\n",
       "      <td>98138HAF8</td>\n",
       "      <td>3351</td>\n",
       "      <td>2000000</td>\n",
       "      <td>PRN</td>\n",
       "      <td>2021-02-16</td>\n",
       "      <td>949509</td>\n",
       "    </tr>\n",
       "    <tr>\n",
       "      <th>185</th>\n",
       "      <td>0000949509-21-000001</td>\n",
       "      <td>WORKIVA INC</td>\n",
       "      <td>CONVERTIBLE BOND</td>\n",
       "      <td>98139AAB1</td>\n",
       "      <td>3905</td>\n",
       "      <td>2900000</td>\n",
       "      <td>PRN</td>\n",
       "      <td>2021-02-16</td>\n",
       "      <td>949509</td>\n",
       "    </tr>\n",
       "  </tbody>\n",
       "</table>\n",
       "<p>40473 rows × 9 columns</p>\n",
       "</div>"
      ],
      "text/plain": [
       "2                         index                NAME OF ISSUER  \\\n",
       "3    0001567619-21-002265                         ABBVIE INC.   \n",
       "4    0001567619-21-002265                               AECOM   \n",
       "5    0001567619-21-002265        ALEXION PHARMACEUTICALS INC.   \n",
       "6    0001567619-21-002265                ALLSTATE CORPORATION   \n",
       "7    0001567619-21-002265                   AMBEV SA SPON ADR   \n",
       "..                          ...                           ...   \n",
       "181  0000949509-21-000001                VONAGE HOLDINGS CORP   \n",
       "182  0000949509-21-000001                          WEIBO CORP   \n",
       "183  0000949509-21-000001                WESTERN DIGITAL CORP   \n",
       "184  0000949509-21-000001                         WORKDAY INC   \n",
       "185  0000949509-21-000001                         WORKIVA INC   \n",
       "\n",
       "2      TITLE OF CLASS      CUSIP (x$1000)   PRN AMT  PRN date_reported  \\\n",
       "3                 COM  00287Y109      668      6233   SH    2021-02-05   \n",
       "4                 COM  00766T100    23149    465025   SH    2021-02-05   \n",
       "5                 COM  015351109      633      4049   SH    2021-02-05   \n",
       "6                 COM  020002101      516      4692   SH    2021-02-05   \n",
       "7                 COM  02319V103     5035   1645310   SH    2021-02-05   \n",
       "..                ...        ...      ...       ...  ...           ...   \n",
       "181  CONVERTIBLE BOND  92886TAJ1    14130  12963000  PRN    2021-02-16   \n",
       "182  CONVERTIBLE BOND  948596AC5     6799   6974000  PRN    2021-02-16   \n",
       "183  CONVERTIBLE BOND  958102AP0    17271  17290000  PRN    2021-02-16   \n",
       "184  CONVERTIBLE BOND  98138HAF8     3351   2000000  PRN    2021-02-16   \n",
       "185  CONVERTIBLE BOND  98139AAB1     3905   2900000  PRN    2021-02-16   \n",
       "\n",
       "2   cik_company  \n",
       "3       1027796  \n",
       "4       1027796  \n",
       "5       1027796  \n",
       "6       1027796  \n",
       "7       1027796  \n",
       "..          ...  \n",
       "181      949509  \n",
       "182      949509  \n",
       "183      949509  \n",
       "184      949509  \n",
       "185      949509  \n",
       "\n",
       "[40473 rows x 9 columns]"
      ]
     },
     "execution_count": 158,
     "metadata": {},
     "output_type": "execute_result"
    }
   ],
   "source": [
    "df"
   ]
  }
 ],
 "metadata": {
  "kernelspec": {
   "display_name": "Python 3",
   "language": "python",
   "name": "python3"
  },
  "language_info": {
   "codemirror_mode": {
    "name": "ipython",
    "version": 3
   },
   "file_extension": ".py",
   "mimetype": "text/x-python",
   "name": "python",
   "nbconvert_exporter": "python",
   "pygments_lexer": "ipython3",
   "version": "3.7.6"
  }
 },
 "nbformat": 4,
 "nbformat_minor": 4
}
