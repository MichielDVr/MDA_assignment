{
 "cells": [
  {
   "cell_type": "code",
   "execution_count": 1,
   "metadata": {},
   "outputs": [],
   "source": [
    "import pandas as pd\n",
    "import requests\n",
    "from bs4 import BeautifulSoup\n",
    "import csv \n",
    "import edgar\n",
    "import os\n",
    "import pickle\n",
    "import numpy as np\n",
    "import networkx as nx\n",
    "import matplotlib.pyplot as plt"
   ]
  },
  {
   "cell_type": "markdown",
   "metadata": {},
   "source": [
    "Get CIK list of all investment companies"
   ]
  },
  {
   "cell_type": "code",
   "execution_count": 2,
   "metadata": {},
   "outputs": [
    {
     "data": {
      "text/html": [
       "<div>\n",
       "<style scoped>\n",
       "    .dataframe tbody tr th:only-of-type {\n",
       "        vertical-align: middle;\n",
       "    }\n",
       "\n",
       "    .dataframe tbody tr th {\n",
       "        vertical-align: top;\n",
       "    }\n",
       "\n",
       "    .dataframe thead th {\n",
       "        text-align: right;\n",
       "    }\n",
       "</style>\n",
       "<table border=\"1\" class=\"dataframe\">\n",
       "  <thead>\n",
       "    <tr style=\"text-align: right;\">\n",
       "      <th></th>\n",
       "      <th>Unnamed: 0</th>\n",
       "      <th>CIK Number</th>\n",
       "      <th>Entity Name</th>\n",
       "      <th>Address_1</th>\n",
       "      <th>City</th>\n",
       "      <th>State</th>\n",
       "      <th>Zip Code</th>\n",
       "    </tr>\n",
       "  </thead>\n",
       "  <tbody>\n",
       "    <tr>\n",
       "      <th>0</th>\n",
       "      <td>0</td>\n",
       "      <td>2110</td>\n",
       "      <td>COLUMBIA ACORN TRUST</td>\n",
       "      <td>227 W MONROE STE 3000</td>\n",
       "      <td>CHICAGO</td>\n",
       "      <td>IL</td>\n",
       "      <td>60606</td>\n",
       "    </tr>\n",
       "    <tr>\n",
       "      <th>1</th>\n",
       "      <td>1</td>\n",
       "      <td>2646</td>\n",
       "      <td>Voya INTERMEDIATE BOND PORTFOLIO</td>\n",
       "      <td>ING FUNDS SERVICES</td>\n",
       "      <td>SCOTTSDALE</td>\n",
       "      <td>AZ</td>\n",
       "      <td>85258</td>\n",
       "    </tr>\n",
       "    <tr>\n",
       "      <th>2</th>\n",
       "      <td>2</td>\n",
       "      <td>2663</td>\n",
       "      <td>VOYA GOVERNMENT MONEY MARKET PORTFOLIO</td>\n",
       "      <td>7337 E. DOUBLETREE RANCH ROAD, STE 100</td>\n",
       "      <td>SCOTTSDALE</td>\n",
       "      <td>AZ</td>\n",
       "      <td>85258</td>\n",
       "    </tr>\n",
       "    <tr>\n",
       "      <th>3</th>\n",
       "      <td>3</td>\n",
       "      <td>2664</td>\n",
       "      <td>Voya VARIABLE FUNDS</td>\n",
       "      <td>7337 E. DOUBLETREE RANCH ROAD, STE 100</td>\n",
       "      <td>SCOTTSDALE</td>\n",
       "      <td>AZ</td>\n",
       "      <td>85258</td>\n",
       "    </tr>\n",
       "    <tr>\n",
       "      <th>4</th>\n",
       "      <td>4</td>\n",
       "      <td>2691</td>\n",
       "      <td>LORD ABBETT AFFILIATED FUND INC</td>\n",
       "      <td>90 HUDSON STREET</td>\n",
       "      <td>JERSEY CITY</td>\n",
       "      <td>NJ</td>\n",
       "      <td>07302</td>\n",
       "    </tr>\n",
       "    <tr>\n",
       "      <th>...</th>\n",
       "      <td>...</td>\n",
       "      <td>...</td>\n",
       "      <td>...</td>\n",
       "      <td>...</td>\n",
       "      <td>...</td>\n",
       "      <td>...</td>\n",
       "      <td>...</td>\n",
       "    </tr>\n",
       "    <tr>\n",
       "      <th>2146</th>\n",
       "      <td>2146</td>\n",
       "      <td>1810747</td>\n",
       "      <td>Simplify Exchange Traded Funds</td>\n",
       "      <td>154 W 14TH ST</td>\n",
       "      <td>NEW YORK</td>\n",
       "      <td>NY</td>\n",
       "      <td>10011</td>\n",
       "    </tr>\n",
       "    <tr>\n",
       "      <th>2147</th>\n",
       "      <td>2147</td>\n",
       "      <td>1811168</td>\n",
       "      <td>2nd Vote Funds</td>\n",
       "      <td>PO BOX 2916</td>\n",
       "      <td>HENDERSONVILLE</td>\n",
       "      <td>TN</td>\n",
       "      <td>37077</td>\n",
       "    </tr>\n",
       "    <tr>\n",
       "      <th>2148</th>\n",
       "      <td>2148</td>\n",
       "      <td>1815558</td>\n",
       "      <td>Waycross Independent Trust</td>\n",
       "      <td>C/O ULTIMUS FUND SOLUTIONS, LLC</td>\n",
       "      <td>CINCINNATI</td>\n",
       "      <td>OH</td>\n",
       "      <td>45246</td>\n",
       "    </tr>\n",
       "    <tr>\n",
       "      <th>2149</th>\n",
       "      <td>2149</td>\n",
       "      <td>1815608</td>\n",
       "      <td>Modern Capital Funds Trust</td>\n",
       "      <td>1050 JOHNNIE DODDS BLVD</td>\n",
       "      <td>MT. PLEASANT</td>\n",
       "      <td>SC</td>\n",
       "      <td>29465</td>\n",
       "    </tr>\n",
       "    <tr>\n",
       "      <th>2150</th>\n",
       "      <td>2150</td>\n",
       "      <td>1816125</td>\n",
       "      <td>Dimensional ETF Trust</td>\n",
       "      <td>6300 BEE CAVE ROAD</td>\n",
       "      <td>AUSTIN</td>\n",
       "      <td>TX</td>\n",
       "      <td>78746</td>\n",
       "    </tr>\n",
       "  </tbody>\n",
       "</table>\n",
       "<p>2151 rows × 7 columns</p>\n",
       "</div>"
      ],
      "text/plain": [
       "      Unnamed: 0  CIK Number                             Entity Name  \\\n",
       "0              0        2110                    COLUMBIA ACORN TRUST   \n",
       "1              1        2646        Voya INTERMEDIATE BOND PORTFOLIO   \n",
       "2              2        2663  VOYA GOVERNMENT MONEY MARKET PORTFOLIO   \n",
       "3              3        2664                     Voya VARIABLE FUNDS   \n",
       "4              4        2691         LORD ABBETT AFFILIATED FUND INC   \n",
       "...          ...         ...                                     ...   \n",
       "2146        2146     1810747          Simplify Exchange Traded Funds   \n",
       "2147        2147     1811168                          2nd Vote Funds   \n",
       "2148        2148     1815558              Waycross Independent Trust   \n",
       "2149        2149     1815608              Modern Capital Funds Trust   \n",
       "2150        2150     1816125                   Dimensional ETF Trust   \n",
       "\n",
       "                                   Address_1            City State Zip Code  \n",
       "0                      227 W MONROE STE 3000         CHICAGO    IL    60606  \n",
       "1                         ING FUNDS SERVICES      SCOTTSDALE    AZ    85258  \n",
       "2     7337 E. DOUBLETREE RANCH ROAD, STE 100      SCOTTSDALE    AZ    85258  \n",
       "3     7337 E. DOUBLETREE RANCH ROAD, STE 100      SCOTTSDALE    AZ    85258  \n",
       "4                           90 HUDSON STREET     JERSEY CITY    NJ    07302  \n",
       "...                                      ...             ...   ...      ...  \n",
       "2146                           154 W 14TH ST        NEW YORK    NY    10011  \n",
       "2147                             PO BOX 2916  HENDERSONVILLE    TN    37077  \n",
       "2148         C/O ULTIMUS FUND SOLUTIONS, LLC      CINCINNATI    OH    45246  \n",
       "2149                 1050 JOHNNIE DODDS BLVD    MT. PLEASANT    SC    29465  \n",
       "2150                      6300 BEE CAVE ROAD          AUSTIN    TX    78746  \n",
       "\n",
       "[2151 rows x 7 columns]"
      ]
     },
     "execution_count": 2,
     "metadata": {},
     "output_type": "execute_result"
    }
   ],
   "source": [
    "df_MF = pd.read_csv(r'https://goz39a.s3.eu-central-1.amazonaws.com/13F/CIK_list.csv')\n",
    "df_MF['Entity Name'] = df_MF['Entity Name']\n",
    "#[i.find(isin(t)) for i in df_MF.loc[df_MF['Entity Name']]]\n",
    "df_MF"
   ]
  },
  {
   "cell_type": "markdown",
   "metadata": {},
   "source": [
    "download all filings from 2019-2020-2021"
   ]
  },
  {
   "cell_type": "code",
   "execution_count": 3,
   "metadata": {},
   "outputs": [],
   "source": [
    "path= r'c:/Users/ASUS/Desktop/filing_history_bis2'\n",
    "edgar.download_index(path, 2019, skip_all_present_except_last=False)"
   ]
  },
  {
   "cell_type": "markdown",
   "metadata": {},
   "source": [
    "select the URL to the edgar archive for the 13F-HR filings of 2019 until q1 of 2021"
   ]
  },
  {
   "cell_type": "code",
   "execution_count": 4,
   "metadata": {},
   "outputs": [],
   "source": [
    "def get_urls(path_download_index):\n",
    "    with open(path_download_index,'r') as file:\n",
    "        tsvreader = csv.reader(file, delimiter=\"|\")\n",
    "        urls= []\n",
    "        file = []\n",
    "        for line in tsvreader:\n",
    "            if line[1:][1] == '13F-HR':\n",
    "                adress=line[-1]\n",
    "                url =  'https://www.sec.gov/Archives/' + adress\n",
    "                holding = line[1]\n",
    "                urls.append((holding.lower(), url))\n",
    "    return urls"
   ]
  },
  {
   "cell_type": "code",
   "execution_count": 5,
   "metadata": {},
   "outputs": [],
   "source": [
    "path= r'c:/Users/ASUS/Desktop/filing_history_bis2'\n",
    "\n",
    "urls_2019_1 = get_urls(path + os.sep + '2019-QTR1.tsv')\n",
    "urls_2019_2 = get_urls(path + os.sep + '2019-QTR2.tsv')\n",
    "urls_2019_3 = get_urls(path + os.sep + '2019-QTR3.tsv')\n",
    "urls_2019_4 = get_urls(path + os.sep + '2019-QTR4.tsv')\n",
    "urls_2020_1 = get_urls(path + os.sep + '2020-QTR1.tsv')\n",
    "urls_2020_2 = get_urls(path + os.sep + '2020-QTR2.tsv')\n",
    "urls_2020_3 = get_urls(path + os.sep + '2020-QTR3.tsv')\n",
    "urls_2020_4 = get_urls(path + os.sep + '2020-QTR4.tsv')\n",
    "urls_2021 = get_urls(path + os.sep + '2021-QTR1.tsv')"
   ]
  },
  {
   "cell_type": "markdown",
   "metadata": {},
   "source": [
    "Select only investment companies with 13F-HR filings in all quarters"
   ]
  },
  {
   "cell_type": "code",
   "execution_count": 6,
   "metadata": {},
   "outputs": [],
   "source": [
    "urls_2019_1names, _ = zip(*urls_2019_1)\n",
    "urls_2019_2names, _ = zip(*urls_2019_2)\n",
    "urls_2019_3names, _ = zip(*urls_2019_3)\n",
    "urls_2019_4names, _ = zip(*urls_2019_4)\n",
    "urls_2020_1names, _ = zip(*urls_2020_1)\n",
    "urls_2020_2names, _ = zip(*urls_2020_2)\n",
    "urls_2020_3names, _ = zip(*urls_2020_3)\n",
    "urls_2020_4names, _ = zip(*urls_2020_4)\n",
    "urls_2021_names, _ =zip(*urls_2021)"
   ]
  },
  {
   "cell_type": "code",
   "execution_count": 7,
   "metadata": {},
   "outputs": [],
   "source": [
    "companiesBoth = [i for i in (urls_2019_1names and urls_2019_2names and urls_2019_3names and urls_2019_4names and urls_2020_1names and urls_2020_2names and urls_2020_3names and urls_2020_4names and urls_2021_names  )]"
   ]
  },
  {
   "cell_type": "code",
   "execution_count": 8,
   "metadata": {},
   "outputs": [
    {
     "data": {
      "text/plain": [
       "5970"
      ]
     },
     "execution_count": 8,
     "metadata": {},
     "output_type": "execute_result"
    }
   ],
   "source": [
    "len(companiesBoth)"
   ]
  },
  {
   "cell_type": "markdown",
   "metadata": {},
   "source": [
    "List of biggest investment companies from https://mutualfunddirectory.org/latest-directory-ranking-here/"
   ]
  },
  {
   "cell_type": "code",
   "execution_count": 9,
   "metadata": {},
   "outputs": [],
   "source": [
    "URL = 'https://mutualfunddirectory.org/latest-directory-ranking-here/'\n",
    "page = requests.get(URL)\n",
    "soup = BeautifulSoup(page.content, 'html.parser')\n",
    "table = soup.find('table', class_=\"tablepress-id-109\")\n",
    "for company in table.find_all('tbody'):\n",
    "    rows= company.find_all('tr')\n",
    "    companies =[]\n",
    "    for row in rows:\n",
    "        companies.append(row.find('td', class_=\"column-2\").text)\n",
    "\n",
    "companies = companies[:-1]\n",
    "companies = [i.lower() for i in companies]"
   ]
  },
  {
   "cell_type": "markdown",
   "metadata": {},
   "source": [
    "From companies with filings in each quarter, only select biggest companies"
   ]
  },
  {
   "cell_type": "code",
   "execution_count": 10,
   "metadata": {},
   "outputs": [],
   "source": [
    "urls_list=[]\n",
    "period = [urls_2019_1, urls_2019_2, urls_2019_3, urls_2019_4, urls_2020_1, urls_2020_2, urls_2020_3, urls_2020_4, urls_2021]\n",
    "for quarter in period:\n",
    "    urls = []\n",
    "    companies_quarter = [i for i in quarter if i[0] in companiesBoth]\n",
    "    for company_quarter in companies_quarter:\n",
    "        if len(company_quarter[0].split())>1:\n",
    "            if company_quarter[0].split()[0] in companies or company_quarter[0].split()[1] in companies:\n",
    "                urls.append(company_quarter[1])\n",
    "        else:\n",
    "             if company_quarter[0].split()[0] in companies:\n",
    "                urls.append(company_quarter[1])\n",
    "    urls_list.append(urls)"
   ]
  },
  {
   "cell_type": "code",
   "execution_count": 11,
   "metadata": {},
   "outputs": [
    {
     "data": {
      "text/plain": [
       "['1027796',\n",
       " '102909',\n",
       " '1109448',\n",
       " '1123274',\n",
       " '1132716',\n",
       " '1291274',\n",
       " '1454937',\n",
       " '1502149',\n",
       " '1535602',\n",
       " '1535631',\n",
       " '1599469',\n",
       " '1599576',\n",
       " '1610520',\n",
       " '1730578',\n",
       " '801051',\n",
       " '861177',\n",
       " '870481',\n",
       " '9015',\n",
       " '914208',\n",
       " '949509']"
      ]
     },
     "execution_count": 11,
     "metadata": {},
     "output_type": "execute_result"
    }
   ],
   "source": [
    "unique_companies=[urls_list[1][j].split('data/')[1].split('/')[0] for j in range(len(urls_list[1]))]\n",
    "unique_companies"
   ]
  },
  {
   "cell_type": "code",
   "execution_count": 12,
   "metadata": {},
   "outputs": [],
   "source": [
    "unique_urls_list=[]\n",
    "for i in range(len(urls_list)):\n",
    "    unique_urls=[urls_list[i][j] for j in range(len(urls_list[i])) if urls_list[i][j].split('data/')[1].split('/')[0] in unique_companies]\n",
    "    unique_urls_list.append(unique_urls)"
   ]
  },
  {
   "cell_type": "code",
   "execution_count": 13,
   "metadata": {},
   "outputs": [
    {
     "name": "stdout",
     "output_type": "stream",
     "text": [
      "number of filings: 20\n",
      "number of filings: 20\n",
      "number of filings: 20\n",
      "number of filings: 20\n",
      "number of filings: 20\n",
      "number of filings: 19\n",
      "number of filings: 20\n",
      "number of filings: 19\n",
      "number of filings: 20\n"
     ]
    },
    {
     "data": {
      "text/plain": [
       "[None, None, None, None, None, None, None, None, None]"
      ]
     },
     "execution_count": 13,
     "metadata": {},
     "output_type": "execute_result"
    }
   ],
   "source": [
    "[print('number of filings: %s'%len(set(unique_urls_list[i]))) for i in range(len(unique_urls_list))] #some filings= 19 and others 20"
   ]
  },
  {
   "cell_type": "code",
   "execution_count": 14,
   "metadata": {},
   "outputs": [
    {
     "data": {
      "text/plain": [
       "['https://www.sec.gov/Archives/edgar/data/1027796/0001567619-19-002790-index.html',\n",
       " 'https://www.sec.gov/Archives/edgar/data/102909/0000950123-19-001986-index.html',\n",
       " 'https://www.sec.gov/Archives/edgar/data/1109448/0001532155-19-000126-index.html',\n",
       " 'https://www.sec.gov/Archives/edgar/data/1123274/0001123274-19-000001-index.html',\n",
       " 'https://www.sec.gov/Archives/edgar/data/1132716/0001132716-19-000001-index.html',\n",
       " 'https://www.sec.gov/Archives/edgar/data/1291274/0000950123-19-001436-index.html',\n",
       " 'https://www.sec.gov/Archives/edgar/data/1454937/0001454937-19-000003-index.html',\n",
       " 'https://www.sec.gov/Archives/edgar/data/1502149/0001567619-19-002243-index.html',\n",
       " 'https://www.sec.gov/Archives/edgar/data/1535602/0001535602-19-000001-index.html',\n",
       " 'https://www.sec.gov/Archives/edgar/data/1535631/0001535602-19-000002-index.html',\n",
       " 'https://www.sec.gov/Archives/edgar/data/1599469/0001599469-19-000001-index.html',\n",
       " 'https://www.sec.gov/Archives/edgar/data/1599576/0001599576-19-000001-index.html',\n",
       " 'https://www.sec.gov/Archives/edgar/data/1610520/0000950123-19-001793-index.html',\n",
       " 'https://www.sec.gov/Archives/edgar/data/1730578/0001730578-19-000001-index.html',\n",
       " 'https://www.sec.gov/Archives/edgar/data/801051/0001085146-19-000261-index.html',\n",
       " 'https://www.sec.gov/Archives/edgar/data/861177/0000861177-19-000006-index.html',\n",
       " 'https://www.sec.gov/Archives/edgar/data/870481/0001567619-19-004000-index.html',\n",
       " 'https://www.sec.gov/Archives/edgar/data/9015/0000009015-19-000006-index.html',\n",
       " 'https://www.sec.gov/Archives/edgar/data/914208/0000914208-19-000182-index.html',\n",
       " 'https://www.sec.gov/Archives/edgar/data/949509/0000949509-19-000003-index.html']"
      ]
     },
     "execution_count": 14,
     "metadata": {},
     "output_type": "execute_result"
    }
   ],
   "source": [
    "unique_urls_list[0]"
   ]
  },
  {
   "cell_type": "code",
   "execution_count": 18,
   "metadata": {},
   "outputs": [],
   "source": [
    "def parser(urls):\n",
    "    '''Returns dataframe of all the securities of all filings by concatenating the filing tables found at Edgar Archives'''\n",
    "    df = []\n",
    "    for url in urls:\n",
    "        my_header = {'User-Agent': 'Mozilla/5.0 (Macintosh; Intel Mac OS X 10_15_4) AppleWebKit/537.36 (KHTML, like Gecko) Chrome/83.0.4103.97 Safari/537.36'\n",
    ",\n",
    "                'Accept': 'text/html,application/xhtml+xml,application/xml;q=0.9,*/*;q=0.8',\n",
    "                'Accept-Charset': 'ISO-8859-1,utf-8;q=0.7,*;q=0.3',\n",
    "                'Accept-Encoding': 'none',\n",
    "                'Accept-Language': 'en-US,en;q=0.8',\n",
    "                'Connection': 'keep-alive'}\n",
    "        #url = 'https://www.sec.gov/Archives/edgar/data/1000742/0001567619-20-003961-index.html'\n",
    "        page = requests.get(url,  headers=my_header)    \n",
    "        data = page.text\n",
    "        soup = BeautifulSoup(data, \"lxml\")\n",
    "        result= soup.find_all('div', attrs={'class':'formGrouping'})[0]\n",
    "        date = result.find('div',attrs={'class':'info'}).text\n",
    "        index = soup.find('div',{'id':'secNum'}).text.replace('SEC Accession No. ','').replace('\\n','')\n",
    "        entityName = soup.find('span',attrs={'class':\"companyName\"}).text \n",
    "        entityName = entityName.partition(\"(Filer)\")[0]\n",
    "\n",
    "        #get third hyperlink on page which directs to info table\n",
    "        table_link = soup.find('table',attrs={'class':'tableFile'})\n",
    "        table_link = table_link.find_all('a')\n",
    "        table_link = table_link[2]\n",
    "        identifier=table_link.get('href')\n",
    "        url = 'https://www.sec.gov'+identifier\n",
    "        \n",
    "        #get CIK number from URL\n",
    "        cik_company = url.split('data/')[1].split('/')[0]\n",
    "        #parse html table to dataframe\n",
    "        ## retry when 'https forbidden' error is raised, until page can be scraped successfully \n",
    "        DF_13F = None\n",
    "        while DF_13F is None:\n",
    "            try:\n",
    "                DF_13F = pd.read_html(url)\n",
    "                DF_13F = DF_13F[-1]\n",
    "                DF_13F = DF_13F.iloc[2:]\n",
    "                new_header = DF_13F.iloc[0]\n",
    "                DF_13F.columns = new_header\n",
    "                DF_13F = DF_13F.iloc[2:]\n",
    "                DF_13F['date_reported'] = date\n",
    "                DF_13F['CIK'] = cik_company\n",
    "                DF_13F['filing index'] = index\n",
    "                DF_13F['Entity name'] = entityName\n",
    "\n",
    "                # Get entity name from CIK code from list of all funds\n",
    "                #DF_13F['Entity Name'] = df_MF['Entity Name'].loc[df_MF['CIK Number'] == cik_company].values\n",
    "\n",
    "                DF_13F = DF_13F[['filing index','date_reported','NAME OF ISSUER','TITLE OF CLASS','CUSIP','(x$1000)','PRN AMT','PRN','CIK','Entity name']]\n",
    "                df.append(DF_13F)\n",
    "                print('Filing found for cik %s at %s' %(cik_company,url))\n",
    "\n",
    "            except:\n",
    "                print('Retry, could not parse cik %s at: %s'%(cik_company,url))\n",
    "                pass\n",
    "    return pd.concat(df)"
   ]
  },
  {
   "cell_type": "markdown",
   "metadata": {},
   "source": [
    "Repeat parsing in tables for each quarter"
   ]
  },
  {
   "cell_type": "code",
   "execution_count": 19,
   "metadata": {},
   "outputs": [
    {
     "name": "stdout",
     "output_type": "stream",
     "text": [
      "Filing found for cik 1027796 at https://www.sec.gov/Archives/edgar/data/1027796/000156761919002790/xslForm13F_X01/form13fInfoTable.xml\n",
      "Retry, could not parse cik 102909 at: https://www.sec.gov/Archives/edgar/data/102909/000095012319001986/xslForm13F_X01/form13fInfoTable.xml\n",
      "Filing found for cik 102909 at https://www.sec.gov/Archives/edgar/data/102909/000095012319001986/xslForm13F_X01/form13fInfoTable.xml\n",
      "Filing found for cik 1109448 at https://www.sec.gov/Archives/edgar/data/1109448/000153215519000126/xslForm13F_X01/ACML_13F-HR_Table.xml\n",
      "Filing found for cik 1123274 at https://www.sec.gov/Archives/edgar/data/1123274/000112327419000001/xslForm13F_X01/US13F_PCO_EUR_2018_Q4.xml\n",
      "Filing found for cik 1132716 at https://www.sec.gov/Archives/edgar/data/1132716/000113271619000001/xslForm13F_X01/ubsocq418infotable.xml\n",
      "Filing found for cik 1291274 at https://www.sec.gov/Archives/edgar/data/1291274/000095012319001436/xslForm13F_X01/form13fInfoTable.xml\n",
      "Filing found for cik 1454937 at https://www.sec.gov/Archives/edgar/data/1454937/000145493719000003/xslForm13F_X01/infotable.xml\n",
      "Filing found for cik 1502149 at https://www.sec.gov/Archives/edgar/data/1502149/000156761919002243/xslForm13F_X01/form13fInfoTable.xml\n",
      "Filing found for cik 1535602 at https://www.sec.gov/Archives/edgar/data/1535602/000153560219000001/xslForm13F_X01/US13F_PCO_2018_Q4.xml\n",
      "Filing found for cik 1535631 at https://www.sec.gov/Archives/edgar/data/1535631/000153560219000002/xslForm13F_X01/US13F_PBT_2018_Q4.xml\n",
      "Filing found for cik 1599469 at https://www.sec.gov/Archives/edgar/data/1599469/000159946919000001/xslForm13F_X01/US13F_BPCAL_2018_Q4.xml\n",
      "Filing found for cik 1599576 at https://www.sec.gov/Archives/edgar/data/1599576/000159957619000001/xslForm13F_X01/US13F_PNAA_2018_Q4.xml\n",
      "Filing found for cik 1610520 at https://www.sec.gov/Archives/edgar/data/1610520/000095012319001793/xslForm13F_X01/form13fInfoTable.xml\n",
      "Retry, could not parse cik 1730578 at: https://www.sec.gov/Archives/edgar/data/1730578/000173057819000001/xslForm13F_X01/13freportt.xml\n",
      "Filing found for cik 1730578 at https://www.sec.gov/Archives/edgar/data/1730578/000173057819000001/xslForm13F_X01/13freportt.xml\n",
      "Filing found for cik 801051 at https://www.sec.gov/Archives/edgar/data/801051/000108514619000261/xslForm13F_X01/form13fInfoTable.xml\n",
      "Filing found for cik 861177 at https://www.sec.gov/Archives/edgar/data/861177/000086117719000006/xslForm13F_X01/Information_Table.xml\n",
      "Filing found for cik 870481 at https://www.sec.gov/Archives/edgar/data/870481/000156761919004000/xslForm13F_X01/form13fInfoTable.xml\n",
      "Filing found for cik 9015 at https://www.sec.gov/Archives/edgar/data/9015/000000901519000006/xslForm13F_X01/13ffinal.xml\n",
      "Filing found for cik 914208 at https://www.sec.gov/Archives/edgar/data/914208/000091420819000182/xslForm13F_X01/form13fInfoTable.xml\n",
      "Filing found for cik 949509 at https://www.sec.gov/Archives/edgar/data/949509/000094950919000003/xslForm13F_X01/4Q18_13F_XML.xml\n",
      "Retry, could not parse cik 1027796 at: https://www.sec.gov/Archives/edgar/data/1027796/000156761919009752/xslForm13F_X01/form13fInfoTable.xml\n",
      "Retry, could not parse cik 1027796 at: https://www.sec.gov/Archives/edgar/data/1027796/000156761919009752/xslForm13F_X01/form13fInfoTable.xml\n",
      "Filing found for cik 1027796 at https://www.sec.gov/Archives/edgar/data/1027796/000156761919009752/xslForm13F_X01/form13fInfoTable.xml\n",
      "Filing found for cik 102909 at https://www.sec.gov/Archives/edgar/data/102909/000114420419026247/xslForm13F_X01/infotable.xml\n",
      "Retry, could not parse cik 1109448 at: https://www.sec.gov/Archives/edgar/data/1109448/000153215519000149/xslForm13F_X01/ACML_13F-HRInfoTable.xml\n",
      "Filing found for cik 1109448 at https://www.sec.gov/Archives/edgar/data/1109448/000153215519000149/xslForm13F_X01/ACML_13F-HRInfoTable.xml\n",
      "Retry, could not parse cik 1123274 at: https://www.sec.gov/Archives/edgar/data/1123274/000159946919000004/xslForm13F_X01/US13F_PCO_EUR_2019_Q1.xml\n",
      "Retry, could not parse cik 1123274 at: https://www.sec.gov/Archives/edgar/data/1123274/000159946919000004/xslForm13F_X01/US13F_PCO_EUR_2019_Q1.xml\n",
      "Filing found for cik 1123274 at https://www.sec.gov/Archives/edgar/data/1123274/000159946919000004/xslForm13F_X01/US13F_PCO_EUR_2019_Q1.xml\n",
      "Filing found for cik 1132716 at https://www.sec.gov/Archives/edgar/data/1132716/000113271619000007/xslForm13F_X01/ubsocQ1_19infotable.xml\n",
      "Retry, could not parse cik 1291274 at: https://www.sec.gov/Archives/edgar/data/1291274/000095012319004249/xslForm13F_X01/form13fInfoTable.xml\n",
      "Filing found for cik 1291274 at https://www.sec.gov/Archives/edgar/data/1291274/000095012319004249/xslForm13F_X01/form13fInfoTable.xml\n",
      "Retry, could not parse cik 1454937 at: https://www.sec.gov/Archives/edgar/data/1454937/000145493719000006/xslForm13F_X01/infotable.xml\n",
      "Retry, could not parse cik 1454937 at: https://www.sec.gov/Archives/edgar/data/1454937/000145493719000006/xslForm13F_X01/infotable.xml\n",
      "Retry, could not parse cik 1454937 at: https://www.sec.gov/Archives/edgar/data/1454937/000145493719000006/xslForm13F_X01/infotable.xml\n",
      "Filing found for cik 1454937 at https://www.sec.gov/Archives/edgar/data/1454937/000145493719000006/xslForm13F_X01/infotable.xml\n",
      "Filing found for cik 1502149 at https://www.sec.gov/Archives/edgar/data/1502149/000156761919010772/xslForm13F_X01/form13fInfoTable.xml\n",
      "Retry, could not parse cik 1535602 at: https://www.sec.gov/Archives/edgar/data/1535602/000153560219000004/xslForm13F_X01/US13F_PCO_2019_Q1.xml\n",
      "Filing found for cik 1535602 at https://www.sec.gov/Archives/edgar/data/1535602/000153560219000004/xslForm13F_X01/US13F_PCO_2019_Q1.xml\n",
      "Retry, could not parse cik 1535631 at: https://www.sec.gov/Archives/edgar/data/1535631/000153563119000001/xslForm13F_X01/US13F_PBT_2019_Q1.xml\n",
      "Filing found for cik 1535631 at https://www.sec.gov/Archives/edgar/data/1535631/000153563119000001/xslForm13F_X01/US13F_PBT_2019_Q1.xml\n",
      "Retry, could not parse cik 1599469 at: https://www.sec.gov/Archives/edgar/data/1599469/000159946919000003/xslForm13F_X01/US13F_BPCAL_2019_Q1.xml\n",
      "Filing found for cik 1599469 at https://www.sec.gov/Archives/edgar/data/1599469/000159946919000003/xslForm13F_X01/US13F_BPCAL_2019_Q1.xml\n",
      "Retry, could not parse cik 1599576 at: https://www.sec.gov/Archives/edgar/data/1599576/000159957619000002/xslForm13F_X01/US13F_PNAA_2019_Q1.xml\n",
      "Retry, could not parse cik 1599576 at: https://www.sec.gov/Archives/edgar/data/1599576/000159957619000002/xslForm13F_X01/US13F_PNAA_2019_Q1.xml\n",
      "Filing found for cik 1599576 at https://www.sec.gov/Archives/edgar/data/1599576/000159957619000002/xslForm13F_X01/US13F_PNAA_2019_Q1.xml\n",
      "Filing found for cik 1610520 at https://www.sec.gov/Archives/edgar/data/1610520/000095012319004687/xslForm13F_X01/form13fInfoTable.xml\n",
      "Filing found for cik 1730578 at https://www.sec.gov/Archives/edgar/data/1730578/000173057819000002/xslForm13F_X01/13f319.xml\n",
      "Filing found for cik 801051 at https://www.sec.gov/Archives/edgar/data/801051/000108514619001234/xslForm13F_X01/form13fInfoTable.xml\n",
      "Filing found for cik 861177 at https://www.sec.gov/Archives/edgar/data/861177/000086117719000010/xslForm13F_X01/Information_Table.xml\n",
      "Retry, could not parse cik 870481 at: https://www.sec.gov/Archives/edgar/data/870481/000156761919011097/xslForm13F_X01/form13fInfoTable.xml\n",
      "Filing found for cik 870481 at https://www.sec.gov/Archives/edgar/data/870481/000156761919011097/xslForm13F_X01/form13fInfoTable.xml\n",
      "Filing found for cik 9015 at https://www.sec.gov/Archives/edgar/data/9015/000000901519000020/xslForm13F_X01/13finformationtable.xml\n",
      "Filing found for cik 914208 at https://www.sec.gov/Archives/edgar/data/914208/000091420819000256/xslForm13F_X01/form13fInfoTable.xml\n",
      "Filing found for cik 949509 at https://www.sec.gov/Archives/edgar/data/949509/000094950919000006/xslForm13F_X01/1Q19_13F_XML.xml\n",
      "Filing found for cik 1027796 at https://www.sec.gov/Archives/edgar/data/1027796/000156761919015705/xslForm13F_X01/form13fInfoTable.xml\n",
      "Filing found for cik 102909 at https://www.sec.gov/Archives/edgar/data/102909/000114420419039761/xslForm13F_X01/infotable.xml\n",
      "Filing found for cik 1109448 at https://www.sec.gov/Archives/edgar/data/1109448/000153215519000185/xslForm13F_X01/ACML_13F-HRInfoTable.xml\n",
      "Filing found for cik 1123274 at https://www.sec.gov/Archives/edgar/data/1123274/000159957619000004/xslForm13F_X01/US13F_PCO_EUR_2019_Q2.xml\n"
     ]
    },
    {
     "name": "stdout",
     "output_type": "stream",
     "text": [
      "Filing found for cik 1132716 at https://www.sec.gov/Archives/edgar/data/1132716/000113271619000012/xslForm13F_X01/ubsocQ2_19infotable.xml\n",
      "Filing found for cik 1291274 at https://www.sec.gov/Archives/edgar/data/1291274/000095012319007727/xslForm13F_X01/form13fInfoTable.xml\n",
      "Filing found for cik 1454937 at https://www.sec.gov/Archives/edgar/data/1454937/000145493719000010/xslForm13F_X01/infotable.xml\n",
      "Filing found for cik 1502149 at https://www.sec.gov/Archives/edgar/data/1502149/000156761919017396/xslForm13F_X01/form13fInfoTable.xml\n",
      "Retry, could not parse cik 1535602 at: https://www.sec.gov/Archives/edgar/data/1535602/000159957619000007/xslForm13F_X01/US13F_PCO_2019_Q2.xml\n",
      "Retry, could not parse cik 1535602 at: https://www.sec.gov/Archives/edgar/data/1535602/000159957619000007/xslForm13F_X01/US13F_PCO_2019_Q2.xml\n",
      "Filing found for cik 1535602 at https://www.sec.gov/Archives/edgar/data/1535602/000159957619000007/xslForm13F_X01/US13F_PCO_2019_Q2.xml\n",
      "Filing found for cik 1535631 at https://www.sec.gov/Archives/edgar/data/1535631/000159957619000005/xslForm13F_X01/US13F_PBT_2019_Q2.xml\n",
      "Filing found for cik 1599469 at https://www.sec.gov/Archives/edgar/data/1599469/000159957619000006/xslForm13F_X01/US13F_BPCAL_2019_Q2.xml\n",
      "Retry, could not parse cik 1599576 at: https://www.sec.gov/Archives/edgar/data/1599576/000159957619000003/xslForm13F_X01/US13F_PNAA_2019_Q2.xml\n",
      "Retry, could not parse cik 1599576 at: https://www.sec.gov/Archives/edgar/data/1599576/000159957619000003/xslForm13F_X01/US13F_PNAA_2019_Q2.xml\n",
      "Filing found for cik 1599576 at https://www.sec.gov/Archives/edgar/data/1599576/000159957619000003/xslForm13F_X01/US13F_PNAA_2019_Q2.xml\n",
      "Retry, could not parse cik 1610520 at: https://www.sec.gov/Archives/edgar/data/1610520/000095012319007874/xslForm13F_X01/form13fInfoTable.xml\n",
      "Retry, could not parse cik 1610520 at: https://www.sec.gov/Archives/edgar/data/1610520/000095012319007874/xslForm13F_X01/form13fInfoTable.xml\n",
      "Filing found for cik 1610520 at https://www.sec.gov/Archives/edgar/data/1610520/000095012319007874/xslForm13F_X01/form13fInfoTable.xml\n",
      "Filing found for cik 1730578 at https://www.sec.gov/Archives/edgar/data/1730578/000173057819000003/xslForm13F_X01/13f619.xml\n",
      "Filing found for cik 801051 at https://www.sec.gov/Archives/edgar/data/801051/000108514619001969/xslForm13F_X01/form13fInfoTable.xml\n",
      "Filing found for cik 861177 at https://www.sec.gov/Archives/edgar/data/861177/000086117719000013/xslForm13F_X01/13f_final_version_2.xml\n",
      "Filing found for cik 870481 at https://www.sec.gov/Archives/edgar/data/870481/000156761919016782/xslForm13F_X01/form13fInfoTable.xml\n",
      "Retry, could not parse cik 9015 at: https://www.sec.gov/Archives/edgar/data/9015/000000901519000028/xslForm13F_X01/informationtable.xml\n",
      "Filing found for cik 9015 at https://www.sec.gov/Archives/edgar/data/9015/000000901519000028/xslForm13F_X01/informationtable.xml\n",
      "Filing found for cik 914208 at https://www.sec.gov/Archives/edgar/data/914208/000091420819000375/xslForm13F_X01/form13fInfoTable.xml\n",
      "Filing found for cik 949509 at https://www.sec.gov/Archives/edgar/data/949509/000094950919000008/xslForm13F_X01/2Q19_13F_XML.xml\n",
      "Retry, could not parse cik 1027796 at: https://www.sec.gov/Archives/edgar/data/1027796/000156761919020281/xslForm13F_X01/form13fInfoTable.xml\n",
      "Retry, could not parse cik 1027796 at: https://www.sec.gov/Archives/edgar/data/1027796/000156761919020281/xslForm13F_X01/form13fInfoTable.xml\n",
      "Filing found for cik 1027796 at https://www.sec.gov/Archives/edgar/data/1027796/000156761919020281/xslForm13F_X01/form13fInfoTable.xml\n",
      "Filing found for cik 102909 at https://www.sec.gov/Archives/edgar/data/102909/000110465919063765/xslForm13F_X01/infotable.xml\n",
      "Retry, could not parse cik 1109448 at: https://www.sec.gov/Archives/edgar/data/1109448/000153215519000210/xslForm13F_X01/ACMLSubmissionInfoTable.xml\n",
      "Filing found for cik 1109448 at https://www.sec.gov/Archives/edgar/data/1109448/000153215519000210/xslForm13F_X01/ACMLSubmissionInfoTable.xml\n",
      "Retry, could not parse cik 1123274 at: https://www.sec.gov/Archives/edgar/data/1123274/000112327419000003/xslForm13F_X01/US13F_PCO_EUR_2019_Q3.xml\n",
      "Filing found for cik 1123274 at https://www.sec.gov/Archives/edgar/data/1123274/000112327419000003/xslForm13F_X01/US13F_PCO_EUR_2019_Q3.xml\n",
      "Filing found for cik 1132716 at https://www.sec.gov/Archives/edgar/data/1132716/000113271619000018/xslForm13F_X01/ubsocQ3_19infotable.xml\n",
      "Retry, could not parse cik 1291274 at: https://www.sec.gov/Archives/edgar/data/1291274/000095012319010942/xslForm13F_X01/form13fInfoTable.xml\n",
      "Filing found for cik 1291274 at https://www.sec.gov/Archives/edgar/data/1291274/000095012319010942/xslForm13F_X01/form13fInfoTable.xml\n",
      "Filing found for cik 1454937 at https://www.sec.gov/Archives/edgar/data/1454937/000145493719000013/xslForm13F_X01/infotable.xml\n",
      "Filing found for cik 1502149 at https://www.sec.gov/Archives/edgar/data/1502149/000156761919020946/xslForm13F_X01/form13fInfoTable.xml\n",
      "Filing found for cik 1535602 at https://www.sec.gov/Archives/edgar/data/1535602/000153560219000005/xslForm13F_X01/US13F_PCO_2019_Q3.xml\n",
      "Filing found for cik 1535631 at https://www.sec.gov/Archives/edgar/data/1535631/000153563119000002/xslForm13F_X01/US13F_PBT_2019_Q3.xml\n",
      "Retry, could not parse cik 1599469 at: https://www.sec.gov/Archives/edgar/data/1599469/000159946919000005/xslForm13F_X01/US13F_BPCAL_2019_Q3.xml\n",
      "Filing found for cik 1599469 at https://www.sec.gov/Archives/edgar/data/1599469/000159946919000005/xslForm13F_X01/US13F_BPCAL_2019_Q3.xml\n",
      "Filing found for cik 1599576 at https://www.sec.gov/Archives/edgar/data/1599576/000159957619000008/xslForm13F_X01/US13F_PNAA_2019_Q3.xml\n",
      "Filing found for cik 1610520 at https://www.sec.gov/Archives/edgar/data/1610520/000095012319010978/xslForm13F_X01/form13fInfoTable.xml\n",
      "Filing found for cik 1730578 at https://www.sec.gov/Archives/edgar/data/1730578/000173057819000004/xslForm13F_X01/13f919.xml\n",
      "Filing found for cik 801051 at https://www.sec.gov/Archives/edgar/data/801051/000108514619002668/xslForm13F_X01/form13fInfoTable.xml\n",
      "Filing found for cik 861177 at https://www.sec.gov/Archives/edgar/data/861177/000086117719000014/xslForm13F_X01/Information_Table.xml\n",
      "Filing found for cik 870481 at https://www.sec.gov/Archives/edgar/data/870481/000156761919021400/xslForm13F_X01/form13fInfoTable.xml\n",
      "Filing found for cik 9015 at https://www.sec.gov/Archives/edgar/data/9015/000000901519000040/xslForm13F_X01/informationtable.xml\n",
      "Filing found for cik 914208 at https://www.sec.gov/Archives/edgar/data/914208/000091420819000451/xslForm13F_X01/form13fInfoTable.xml\n",
      "Filing found for cik 949509 at https://www.sec.gov/Archives/edgar/data/949509/000094950919000010/xslForm13F_X01/3Q19_13F_XML.xml\n"
     ]
    }
   ],
   "source": [
    "df_All_with2019 = {'quarter_' +str(i) : parser(unique_urls_list[i]) for i in range(4) }"
   ]
  },
  {
   "cell_type": "code",
   "execution_count": null,
   "metadata": {},
   "outputs": [],
   "source": []
  }
 ],
 "metadata": {
  "kernelspec": {
   "display_name": "Python 3",
   "language": "python",
   "name": "python3"
  },
  "language_info": {
   "codemirror_mode": {
    "name": "ipython",
    "version": 3
   },
   "file_extension": ".py",
   "mimetype": "text/x-python",
   "name": "python",
   "nbconvert_exporter": "python",
   "pygments_lexer": "ipython3",
   "version": "3.7.6"
  }
 },
 "nbformat": 4,
 "nbformat_minor": 4
}
