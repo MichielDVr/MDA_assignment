{
 "cells": [
  {
   "cell_type": "code",
   "execution_count": 27,
   "metadata": {},
   "outputs": [],
   "source": [
    "import pandas as pd\n",
    "import requests\n",
    "from bs4 import BeautifulSoup\n",
    "import csv \n",
    "import edgar\n",
    "import os\n",
    "import pickle\n",
    "import numpy as np\n",
    "import networkx as nx\n",
    "import matplotlib.pyplot as plt\n",
    "import plotly.express as px"
   ]
  },
  {
   "cell_type": "code",
   "execution_count": 2,
   "metadata": {},
   "outputs": [],
   "source": [
    "df=pickle.load(open(r'C:\\Users\\ANN SERENA\\Documents\\MDA project\\df_All_with2019',\"rb\"))"
   ]
  },
  {
   "cell_type": "code",
   "execution_count": 4,
   "metadata": {},
   "outputs": [],
   "source": [
    "df1 = df[\"2019 Q1\"] #first quarter of 2019"
   ]
  },
  {
   "cell_type": "code",
   "execution_count": 5,
   "metadata": {},
   "outputs": [],
   "source": [
    "labels = list(set(df1['Entity name'].str.lower()))"
   ]
  },
  {
   "cell_type": "code",
   "execution_count": 6,
   "metadata": {},
   "outputs": [
    {
     "data": {
      "text/html": [
       "<div>\n",
       "<style scoped>\n",
       "    .dataframe tbody tr th:only-of-type {\n",
       "        vertical-align: middle;\n",
       "    }\n",
       "\n",
       "    .dataframe tbody tr th {\n",
       "        vertical-align: top;\n",
       "    }\n",
       "\n",
       "    .dataframe thead th {\n",
       "        text-align: right;\n",
       "    }\n",
       "</style>\n",
       "<table border=\"1\" class=\"dataframe\">\n",
       "  <thead>\n",
       "    <tr style=\"text-align: right;\">\n",
       "      <th>2</th>\n",
       "      <th>filing index</th>\n",
       "      <th>date_reported</th>\n",
       "      <th>NAME OF ISSUER</th>\n",
       "      <th>TITLE OF CLASS</th>\n",
       "      <th>CUSIP</th>\n",
       "      <th>(x$1000)</th>\n",
       "      <th>PRN AMT</th>\n",
       "      <th>PRN</th>\n",
       "      <th>CIK</th>\n",
       "      <th>Entity name</th>\n",
       "    </tr>\n",
       "  </thead>\n",
       "  <tbody>\n",
       "    <tr>\n",
       "      <th>4</th>\n",
       "      <td>0001567619-20-008779</td>\n",
       "      <td>2020-05-01</td>\n",
       "      <td>ABBVIE INC.</td>\n",
       "      <td>COM</td>\n",
       "      <td>00287Y109</td>\n",
       "      <td>613</td>\n",
       "      <td>8049</td>\n",
       "      <td>SH</td>\n",
       "      <td>1027796</td>\n",
       "      <td>PZENA INVESTMENT MANAGEMENT LLC</td>\n",
       "    </tr>\n",
       "    <tr>\n",
       "      <th>5</th>\n",
       "      <td>0001567619-20-008779</td>\n",
       "      <td>2020-05-01</td>\n",
       "      <td>AECOM</td>\n",
       "      <td>COM</td>\n",
       "      <td>00766T100</td>\n",
       "      <td>38388</td>\n",
       "      <td>1286016</td>\n",
       "      <td>SH</td>\n",
       "      <td>1027796</td>\n",
       "      <td>PZENA INVESTMENT MANAGEMENT LLC</td>\n",
       "    </tr>\n",
       "    <tr>\n",
       "      <th>6</th>\n",
       "      <td>0001567619-20-008779</td>\n",
       "      <td>2020-05-01</td>\n",
       "      <td>ALEXION PHARMACEUTICALS INC.</td>\n",
       "      <td>COM</td>\n",
       "      <td>015351109</td>\n",
       "      <td>684</td>\n",
       "      <td>7617</td>\n",
       "      <td>SH</td>\n",
       "      <td>1027796</td>\n",
       "      <td>PZENA INVESTMENT MANAGEMENT LLC</td>\n",
       "    </tr>\n",
       "    <tr>\n",
       "      <th>7</th>\n",
       "      <td>0001567619-20-008779</td>\n",
       "      <td>2020-05-01</td>\n",
       "      <td>ALLSTATE CORPORATION</td>\n",
       "      <td>COM</td>\n",
       "      <td>020002101</td>\n",
       "      <td>22336</td>\n",
       "      <td>243501</td>\n",
       "      <td>SH</td>\n",
       "      <td>1027796</td>\n",
       "      <td>PZENA INVESTMENT MANAGEMENT LLC</td>\n",
       "    </tr>\n",
       "    <tr>\n",
       "      <th>8</th>\n",
       "      <td>0001567619-20-008779</td>\n",
       "      <td>2020-05-01</td>\n",
       "      <td>AMDOCS LIMITED</td>\n",
       "      <td>COM</td>\n",
       "      <td>G02602103</td>\n",
       "      <td>638</td>\n",
       "      <td>11601</td>\n",
       "      <td>SH</td>\n",
       "      <td>1027796</td>\n",
       "      <td>PZENA INVESTMENT MANAGEMENT LLC</td>\n",
       "    </tr>\n",
       "    <tr>\n",
       "      <th>...</th>\n",
       "      <td>...</td>\n",
       "      <td>...</td>\n",
       "      <td>...</td>\n",
       "      <td>...</td>\n",
       "      <td>...</td>\n",
       "      <td>...</td>\n",
       "      <td>...</td>\n",
       "      <td>...</td>\n",
       "      <td>...</td>\n",
       "      <td>...</td>\n",
       "    </tr>\n",
       "    <tr>\n",
       "      <th>178</th>\n",
       "      <td>0000949509-20-000003</td>\n",
       "      <td>2020-05-15</td>\n",
       "      <td>WESTERN DIGITAL CORP</td>\n",
       "      <td>CONVERTIBLE BOND</td>\n",
       "      <td>958102AP0</td>\n",
       "      <td>11068</td>\n",
       "      <td>12652000</td>\n",
       "      <td>PRN</td>\n",
       "      <td>949509</td>\n",
       "      <td>OAKTREE CAPITAL MANAGEMENT LP</td>\n",
       "    </tr>\n",
       "    <tr>\n",
       "      <th>179</th>\n",
       "      <td>0000949509-20-000003</td>\n",
       "      <td>2020-05-15</td>\n",
       "      <td>WILLIAMS COS INC/THE</td>\n",
       "      <td>COMMON STOCK</td>\n",
       "      <td>969457100</td>\n",
       "      <td>14150</td>\n",
       "      <td>1000000</td>\n",
       "      <td>SH</td>\n",
       "      <td>949509</td>\n",
       "      <td>OAKTREE CAPITAL MANAGEMENT LP</td>\n",
       "    </tr>\n",
       "    <tr>\n",
       "      <th>180</th>\n",
       "      <td>0000949509-20-000003</td>\n",
       "      <td>2020-05-15</td>\n",
       "      <td>WIX.COM LTD</td>\n",
       "      <td>CONVERTIBLE BOND</td>\n",
       "      <td>92940WAB5</td>\n",
       "      <td>1487</td>\n",
       "      <td>1500000</td>\n",
       "      <td>PRN</td>\n",
       "      <td>949509</td>\n",
       "      <td>OAKTREE CAPITAL MANAGEMENT LP</td>\n",
       "    </tr>\n",
       "    <tr>\n",
       "      <th>181</th>\n",
       "      <td>0000949509-20-000003</td>\n",
       "      <td>2020-05-15</td>\n",
       "      <td>WORKDAY INC</td>\n",
       "      <td>CONVERTIBLE BOND</td>\n",
       "      <td>98138HAF8</td>\n",
       "      <td>556</td>\n",
       "      <td>500000</td>\n",
       "      <td>PRN</td>\n",
       "      <td>949509</td>\n",
       "      <td>OAKTREE CAPITAL MANAGEMENT LP</td>\n",
       "    </tr>\n",
       "    <tr>\n",
       "      <th>182</th>\n",
       "      <td>0000949509-20-000003</td>\n",
       "      <td>2020-05-15</td>\n",
       "      <td>ZILLOW GROUP INC</td>\n",
       "      <td>CONVERTIBLE BOND</td>\n",
       "      <td>98954MAC5</td>\n",
       "      <td>4558</td>\n",
       "      <td>5376999</td>\n",
       "      <td>PRN</td>\n",
       "      <td>949509</td>\n",
       "      <td>OAKTREE CAPITAL MANAGEMENT LP</td>\n",
       "    </tr>\n",
       "  </tbody>\n",
       "</table>\n",
       "<p>70232 rows × 10 columns</p>\n",
       "</div>"
      ],
      "text/plain": [
       "2                  filing index date_reported                NAME OF ISSUER  \\\n",
       "4    0001567619-20-008779          2020-05-01                   ABBVIE INC.   \n",
       "5    0001567619-20-008779          2020-05-01                         AECOM   \n",
       "6    0001567619-20-008779          2020-05-01  ALEXION PHARMACEUTICALS INC.   \n",
       "7    0001567619-20-008779          2020-05-01          ALLSTATE CORPORATION   \n",
       "8    0001567619-20-008779          2020-05-01                AMDOCS LIMITED   \n",
       "..                          ...           ...                           ...   \n",
       "178  0000949509-20-000003          2020-05-15          WESTERN DIGITAL CORP   \n",
       "179  0000949509-20-000003          2020-05-15          WILLIAMS COS INC/THE   \n",
       "180  0000949509-20-000003          2020-05-15                   WIX.COM LTD   \n",
       "181  0000949509-20-000003          2020-05-15                   WORKDAY INC   \n",
       "182  0000949509-20-000003          2020-05-15              ZILLOW GROUP INC   \n",
       "\n",
       "2      TITLE OF CLASS      CUSIP (x$1000)   PRN AMT  PRN      CIK  \\\n",
       "4                 COM  00287Y109      613      8049   SH  1027796   \n",
       "5                 COM  00766T100    38388   1286016   SH  1027796   \n",
       "6                 COM  015351109      684      7617   SH  1027796   \n",
       "7                 COM  020002101    22336    243501   SH  1027796   \n",
       "8                 COM  G02602103      638     11601   SH  1027796   \n",
       "..                ...        ...      ...       ...  ...      ...   \n",
       "178  CONVERTIBLE BOND  958102AP0    11068  12652000  PRN   949509   \n",
       "179      COMMON STOCK  969457100    14150   1000000   SH   949509   \n",
       "180  CONVERTIBLE BOND  92940WAB5     1487   1500000  PRN   949509   \n",
       "181  CONVERTIBLE BOND  98138HAF8      556    500000  PRN   949509   \n",
       "182  CONVERTIBLE BOND  98954MAC5     4558   5376999  PRN   949509   \n",
       "\n",
       "2                         Entity name  \n",
       "4    PZENA INVESTMENT MANAGEMENT LLC   \n",
       "5    PZENA INVESTMENT MANAGEMENT LLC   \n",
       "6    PZENA INVESTMENT MANAGEMENT LLC   \n",
       "7    PZENA INVESTMENT MANAGEMENT LLC   \n",
       "8    PZENA INVESTMENT MANAGEMENT LLC   \n",
       "..                                ...  \n",
       "178    OAKTREE CAPITAL MANAGEMENT LP   \n",
       "179    OAKTREE CAPITAL MANAGEMENT LP   \n",
       "180    OAKTREE CAPITAL MANAGEMENT LP   \n",
       "181    OAKTREE CAPITAL MANAGEMENT LP   \n",
       "182    OAKTREE CAPITAL MANAGEMENT LP   \n",
       "\n",
       "[70232 rows x 10 columns]"
      ]
     },
     "execution_count": 6,
     "metadata": {},
     "output_type": "execute_result"
    }
   ],
   "source": [
    "df6=df[\"2020 Q2\"]\n",
    "df6"
   ]
  },
  {
   "cell_type": "code",
   "execution_count": 7,
   "metadata": {},
   "outputs": [],
   "source": [
    "labels6=list(set(df6['Entity name'].str.lower()))"
   ]
  },
  {
   "cell_type": "code",
   "execution_count": 8,
   "metadata": {},
   "outputs": [],
   "source": [
    "adj1= pickle.load(open(r\"C:\\Users\\ANN SERENA\\Desktop\\Adjacency matrices\\adj_19q1\", \"rb\"))\n",
    "adj2= pickle.load(open(r\"C:\\Users\\ANN SERENA\\Desktop\\Adjacency matrices\\adj_19q2\", \"rb\"))\n",
    "adj3= pickle.load(open(r\"C:\\Users\\ANN SERENA\\Desktop\\Adjacency matrices\\adj_19q3\", \"rb\"))\n",
    "adj4= pickle.load(open(r\"C:\\Users\\ANN SERENA\\Desktop\\Adjacency matrices\\adj_19q4\", \"rb\"))\n",
    "adj5= pickle.load(open(r\"C:\\Users\\ANN SERENA\\Desktop\\Adjacency matrices\\adj_20q1\", \"rb\"))\n",
    "adj6= pickle.load(open(r\"C:\\Users\\ANN SERENA\\Desktop\\Adjacency matrices\\adj_20q2\", \"rb\"))\n",
    "adj7= pickle.load(open(r\"C:\\Users\\ANN SERENA\\Desktop\\Adjacency matrices\\adj_20q3\", \"rb\"))\n",
    "adj8= pickle.load(open(r\"C:\\Users\\ANN SERENA\\Desktop\\Adjacency matrices\\adj_20q4\", \"rb\"))\n",
    "adj9= pickle.load(open(r\"C:\\Users\\ANN SERENA\\Desktop\\Adjacency matrices\\adj_21q1\", \"rb\"))"
   ]
  },
  {
   "cell_type": "code",
   "execution_count": 9,
   "metadata": {},
   "outputs": [],
   "source": [
    "np.random.seed(3)\n",
    "G1 = nx.from_numpy_matrix(adj1)\n",
    "G2 = nx.from_numpy_matrix(adj2)\n",
    "G3 = nx.from_numpy_matrix(adj3)\n",
    "G4 = nx.from_numpy_matrix(adj4)\n",
    "G5 = nx.from_numpy_matrix(adj5)\n",
    "G6 = nx.from_numpy_matrix(adj6)\n",
    "G7 = nx.from_numpy_matrix(adj7)\n",
    "G8 = nx.from_numpy_matrix(adj8)\n",
    "G9 = nx.from_numpy_matrix(adj9)"
   ]
  },
  {
   "cell_type": "markdown",
   "metadata": {},
   "source": [
    "Centrality measures for 2019"
   ]
  },
  {
   "cell_type": "code",
   "execution_count": 10,
   "metadata": {},
   "outputs": [],
   "source": [
    "bb1 = nx.betweenness_centrality(G1)\n",
    "cc1 = nx.closeness_centrality(G1)\n",
    "dc1 = nx.degree_centrality(G1)\n",
    "centrality = {j:{'betweenness':bb1[j],'closeness': cc1[j],'degree': dc1[j]} for i,j in enumerate(G1.nodes)}\n",
    "nx.set_node_attributes(G1, centrality)\n",
    "\n",
    "bb2 = nx.betweenness_centrality(G2)\n",
    "cc2 = nx.closeness_centrality(G2)\n",
    "dc2 = nx.degree_centrality(G2)\n",
    "centrality = {j:{'betweenness':bb2[j],'closeness': cc2[j],'degree': dc2[j]} for i,j in enumerate(G2.nodes)}\n",
    "nx.set_node_attributes(G2, centrality)\n",
    "\n",
    "bb3 = nx.betweenness_centrality(G3)\n",
    "cc3 = nx.closeness_centrality(G3)\n",
    "dc3 = nx.degree_centrality(G3)\n",
    "centrality = {j:{'betweenness':bb3[j],'closeness': cc3[j],'degree': dc3[j]} for i,j in enumerate(G3.nodes)}\n",
    "nx.set_node_attributes(G3, centrality)\n",
    "\n",
    "bb4 = nx.betweenness_centrality(G4)\n",
    "cc4 = nx.closeness_centrality(G4)\n",
    "dc4 = nx.degree_centrality(G4)\n",
    "centrality = {j:{'betweenness':bb4[j],'closeness': cc4[j],'degree': dc4[j]} for i,j in enumerate(G4.nodes)}\n",
    "nx.set_node_attributes(G4, centrality)"
   ]
  },
  {
   "cell_type": "code",
   "execution_count": 11,
   "metadata": {},
   "outputs": [],
   "source": [
    "summary1= pd.DataFrame({'betweenness':bb1, 'closeness':cc1, 'degree':dc1}).reset_index()\n",
    "summary1['index']=labels\n",
    "summary2= pd.DataFrame({'betweenness':bb2, 'closeness':cc2, 'degree':dc2}).reset_index()\n",
    "summary2['index']=labels\n",
    "summary3= pd.DataFrame({'betweenness':bb3, 'closeness':cc3, 'degree':dc3}).reset_index()\n",
    "summary3['index']=labels\n",
    "summary4= pd.DataFrame({'betweenness':bb4, 'closeness':cc4, 'degree':dc4}).reset_index()\n",
    "summary4['index']=labels"
   ]
  },
  {
   "cell_type": "code",
   "execution_count": 12,
   "metadata": {},
   "outputs": [
    {
     "data": {
      "text/html": [
       "<div>\n",
       "<style scoped>\n",
       "    .dataframe tbody tr th:only-of-type {\n",
       "        vertical-align: middle;\n",
       "    }\n",
       "\n",
       "    .dataframe tbody tr th {\n",
       "        vertical-align: top;\n",
       "    }\n",
       "\n",
       "    .dataframe thead th {\n",
       "        text-align: right;\n",
       "    }\n",
       "</style>\n",
       "<table border=\"1\" class=\"dataframe\">\n",
       "  <thead>\n",
       "    <tr style=\"text-align: right;\">\n",
       "      <th></th>\n",
       "      <th>index</th>\n",
       "      <th>betweenness</th>\n",
       "      <th>closeness</th>\n",
       "      <th>degree</th>\n",
       "    </tr>\n",
       "  </thead>\n",
       "  <tbody>\n",
       "    <tr>\n",
       "      <th>0</th>\n",
       "      <td>vanguard group inc</td>\n",
       "      <td>0.001170</td>\n",
       "      <td>0.950000</td>\n",
       "      <td>1.052632</td>\n",
       "    </tr>\n",
       "    <tr>\n",
       "      <th>1</th>\n",
       "      <td>invesco senior secured management inc /adv</td>\n",
       "      <td>0.005476</td>\n",
       "      <td>1.000000</td>\n",
       "      <td>1.105263</td>\n",
       "    </tr>\n",
       "    <tr>\n",
       "      <th>2</th>\n",
       "      <td>invesco ltd.</td>\n",
       "      <td>0.005476</td>\n",
       "      <td>1.000000</td>\n",
       "      <td>1.105263</td>\n",
       "    </tr>\n",
       "    <tr>\n",
       "      <th>3</th>\n",
       "      <td>ubs group ag</td>\n",
       "      <td>0.001170</td>\n",
       "      <td>0.950000</td>\n",
       "      <td>1.052632</td>\n",
       "    </tr>\n",
       "    <tr>\n",
       "      <th>4</th>\n",
       "      <td>ubs oconnor llc</td>\n",
       "      <td>0.001170</td>\n",
       "      <td>0.950000</td>\n",
       "      <td>1.052632</td>\n",
       "    </tr>\n",
       "    <tr>\n",
       "      <th>...</th>\n",
       "      <td>...</td>\n",
       "      <td>...</td>\n",
       "      <td>...</td>\n",
       "      <td>...</td>\n",
       "    </tr>\n",
       "    <tr>\n",
       "      <th>15</th>\n",
       "      <td>aegon usa investment management, llc</td>\n",
       "      <td>0.007654</td>\n",
       "      <td>1.000000</td>\n",
       "      <td>1.105263</td>\n",
       "    </tr>\n",
       "    <tr>\n",
       "      <th>16</th>\n",
       "      <td>pictet north america advisors sa</td>\n",
       "      <td>0.000975</td>\n",
       "      <td>0.730769</td>\n",
       "      <td>0.736842</td>\n",
       "    </tr>\n",
       "    <tr>\n",
       "      <th>17</th>\n",
       "      <td>bank pictet &amp; cie (asia) ltd</td>\n",
       "      <td>0.007654</td>\n",
       "      <td>1.000000</td>\n",
       "      <td>1.105263</td>\n",
       "    </tr>\n",
       "    <tr>\n",
       "      <th>18</th>\n",
       "      <td>transamerica financial advisors, inc.</td>\n",
       "      <td>0.007654</td>\n",
       "      <td>1.000000</td>\n",
       "      <td>1.105263</td>\n",
       "    </tr>\n",
       "    <tr>\n",
       "      <th>19</th>\n",
       "      <td>ubs asset management americas inc</td>\n",
       "      <td>0.006778</td>\n",
       "      <td>0.950000</td>\n",
       "      <td>1.052632</td>\n",
       "    </tr>\n",
       "  </tbody>\n",
       "</table>\n",
       "<p>80 rows × 4 columns</p>\n",
       "</div>"
      ],
      "text/plain": [
       "                                          index  betweenness  closeness  \\\n",
       "0                           vanguard group inc      0.001170   0.950000   \n",
       "1   invesco senior secured management inc /adv      0.005476   1.000000   \n",
       "2                                 invesco ltd.      0.005476   1.000000   \n",
       "3                                 ubs group ag      0.001170   0.950000   \n",
       "4                              ubs oconnor llc      0.001170   0.950000   \n",
       "..                                          ...          ...        ...   \n",
       "15        aegon usa investment management, llc      0.007654   1.000000   \n",
       "16            pictet north america advisors sa      0.000975   0.730769   \n",
       "17                bank pictet & cie (asia) ltd      0.007654   1.000000   \n",
       "18       transamerica financial advisors, inc.      0.007654   1.000000   \n",
       "19           ubs asset management americas inc      0.006778   0.950000   \n",
       "\n",
       "      degree  \n",
       "0   1.052632  \n",
       "1   1.105263  \n",
       "2   1.105263  \n",
       "3   1.052632  \n",
       "4   1.052632  \n",
       "..       ...  \n",
       "15  1.105263  \n",
       "16  0.736842  \n",
       "17  1.105263  \n",
       "18  1.105263  \n",
       "19  1.052632  \n",
       "\n",
       "[80 rows x 4 columns]"
      ]
     },
     "execution_count": 12,
     "metadata": {},
     "output_type": "execute_result"
    }
   ],
   "source": [
    "frames1= [summary1, summary2, summary3, summary4]\n",
    "result1=pd.concat(frames1)\n",
    "result1"
   ]
  },
  {
   "cell_type": "markdown",
   "metadata": {},
   "source": [
    "Centrality measures for 2020"
   ]
  },
  {
   "cell_type": "code",
   "execution_count": 13,
   "metadata": {},
   "outputs": [],
   "source": [
    "bb5 = nx.betweenness_centrality(G5)\n",
    "cc5 = nx.closeness_centrality(G5)\n",
    "dc5 = nx.degree_centrality(G5)\n",
    "centrality = {j:{'betweenness':bb5[j],'closeness': cc5[j],'degree': dc5[j]} for i,j in enumerate(G5.nodes)}\n",
    "nx.set_node_attributes(G5, centrality)\n",
    "\n",
    "bb6 = nx.betweenness_centrality(G6)\n",
    "cc6 = nx.closeness_centrality(G6)\n",
    "dc6 = nx.degree_centrality(G6)\n",
    "centrality = {j:{'betweenness':bb6[j],'closeness': cc6[j],'degree': dc6[j]} for i,j in enumerate(G6.nodes)}\n",
    "nx.set_node_attributes(G6, centrality)\n",
    "\n",
    "bb7 = nx.betweenness_centrality(G7)\n",
    "cc7 = nx.closeness_centrality(G7)\n",
    "dc7 = nx.degree_centrality(G7)\n",
    "centrality = {j:{'betweenness':bb7[j],'closeness': cc7[j],'degree': dc7[j]} for i,j in enumerate(G7.nodes)}\n",
    "nx.set_node_attributes(G7, centrality)\n",
    "\n",
    "bb8 = nx.betweenness_centrality(G8)\n",
    "cc8 = nx.closeness_centrality(G8)\n",
    "dc8 = nx.degree_centrality(G8)\n",
    "centrality = {j:{'betweenness':bb8[j],'closeness': cc8[j],'degree': dc8[j]} for i,j in enumerate(G8.nodes)}\n",
    "nx.set_node_attributes(G8, centrality)"
   ]
  },
  {
   "cell_type": "code",
   "execution_count": 16,
   "metadata": {},
   "outputs": [],
   "source": [
    "summary5= pd.DataFrame({'betweenness':bb5, 'closeness':cc5, 'degree':dc5}).reset_index()\n",
    "summary5['index']=labels\n",
    "summary6= pd.DataFrame({'betweenness':bb6, 'closeness':cc6, 'degree':dc6}).reset_index()\n",
    "summary6['index']=labels6\n",
    "summary7= pd.DataFrame({'betweenness':bb7, 'closeness':cc7, 'degree':dc7}).reset_index()\n",
    "summary7['index']=labels\n",
    "summary8= pd.DataFrame({'betweenness':bb8, 'closeness':cc8, 'degree':dc8}).reset_index()\n",
    "summary8['index']=labels6"
   ]
  },
  {
   "cell_type": "code",
   "execution_count": 17,
   "metadata": {},
   "outputs": [
    {
     "data": {
      "text/html": [
       "<div>\n",
       "<style scoped>\n",
       "    .dataframe tbody tr th:only-of-type {\n",
       "        vertical-align: middle;\n",
       "    }\n",
       "\n",
       "    .dataframe tbody tr th {\n",
       "        vertical-align: top;\n",
       "    }\n",
       "\n",
       "    .dataframe thead th {\n",
       "        text-align: right;\n",
       "    }\n",
       "</style>\n",
       "<table border=\"1\" class=\"dataframe\">\n",
       "  <thead>\n",
       "    <tr style=\"text-align: right;\">\n",
       "      <th></th>\n",
       "      <th>index</th>\n",
       "      <th>betweenness</th>\n",
       "      <th>closeness</th>\n",
       "      <th>degree</th>\n",
       "    </tr>\n",
       "  </thead>\n",
       "  <tbody>\n",
       "    <tr>\n",
       "      <th>0</th>\n",
       "      <td>vanguard group inc</td>\n",
       "      <td>0.004021</td>\n",
       "      <td>0.950000</td>\n",
       "      <td>1.052632</td>\n",
       "    </tr>\n",
       "    <tr>\n",
       "      <th>1</th>\n",
       "      <td>invesco senior secured management inc /adv</td>\n",
       "      <td>0.006908</td>\n",
       "      <td>1.000000</td>\n",
       "      <td>1.105263</td>\n",
       "    </tr>\n",
       "    <tr>\n",
       "      <th>2</th>\n",
       "      <td>invesco ltd.</td>\n",
       "      <td>0.006908</td>\n",
       "      <td>1.000000</td>\n",
       "      <td>1.105263</td>\n",
       "    </tr>\n",
       "    <tr>\n",
       "      <th>3</th>\n",
       "      <td>ubs group ag</td>\n",
       "      <td>0.000344</td>\n",
       "      <td>0.904762</td>\n",
       "      <td>1.000000</td>\n",
       "    </tr>\n",
       "    <tr>\n",
       "      <th>4</th>\n",
       "      <td>ubs oconnor llc</td>\n",
       "      <td>0.006908</td>\n",
       "      <td>1.000000</td>\n",
       "      <td>1.105263</td>\n",
       "    </tr>\n",
       "    <tr>\n",
       "      <th>...</th>\n",
       "      <td>...</td>\n",
       "      <td>...</td>\n",
       "      <td>...</td>\n",
       "      <td>...</td>\n",
       "    </tr>\n",
       "    <tr>\n",
       "      <th>14</th>\n",
       "      <td>aegon usa investment management, llc</td>\n",
       "      <td>0.008102</td>\n",
       "      <td>1.000000</td>\n",
       "      <td>1.111111</td>\n",
       "    </tr>\n",
       "    <tr>\n",
       "      <th>15</th>\n",
       "      <td>pictet north america advisors sa</td>\n",
       "      <td>0.000545</td>\n",
       "      <td>0.750000</td>\n",
       "      <td>0.777778</td>\n",
       "    </tr>\n",
       "    <tr>\n",
       "      <th>16</th>\n",
       "      <td>bank pictet &amp; cie (asia) ltd</td>\n",
       "      <td>0.008102</td>\n",
       "      <td>1.000000</td>\n",
       "      <td>1.111111</td>\n",
       "    </tr>\n",
       "    <tr>\n",
       "      <th>17</th>\n",
       "      <td>transamerica financial advisors, inc.</td>\n",
       "      <td>0.008102</td>\n",
       "      <td>1.000000</td>\n",
       "      <td>1.111111</td>\n",
       "    </tr>\n",
       "    <tr>\n",
       "      <th>18</th>\n",
       "      <td>ubs asset management americas inc</td>\n",
       "      <td>0.005298</td>\n",
       "      <td>0.900000</td>\n",
       "      <td>1.000000</td>\n",
       "    </tr>\n",
       "  </tbody>\n",
       "</table>\n",
       "<p>78 rows × 4 columns</p>\n",
       "</div>"
      ],
      "text/plain": [
       "                                          index  betweenness  closeness  \\\n",
       "0                           vanguard group inc      0.004021   0.950000   \n",
       "1   invesco senior secured management inc /adv      0.006908   1.000000   \n",
       "2                                 invesco ltd.      0.006908   1.000000   \n",
       "3                                 ubs group ag      0.000344   0.904762   \n",
       "4                              ubs oconnor llc      0.006908   1.000000   \n",
       "..                                          ...          ...        ...   \n",
       "14        aegon usa investment management, llc      0.008102   1.000000   \n",
       "15            pictet north america advisors sa      0.000545   0.750000   \n",
       "16                bank pictet & cie (asia) ltd      0.008102   1.000000   \n",
       "17       transamerica financial advisors, inc.      0.008102   1.000000   \n",
       "18           ubs asset management americas inc      0.005298   0.900000   \n",
       "\n",
       "      degree  \n",
       "0   1.052632  \n",
       "1   1.105263  \n",
       "2   1.105263  \n",
       "3   1.000000  \n",
       "4   1.105263  \n",
       "..       ...  \n",
       "14  1.111111  \n",
       "15  0.777778  \n",
       "16  1.111111  \n",
       "17  1.111111  \n",
       "18  1.000000  \n",
       "\n",
       "[78 rows x 4 columns]"
      ]
     },
     "execution_count": 17,
     "metadata": {},
     "output_type": "execute_result"
    }
   ],
   "source": [
    "frames2= [summary5, summary6, summary7, summary8]\n",
    "result2=pd.concat(frames2)\n",
    "result2"
   ]
  },
  {
   "cell_type": "markdown",
   "metadata": {},
   "source": [
    "Centrality measures for 2021"
   ]
  },
  {
   "cell_type": "code",
   "execution_count": 18,
   "metadata": {},
   "outputs": [],
   "source": [
    "bb9 = nx.betweenness_centrality(G9)\n",
    "cc9 = nx.closeness_centrality(G9)\n",
    "dc9 = nx.degree_centrality(G9)\n",
    "centrality = {j:{'betweenness':bb9[j],'closeness': cc9[j],'degree': dc9[j]} for i,j in enumerate(G9.nodes)}\n",
    "nx.set_node_attributes(G9, centrality)\n",
    "summary9= pd.DataFrame({'betweenness':bb9, 'closeness':cc9, 'degree':dc9}).reset_index()\n",
    "summary9['index']=labels"
   ]
  },
  {
   "cell_type": "code",
   "execution_count": 19,
   "metadata": {},
   "outputs": [
    {
     "data": {
      "text/html": [
       "<div>\n",
       "<style scoped>\n",
       "    .dataframe tbody tr th:only-of-type {\n",
       "        vertical-align: middle;\n",
       "    }\n",
       "\n",
       "    .dataframe tbody tr th {\n",
       "        vertical-align: top;\n",
       "    }\n",
       "\n",
       "    .dataframe thead th {\n",
       "        text-align: right;\n",
       "    }\n",
       "</style>\n",
       "<table border=\"1\" class=\"dataframe\">\n",
       "  <thead>\n",
       "    <tr style=\"text-align: right;\">\n",
       "      <th></th>\n",
       "      <th>index</th>\n",
       "      <th>betweenness</th>\n",
       "      <th>closeness</th>\n",
       "      <th>degree</th>\n",
       "    </tr>\n",
       "  </thead>\n",
       "  <tbody>\n",
       "    <tr>\n",
       "      <th>0</th>\n",
       "      <td>vanguard group inc</td>\n",
       "      <td>0.001170</td>\n",
       "      <td>0.950000</td>\n",
       "      <td>1.052632</td>\n",
       "    </tr>\n",
       "    <tr>\n",
       "      <th>1</th>\n",
       "      <td>invesco senior secured management inc /adv</td>\n",
       "      <td>0.005476</td>\n",
       "      <td>1.000000</td>\n",
       "      <td>1.105263</td>\n",
       "    </tr>\n",
       "    <tr>\n",
       "      <th>2</th>\n",
       "      <td>invesco ltd.</td>\n",
       "      <td>0.005476</td>\n",
       "      <td>1.000000</td>\n",
       "      <td>1.105263</td>\n",
       "    </tr>\n",
       "    <tr>\n",
       "      <th>3</th>\n",
       "      <td>ubs group ag</td>\n",
       "      <td>0.001170</td>\n",
       "      <td>0.950000</td>\n",
       "      <td>1.052632</td>\n",
       "    </tr>\n",
       "    <tr>\n",
       "      <th>4</th>\n",
       "      <td>ubs oconnor llc</td>\n",
       "      <td>0.001170</td>\n",
       "      <td>0.950000</td>\n",
       "      <td>1.052632</td>\n",
       "    </tr>\n",
       "    <tr>\n",
       "      <th>...</th>\n",
       "      <td>...</td>\n",
       "      <td>...</td>\n",
       "      <td>...</td>\n",
       "      <td>...</td>\n",
       "    </tr>\n",
       "    <tr>\n",
       "      <th>15</th>\n",
       "      <td>aegon usa investment management, llc</td>\n",
       "      <td>0.006961</td>\n",
       "      <td>1.000000</td>\n",
       "      <td>1.105263</td>\n",
       "    </tr>\n",
       "    <tr>\n",
       "      <th>16</th>\n",
       "      <td>pictet north america advisors sa</td>\n",
       "      <td>0.000390</td>\n",
       "      <td>0.703704</td>\n",
       "      <td>0.684211</td>\n",
       "    </tr>\n",
       "    <tr>\n",
       "      <th>17</th>\n",
       "      <td>bank pictet &amp; cie (asia) ltd</td>\n",
       "      <td>0.002430</td>\n",
       "      <td>0.950000</td>\n",
       "      <td>1.052632</td>\n",
       "    </tr>\n",
       "    <tr>\n",
       "      <th>18</th>\n",
       "      <td>transamerica financial advisors, inc.</td>\n",
       "      <td>0.006961</td>\n",
       "      <td>1.000000</td>\n",
       "      <td>1.105263</td>\n",
       "    </tr>\n",
       "    <tr>\n",
       "      <th>19</th>\n",
       "      <td>ubs asset management americas inc</td>\n",
       "      <td>0.004521</td>\n",
       "      <td>0.904762</td>\n",
       "      <td>1.000000</td>\n",
       "    </tr>\n",
       "  </tbody>\n",
       "</table>\n",
       "<p>178 rows × 4 columns</p>\n",
       "</div>"
      ],
      "text/plain": [
       "                                          index  betweenness  closeness  \\\n",
       "0                           vanguard group inc      0.001170   0.950000   \n",
       "1   invesco senior secured management inc /adv      0.005476   1.000000   \n",
       "2                                 invesco ltd.      0.005476   1.000000   \n",
       "3                                 ubs group ag      0.001170   0.950000   \n",
       "4                              ubs oconnor llc      0.001170   0.950000   \n",
       "..                                          ...          ...        ...   \n",
       "15        aegon usa investment management, llc      0.006961   1.000000   \n",
       "16            pictet north america advisors sa      0.000390   0.703704   \n",
       "17                bank pictet & cie (asia) ltd      0.002430   0.950000   \n",
       "18       transamerica financial advisors, inc.      0.006961   1.000000   \n",
       "19           ubs asset management americas inc      0.004521   0.904762   \n",
       "\n",
       "      degree  \n",
       "0   1.052632  \n",
       "1   1.105263  \n",
       "2   1.105263  \n",
       "3   1.052632  \n",
       "4   1.052632  \n",
       "..       ...  \n",
       "15  1.105263  \n",
       "16  0.684211  \n",
       "17  1.052632  \n",
       "18  1.105263  \n",
       "19  1.000000  \n",
       "\n",
       "[178 rows x 4 columns]"
      ]
     },
     "execution_count": 19,
     "metadata": {},
     "output_type": "execute_result"
    }
   ],
   "source": [
    "concat= [result1, result2,summary9]\n",
    "finaltable= pd.concat(concat)\n",
    "finaltable"
   ]
  },
  {
   "cell_type": "markdown",
   "metadata": {},
   "source": [
    "Add a column with time"
   ]
  },
  {
   "cell_type": "code",
   "execution_count": 20,
   "metadata": {},
   "outputs": [],
   "source": [
    "#create a date column\n",
    "q1_2019 = np.array('February 2019')\n",
    "q2_2019=np.array('May 2019')\n",
    "q3_2019=np.array('August 2019')\n",
    "q4_2019=np.array('November 2019')\n",
    "q1_2020=np.array('February 2020')\n",
    "q2_2020=np.array('May 2020')\n",
    "q3_2020=np.array('August 2020')\n",
    "q4_2020=np.array('November 2020')\n",
    "q1_2021=np.array('February 2021')"
   ]
  },
  {
   "cell_type": "code",
   "execution_count": 21,
   "metadata": {},
   "outputs": [],
   "source": [
    "q1_2019=pd.DataFrame({'Time':np.repeat(q1_2019, 20)})\n",
    "q2_2019=pd.DataFrame({'Time':np.repeat(q2_2019, 20)})\n",
    "q3_2019=pd.DataFrame({'Time':np.repeat(q3_2019, 20)})\n",
    "q4_2019=pd.DataFrame({'Time':np.repeat(q4_2019, 20)})\n",
    "q1_2020=pd.DataFrame({'Time':np.repeat(q1_2020, 20)})\n",
    "q2_2020=pd.DataFrame({'Time':np.repeat(q2_2020, 19)})\n",
    "q3_2020=pd.DataFrame({'Time':np.repeat(q3_2020, 20)})\n",
    "q4_2020=pd.DataFrame({'Time':np.repeat(q4_2020, 19)})\n",
    "q1_2021=pd.DataFrame({'Time':np.repeat(q1_2021, 20)})"
   ]
  },
  {
   "cell_type": "code",
   "execution_count": 22,
   "metadata": {},
   "outputs": [],
   "source": [
    "timeconcat=[q1_2019,q2_2019,q3_2019,q4_2019,q1_2020,q2_2020,q3_2020,q4_2020,q1_2021]"
   ]
  },
  {
   "cell_type": "code",
   "execution_count": 23,
   "metadata": {},
   "outputs": [
    {
     "data": {
      "text/html": [
       "<div>\n",
       "<style scoped>\n",
       "    .dataframe tbody tr th:only-of-type {\n",
       "        vertical-align: middle;\n",
       "    }\n",
       "\n",
       "    .dataframe tbody tr th {\n",
       "        vertical-align: top;\n",
       "    }\n",
       "\n",
       "    .dataframe thead th {\n",
       "        text-align: right;\n",
       "    }\n",
       "</style>\n",
       "<table border=\"1\" class=\"dataframe\">\n",
       "  <thead>\n",
       "    <tr style=\"text-align: right;\">\n",
       "      <th></th>\n",
       "      <th>Time</th>\n",
       "    </tr>\n",
       "  </thead>\n",
       "  <tbody>\n",
       "    <tr>\n",
       "      <th>0</th>\n",
       "      <td>February 2019</td>\n",
       "    </tr>\n",
       "    <tr>\n",
       "      <th>1</th>\n",
       "      <td>February 2019</td>\n",
       "    </tr>\n",
       "    <tr>\n",
       "      <th>2</th>\n",
       "      <td>February 2019</td>\n",
       "    </tr>\n",
       "    <tr>\n",
       "      <th>3</th>\n",
       "      <td>February 2019</td>\n",
       "    </tr>\n",
       "    <tr>\n",
       "      <th>4</th>\n",
       "      <td>February 2019</td>\n",
       "    </tr>\n",
       "    <tr>\n",
       "      <th>...</th>\n",
       "      <td>...</td>\n",
       "    </tr>\n",
       "    <tr>\n",
       "      <th>15</th>\n",
       "      <td>February 2021</td>\n",
       "    </tr>\n",
       "    <tr>\n",
       "      <th>16</th>\n",
       "      <td>February 2021</td>\n",
       "    </tr>\n",
       "    <tr>\n",
       "      <th>17</th>\n",
       "      <td>February 2021</td>\n",
       "    </tr>\n",
       "    <tr>\n",
       "      <th>18</th>\n",
       "      <td>February 2021</td>\n",
       "    </tr>\n",
       "    <tr>\n",
       "      <th>19</th>\n",
       "      <td>February 2021</td>\n",
       "    </tr>\n",
       "  </tbody>\n",
       "</table>\n",
       "<p>178 rows × 1 columns</p>\n",
       "</div>"
      ],
      "text/plain": [
       "             Time\n",
       "0   February 2019\n",
       "1   February 2019\n",
       "2   February 2019\n",
       "3   February 2019\n",
       "4   February 2019\n",
       "..            ...\n",
       "15  February 2021\n",
       "16  February 2021\n",
       "17  February 2021\n",
       "18  February 2021\n",
       "19  February 2021\n",
       "\n",
       "[178 rows x 1 columns]"
      ]
     },
     "execution_count": 23,
     "metadata": {},
     "output_type": "execute_result"
    }
   ],
   "source": [
    "time=pd.concat(timeconcat)\n",
    "time"
   ]
  },
  {
   "cell_type": "code",
   "execution_count": 24,
   "metadata": {},
   "outputs": [
    {
     "data": {
      "text/html": [
       "<div>\n",
       "<style scoped>\n",
       "    .dataframe tbody tr th:only-of-type {\n",
       "        vertical-align: middle;\n",
       "    }\n",
       "\n",
       "    .dataframe tbody tr th {\n",
       "        vertical-align: top;\n",
       "    }\n",
       "\n",
       "    .dataframe thead th {\n",
       "        text-align: right;\n",
       "    }\n",
       "</style>\n",
       "<table border=\"1\" class=\"dataframe\">\n",
       "  <thead>\n",
       "    <tr style=\"text-align: right;\">\n",
       "      <th></th>\n",
       "      <th>index</th>\n",
       "      <th>betweenness</th>\n",
       "      <th>closeness</th>\n",
       "      <th>degree</th>\n",
       "      <th>Time</th>\n",
       "    </tr>\n",
       "  </thead>\n",
       "  <tbody>\n",
       "    <tr>\n",
       "      <th>0</th>\n",
       "      <td>vanguard group inc</td>\n",
       "      <td>0.001170</td>\n",
       "      <td>0.950000</td>\n",
       "      <td>1.052632</td>\n",
       "      <td>February 2019</td>\n",
       "    </tr>\n",
       "    <tr>\n",
       "      <th>1</th>\n",
       "      <td>invesco senior secured management inc /adv</td>\n",
       "      <td>0.005476</td>\n",
       "      <td>1.000000</td>\n",
       "      <td>1.105263</td>\n",
       "      <td>February 2019</td>\n",
       "    </tr>\n",
       "    <tr>\n",
       "      <th>2</th>\n",
       "      <td>invesco ltd.</td>\n",
       "      <td>0.005476</td>\n",
       "      <td>1.000000</td>\n",
       "      <td>1.105263</td>\n",
       "      <td>February 2019</td>\n",
       "    </tr>\n",
       "    <tr>\n",
       "      <th>3</th>\n",
       "      <td>ubs group ag</td>\n",
       "      <td>0.001170</td>\n",
       "      <td>0.950000</td>\n",
       "      <td>1.052632</td>\n",
       "      <td>February 2019</td>\n",
       "    </tr>\n",
       "    <tr>\n",
       "      <th>4</th>\n",
       "      <td>ubs oconnor llc</td>\n",
       "      <td>0.001170</td>\n",
       "      <td>0.950000</td>\n",
       "      <td>1.052632</td>\n",
       "      <td>February 2019</td>\n",
       "    </tr>\n",
       "    <tr>\n",
       "      <th>...</th>\n",
       "      <td>...</td>\n",
       "      <td>...</td>\n",
       "      <td>...</td>\n",
       "      <td>...</td>\n",
       "      <td>...</td>\n",
       "    </tr>\n",
       "    <tr>\n",
       "      <th>15</th>\n",
       "      <td>aegon usa investment management, llc</td>\n",
       "      <td>0.006961</td>\n",
       "      <td>1.000000</td>\n",
       "      <td>1.105263</td>\n",
       "      <td>February 2021</td>\n",
       "    </tr>\n",
       "    <tr>\n",
       "      <th>16</th>\n",
       "      <td>pictet north america advisors sa</td>\n",
       "      <td>0.000390</td>\n",
       "      <td>0.703704</td>\n",
       "      <td>0.684211</td>\n",
       "      <td>February 2021</td>\n",
       "    </tr>\n",
       "    <tr>\n",
       "      <th>17</th>\n",
       "      <td>bank pictet &amp; cie (asia) ltd</td>\n",
       "      <td>0.002430</td>\n",
       "      <td>0.950000</td>\n",
       "      <td>1.052632</td>\n",
       "      <td>February 2021</td>\n",
       "    </tr>\n",
       "    <tr>\n",
       "      <th>18</th>\n",
       "      <td>transamerica financial advisors, inc.</td>\n",
       "      <td>0.006961</td>\n",
       "      <td>1.000000</td>\n",
       "      <td>1.105263</td>\n",
       "      <td>February 2021</td>\n",
       "    </tr>\n",
       "    <tr>\n",
       "      <th>19</th>\n",
       "      <td>ubs asset management americas inc</td>\n",
       "      <td>0.004521</td>\n",
       "      <td>0.904762</td>\n",
       "      <td>1.000000</td>\n",
       "      <td>February 2021</td>\n",
       "    </tr>\n",
       "  </tbody>\n",
       "</table>\n",
       "<p>178 rows × 5 columns</p>\n",
       "</div>"
      ],
      "text/plain": [
       "                                          index  betweenness  closeness  \\\n",
       "0                           vanguard group inc      0.001170   0.950000   \n",
       "1   invesco senior secured management inc /adv      0.005476   1.000000   \n",
       "2                                 invesco ltd.      0.005476   1.000000   \n",
       "3                                 ubs group ag      0.001170   0.950000   \n",
       "4                              ubs oconnor llc      0.001170   0.950000   \n",
       "..                                          ...          ...        ...   \n",
       "15        aegon usa investment management, llc      0.006961   1.000000   \n",
       "16            pictet north america advisors sa      0.000390   0.703704   \n",
       "17                bank pictet & cie (asia) ltd      0.002430   0.950000   \n",
       "18       transamerica financial advisors, inc.      0.006961   1.000000   \n",
       "19           ubs asset management americas inc      0.004521   0.904762   \n",
       "\n",
       "      degree           Time  \n",
       "0   1.052632  February 2019  \n",
       "1   1.105263  February 2019  \n",
       "2   1.105263  February 2019  \n",
       "3   1.052632  February 2019  \n",
       "4   1.052632  February 2019  \n",
       "..       ...            ...  \n",
       "15  1.105263  February 2021  \n",
       "16  0.684211  February 2021  \n",
       "17  1.052632  February 2021  \n",
       "18  1.105263  February 2021  \n",
       "19  1.000000  February 2021  \n",
       "\n",
       "[178 rows x 5 columns]"
      ]
     },
     "execution_count": 24,
     "metadata": {},
     "output_type": "execute_result"
    }
   ],
   "source": [
    "finaltable['Time']=time\n",
    "finaltable"
   ]
  },
  {
   "cell_type": "code",
   "execution_count": 45,
   "metadata": {},
   "outputs": [
    {
     "name": "stdout",
     "output_type": "stream",
     "text": [
      "                                          index  betweenness  closeness  \\\n",
      "0            ubs asset management americas inc      0.001170   0.950000   \n",
      "1                                 invesco ltd.      0.005476   1.000000   \n",
      "2         aegon usa investment management, llc      0.005476   1.000000   \n",
      "3             vanguard capital wealth advisors      0.001170   0.950000   \n",
      "4             pictet north america advisors sa      0.001170   0.950000   \n",
      "5   invesco senior secured management inc /adv      0.005476   1.000000   \n",
      "6                  pictet asset management ltd      0.000000   0.703704   \n",
      "7        transamerica financial advisors, inc.      0.005476   1.000000   \n",
      "8                       alliancebernstein l.p.      0.001170   0.950000   \n",
      "9                      pictet bank & trust ltd      0.000000   0.904762   \n",
      "10                bank pictet & cie (asia) ltd      0.000000   0.904762   \n",
      "11                      banque pictet & cie sa      0.001170   0.950000   \n",
      "12                          vanguard group inc      0.005476   1.000000   \n",
      "13                    pictet & cie (europe) sa      0.003721   0.950000   \n",
      "14             pzena investment management llc      0.005476   1.000000   \n",
      "15                                ubs group ag      0.005476   1.000000   \n",
      "16                                 barings llc      0.000000   0.826087   \n",
      "17               oaktree capital management lp      0.005476   1.000000   \n",
      "18                             ubs oconnor llc      0.005476   1.000000   \n",
      "19                                conning inc.      0.005476   1.000000   \n",
      "0            ubs asset management americas inc      0.002631   0.950000   \n",
      "1                                 invesco ltd.      0.008040   1.000000   \n",
      "2         aegon usa investment management, llc      0.008040   1.000000   \n",
      "3             vanguard capital wealth advisors      0.002631   0.950000   \n",
      "4             pictet north america advisors sa      0.002631   0.950000   \n",
      "5   invesco senior secured management inc /adv      0.002631   0.950000   \n",
      "6                  pictet asset management ltd      0.000344   0.678571   \n",
      "7        transamerica financial advisors, inc.      0.004678   0.904762   \n",
      "8                       alliancebernstein l.p.      0.002631   0.950000   \n",
      "9                      pictet bank & trust ltd      0.000344   0.904762   \n",
      "10                bank pictet & cie (asia) ltd      0.000344   0.904762   \n",
      "11                      banque pictet & cie sa      0.000344   0.904762   \n",
      "12                          vanguard group inc      0.008040   1.000000   \n",
      "13                    pictet & cie (europe) sa      0.005022   0.950000   \n",
      "14             pzena investment management llc      0.008040   1.000000   \n",
      "15                                ubs group ag      0.008040   1.000000   \n",
      "16                                 barings llc      0.000000   0.760000   \n",
      "17               oaktree capital management lp      0.008040   1.000000   \n",
      "18                             ubs oconnor llc      0.008040   1.000000   \n",
      "19                                conning inc.      0.007209   0.950000   \n",
      "0            ubs asset management americas inc      0.001643   0.950000   \n",
      "1                                 invesco ltd.      0.005187   1.000000   \n",
      "2         aegon usa investment management, llc      0.005187   1.000000   \n",
      "3             vanguard capital wealth advisors      0.001643   0.950000   \n",
      "4             pictet north america advisors sa      0.005187   1.000000   \n",
      "5   invesco senior secured management inc /adv      0.001643   0.950000   \n",
      "6                  pictet asset management ltd      0.000390   0.730769   \n",
      "7        transamerica financial advisors, inc.      0.005187   1.000000   \n",
      "8                       alliancebernstein l.p.      0.001643   0.950000   \n",
      "9                      pictet bank & trust ltd      0.000000   0.904762   \n",
      "10                bank pictet & cie (asia) ltd      0.000000   0.904762   \n",
      "11                      banque pictet & cie sa      0.000000   0.904762   \n",
      "12                          vanguard group inc      0.005187   1.000000   \n",
      "13                    pictet & cie (europe) sa      0.003544   0.950000   \n",
      "14             pzena investment management llc      0.005187   1.000000   \n",
      "15                                ubs group ag      0.005187   1.000000   \n",
      "16                                 barings llc      0.001949   0.826087   \n",
      "17               oaktree capital management lp      0.005187   1.000000   \n",
      "18                             ubs oconnor llc      0.005187   1.000000   \n",
      "19                                conning inc.      0.005187   1.000000   \n",
      "0            ubs asset management americas inc      0.004021   0.950000   \n",
      "1                                 invesco ltd.      0.007654   1.000000   \n",
      "2         aegon usa investment management, llc      0.007654   1.000000   \n",
      "3             vanguard capital wealth advisors      0.000344   0.904762   \n",
      "4             pictet north america advisors sa      0.007654   1.000000   \n",
      "5   invesco senior secured management inc /adv      0.004021   0.950000   \n",
      "6                  pictet asset management ltd      0.001363   0.730769   \n",
      "7        transamerica financial advisors, inc.      0.003633   0.904762   \n",
      "8                       alliancebernstein l.p.      0.000344   0.904762   \n",
      "9                      pictet bank & trust ltd      0.000344   0.904762   \n",
      "10                bank pictet & cie (asia) ltd      0.000344   0.904762   \n",
      "11                      banque pictet & cie sa      0.000344   0.904762   \n",
      "12                          vanguard group inc      0.007654   1.000000   \n",
      "13                    pictet & cie (europe) sa      0.003977   0.950000   \n",
      "14             pzena investment management llc      0.007654   1.000000   \n",
      "15                                ubs group ag      0.007654   1.000000   \n",
      "16                                 barings llc      0.000975   0.730769   \n",
      "17               oaktree capital management lp      0.007654   1.000000   \n",
      "18                             ubs oconnor llc      0.007654   1.000000   \n",
      "19                                conning inc.      0.006778   0.950000   \n",
      "0            ubs asset management americas inc      0.004021   0.950000   \n",
      "1                                 invesco ltd.      0.006908   1.000000   \n",
      "2         aegon usa investment management, llc      0.006908   1.000000   \n",
      "3             vanguard capital wealth advisors      0.000344   0.904762   \n",
      "4             pictet north america advisors sa      0.006908   1.000000   \n",
      "5   invesco senior secured management inc /adv      0.006908   1.000000   \n",
      "6                  pictet asset management ltd      0.001363   0.760000   \n",
      "7        transamerica financial advisors, inc.      0.002886   0.904762   \n",
      "8                       alliancebernstein l.p.      0.000344   0.904762   \n",
      "9                      pictet bank & trust ltd      0.000344   0.904762   \n",
      "10                bank pictet & cie (asia) ltd      0.000344   0.904762   \n",
      "11                      banque pictet & cie sa      0.000344   0.904762   \n",
      "12                          vanguard group inc      0.006908   1.000000   \n",
      "13                    pictet & cie (europe) sa      0.003230   0.950000   \n",
      "14             pzena investment management llc      0.006908   1.000000   \n",
      "15                                ubs group ag      0.006908   1.000000   \n",
      "16                                 barings llc      0.000450   0.730769   \n",
      "17               oaktree capital management lp      0.006908   1.000000   \n",
      "18                             ubs oconnor llc      0.006908   1.000000   \n",
      "19                                conning inc.      0.006032   0.950000   \n",
      "0            ubs asset management americas inc      0.004924   0.947368   \n",
      "1                                 invesco ltd.      0.008440   1.000000   \n",
      "2         aegon usa investment management, llc      0.008440   1.000000   \n",
      "3             pictet north america advisors sa      0.000408   0.900000   \n",
      "4   invesco senior secured management inc /adv      0.008440   1.000000   \n",
      "5                  pictet asset management ltd      0.008440   1.000000   \n",
      "6        transamerica financial advisors, inc.      0.001656   0.750000   \n",
      "7                       alliancebernstein l.p.      0.003516   0.900000   \n",
      "8                      pictet bank & trust ltd      0.000408   0.900000   \n",
      "9                 bank pictet & cie (asia) ltd      0.000408   0.900000   \n",
      "10                      banque pictet & cie sa      0.000408   0.900000   \n",
      "11                          vanguard group inc      0.000408   0.900000   \n",
      "12                    pictet & cie (europe) sa      0.008440   1.000000   \n",
      "13             pzena investment management llc      0.008440   1.000000   \n",
      "14                                ubs group ag      0.008440   1.000000   \n",
      "15                                 barings llc      0.000545   0.720000   \n",
      "16               oaktree capital management lp      0.003924   0.947368   \n",
      "17                             ubs oconnor llc      0.008440   1.000000   \n",
      "18                                conning inc.      0.007378   0.947368   \n",
      "0            ubs asset management americas inc      0.004519   0.950000   \n",
      "1                                 invesco ltd.      0.007405   1.000000   \n",
      "2         aegon usa investment management, llc      0.007405   1.000000   \n",
      "3             vanguard capital wealth advisors      0.000000   0.904762   \n",
      "4             pictet north america advisors sa      0.007405   1.000000   \n",
      "5   invesco senior secured management inc /adv      0.007405   1.000000   \n",
      "6                  pictet asset management ltd      0.001595   0.760000   \n",
      "7        transamerica financial advisors, inc.      0.002886   0.950000   \n",
      "8                       alliancebernstein l.p.      0.000000   0.904762   \n",
      "9                      pictet bank & trust ltd      0.000000   0.904762   \n",
      "10                bank pictet & cie (asia) ltd      0.000000   0.904762   \n",
      "11                      banque pictet & cie sa      0.000000   0.904762   \n",
      "12                          vanguard group inc      0.007405   1.000000   \n",
      "13                    pictet & cie (europe) sa      0.002886   0.950000   \n",
      "14             pzena investment management llc      0.007405   1.000000   \n",
      "15                                ubs group ag      0.007405   1.000000   \n",
      "16                                 barings llc      0.000450   0.703704   \n",
      "17               oaktree capital management lp      0.002886   0.950000   \n",
      "18                             ubs oconnor llc      0.007405   1.000000   \n",
      "19                                conning inc.      0.007405   1.000000   \n",
      "0            ubs asset management americas inc      0.004527   0.947368   \n",
      "1                                 invesco ltd.      0.008102   1.000000   \n",
      "2         aegon usa investment management, llc      0.008102   1.000000   \n",
      "3             pictet north america advisors sa      0.000903   0.900000   \n",
      "4   invesco senior secured management inc /adv      0.008102   1.000000   \n",
      "5                  pictet asset management ltd      0.008102   1.000000   \n",
      "6        transamerica financial advisors, inc.      0.001030   0.750000   \n",
      "7                       alliancebernstein l.p.      0.003575   0.900000   \n",
      "8                      pictet bank & trust ltd      0.000903   0.900000   \n",
      "9                 bank pictet & cie (asia) ltd      0.000000   0.857143   \n",
      "10                      banque pictet & cie sa      0.000903   0.900000   \n",
      "11                          vanguard group inc      0.000903   0.900000   \n",
      "12                    pictet & cie (europe) sa      0.008102   1.000000   \n",
      "13             pzena investment management llc      0.008102   1.000000   \n",
      "14                                ubs group ag      0.008102   1.000000   \n",
      "15                                 barings llc      0.000545   0.750000   \n",
      "16               oaktree capital management lp      0.008102   1.000000   \n",
      "17                             ubs oconnor llc      0.008102   1.000000   \n",
      "18                                conning inc.      0.005298   0.900000   \n",
      "0            ubs asset management americas inc      0.005286   0.950000   \n",
      "1                                 invesco ltd.      0.006961   1.000000   \n",
      "2         aegon usa investment management, llc      0.006961   1.000000   \n",
      "3             vanguard capital wealth advisors      0.000755   0.904762   \n",
      "4             pictet north america advisors sa      0.006961   1.000000   \n",
      "5   invesco senior secured management inc /adv      0.006961   1.000000   \n",
      "6                  pictet asset management ltd      0.003077   0.826087   \n",
      "7        transamerica financial advisors, inc.      0.001675   0.904762   \n",
      "8                       alliancebernstein l.p.      0.002430   0.950000   \n",
      "9                      pictet bank & trust ltd      0.000000   0.863636   \n",
      "10                bank pictet & cie (asia) ltd      0.000755   0.904762   \n",
      "11                      banque pictet & cie sa      0.002430   0.950000   \n",
      "12                          vanguard group inc      0.006961   1.000000   \n",
      "13                    pictet & cie (europe) sa      0.002430   0.950000   \n",
      "14             pzena investment management llc      0.006961   1.000000   \n",
      "15                                ubs group ag      0.006961   1.000000   \n",
      "16                                 barings llc      0.000390   0.703704   \n",
      "17               oaktree capital management lp      0.002430   0.950000   \n",
      "18                             ubs oconnor llc      0.006961   1.000000   \n",
      "19                                conning inc.      0.004521   0.904762   \n",
      "\n",
      "      degree           Time  \n",
      "0   1.052632  February 2019  \n",
      "1   1.105263  February 2019  \n",
      "2   1.105263  February 2019  \n",
      "3   1.052632  February 2019  \n",
      "4   1.052632  February 2019  \n",
      "5   1.105263  February 2019  \n",
      "6   0.684211  February 2019  \n",
      "7   1.105263  February 2019  \n",
      "8   1.052632  February 2019  \n",
      "9   1.000000  February 2019  \n",
      "10  1.000000  February 2019  \n",
      "11  1.052632  February 2019  \n",
      "12  1.105263  February 2019  \n",
      "13  1.052632  February 2019  \n",
      "14  1.105263  February 2019  \n",
      "15  1.105263  February 2019  \n",
      "16  0.894737  February 2019  \n",
      "17  1.105263  February 2019  \n",
      "18  1.105263  February 2019  \n",
      "19  1.105263  February 2019  \n",
      "0   1.052632       May 2019  \n",
      "1   1.105263       May 2019  \n",
      "2   1.105263       May 2019  \n",
      "3   1.052632       May 2019  \n",
      "4   1.052632       May 2019  \n",
      "5   1.052632       May 2019  \n",
      "6   0.631579       May 2019  \n",
      "7   1.000000       May 2019  \n",
      "8   1.052632       May 2019  \n",
      "9   1.000000       May 2019  \n",
      "10  1.000000       May 2019  \n",
      "11  1.000000       May 2019  \n",
      "12  1.105263       May 2019  \n",
      "13  1.052632       May 2019  \n",
      "14  1.105263       May 2019  \n",
      "15  1.105263       May 2019  \n",
      "16  0.789474       May 2019  \n",
      "17  1.105263       May 2019  \n",
      "18  1.105263       May 2019  \n",
      "19  1.052632       May 2019  \n",
      "0   1.052632    August 2019  \n",
      "1   1.105263    August 2019  \n",
      "2   1.105263    August 2019  \n",
      "3   1.052632    August 2019  \n",
      "4   1.105263    August 2019  \n",
      "5   1.052632    August 2019  \n",
      "6   0.736842    August 2019  \n",
      "7   1.105263    August 2019  \n",
      "8   1.052632    August 2019  \n",
      "9   1.000000    August 2019  \n",
      "10  1.000000    August 2019  \n",
      "11  1.000000    August 2019  \n",
      "12  1.105263    August 2019  \n",
      "13  1.052632    August 2019  \n",
      "14  1.105263    August 2019  \n",
      "15  1.105263    August 2019  \n",
      "16  0.894737    August 2019  \n",
      "17  1.105263    August 2019  \n",
      "18  1.105263    August 2019  \n",
      "19  1.105263    August 2019  \n",
      "0   1.052632  November 2019  \n",
      "1   1.105263  November 2019  \n",
      "2   1.105263  November 2019  \n",
      "3   1.000000  November 2019  \n",
      "4   1.105263  November 2019  \n",
      "5   1.052632  November 2019  \n",
      "6   0.736842  November 2019  \n",
      "7   1.000000  November 2019  \n",
      "8   1.000000  November 2019  \n",
      "9   1.000000  November 2019  \n",
      "10  1.000000  November 2019  \n",
      "11  1.000000  November 2019  \n",
      "12  1.105263  November 2019  \n",
      "13  1.052632  November 2019  \n",
      "14  1.105263  November 2019  \n",
      "15  1.105263  November 2019  \n",
      "16  0.736842  November 2019  \n",
      "17  1.105263  November 2019  \n",
      "18  1.105263  November 2019  \n",
      "19  1.052632  November 2019  \n",
      "0   1.052632  February 2020  \n",
      "1   1.105263  February 2020  \n",
      "2   1.105263  February 2020  \n",
      "3   1.000000  February 2020  \n",
      "4   1.105263  February 2020  \n",
      "5   1.105263  February 2020  \n",
      "6   0.789474  February 2020  \n",
      "7   1.000000  February 2020  \n",
      "8   1.000000  February 2020  \n",
      "9   1.000000  February 2020  \n",
      "10  1.000000  February 2020  \n",
      "11  1.000000  February 2020  \n",
      "12  1.105263  February 2020  \n",
      "13  1.052632  February 2020  \n",
      "14  1.105263  February 2020  \n",
      "15  1.105263  February 2020  \n",
      "16  0.736842  February 2020  \n",
      "17  1.105263  February 2020  \n",
      "18  1.105263  February 2020  \n",
      "19  1.052632  February 2020  \n",
      "0   1.055556       May 2020  \n",
      "1   1.111111       May 2020  \n",
      "2   1.111111       May 2020  \n",
      "3   1.000000       May 2020  \n",
      "4   1.111111       May 2020  \n",
      "5   1.111111       May 2020  \n",
      "6   0.777778       May 2020  \n",
      "7   1.000000       May 2020  \n",
      "8   1.000000       May 2020  \n",
      "9   1.000000       May 2020  \n",
      "10  1.000000       May 2020  \n",
      "11  1.000000       May 2020  \n",
      "12  1.111111       May 2020  \n",
      "13  1.111111       May 2020  \n",
      "14  1.111111       May 2020  \n",
      "15  0.722222       May 2020  \n",
      "16  1.055556       May 2020  \n",
      "17  1.111111       May 2020  \n",
      "18  1.055556       May 2020  \n",
      "0   1.052632    August 2020  \n",
      "1   1.105263    August 2020  \n",
      "2   1.105263    August 2020  \n",
      "3   1.000000    August 2020  \n",
      "4   1.105263    August 2020  \n",
      "5   1.105263    August 2020  \n",
      "6   0.789474    August 2020  \n",
      "7   1.052632    August 2020  \n",
      "8   1.000000    August 2020  \n",
      "9   1.000000    August 2020  \n",
      "10  1.000000    August 2020  \n",
      "11  1.000000    August 2020  \n",
      "12  1.105263    August 2020  \n",
      "13  1.052632    August 2020  \n",
      "14  1.105263    August 2020  \n",
      "15  1.105263    August 2020  \n",
      "16  0.684211    August 2020  \n",
      "17  1.052632    August 2020  \n",
      "18  1.105263    August 2020  \n",
      "19  1.105263    August 2020  \n",
      "0   1.055556  November 2020  \n",
      "1   1.111111  November 2020  \n",
      "2   1.111111  November 2020  \n",
      "3   1.000000  November 2020  \n",
      "4   1.111111  November 2020  \n",
      "5   1.111111  November 2020  \n",
      "6   0.777778  November 2020  \n",
      "7   1.000000  November 2020  \n",
      "8   1.000000  November 2020  \n",
      "9   0.944444  November 2020  \n",
      "10  1.000000  November 2020  \n",
      "11  1.000000  November 2020  \n",
      "12  1.111111  November 2020  \n",
      "13  1.111111  November 2020  \n",
      "14  1.111111  November 2020  \n",
      "15  0.777778  November 2020  \n",
      "16  1.111111  November 2020  \n",
      "17  1.111111  November 2020  \n",
      "18  1.000000  November 2020  \n",
      "0   1.052632  February 2021  \n",
      "1   1.105263  February 2021  \n",
      "2   1.105263  February 2021  \n",
      "3   1.000000  February 2021  \n",
      "4   1.105263  February 2021  \n",
      "5   1.105263  February 2021  \n",
      "6   0.894737  February 2021  \n",
      "7   1.000000  February 2021  \n",
      "8   1.052632  February 2021  \n",
      "9   0.947368  February 2021  \n",
      "10  1.000000  February 2021  \n",
      "11  1.052632  February 2021  \n",
      "12  1.105263  February 2021  \n",
      "13  1.052632  February 2021  \n",
      "14  1.105263  February 2021  \n",
      "15  1.105263  February 2021  \n",
      "16  0.684211  February 2021  \n",
      "17  1.052632  February 2021  \n",
      "18  1.105263  February 2021  \n",
      "19  1.000000  February 2021  \n"
     ]
    }
   ],
   "source": [
    "pd.set_option(\"display.max_rows\", None, \"display.max_columns\", None)\n",
    "print(finaltable)"
   ]
  },
  {
   "cell_type": "code",
   "execution_count": 30,
   "metadata": {},
   "outputs": [
    {
     "data": {
      "application/vnd.plotly.v1+json": {
       "config": {
        "plotlyServerURL": "https://plot.ly"
       },
       "data": [
        {
         "hovertemplate": "_index=0<br>Time=%{x}<br>betweenness=%{y}<extra></extra>",
         "legendgroup": "0",
         "line": {
          "color": "#636efa",
          "dash": "solid"
         },
         "mode": "lines",
         "name": "0",
         "orientation": "v",
         "showlegend": true,
         "type": "scatter",
         "x": [
          "February 2019",
          "May 2019",
          "August 2019",
          "November 2019",
          "February 2020",
          "May 2020",
          "August 2020",
          "November 2020",
          "February 2021"
         ],
         "xaxis": "x",
         "y": [
          0.0011695906432748538,
          0.0026306969031427234,
          0.001642996379838485,
          0.004021119346196746,
          0.004021119346196746,
          0.004924242424242424,
          0.004518872939925572,
          0.004527063350592763,
          0.005286047610609013
         ],
         "yaxis": "y"
        },
        {
         "hovertemplate": "_index=1<br>Time=%{x}<br>betweenness=%{y}<extra></extra>",
         "legendgroup": "1",
         "line": {
          "color": "#EF553B",
          "dash": "solid"
         },
         "mode": "lines",
         "name": "1",
         "orientation": "v",
         "showlegend": true,
         "type": "scatter",
         "x": [
          "February 2019",
          "May 2019",
          "August 2019",
          "November 2019",
          "February 2020",
          "May 2020",
          "August 2020",
          "November 2020",
          "February 2021"
         ],
         "xaxis": "x",
         "y": [
          0.005475810738968634,
          0.008040053628288923,
          0.005187210450368346,
          0.0076539387684898515,
          0.0069076090747917365,
          0.008439790057437117,
          0.007405362668520563,
          0.008102028690263986,
          0.006961175601526476
         ],
         "yaxis": "y"
        },
        {
         "hovertemplate": "_index=2<br>Time=%{x}<br>betweenness=%{y}<extra></extra>",
         "legendgroup": "2",
         "line": {
          "color": "#00cc96",
          "dash": "solid"
         },
         "mode": "lines",
         "name": "2",
         "orientation": "v",
         "showlegend": true,
         "type": "scatter",
         "x": [
          "February 2019",
          "May 2019",
          "August 2019",
          "November 2019",
          "February 2020",
          "May 2020",
          "August 2020",
          "November 2020",
          "February 2021"
         ],
         "xaxis": "x",
         "y": [
          0.005475810738968634,
          0.008040053628288923,
          0.005187210450368346,
          0.0076539387684898515,
          0.0069076090747917365,
          0.008439790057437117,
          0.007405362668520563,
          0.008102028690263986,
          0.006961175601526476
         ],
         "yaxis": "y"
        },
        {
         "hovertemplate": "_index=3<br>Time=%{x}<br>betweenness=%{y}<extra></extra>",
         "legendgroup": "3",
         "line": {
          "color": "#ab63fa",
          "dash": "solid"
         },
         "mode": "lines",
         "name": "3",
         "orientation": "v",
         "showlegend": true,
         "type": "scatter",
         "x": [
          "February 2019",
          "May 2019",
          "August 2019",
          "November 2019",
          "February 2020",
          "May 2020",
          "August 2020",
          "November 2020",
          "February 2021"
         ],
         "xaxis": "x",
         "y": [
          0.0011695906432748538,
          0.0026306969031427234,
          0.001642996379838485,
          0.0003439972480220158,
          0.0003439972480220158,
          0.0004084967320261438,
          0,
          0.0009025832555244321,
          0.0007553606237816763
         ],
         "yaxis": "y"
        },
        {
         "hovertemplate": "_index=4<br>Time=%{x}<br>betweenness=%{y}<extra></extra>",
         "legendgroup": "4",
         "line": {
          "color": "#FFA15A",
          "dash": "solid"
         },
         "mode": "lines",
         "name": "4",
         "orientation": "v",
         "showlegend": true,
         "type": "scatter",
         "x": [
          "February 2019",
          "May 2019",
          "August 2019",
          "November 2019",
          "February 2020",
          "May 2020",
          "August 2020",
          "November 2020",
          "February 2021"
         ],
         "xaxis": "x",
         "y": [
          0.0011695906432748538,
          0.0026306969031427234,
          0.005187210450368346,
          0.0076539387684898515,
          0.0069076090747917365,
          0.008439790057437117,
          0.007405362668520563,
          0.008102028690263986,
          0.006961175601526476
         ],
         "yaxis": "y"
        },
        {
         "hovertemplate": "_index=5<br>Time=%{x}<br>betweenness=%{y}<extra></extra>",
         "legendgroup": "5",
         "line": {
          "color": "#19d3f3",
          "dash": "solid"
         },
         "mode": "lines",
         "name": "5",
         "orientation": "v",
         "showlegend": true,
         "type": "scatter",
         "x": [
          "February 2019",
          "May 2019",
          "August 2019",
          "November 2019",
          "February 2020",
          "May 2020",
          "August 2020",
          "November 2020",
          "February 2021"
         ],
         "xaxis": "x",
         "y": [
          0.005475810738968634,
          0.0026306969031427234,
          0.001642996379838485,
          0.004021119346196746,
          0.0069076090747917365,
          0.008439790057437117,
          0.007405362668520563,
          0.008102028690263986,
          0.006961175601526476
         ],
         "yaxis": "y"
        },
        {
         "hovertemplate": "_index=6<br>Time=%{x}<br>betweenness=%{y}<extra></extra>",
         "legendgroup": "6",
         "line": {
          "color": "#FF6692",
          "dash": "solid"
         },
         "mode": "lines",
         "name": "6",
         "orientation": "v",
         "showlegend": true,
         "type": "scatter",
         "x": [
          "February 2019",
          "May 2019",
          "August 2019",
          "November 2019",
          "February 2020",
          "May 2020",
          "August 2020",
          "November 2020",
          "February 2021"
         ],
         "xaxis": "x",
         "y": [
          0,
          0.0003439972480220158,
          0.0003898635477582846,
          0.0013629587932993505,
          0.0013629587932993505,
          0.001656268568033274,
          0.0015948963317384368,
          0.0010299069122598535,
          0.0030768208399787346
         ],
         "yaxis": "y"
        },
        {
         "hovertemplate": "_index=7<br>Time=%{x}<br>betweenness=%{y}<extra></extra>",
         "legendgroup": "7",
         "line": {
          "color": "#B6E880",
          "dash": "solid"
         },
         "mode": "lines",
         "name": "7",
         "orientation": "v",
         "showlegend": true,
         "type": "scatter",
         "x": [
          "February 2019",
          "May 2019",
          "August 2019",
          "November 2019",
          "February 2020",
          "May 2020",
          "August 2020",
          "November 2020",
          "February 2021"
         ],
         "xaxis": "x",
         "y": [
          0.005475810738968634,
          0.004678362573099416,
          0.005187210450368346,
          0.0036328194222931057,
          0.0028864897285949915,
          0.003515547633194693,
          0.0028864897285949915,
          0.0035749653396712224,
          0.0016751279909174644
         ],
         "yaxis": "y"
        },
        {
         "hovertemplate": "_index=8<br>Time=%{x}<br>betweenness=%{y}<extra></extra>",
         "legendgroup": "8",
         "line": {
          "color": "#FF97FF",
          "dash": "solid"
         },
         "mode": "lines",
         "name": "8",
         "orientation": "v",
         "showlegend": true,
         "type": "scatter",
         "x": [
          "February 2019",
          "May 2019",
          "August 2019",
          "November 2019",
          "February 2020",
          "May 2020",
          "August 2020",
          "November 2020",
          "February 2021"
         ],
         "xaxis": "x",
         "y": [
          0.0011695906432748538,
          0.0026306969031427234,
          0.001642996379838485,
          0.0003439972480220158,
          0.0003439972480220158,
          0.0004084967320261438,
          0,
          0.0009025832555244321,
          0.0024304886146991407
         ],
         "yaxis": "y"
        },
        {
         "hovertemplate": "_index=9<br>Time=%{x}<br>betweenness=%{y}<extra></extra>",
         "legendgroup": "9",
         "line": {
          "color": "#FECB52",
          "dash": "solid"
         },
         "mode": "lines",
         "name": "9",
         "orientation": "v",
         "showlegend": true,
         "type": "scatter",
         "x": [
          "February 2019",
          "May 2019",
          "August 2019",
          "November 2019",
          "February 2020",
          "May 2020",
          "August 2020",
          "November 2020",
          "February 2021"
         ],
         "xaxis": "x",
         "y": [
          0,
          0.0003439972480220158,
          0,
          0.0003439972480220158,
          0.0003439972480220158,
          0.0004084967320261438,
          0,
          0,
          0
         ],
         "yaxis": "y"
        },
        {
         "hovertemplate": "_index=10<br>Time=%{x}<br>betweenness=%{y}<extra></extra>",
         "legendgroup": "10",
         "line": {
          "color": "#636efa",
          "dash": "solid"
         },
         "mode": "lines",
         "name": "10",
         "orientation": "v",
         "showlegend": true,
         "type": "scatter",
         "x": [
          "February 2019",
          "May 2019",
          "August 2019",
          "November 2019",
          "February 2020",
          "May 2020",
          "August 2020",
          "November 2020",
          "February 2021"
         ],
         "xaxis": "x",
         "y": [
          0,
          0.0003439972480220158,
          0,
          0.0003439972480220158,
          0.0003439972480220158,
          0.0004084967320261438,
          0,
          0.0009025832555244321,
          0.0007553606237816763
         ],
         "yaxis": "y"
        },
        {
         "hovertemplate": "_index=11<br>Time=%{x}<br>betweenness=%{y}<extra></extra>",
         "legendgroup": "11",
         "line": {
          "color": "#EF553B",
          "dash": "solid"
         },
         "mode": "lines",
         "name": "11",
         "orientation": "v",
         "showlegend": true,
         "type": "scatter",
         "x": [
          "February 2019",
          "May 2019",
          "August 2019",
          "November 2019",
          "February 2020",
          "May 2020",
          "August 2020",
          "November 2020",
          "February 2021"
         ],
         "xaxis": "x",
         "y": [
          0.0011695906432748538,
          0.0003439972480220158,
          0,
          0.0003439972480220158,
          0.0003439972480220158,
          0.0004084967320261438,
          0,
          0.0009025832555244321,
          0.0024304886146991407
         ],
         "yaxis": "y"
        },
        {
         "hovertemplate": "_index=12<br>Time=%{x}<br>betweenness=%{y}<extra></extra>",
         "legendgroup": "12",
         "line": {
          "color": "#00cc96",
          "dash": "solid"
         },
         "mode": "lines",
         "name": "12",
         "orientation": "v",
         "showlegend": true,
         "type": "scatter",
         "x": [
          "February 2019",
          "May 2019",
          "August 2019",
          "November 2019",
          "February 2020",
          "May 2020",
          "August 2020",
          "November 2020",
          "February 2021"
         ],
         "xaxis": "x",
         "y": [
          0.005475810738968634,
          0.008040053628288923,
          0.005187210450368346,
          0.0076539387684898515,
          0.0069076090747917365,
          0.008439790057437117,
          0.007405362668520563,
          0.008102028690263986,
          0.006961175601526476
         ],
         "yaxis": "y"
        },
        {
         "hovertemplate": "_index=13<br>Time=%{x}<br>betweenness=%{y}<extra></extra>",
         "legendgroup": "13",
         "line": {
          "color": "#ab63fa",
          "dash": "solid"
         },
         "mode": "lines",
         "name": "13",
         "orientation": "v",
         "showlegend": true,
         "type": "scatter",
         "x": [
          "February 2019",
          "May 2019",
          "August 2019",
          "November 2019",
          "February 2020",
          "May 2020",
          "August 2020",
          "November 2020",
          "February 2021"
         ],
         "xaxis": "x",
         "y": [
          0.003721424774056352,
          0.005022359821121432,
          0.0035442140705298593,
          0.003976816670315121,
          0.0032304869766170076,
          0.008439790057437117,
          0.0028864897285949915,
          0.008102028690263986,
          0.0024304886146991407
         ],
         "yaxis": "y"
        },
        {
         "hovertemplate": "_index=14<br>Time=%{x}<br>betweenness=%{y}<extra></extra>",
         "legendgroup": "14",
         "line": {
          "color": "#FFA15A",
          "dash": "solid"
         },
         "mode": "lines",
         "name": "14",
         "orientation": "v",
         "showlegend": true,
         "type": "scatter",
         "x": [
          "February 2019",
          "May 2019",
          "August 2019",
          "November 2019",
          "February 2020",
          "May 2020",
          "August 2020",
          "November 2020",
          "February 2021"
         ],
         "xaxis": "x",
         "y": [
          0.005475810738968634,
          0.008040053628288923,
          0.005187210450368346,
          0.0076539387684898515,
          0.0069076090747917365,
          0.008439790057437117,
          0.007405362668520563,
          0.008102028690263986,
          0.006961175601526476
         ],
         "yaxis": "y"
        },
        {
         "hovertemplate": "_index=15<br>Time=%{x}<br>betweenness=%{y}<extra></extra>",
         "legendgroup": "15",
         "line": {
          "color": "#19d3f3",
          "dash": "solid"
         },
         "mode": "lines",
         "name": "15",
         "orientation": "v",
         "showlegend": true,
         "type": "scatter",
         "x": [
          "February 2019",
          "May 2019",
          "August 2019",
          "November 2019",
          "February 2020",
          "May 2020",
          "August 2020",
          "November 2020",
          "February 2021"
         ],
         "xaxis": "x",
         "y": [
          0.005475810738968634,
          0.008040053628288923,
          0.005187210450368346,
          0.0076539387684898515,
          0.0069076090747917365,
          0.0005446623093681917,
          0.007405362668520563,
          0.0005446623093681917,
          0.006961175601526476
         ],
         "yaxis": "y"
        },
        {
         "hovertemplate": "_index=16<br>Time=%{x}<br>betweenness=%{y}<extra></extra>",
         "legendgroup": "16",
         "line": {
          "color": "#FF6692",
          "dash": "solid"
         },
         "mode": "lines",
         "name": "16",
         "orientation": "v",
         "showlegend": true,
         "type": "scatter",
         "x": [
          "February 2019",
          "May 2019",
          "August 2019",
          "November 2019",
          "February 2020",
          "May 2020",
          "August 2020",
          "November 2020",
          "February 2021"
         ],
         "xaxis": "x",
         "y": [
          0,
          0,
          0.001949317738791423,
          0.0009746588693957114,
          0.000449842555105713,
          0.003924044365220836,
          0.000449842555105713,
          0.008102028690263986,
          0.0003898635477582846
         ],
         "yaxis": "y"
        },
        {
         "hovertemplate": "_index=17<br>Time=%{x}<br>betweenness=%{y}<extra></extra>",
         "legendgroup": "17",
         "line": {
          "color": "#B6E880",
          "dash": "solid"
         },
         "mode": "lines",
         "name": "17",
         "orientation": "v",
         "showlegend": true,
         "type": "scatter",
         "x": [
          "February 2019",
          "May 2019",
          "August 2019",
          "November 2019",
          "February 2020",
          "May 2020",
          "August 2020",
          "November 2020",
          "February 2021"
         ],
         "xaxis": "x",
         "y": [
          0.005475810738968634,
          0.008040053628288923,
          0.005187210450368346,
          0.0076539387684898515,
          0.0069076090747917365,
          0.008439790057437117,
          0.0028864897285949915,
          0.008102028690263986,
          0.0024304886146991407
         ],
         "yaxis": "y"
        },
        {
         "hovertemplate": "_index=18<br>Time=%{x}<br>betweenness=%{y}<extra></extra>",
         "legendgroup": "18",
         "line": {
          "color": "#FF97FF",
          "dash": "solid"
         },
         "mode": "lines",
         "name": "18",
         "orientation": "v",
         "showlegend": true,
         "type": "scatter",
         "x": [
          "February 2019",
          "May 2019",
          "August 2019",
          "November 2019",
          "February 2020",
          "May 2020",
          "August 2020",
          "November 2020",
          "February 2021"
         ],
         "xaxis": "x",
         "y": [
          0.005475810738968634,
          0.008040053628288923,
          0.005187210450368346,
          0.0076539387684898515,
          0.0069076090747917365,
          0.007377698554169143,
          0.007405362668520563,
          0.005298078827490594,
          0.006961175601526476
         ],
         "yaxis": "y"
        },
        {
         "hovertemplate": "_index=19<br>Time=%{x}<br>betweenness=%{y}<extra></extra>",
         "legendgroup": "19",
         "line": {
          "color": "#FECB52",
          "dash": "solid"
         },
         "mode": "lines",
         "name": "19",
         "orientation": "v",
         "showlegend": true,
         "type": "scatter",
         "x": [
          "February 2019",
          "May 2019",
          "August 2019",
          "November 2019",
          "February 2020",
          "August 2020",
          "February 2021"
         ],
         "xaxis": "x",
         "y": [
          0.005475810738968634,
          0.0072087269455690505,
          0.005187210450368346,
          0.006778309409888357,
          0.006031979716190243,
          0.007405362668520563,
          0.004521404521404521
         ],
         "yaxis": "y"
        }
       ],
       "layout": {
        "legend": {
         "title": {
          "text": "_index"
         },
         "tracegroupgap": 0
        },
        "margin": {
         "t": 60
        },
        "template": {
         "data": {
          "bar": [
           {
            "error_x": {
             "color": "#2a3f5f"
            },
            "error_y": {
             "color": "#2a3f5f"
            },
            "marker": {
             "line": {
              "color": "#E5ECF6",
              "width": 0.5
             }
            },
            "type": "bar"
           }
          ],
          "barpolar": [
           {
            "marker": {
             "line": {
              "color": "#E5ECF6",
              "width": 0.5
             }
            },
            "type": "barpolar"
           }
          ],
          "carpet": [
           {
            "aaxis": {
             "endlinecolor": "#2a3f5f",
             "gridcolor": "white",
             "linecolor": "white",
             "minorgridcolor": "white",
             "startlinecolor": "#2a3f5f"
            },
            "baxis": {
             "endlinecolor": "#2a3f5f",
             "gridcolor": "white",
             "linecolor": "white",
             "minorgridcolor": "white",
             "startlinecolor": "#2a3f5f"
            },
            "type": "carpet"
           }
          ],
          "choropleth": [
           {
            "colorbar": {
             "outlinewidth": 0,
             "ticks": ""
            },
            "type": "choropleth"
           }
          ],
          "contour": [
           {
            "colorbar": {
             "outlinewidth": 0,
             "ticks": ""
            },
            "colorscale": [
             [
              0,
              "#0d0887"
             ],
             [
              0.1111111111111111,
              "#46039f"
             ],
             [
              0.2222222222222222,
              "#7201a8"
             ],
             [
              0.3333333333333333,
              "#9c179e"
             ],
             [
              0.4444444444444444,
              "#bd3786"
             ],
             [
              0.5555555555555556,
              "#d8576b"
             ],
             [
              0.6666666666666666,
              "#ed7953"
             ],
             [
              0.7777777777777778,
              "#fb9f3a"
             ],
             [
              0.8888888888888888,
              "#fdca26"
             ],
             [
              1,
              "#f0f921"
             ]
            ],
            "type": "contour"
           }
          ],
          "contourcarpet": [
           {
            "colorbar": {
             "outlinewidth": 0,
             "ticks": ""
            },
            "type": "contourcarpet"
           }
          ],
          "heatmap": [
           {
            "colorbar": {
             "outlinewidth": 0,
             "ticks": ""
            },
            "colorscale": [
             [
              0,
              "#0d0887"
             ],
             [
              0.1111111111111111,
              "#46039f"
             ],
             [
              0.2222222222222222,
              "#7201a8"
             ],
             [
              0.3333333333333333,
              "#9c179e"
             ],
             [
              0.4444444444444444,
              "#bd3786"
             ],
             [
              0.5555555555555556,
              "#d8576b"
             ],
             [
              0.6666666666666666,
              "#ed7953"
             ],
             [
              0.7777777777777778,
              "#fb9f3a"
             ],
             [
              0.8888888888888888,
              "#fdca26"
             ],
             [
              1,
              "#f0f921"
             ]
            ],
            "type": "heatmap"
           }
          ],
          "heatmapgl": [
           {
            "colorbar": {
             "outlinewidth": 0,
             "ticks": ""
            },
            "colorscale": [
             [
              0,
              "#0d0887"
             ],
             [
              0.1111111111111111,
              "#46039f"
             ],
             [
              0.2222222222222222,
              "#7201a8"
             ],
             [
              0.3333333333333333,
              "#9c179e"
             ],
             [
              0.4444444444444444,
              "#bd3786"
             ],
             [
              0.5555555555555556,
              "#d8576b"
             ],
             [
              0.6666666666666666,
              "#ed7953"
             ],
             [
              0.7777777777777778,
              "#fb9f3a"
             ],
             [
              0.8888888888888888,
              "#fdca26"
             ],
             [
              1,
              "#f0f921"
             ]
            ],
            "type": "heatmapgl"
           }
          ],
          "histogram": [
           {
            "marker": {
             "colorbar": {
              "outlinewidth": 0,
              "ticks": ""
             }
            },
            "type": "histogram"
           }
          ],
          "histogram2d": [
           {
            "colorbar": {
             "outlinewidth": 0,
             "ticks": ""
            },
            "colorscale": [
             [
              0,
              "#0d0887"
             ],
             [
              0.1111111111111111,
              "#46039f"
             ],
             [
              0.2222222222222222,
              "#7201a8"
             ],
             [
              0.3333333333333333,
              "#9c179e"
             ],
             [
              0.4444444444444444,
              "#bd3786"
             ],
             [
              0.5555555555555556,
              "#d8576b"
             ],
             [
              0.6666666666666666,
              "#ed7953"
             ],
             [
              0.7777777777777778,
              "#fb9f3a"
             ],
             [
              0.8888888888888888,
              "#fdca26"
             ],
             [
              1,
              "#f0f921"
             ]
            ],
            "type": "histogram2d"
           }
          ],
          "histogram2dcontour": [
           {
            "colorbar": {
             "outlinewidth": 0,
             "ticks": ""
            },
            "colorscale": [
             [
              0,
              "#0d0887"
             ],
             [
              0.1111111111111111,
              "#46039f"
             ],
             [
              0.2222222222222222,
              "#7201a8"
             ],
             [
              0.3333333333333333,
              "#9c179e"
             ],
             [
              0.4444444444444444,
              "#bd3786"
             ],
             [
              0.5555555555555556,
              "#d8576b"
             ],
             [
              0.6666666666666666,
              "#ed7953"
             ],
             [
              0.7777777777777778,
              "#fb9f3a"
             ],
             [
              0.8888888888888888,
              "#fdca26"
             ],
             [
              1,
              "#f0f921"
             ]
            ],
            "type": "histogram2dcontour"
           }
          ],
          "mesh3d": [
           {
            "colorbar": {
             "outlinewidth": 0,
             "ticks": ""
            },
            "type": "mesh3d"
           }
          ],
          "parcoords": [
           {
            "line": {
             "colorbar": {
              "outlinewidth": 0,
              "ticks": ""
             }
            },
            "type": "parcoords"
           }
          ],
          "pie": [
           {
            "automargin": true,
            "type": "pie"
           }
          ],
          "scatter": [
           {
            "marker": {
             "colorbar": {
              "outlinewidth": 0,
              "ticks": ""
             }
            },
            "type": "scatter"
           }
          ],
          "scatter3d": [
           {
            "line": {
             "colorbar": {
              "outlinewidth": 0,
              "ticks": ""
             }
            },
            "marker": {
             "colorbar": {
              "outlinewidth": 0,
              "ticks": ""
             }
            },
            "type": "scatter3d"
           }
          ],
          "scattercarpet": [
           {
            "marker": {
             "colorbar": {
              "outlinewidth": 0,
              "ticks": ""
             }
            },
            "type": "scattercarpet"
           }
          ],
          "scattergeo": [
           {
            "marker": {
             "colorbar": {
              "outlinewidth": 0,
              "ticks": ""
             }
            },
            "type": "scattergeo"
           }
          ],
          "scattergl": [
           {
            "marker": {
             "colorbar": {
              "outlinewidth": 0,
              "ticks": ""
             }
            },
            "type": "scattergl"
           }
          ],
          "scattermapbox": [
           {
            "marker": {
             "colorbar": {
              "outlinewidth": 0,
              "ticks": ""
             }
            },
            "type": "scattermapbox"
           }
          ],
          "scatterpolar": [
           {
            "marker": {
             "colorbar": {
              "outlinewidth": 0,
              "ticks": ""
             }
            },
            "type": "scatterpolar"
           }
          ],
          "scatterpolargl": [
           {
            "marker": {
             "colorbar": {
              "outlinewidth": 0,
              "ticks": ""
             }
            },
            "type": "scatterpolargl"
           }
          ],
          "scatterternary": [
           {
            "marker": {
             "colorbar": {
              "outlinewidth": 0,
              "ticks": ""
             }
            },
            "type": "scatterternary"
           }
          ],
          "surface": [
           {
            "colorbar": {
             "outlinewidth": 0,
             "ticks": ""
            },
            "colorscale": [
             [
              0,
              "#0d0887"
             ],
             [
              0.1111111111111111,
              "#46039f"
             ],
             [
              0.2222222222222222,
              "#7201a8"
             ],
             [
              0.3333333333333333,
              "#9c179e"
             ],
             [
              0.4444444444444444,
              "#bd3786"
             ],
             [
              0.5555555555555556,
              "#d8576b"
             ],
             [
              0.6666666666666666,
              "#ed7953"
             ],
             [
              0.7777777777777778,
              "#fb9f3a"
             ],
             [
              0.8888888888888888,
              "#fdca26"
             ],
             [
              1,
              "#f0f921"
             ]
            ],
            "type": "surface"
           }
          ],
          "table": [
           {
            "cells": {
             "fill": {
              "color": "#EBF0F8"
             },
             "line": {
              "color": "white"
             }
            },
            "header": {
             "fill": {
              "color": "#C8D4E3"
             },
             "line": {
              "color": "white"
             }
            },
            "type": "table"
           }
          ]
         },
         "layout": {
          "annotationdefaults": {
           "arrowcolor": "#2a3f5f",
           "arrowhead": 0,
           "arrowwidth": 1
          },
          "autotypenumbers": "strict",
          "coloraxis": {
           "colorbar": {
            "outlinewidth": 0,
            "ticks": ""
           }
          },
          "colorscale": {
           "diverging": [
            [
             0,
             "#8e0152"
            ],
            [
             0.1,
             "#c51b7d"
            ],
            [
             0.2,
             "#de77ae"
            ],
            [
             0.3,
             "#f1b6da"
            ],
            [
             0.4,
             "#fde0ef"
            ],
            [
             0.5,
             "#f7f7f7"
            ],
            [
             0.6,
             "#e6f5d0"
            ],
            [
             0.7,
             "#b8e186"
            ],
            [
             0.8,
             "#7fbc41"
            ],
            [
             0.9,
             "#4d9221"
            ],
            [
             1,
             "#276419"
            ]
           ],
           "sequential": [
            [
             0,
             "#0d0887"
            ],
            [
             0.1111111111111111,
             "#46039f"
            ],
            [
             0.2222222222222222,
             "#7201a8"
            ],
            [
             0.3333333333333333,
             "#9c179e"
            ],
            [
             0.4444444444444444,
             "#bd3786"
            ],
            [
             0.5555555555555556,
             "#d8576b"
            ],
            [
             0.6666666666666666,
             "#ed7953"
            ],
            [
             0.7777777777777778,
             "#fb9f3a"
            ],
            [
             0.8888888888888888,
             "#fdca26"
            ],
            [
             1,
             "#f0f921"
            ]
           ],
           "sequentialminus": [
            [
             0,
             "#0d0887"
            ],
            [
             0.1111111111111111,
             "#46039f"
            ],
            [
             0.2222222222222222,
             "#7201a8"
            ],
            [
             0.3333333333333333,
             "#9c179e"
            ],
            [
             0.4444444444444444,
             "#bd3786"
            ],
            [
             0.5555555555555556,
             "#d8576b"
            ],
            [
             0.6666666666666666,
             "#ed7953"
            ],
            [
             0.7777777777777778,
             "#fb9f3a"
            ],
            [
             0.8888888888888888,
             "#fdca26"
            ],
            [
             1,
             "#f0f921"
            ]
           ]
          },
          "colorway": [
           "#636efa",
           "#EF553B",
           "#00cc96",
           "#ab63fa",
           "#FFA15A",
           "#19d3f3",
           "#FF6692",
           "#B6E880",
           "#FF97FF",
           "#FECB52"
          ],
          "font": {
           "color": "#2a3f5f"
          },
          "geo": {
           "bgcolor": "white",
           "lakecolor": "white",
           "landcolor": "#E5ECF6",
           "showlakes": true,
           "showland": true,
           "subunitcolor": "white"
          },
          "hoverlabel": {
           "align": "left"
          },
          "hovermode": "closest",
          "mapbox": {
           "style": "light"
          },
          "paper_bgcolor": "white",
          "plot_bgcolor": "#E5ECF6",
          "polar": {
           "angularaxis": {
            "gridcolor": "white",
            "linecolor": "white",
            "ticks": ""
           },
           "bgcolor": "#E5ECF6",
           "radialaxis": {
            "gridcolor": "white",
            "linecolor": "white",
            "ticks": ""
           }
          },
          "scene": {
           "xaxis": {
            "backgroundcolor": "#E5ECF6",
            "gridcolor": "white",
            "gridwidth": 2,
            "linecolor": "white",
            "showbackground": true,
            "ticks": "",
            "zerolinecolor": "white"
           },
           "yaxis": {
            "backgroundcolor": "#E5ECF6",
            "gridcolor": "white",
            "gridwidth": 2,
            "linecolor": "white",
            "showbackground": true,
            "ticks": "",
            "zerolinecolor": "white"
           },
           "zaxis": {
            "backgroundcolor": "#E5ECF6",
            "gridcolor": "white",
            "gridwidth": 2,
            "linecolor": "white",
            "showbackground": true,
            "ticks": "",
            "zerolinecolor": "white"
           }
          },
          "shapedefaults": {
           "line": {
            "color": "#2a3f5f"
           }
          },
          "ternary": {
           "aaxis": {
            "gridcolor": "white",
            "linecolor": "white",
            "ticks": ""
           },
           "baxis": {
            "gridcolor": "white",
            "linecolor": "white",
            "ticks": ""
           },
           "bgcolor": "#E5ECF6",
           "caxis": {
            "gridcolor": "white",
            "linecolor": "white",
            "ticks": ""
           }
          },
          "title": {
           "x": 0.05
          },
          "xaxis": {
           "automargin": true,
           "gridcolor": "white",
           "linecolor": "white",
           "ticks": "",
           "title": {
            "standoff": 15
           },
           "zerolinecolor": "white",
           "zerolinewidth": 2
          },
          "yaxis": {
           "automargin": true,
           "gridcolor": "white",
           "linecolor": "white",
           "ticks": "",
           "title": {
            "standoff": 15
           },
           "zerolinecolor": "white",
           "zerolinewidth": 2
          }
         }
        },
        "xaxis": {
         "anchor": "y",
         "domain": [
          0,
          1
         ],
         "title": {
          "text": "Time"
         }
        },
        "yaxis": {
         "anchor": "x",
         "domain": [
          0,
          1
         ],
         "title": {
          "text": "betweenness"
         }
        }
       }
      },
      "text/html": [
       "<div>                            <div id=\"14006144-f00b-4dae-b6d1-62dcf57f669a\" class=\"plotly-graph-div\" style=\"height:525px; width:100%;\"></div>            <script type=\"text/javascript\">                require([\"plotly\"], function(Plotly) {                    window.PLOTLYENV=window.PLOTLYENV || {};                                    if (document.getElementById(\"14006144-f00b-4dae-b6d1-62dcf57f669a\")) {                    Plotly.newPlot(                        \"14006144-f00b-4dae-b6d1-62dcf57f669a\",                        [{\"hovertemplate\": \"_index=0<br>Time=%{x}<br>betweenness=%{y}<extra></extra>\", \"legendgroup\": \"0\", \"line\": {\"color\": \"#636efa\", \"dash\": \"solid\"}, \"mode\": \"lines\", \"name\": \"0\", \"orientation\": \"v\", \"showlegend\": true, \"type\": \"scatter\", \"x\": [\"February 2019\", \"May 2019\", \"August 2019\", \"November 2019\", \"February 2020\", \"May 2020\", \"August 2020\", \"November 2020\", \"February 2021\"], \"xaxis\": \"x\", \"y\": [0.0011695906432748538, 0.0026306969031427234, 0.001642996379838485, 0.004021119346196746, 0.004021119346196746, 0.004924242424242424, 0.004518872939925572, 0.004527063350592763, 0.005286047610609013], \"yaxis\": \"y\"}, {\"hovertemplate\": \"_index=1<br>Time=%{x}<br>betweenness=%{y}<extra></extra>\", \"legendgroup\": \"1\", \"line\": {\"color\": \"#EF553B\", \"dash\": \"solid\"}, \"mode\": \"lines\", \"name\": \"1\", \"orientation\": \"v\", \"showlegend\": true, \"type\": \"scatter\", \"x\": [\"February 2019\", \"May 2019\", \"August 2019\", \"November 2019\", \"February 2020\", \"May 2020\", \"August 2020\", \"November 2020\", \"February 2021\"], \"xaxis\": \"x\", \"y\": [0.005475810738968634, 0.008040053628288923, 0.005187210450368346, 0.0076539387684898515, 0.0069076090747917365, 0.008439790057437117, 0.007405362668520563, 0.008102028690263986, 0.006961175601526476], \"yaxis\": \"y\"}, {\"hovertemplate\": \"_index=2<br>Time=%{x}<br>betweenness=%{y}<extra></extra>\", \"legendgroup\": \"2\", \"line\": {\"color\": \"#00cc96\", \"dash\": \"solid\"}, \"mode\": \"lines\", \"name\": \"2\", \"orientation\": \"v\", \"showlegend\": true, \"type\": \"scatter\", \"x\": [\"February 2019\", \"May 2019\", \"August 2019\", \"November 2019\", \"February 2020\", \"May 2020\", \"August 2020\", \"November 2020\", \"February 2021\"], \"xaxis\": \"x\", \"y\": [0.005475810738968634, 0.008040053628288923, 0.005187210450368346, 0.0076539387684898515, 0.0069076090747917365, 0.008439790057437117, 0.007405362668520563, 0.008102028690263986, 0.006961175601526476], \"yaxis\": \"y\"}, {\"hovertemplate\": \"_index=3<br>Time=%{x}<br>betweenness=%{y}<extra></extra>\", \"legendgroup\": \"3\", \"line\": {\"color\": \"#ab63fa\", \"dash\": \"solid\"}, \"mode\": \"lines\", \"name\": \"3\", \"orientation\": \"v\", \"showlegend\": true, \"type\": \"scatter\", \"x\": [\"February 2019\", \"May 2019\", \"August 2019\", \"November 2019\", \"February 2020\", \"May 2020\", \"August 2020\", \"November 2020\", \"February 2021\"], \"xaxis\": \"x\", \"y\": [0.0011695906432748538, 0.0026306969031427234, 0.001642996379838485, 0.0003439972480220158, 0.0003439972480220158, 0.0004084967320261438, 0.0, 0.0009025832555244321, 0.0007553606237816763], \"yaxis\": \"y\"}, {\"hovertemplate\": \"_index=4<br>Time=%{x}<br>betweenness=%{y}<extra></extra>\", \"legendgroup\": \"4\", \"line\": {\"color\": \"#FFA15A\", \"dash\": \"solid\"}, \"mode\": \"lines\", \"name\": \"4\", \"orientation\": \"v\", \"showlegend\": true, \"type\": \"scatter\", \"x\": [\"February 2019\", \"May 2019\", \"August 2019\", \"November 2019\", \"February 2020\", \"May 2020\", \"August 2020\", \"November 2020\", \"February 2021\"], \"xaxis\": \"x\", \"y\": [0.0011695906432748538, 0.0026306969031427234, 0.005187210450368346, 0.0076539387684898515, 0.0069076090747917365, 0.008439790057437117, 0.007405362668520563, 0.008102028690263986, 0.006961175601526476], \"yaxis\": \"y\"}, {\"hovertemplate\": \"_index=5<br>Time=%{x}<br>betweenness=%{y}<extra></extra>\", \"legendgroup\": \"5\", \"line\": {\"color\": \"#19d3f3\", \"dash\": \"solid\"}, \"mode\": \"lines\", \"name\": \"5\", \"orientation\": \"v\", \"showlegend\": true, \"type\": \"scatter\", \"x\": [\"February 2019\", \"May 2019\", \"August 2019\", \"November 2019\", \"February 2020\", \"May 2020\", \"August 2020\", \"November 2020\", \"February 2021\"], \"xaxis\": \"x\", \"y\": [0.005475810738968634, 0.0026306969031427234, 0.001642996379838485, 0.004021119346196746, 0.0069076090747917365, 0.008439790057437117, 0.007405362668520563, 0.008102028690263986, 0.006961175601526476], \"yaxis\": \"y\"}, {\"hovertemplate\": \"_index=6<br>Time=%{x}<br>betweenness=%{y}<extra></extra>\", \"legendgroup\": \"6\", \"line\": {\"color\": \"#FF6692\", \"dash\": \"solid\"}, \"mode\": \"lines\", \"name\": \"6\", \"orientation\": \"v\", \"showlegend\": true, \"type\": \"scatter\", \"x\": [\"February 2019\", \"May 2019\", \"August 2019\", \"November 2019\", \"February 2020\", \"May 2020\", \"August 2020\", \"November 2020\", \"February 2021\"], \"xaxis\": \"x\", \"y\": [0.0, 0.0003439972480220158, 0.0003898635477582846, 0.0013629587932993505, 0.0013629587932993505, 0.001656268568033274, 0.0015948963317384368, 0.0010299069122598535, 0.0030768208399787346], \"yaxis\": \"y\"}, {\"hovertemplate\": \"_index=7<br>Time=%{x}<br>betweenness=%{y}<extra></extra>\", \"legendgroup\": \"7\", \"line\": {\"color\": \"#B6E880\", \"dash\": \"solid\"}, \"mode\": \"lines\", \"name\": \"7\", \"orientation\": \"v\", \"showlegend\": true, \"type\": \"scatter\", \"x\": [\"February 2019\", \"May 2019\", \"August 2019\", \"November 2019\", \"February 2020\", \"May 2020\", \"August 2020\", \"November 2020\", \"February 2021\"], \"xaxis\": \"x\", \"y\": [0.005475810738968634, 0.004678362573099416, 0.005187210450368346, 0.0036328194222931057, 0.0028864897285949915, 0.003515547633194693, 0.0028864897285949915, 0.0035749653396712224, 0.0016751279909174644], \"yaxis\": \"y\"}, {\"hovertemplate\": \"_index=8<br>Time=%{x}<br>betweenness=%{y}<extra></extra>\", \"legendgroup\": \"8\", \"line\": {\"color\": \"#FF97FF\", \"dash\": \"solid\"}, \"mode\": \"lines\", \"name\": \"8\", \"orientation\": \"v\", \"showlegend\": true, \"type\": \"scatter\", \"x\": [\"February 2019\", \"May 2019\", \"August 2019\", \"November 2019\", \"February 2020\", \"May 2020\", \"August 2020\", \"November 2020\", \"February 2021\"], \"xaxis\": \"x\", \"y\": [0.0011695906432748538, 0.0026306969031427234, 0.001642996379838485, 0.0003439972480220158, 0.0003439972480220158, 0.0004084967320261438, 0.0, 0.0009025832555244321, 0.0024304886146991407], \"yaxis\": \"y\"}, {\"hovertemplate\": \"_index=9<br>Time=%{x}<br>betweenness=%{y}<extra></extra>\", \"legendgroup\": \"9\", \"line\": {\"color\": \"#FECB52\", \"dash\": \"solid\"}, \"mode\": \"lines\", \"name\": \"9\", \"orientation\": \"v\", \"showlegend\": true, \"type\": \"scatter\", \"x\": [\"February 2019\", \"May 2019\", \"August 2019\", \"November 2019\", \"February 2020\", \"May 2020\", \"August 2020\", \"November 2020\", \"February 2021\"], \"xaxis\": \"x\", \"y\": [0.0, 0.0003439972480220158, 0.0, 0.0003439972480220158, 0.0003439972480220158, 0.0004084967320261438, 0.0, 0.0, 0.0], \"yaxis\": \"y\"}, {\"hovertemplate\": \"_index=10<br>Time=%{x}<br>betweenness=%{y}<extra></extra>\", \"legendgroup\": \"10\", \"line\": {\"color\": \"#636efa\", \"dash\": \"solid\"}, \"mode\": \"lines\", \"name\": \"10\", \"orientation\": \"v\", \"showlegend\": true, \"type\": \"scatter\", \"x\": [\"February 2019\", \"May 2019\", \"August 2019\", \"November 2019\", \"February 2020\", \"May 2020\", \"August 2020\", \"November 2020\", \"February 2021\"], \"xaxis\": \"x\", \"y\": [0.0, 0.0003439972480220158, 0.0, 0.0003439972480220158, 0.0003439972480220158, 0.0004084967320261438, 0.0, 0.0009025832555244321, 0.0007553606237816763], \"yaxis\": \"y\"}, {\"hovertemplate\": \"_index=11<br>Time=%{x}<br>betweenness=%{y}<extra></extra>\", \"legendgroup\": \"11\", \"line\": {\"color\": \"#EF553B\", \"dash\": \"solid\"}, \"mode\": \"lines\", \"name\": \"11\", \"orientation\": \"v\", \"showlegend\": true, \"type\": \"scatter\", \"x\": [\"February 2019\", \"May 2019\", \"August 2019\", \"November 2019\", \"February 2020\", \"May 2020\", \"August 2020\", \"November 2020\", \"February 2021\"], \"xaxis\": \"x\", \"y\": [0.0011695906432748538, 0.0003439972480220158, 0.0, 0.0003439972480220158, 0.0003439972480220158, 0.0004084967320261438, 0.0, 0.0009025832555244321, 0.0024304886146991407], \"yaxis\": \"y\"}, {\"hovertemplate\": \"_index=12<br>Time=%{x}<br>betweenness=%{y}<extra></extra>\", \"legendgroup\": \"12\", \"line\": {\"color\": \"#00cc96\", \"dash\": \"solid\"}, \"mode\": \"lines\", \"name\": \"12\", \"orientation\": \"v\", \"showlegend\": true, \"type\": \"scatter\", \"x\": [\"February 2019\", \"May 2019\", \"August 2019\", \"November 2019\", \"February 2020\", \"May 2020\", \"August 2020\", \"November 2020\", \"February 2021\"], \"xaxis\": \"x\", \"y\": [0.005475810738968634, 0.008040053628288923, 0.005187210450368346, 0.0076539387684898515, 0.0069076090747917365, 0.008439790057437117, 0.007405362668520563, 0.008102028690263986, 0.006961175601526476], \"yaxis\": \"y\"}, {\"hovertemplate\": \"_index=13<br>Time=%{x}<br>betweenness=%{y}<extra></extra>\", \"legendgroup\": \"13\", \"line\": {\"color\": \"#ab63fa\", \"dash\": \"solid\"}, \"mode\": \"lines\", \"name\": \"13\", \"orientation\": \"v\", \"showlegend\": true, \"type\": \"scatter\", \"x\": [\"February 2019\", \"May 2019\", \"August 2019\", \"November 2019\", \"February 2020\", \"May 2020\", \"August 2020\", \"November 2020\", \"February 2021\"], \"xaxis\": \"x\", \"y\": [0.003721424774056352, 0.005022359821121432, 0.0035442140705298593, 0.003976816670315121, 0.0032304869766170076, 0.008439790057437117, 0.0028864897285949915, 0.008102028690263986, 0.0024304886146991407], \"yaxis\": \"y\"}, {\"hovertemplate\": \"_index=14<br>Time=%{x}<br>betweenness=%{y}<extra></extra>\", \"legendgroup\": \"14\", \"line\": {\"color\": \"#FFA15A\", \"dash\": \"solid\"}, \"mode\": \"lines\", \"name\": \"14\", \"orientation\": \"v\", \"showlegend\": true, \"type\": \"scatter\", \"x\": [\"February 2019\", \"May 2019\", \"August 2019\", \"November 2019\", \"February 2020\", \"May 2020\", \"August 2020\", \"November 2020\", \"February 2021\"], \"xaxis\": \"x\", \"y\": [0.005475810738968634, 0.008040053628288923, 0.005187210450368346, 0.0076539387684898515, 0.0069076090747917365, 0.008439790057437117, 0.007405362668520563, 0.008102028690263986, 0.006961175601526476], \"yaxis\": \"y\"}, {\"hovertemplate\": \"_index=15<br>Time=%{x}<br>betweenness=%{y}<extra></extra>\", \"legendgroup\": \"15\", \"line\": {\"color\": \"#19d3f3\", \"dash\": \"solid\"}, \"mode\": \"lines\", \"name\": \"15\", \"orientation\": \"v\", \"showlegend\": true, \"type\": \"scatter\", \"x\": [\"February 2019\", \"May 2019\", \"August 2019\", \"November 2019\", \"February 2020\", \"May 2020\", \"August 2020\", \"November 2020\", \"February 2021\"], \"xaxis\": \"x\", \"y\": [0.005475810738968634, 0.008040053628288923, 0.005187210450368346, 0.0076539387684898515, 0.0069076090747917365, 0.0005446623093681917, 0.007405362668520563, 0.0005446623093681917, 0.006961175601526476], \"yaxis\": \"y\"}, {\"hovertemplate\": \"_index=16<br>Time=%{x}<br>betweenness=%{y}<extra></extra>\", \"legendgroup\": \"16\", \"line\": {\"color\": \"#FF6692\", \"dash\": \"solid\"}, \"mode\": \"lines\", \"name\": \"16\", \"orientation\": \"v\", \"showlegend\": true, \"type\": \"scatter\", \"x\": [\"February 2019\", \"May 2019\", \"August 2019\", \"November 2019\", \"February 2020\", \"May 2020\", \"August 2020\", \"November 2020\", \"February 2021\"], \"xaxis\": \"x\", \"y\": [0.0, 0.0, 0.001949317738791423, 0.0009746588693957114, 0.000449842555105713, 0.003924044365220836, 0.000449842555105713, 0.008102028690263986, 0.0003898635477582846], \"yaxis\": \"y\"}, {\"hovertemplate\": \"_index=17<br>Time=%{x}<br>betweenness=%{y}<extra></extra>\", \"legendgroup\": \"17\", \"line\": {\"color\": \"#B6E880\", \"dash\": \"solid\"}, \"mode\": \"lines\", \"name\": \"17\", \"orientation\": \"v\", \"showlegend\": true, \"type\": \"scatter\", \"x\": [\"February 2019\", \"May 2019\", \"August 2019\", \"November 2019\", \"February 2020\", \"May 2020\", \"August 2020\", \"November 2020\", \"February 2021\"], \"xaxis\": \"x\", \"y\": [0.005475810738968634, 0.008040053628288923, 0.005187210450368346, 0.0076539387684898515, 0.0069076090747917365, 0.008439790057437117, 0.0028864897285949915, 0.008102028690263986, 0.0024304886146991407], \"yaxis\": \"y\"}, {\"hovertemplate\": \"_index=18<br>Time=%{x}<br>betweenness=%{y}<extra></extra>\", \"legendgroup\": \"18\", \"line\": {\"color\": \"#FF97FF\", \"dash\": \"solid\"}, \"mode\": \"lines\", \"name\": \"18\", \"orientation\": \"v\", \"showlegend\": true, \"type\": \"scatter\", \"x\": [\"February 2019\", \"May 2019\", \"August 2019\", \"November 2019\", \"February 2020\", \"May 2020\", \"August 2020\", \"November 2020\", \"February 2021\"], \"xaxis\": \"x\", \"y\": [0.005475810738968634, 0.008040053628288923, 0.005187210450368346, 0.0076539387684898515, 0.0069076090747917365, 0.007377698554169143, 0.007405362668520563, 0.005298078827490594, 0.006961175601526476], \"yaxis\": \"y\"}, {\"hovertemplate\": \"_index=19<br>Time=%{x}<br>betweenness=%{y}<extra></extra>\", \"legendgroup\": \"19\", \"line\": {\"color\": \"#FECB52\", \"dash\": \"solid\"}, \"mode\": \"lines\", \"name\": \"19\", \"orientation\": \"v\", \"showlegend\": true, \"type\": \"scatter\", \"x\": [\"February 2019\", \"May 2019\", \"August 2019\", \"November 2019\", \"February 2020\", \"August 2020\", \"February 2021\"], \"xaxis\": \"x\", \"y\": [0.005475810738968634, 0.0072087269455690505, 0.005187210450368346, 0.006778309409888357, 0.006031979716190243, 0.007405362668520563, 0.004521404521404521], \"yaxis\": \"y\"}],                        {\"legend\": {\"title\": {\"text\": \"_index\"}, \"tracegroupgap\": 0}, \"margin\": {\"t\": 60}, \"template\": {\"data\": {\"bar\": [{\"error_x\": {\"color\": \"#2a3f5f\"}, \"error_y\": {\"color\": \"#2a3f5f\"}, \"marker\": {\"line\": {\"color\": \"#E5ECF6\", \"width\": 0.5}}, \"type\": \"bar\"}], \"barpolar\": [{\"marker\": {\"line\": {\"color\": \"#E5ECF6\", \"width\": 0.5}}, \"type\": \"barpolar\"}], \"carpet\": [{\"aaxis\": {\"endlinecolor\": \"#2a3f5f\", \"gridcolor\": \"white\", \"linecolor\": \"white\", \"minorgridcolor\": \"white\", \"startlinecolor\": \"#2a3f5f\"}, \"baxis\": {\"endlinecolor\": \"#2a3f5f\", \"gridcolor\": \"white\", \"linecolor\": \"white\", \"minorgridcolor\": \"white\", \"startlinecolor\": \"#2a3f5f\"}, \"type\": \"carpet\"}], \"choropleth\": [{\"colorbar\": {\"outlinewidth\": 0, \"ticks\": \"\"}, \"type\": \"choropleth\"}], \"contour\": [{\"colorbar\": {\"outlinewidth\": 0, \"ticks\": \"\"}, \"colorscale\": [[0.0, \"#0d0887\"], [0.1111111111111111, \"#46039f\"], [0.2222222222222222, \"#7201a8\"], [0.3333333333333333, \"#9c179e\"], [0.4444444444444444, \"#bd3786\"], [0.5555555555555556, \"#d8576b\"], [0.6666666666666666, \"#ed7953\"], [0.7777777777777778, \"#fb9f3a\"], [0.8888888888888888, \"#fdca26\"], [1.0, \"#f0f921\"]], \"type\": \"contour\"}], \"contourcarpet\": [{\"colorbar\": {\"outlinewidth\": 0, \"ticks\": \"\"}, \"type\": \"contourcarpet\"}], \"heatmap\": [{\"colorbar\": {\"outlinewidth\": 0, \"ticks\": \"\"}, \"colorscale\": [[0.0, \"#0d0887\"], [0.1111111111111111, \"#46039f\"], [0.2222222222222222, \"#7201a8\"], [0.3333333333333333, \"#9c179e\"], [0.4444444444444444, \"#bd3786\"], [0.5555555555555556, \"#d8576b\"], [0.6666666666666666, \"#ed7953\"], [0.7777777777777778, \"#fb9f3a\"], [0.8888888888888888, \"#fdca26\"], [1.0, \"#f0f921\"]], \"type\": \"heatmap\"}], \"heatmapgl\": [{\"colorbar\": {\"outlinewidth\": 0, \"ticks\": \"\"}, \"colorscale\": [[0.0, \"#0d0887\"], [0.1111111111111111, \"#46039f\"], [0.2222222222222222, \"#7201a8\"], [0.3333333333333333, \"#9c179e\"], [0.4444444444444444, \"#bd3786\"], [0.5555555555555556, \"#d8576b\"], [0.6666666666666666, \"#ed7953\"], [0.7777777777777778, \"#fb9f3a\"], [0.8888888888888888, \"#fdca26\"], [1.0, \"#f0f921\"]], \"type\": \"heatmapgl\"}], \"histogram\": [{\"marker\": {\"colorbar\": {\"outlinewidth\": 0, \"ticks\": \"\"}}, \"type\": \"histogram\"}], \"histogram2d\": [{\"colorbar\": {\"outlinewidth\": 0, \"ticks\": \"\"}, \"colorscale\": [[0.0, \"#0d0887\"], [0.1111111111111111, \"#46039f\"], [0.2222222222222222, \"#7201a8\"], [0.3333333333333333, \"#9c179e\"], [0.4444444444444444, \"#bd3786\"], [0.5555555555555556, \"#d8576b\"], [0.6666666666666666, \"#ed7953\"], [0.7777777777777778, \"#fb9f3a\"], [0.8888888888888888, \"#fdca26\"], [1.0, \"#f0f921\"]], \"type\": \"histogram2d\"}], \"histogram2dcontour\": [{\"colorbar\": {\"outlinewidth\": 0, \"ticks\": \"\"}, \"colorscale\": [[0.0, \"#0d0887\"], [0.1111111111111111, \"#46039f\"], [0.2222222222222222, \"#7201a8\"], [0.3333333333333333, \"#9c179e\"], [0.4444444444444444, \"#bd3786\"], [0.5555555555555556, \"#d8576b\"], [0.6666666666666666, \"#ed7953\"], [0.7777777777777778, \"#fb9f3a\"], [0.8888888888888888, \"#fdca26\"], [1.0, \"#f0f921\"]], \"type\": \"histogram2dcontour\"}], \"mesh3d\": [{\"colorbar\": {\"outlinewidth\": 0, \"ticks\": \"\"}, \"type\": \"mesh3d\"}], \"parcoords\": [{\"line\": {\"colorbar\": {\"outlinewidth\": 0, \"ticks\": \"\"}}, \"type\": \"parcoords\"}], \"pie\": [{\"automargin\": true, \"type\": \"pie\"}], \"scatter\": [{\"marker\": {\"colorbar\": {\"outlinewidth\": 0, \"ticks\": \"\"}}, \"type\": \"scatter\"}], \"scatter3d\": [{\"line\": {\"colorbar\": {\"outlinewidth\": 0, \"ticks\": \"\"}}, \"marker\": {\"colorbar\": {\"outlinewidth\": 0, \"ticks\": \"\"}}, \"type\": \"scatter3d\"}], \"scattercarpet\": [{\"marker\": {\"colorbar\": {\"outlinewidth\": 0, \"ticks\": \"\"}}, \"type\": \"scattercarpet\"}], \"scattergeo\": [{\"marker\": {\"colorbar\": {\"outlinewidth\": 0, \"ticks\": \"\"}}, \"type\": \"scattergeo\"}], \"scattergl\": [{\"marker\": {\"colorbar\": {\"outlinewidth\": 0, \"ticks\": \"\"}}, \"type\": \"scattergl\"}], \"scattermapbox\": [{\"marker\": {\"colorbar\": {\"outlinewidth\": 0, \"ticks\": \"\"}}, \"type\": \"scattermapbox\"}], \"scatterpolar\": [{\"marker\": {\"colorbar\": {\"outlinewidth\": 0, \"ticks\": \"\"}}, \"type\": \"scatterpolar\"}], \"scatterpolargl\": [{\"marker\": {\"colorbar\": {\"outlinewidth\": 0, \"ticks\": \"\"}}, \"type\": \"scatterpolargl\"}], \"scatterternary\": [{\"marker\": {\"colorbar\": {\"outlinewidth\": 0, \"ticks\": \"\"}}, \"type\": \"scatterternary\"}], \"surface\": [{\"colorbar\": {\"outlinewidth\": 0, \"ticks\": \"\"}, \"colorscale\": [[0.0, \"#0d0887\"], [0.1111111111111111, \"#46039f\"], [0.2222222222222222, \"#7201a8\"], [0.3333333333333333, \"#9c179e\"], [0.4444444444444444, \"#bd3786\"], [0.5555555555555556, \"#d8576b\"], [0.6666666666666666, \"#ed7953\"], [0.7777777777777778, \"#fb9f3a\"], [0.8888888888888888, \"#fdca26\"], [1.0, \"#f0f921\"]], \"type\": \"surface\"}], \"table\": [{\"cells\": {\"fill\": {\"color\": \"#EBF0F8\"}, \"line\": {\"color\": \"white\"}}, \"header\": {\"fill\": {\"color\": \"#C8D4E3\"}, \"line\": {\"color\": \"white\"}}, \"type\": \"table\"}]}, \"layout\": {\"annotationdefaults\": {\"arrowcolor\": \"#2a3f5f\", \"arrowhead\": 0, \"arrowwidth\": 1}, \"autotypenumbers\": \"strict\", \"coloraxis\": {\"colorbar\": {\"outlinewidth\": 0, \"ticks\": \"\"}}, \"colorscale\": {\"diverging\": [[0, \"#8e0152\"], [0.1, \"#c51b7d\"], [0.2, \"#de77ae\"], [0.3, \"#f1b6da\"], [0.4, \"#fde0ef\"], [0.5, \"#f7f7f7\"], [0.6, \"#e6f5d0\"], [0.7, \"#b8e186\"], [0.8, \"#7fbc41\"], [0.9, \"#4d9221\"], [1, \"#276419\"]], \"sequential\": [[0.0, \"#0d0887\"], [0.1111111111111111, \"#46039f\"], [0.2222222222222222, \"#7201a8\"], [0.3333333333333333, \"#9c179e\"], [0.4444444444444444, \"#bd3786\"], [0.5555555555555556, \"#d8576b\"], [0.6666666666666666, \"#ed7953\"], [0.7777777777777778, \"#fb9f3a\"], [0.8888888888888888, \"#fdca26\"], [1.0, \"#f0f921\"]], \"sequentialminus\": [[0.0, \"#0d0887\"], [0.1111111111111111, \"#46039f\"], [0.2222222222222222, \"#7201a8\"], [0.3333333333333333, \"#9c179e\"], [0.4444444444444444, \"#bd3786\"], [0.5555555555555556, \"#d8576b\"], [0.6666666666666666, \"#ed7953\"], [0.7777777777777778, \"#fb9f3a\"], [0.8888888888888888, \"#fdca26\"], [1.0, \"#f0f921\"]]}, \"colorway\": [\"#636efa\", \"#EF553B\", \"#00cc96\", \"#ab63fa\", \"#FFA15A\", \"#19d3f3\", \"#FF6692\", \"#B6E880\", \"#FF97FF\", \"#FECB52\"], \"font\": {\"color\": \"#2a3f5f\"}, \"geo\": {\"bgcolor\": \"white\", \"lakecolor\": \"white\", \"landcolor\": \"#E5ECF6\", \"showlakes\": true, \"showland\": true, \"subunitcolor\": \"white\"}, \"hoverlabel\": {\"align\": \"left\"}, \"hovermode\": \"closest\", \"mapbox\": {\"style\": \"light\"}, \"paper_bgcolor\": \"white\", \"plot_bgcolor\": \"#E5ECF6\", \"polar\": {\"angularaxis\": {\"gridcolor\": \"white\", \"linecolor\": \"white\", \"ticks\": \"\"}, \"bgcolor\": \"#E5ECF6\", \"radialaxis\": {\"gridcolor\": \"white\", \"linecolor\": \"white\", \"ticks\": \"\"}}, \"scene\": {\"xaxis\": {\"backgroundcolor\": \"#E5ECF6\", \"gridcolor\": \"white\", \"gridwidth\": 2, \"linecolor\": \"white\", \"showbackground\": true, \"ticks\": \"\", \"zerolinecolor\": \"white\"}, \"yaxis\": {\"backgroundcolor\": \"#E5ECF6\", \"gridcolor\": \"white\", \"gridwidth\": 2, \"linecolor\": \"white\", \"showbackground\": true, \"ticks\": \"\", \"zerolinecolor\": \"white\"}, \"zaxis\": {\"backgroundcolor\": \"#E5ECF6\", \"gridcolor\": \"white\", \"gridwidth\": 2, \"linecolor\": \"white\", \"showbackground\": true, \"ticks\": \"\", \"zerolinecolor\": \"white\"}}, \"shapedefaults\": {\"line\": {\"color\": \"#2a3f5f\"}}, \"ternary\": {\"aaxis\": {\"gridcolor\": \"white\", \"linecolor\": \"white\", \"ticks\": \"\"}, \"baxis\": {\"gridcolor\": \"white\", \"linecolor\": \"white\", \"ticks\": \"\"}, \"bgcolor\": \"#E5ECF6\", \"caxis\": {\"gridcolor\": \"white\", \"linecolor\": \"white\", \"ticks\": \"\"}}, \"title\": {\"x\": 0.05}, \"xaxis\": {\"automargin\": true, \"gridcolor\": \"white\", \"linecolor\": \"white\", \"ticks\": \"\", \"title\": {\"standoff\": 15}, \"zerolinecolor\": \"white\", \"zerolinewidth\": 2}, \"yaxis\": {\"automargin\": true, \"gridcolor\": \"white\", \"linecolor\": \"white\", \"ticks\": \"\", \"title\": {\"standoff\": 15}, \"zerolinecolor\": \"white\", \"zerolinewidth\": 2}}}, \"xaxis\": {\"anchor\": \"y\", \"domain\": [0.0, 1.0], \"title\": {\"text\": \"Time\"}}, \"yaxis\": {\"anchor\": \"x\", \"domain\": [0.0, 1.0], \"title\": {\"text\": \"betweenness\"}}},                        {\"responsive\": true}                    ).then(function(){\n",
       "                            \n",
       "var gd = document.getElementById('14006144-f00b-4dae-b6d1-62dcf57f669a');\n",
       "var x = new MutationObserver(function (mutations, observer) {{\n",
       "        var display = window.getComputedStyle(gd).display;\n",
       "        if (!display || display === 'none') {{\n",
       "            console.log([gd, 'removed!']);\n",
       "            Plotly.purge(gd);\n",
       "            observer.disconnect();\n",
       "        }}\n",
       "}});\n",
       "\n",
       "// Listen for the removal of the full notebook cells\n",
       "var notebookContainer = gd.closest('#notebook-container');\n",
       "if (notebookContainer) {{\n",
       "    x.observe(notebookContainer, {childList: true});\n",
       "}}\n",
       "\n",
       "// Listen for the clearing of the current output cell\n",
       "var outputEl = gd.closest('.output');\n",
       "if (outputEl) {{\n",
       "    x.observe(outputEl, {childList: true});\n",
       "}}\n",
       "\n",
       "                        })                };                });            </script>        </div>"
      ]
     },
     "metadata": {},
     "output_type": "display_data"
    }
   ],
   "source": [
    "fig= px.line(finaltable, x=finaltable.Time, y=finaltable.betweenness, color=finaltable.index)\n",
    "fig.show()"
   ]
  },
  {
   "cell_type": "code",
   "execution_count": 31,
   "metadata": {},
   "outputs": [
    {
     "data": {
      "application/vnd.plotly.v1+json": {
       "config": {
        "plotlyServerURL": "https://plot.ly"
       },
       "data": [
        {
         "hovertemplate": "_index=0<br>Time=%{x}<br>closeness=%{y}<extra></extra>",
         "legendgroup": "0",
         "line": {
          "color": "#636efa",
          "dash": "solid"
         },
         "mode": "lines",
         "name": "0",
         "orientation": "v",
         "showlegend": true,
         "type": "scatter",
         "x": [
          "February 2019",
          "May 2019",
          "August 2019",
          "November 2019",
          "February 2020",
          "May 2020",
          "August 2020",
          "November 2020",
          "February 2021"
         ],
         "xaxis": "x",
         "y": [
          0.95,
          0.95,
          0.95,
          0.95,
          0.95,
          0.9473684210526315,
          0.95,
          0.9473684210526315,
          0.95
         ],
         "yaxis": "y"
        },
        {
         "hovertemplate": "_index=1<br>Time=%{x}<br>closeness=%{y}<extra></extra>",
         "legendgroup": "1",
         "line": {
          "color": "#EF553B",
          "dash": "solid"
         },
         "mode": "lines",
         "name": "1",
         "orientation": "v",
         "showlegend": true,
         "type": "scatter",
         "x": [
          "February 2019",
          "May 2019",
          "August 2019",
          "November 2019",
          "February 2020",
          "May 2020",
          "August 2020",
          "November 2020",
          "February 2021"
         ],
         "xaxis": "x",
         "y": [
          1,
          1,
          1,
          1,
          1,
          1,
          1,
          1,
          1
         ],
         "yaxis": "y"
        },
        {
         "hovertemplate": "_index=2<br>Time=%{x}<br>closeness=%{y}<extra></extra>",
         "legendgroup": "2",
         "line": {
          "color": "#00cc96",
          "dash": "solid"
         },
         "mode": "lines",
         "name": "2",
         "orientation": "v",
         "showlegend": true,
         "type": "scatter",
         "x": [
          "February 2019",
          "May 2019",
          "August 2019",
          "November 2019",
          "February 2020",
          "May 2020",
          "August 2020",
          "November 2020",
          "February 2021"
         ],
         "xaxis": "x",
         "y": [
          1,
          1,
          1,
          1,
          1,
          1,
          1,
          1,
          1
         ],
         "yaxis": "y"
        },
        {
         "hovertemplate": "_index=3<br>Time=%{x}<br>closeness=%{y}<extra></extra>",
         "legendgroup": "3",
         "line": {
          "color": "#ab63fa",
          "dash": "solid"
         },
         "mode": "lines",
         "name": "3",
         "orientation": "v",
         "showlegend": true,
         "type": "scatter",
         "x": [
          "February 2019",
          "May 2019",
          "August 2019",
          "November 2019",
          "February 2020",
          "May 2020",
          "August 2020",
          "November 2020",
          "February 2021"
         ],
         "xaxis": "x",
         "y": [
          0.95,
          0.95,
          0.95,
          0.9047619047619048,
          0.9047619047619048,
          0.9,
          0.9047619047619048,
          0.9,
          0.9047619047619048
         ],
         "yaxis": "y"
        },
        {
         "hovertemplate": "_index=4<br>Time=%{x}<br>closeness=%{y}<extra></extra>",
         "legendgroup": "4",
         "line": {
          "color": "#FFA15A",
          "dash": "solid"
         },
         "mode": "lines",
         "name": "4",
         "orientation": "v",
         "showlegend": true,
         "type": "scatter",
         "x": [
          "February 2019",
          "May 2019",
          "August 2019",
          "November 2019",
          "February 2020",
          "May 2020",
          "August 2020",
          "November 2020",
          "February 2021"
         ],
         "xaxis": "x",
         "y": [
          0.95,
          0.95,
          1,
          1,
          1,
          1,
          1,
          1,
          1
         ],
         "yaxis": "y"
        },
        {
         "hovertemplate": "_index=5<br>Time=%{x}<br>closeness=%{y}<extra></extra>",
         "legendgroup": "5",
         "line": {
          "color": "#19d3f3",
          "dash": "solid"
         },
         "mode": "lines",
         "name": "5",
         "orientation": "v",
         "showlegend": true,
         "type": "scatter",
         "x": [
          "February 2019",
          "May 2019",
          "August 2019",
          "November 2019",
          "February 2020",
          "May 2020",
          "August 2020",
          "November 2020",
          "February 2021"
         ],
         "xaxis": "x",
         "y": [
          1,
          0.95,
          0.95,
          0.95,
          1,
          1,
          1,
          1,
          1
         ],
         "yaxis": "y"
        },
        {
         "hovertemplate": "_index=6<br>Time=%{x}<br>closeness=%{y}<extra></extra>",
         "legendgroup": "6",
         "line": {
          "color": "#FF6692",
          "dash": "solid"
         },
         "mode": "lines",
         "name": "6",
         "orientation": "v",
         "showlegend": true,
         "type": "scatter",
         "x": [
          "February 2019",
          "May 2019",
          "August 2019",
          "November 2019",
          "February 2020",
          "May 2020",
          "August 2020",
          "November 2020",
          "February 2021"
         ],
         "xaxis": "x",
         "y": [
          0.7037037037037037,
          0.6785714285714286,
          0.7307692307692307,
          0.7307692307692307,
          0.76,
          0.75,
          0.76,
          0.75,
          0.8260869565217391
         ],
         "yaxis": "y"
        },
        {
         "hovertemplate": "_index=7<br>Time=%{x}<br>closeness=%{y}<extra></extra>",
         "legendgroup": "7",
         "line": {
          "color": "#B6E880",
          "dash": "solid"
         },
         "mode": "lines",
         "name": "7",
         "orientation": "v",
         "showlegend": true,
         "type": "scatter",
         "x": [
          "February 2019",
          "May 2019",
          "August 2019",
          "November 2019",
          "February 2020",
          "May 2020",
          "August 2020",
          "November 2020",
          "February 2021"
         ],
         "xaxis": "x",
         "y": [
          1,
          0.9047619047619048,
          1,
          0.9047619047619048,
          0.9047619047619048,
          0.9,
          0.95,
          0.9,
          0.9047619047619048
         ],
         "yaxis": "y"
        },
        {
         "hovertemplate": "_index=8<br>Time=%{x}<br>closeness=%{y}<extra></extra>",
         "legendgroup": "8",
         "line": {
          "color": "#FF97FF",
          "dash": "solid"
         },
         "mode": "lines",
         "name": "8",
         "orientation": "v",
         "showlegend": true,
         "type": "scatter",
         "x": [
          "February 2019",
          "May 2019",
          "August 2019",
          "November 2019",
          "February 2020",
          "May 2020",
          "August 2020",
          "November 2020",
          "February 2021"
         ],
         "xaxis": "x",
         "y": [
          0.95,
          0.95,
          0.95,
          0.9047619047619048,
          0.9047619047619048,
          0.9,
          0.9047619047619048,
          0.9,
          0.95
         ],
         "yaxis": "y"
        },
        {
         "hovertemplate": "_index=9<br>Time=%{x}<br>closeness=%{y}<extra></extra>",
         "legendgroup": "9",
         "line": {
          "color": "#FECB52",
          "dash": "solid"
         },
         "mode": "lines",
         "name": "9",
         "orientation": "v",
         "showlegend": true,
         "type": "scatter",
         "x": [
          "February 2019",
          "May 2019",
          "August 2019",
          "November 2019",
          "February 2020",
          "May 2020",
          "August 2020",
          "November 2020",
          "February 2021"
         ],
         "xaxis": "x",
         "y": [
          0.9047619047619048,
          0.9047619047619048,
          0.9047619047619048,
          0.9047619047619048,
          0.9047619047619048,
          0.9,
          0.9047619047619048,
          0.8571428571428571,
          0.8636363636363636
         ],
         "yaxis": "y"
        },
        {
         "hovertemplate": "_index=10<br>Time=%{x}<br>closeness=%{y}<extra></extra>",
         "legendgroup": "10",
         "line": {
          "color": "#636efa",
          "dash": "solid"
         },
         "mode": "lines",
         "name": "10",
         "orientation": "v",
         "showlegend": true,
         "type": "scatter",
         "x": [
          "February 2019",
          "May 2019",
          "August 2019",
          "November 2019",
          "February 2020",
          "May 2020",
          "August 2020",
          "November 2020",
          "February 2021"
         ],
         "xaxis": "x",
         "y": [
          0.9047619047619048,
          0.9047619047619048,
          0.9047619047619048,
          0.9047619047619048,
          0.9047619047619048,
          0.9,
          0.9047619047619048,
          0.9,
          0.9047619047619048
         ],
         "yaxis": "y"
        },
        {
         "hovertemplate": "_index=11<br>Time=%{x}<br>closeness=%{y}<extra></extra>",
         "legendgroup": "11",
         "line": {
          "color": "#EF553B",
          "dash": "solid"
         },
         "mode": "lines",
         "name": "11",
         "orientation": "v",
         "showlegend": true,
         "type": "scatter",
         "x": [
          "February 2019",
          "May 2019",
          "August 2019",
          "November 2019",
          "February 2020",
          "May 2020",
          "August 2020",
          "November 2020",
          "February 2021"
         ],
         "xaxis": "x",
         "y": [
          0.95,
          0.9047619047619048,
          0.9047619047619048,
          0.9047619047619048,
          0.9047619047619048,
          0.9,
          0.9047619047619048,
          0.9,
          0.95
         ],
         "yaxis": "y"
        },
        {
         "hovertemplate": "_index=12<br>Time=%{x}<br>closeness=%{y}<extra></extra>",
         "legendgroup": "12",
         "line": {
          "color": "#00cc96",
          "dash": "solid"
         },
         "mode": "lines",
         "name": "12",
         "orientation": "v",
         "showlegend": true,
         "type": "scatter",
         "x": [
          "February 2019",
          "May 2019",
          "August 2019",
          "November 2019",
          "February 2020",
          "May 2020",
          "August 2020",
          "November 2020",
          "February 2021"
         ],
         "xaxis": "x",
         "y": [
          1,
          1,
          1,
          1,
          1,
          1,
          1,
          1,
          1
         ],
         "yaxis": "y"
        },
        {
         "hovertemplate": "_index=13<br>Time=%{x}<br>closeness=%{y}<extra></extra>",
         "legendgroup": "13",
         "line": {
          "color": "#ab63fa",
          "dash": "solid"
         },
         "mode": "lines",
         "name": "13",
         "orientation": "v",
         "showlegend": true,
         "type": "scatter",
         "x": [
          "February 2019",
          "May 2019",
          "August 2019",
          "November 2019",
          "February 2020",
          "May 2020",
          "August 2020",
          "November 2020",
          "February 2021"
         ],
         "xaxis": "x",
         "y": [
          0.95,
          0.95,
          0.95,
          0.95,
          0.95,
          1,
          0.95,
          1,
          0.95
         ],
         "yaxis": "y"
        },
        {
         "hovertemplate": "_index=14<br>Time=%{x}<br>closeness=%{y}<extra></extra>",
         "legendgroup": "14",
         "line": {
          "color": "#FFA15A",
          "dash": "solid"
         },
         "mode": "lines",
         "name": "14",
         "orientation": "v",
         "showlegend": true,
         "type": "scatter",
         "x": [
          "February 2019",
          "May 2019",
          "August 2019",
          "November 2019",
          "February 2020",
          "May 2020",
          "August 2020",
          "November 2020",
          "February 2021"
         ],
         "xaxis": "x",
         "y": [
          1,
          1,
          1,
          1,
          1,
          1,
          1,
          1,
          1
         ],
         "yaxis": "y"
        },
        {
         "hovertemplate": "_index=15<br>Time=%{x}<br>closeness=%{y}<extra></extra>",
         "legendgroup": "15",
         "line": {
          "color": "#19d3f3",
          "dash": "solid"
         },
         "mode": "lines",
         "name": "15",
         "orientation": "v",
         "showlegend": true,
         "type": "scatter",
         "x": [
          "February 2019",
          "May 2019",
          "August 2019",
          "November 2019",
          "February 2020",
          "May 2020",
          "August 2020",
          "November 2020",
          "February 2021"
         ],
         "xaxis": "x",
         "y": [
          1,
          1,
          1,
          1,
          1,
          0.72,
          1,
          0.75,
          1
         ],
         "yaxis": "y"
        },
        {
         "hovertemplate": "_index=16<br>Time=%{x}<br>closeness=%{y}<extra></extra>",
         "legendgroup": "16",
         "line": {
          "color": "#FF6692",
          "dash": "solid"
         },
         "mode": "lines",
         "name": "16",
         "orientation": "v",
         "showlegend": true,
         "type": "scatter",
         "x": [
          "February 2019",
          "May 2019",
          "August 2019",
          "November 2019",
          "February 2020",
          "May 2020",
          "August 2020",
          "November 2020",
          "February 2021"
         ],
         "xaxis": "x",
         "y": [
          0.8260869565217391,
          0.76,
          0.8260869565217391,
          0.7307692307692307,
          0.7307692307692307,
          0.9473684210526315,
          0.7037037037037037,
          1,
          0.7037037037037037
         ],
         "yaxis": "y"
        },
        {
         "hovertemplate": "_index=17<br>Time=%{x}<br>closeness=%{y}<extra></extra>",
         "legendgroup": "17",
         "line": {
          "color": "#B6E880",
          "dash": "solid"
         },
         "mode": "lines",
         "name": "17",
         "orientation": "v",
         "showlegend": true,
         "type": "scatter",
         "x": [
          "February 2019",
          "May 2019",
          "August 2019",
          "November 2019",
          "February 2020",
          "May 2020",
          "August 2020",
          "November 2020",
          "February 2021"
         ],
         "xaxis": "x",
         "y": [
          1,
          1,
          1,
          1,
          1,
          1,
          0.95,
          1,
          0.95
         ],
         "yaxis": "y"
        },
        {
         "hovertemplate": "_index=18<br>Time=%{x}<br>closeness=%{y}<extra></extra>",
         "legendgroup": "18",
         "line": {
          "color": "#FF97FF",
          "dash": "solid"
         },
         "mode": "lines",
         "name": "18",
         "orientation": "v",
         "showlegend": true,
         "type": "scatter",
         "x": [
          "February 2019",
          "May 2019",
          "August 2019",
          "November 2019",
          "February 2020",
          "May 2020",
          "August 2020",
          "November 2020",
          "February 2021"
         ],
         "xaxis": "x",
         "y": [
          1,
          1,
          1,
          1,
          1,
          0.9473684210526315,
          1,
          0.9,
          1
         ],
         "yaxis": "y"
        },
        {
         "hovertemplate": "_index=19<br>Time=%{x}<br>closeness=%{y}<extra></extra>",
         "legendgroup": "19",
         "line": {
          "color": "#FECB52",
          "dash": "solid"
         },
         "mode": "lines",
         "name": "19",
         "orientation": "v",
         "showlegend": true,
         "type": "scatter",
         "x": [
          "February 2019",
          "May 2019",
          "August 2019",
          "November 2019",
          "February 2020",
          "August 2020",
          "February 2021"
         ],
         "xaxis": "x",
         "y": [
          1,
          0.95,
          1,
          0.95,
          0.95,
          1,
          0.9047619047619048
         ],
         "yaxis": "y"
        }
       ],
       "layout": {
        "legend": {
         "title": {
          "text": "_index"
         },
         "tracegroupgap": 0
        },
        "margin": {
         "t": 60
        },
        "template": {
         "data": {
          "bar": [
           {
            "error_x": {
             "color": "#2a3f5f"
            },
            "error_y": {
             "color": "#2a3f5f"
            },
            "marker": {
             "line": {
              "color": "#E5ECF6",
              "width": 0.5
             }
            },
            "type": "bar"
           }
          ],
          "barpolar": [
           {
            "marker": {
             "line": {
              "color": "#E5ECF6",
              "width": 0.5
             }
            },
            "type": "barpolar"
           }
          ],
          "carpet": [
           {
            "aaxis": {
             "endlinecolor": "#2a3f5f",
             "gridcolor": "white",
             "linecolor": "white",
             "minorgridcolor": "white",
             "startlinecolor": "#2a3f5f"
            },
            "baxis": {
             "endlinecolor": "#2a3f5f",
             "gridcolor": "white",
             "linecolor": "white",
             "minorgridcolor": "white",
             "startlinecolor": "#2a3f5f"
            },
            "type": "carpet"
           }
          ],
          "choropleth": [
           {
            "colorbar": {
             "outlinewidth": 0,
             "ticks": ""
            },
            "type": "choropleth"
           }
          ],
          "contour": [
           {
            "colorbar": {
             "outlinewidth": 0,
             "ticks": ""
            },
            "colorscale": [
             [
              0,
              "#0d0887"
             ],
             [
              0.1111111111111111,
              "#46039f"
             ],
             [
              0.2222222222222222,
              "#7201a8"
             ],
             [
              0.3333333333333333,
              "#9c179e"
             ],
             [
              0.4444444444444444,
              "#bd3786"
             ],
             [
              0.5555555555555556,
              "#d8576b"
             ],
             [
              0.6666666666666666,
              "#ed7953"
             ],
             [
              0.7777777777777778,
              "#fb9f3a"
             ],
             [
              0.8888888888888888,
              "#fdca26"
             ],
             [
              1,
              "#f0f921"
             ]
            ],
            "type": "contour"
           }
          ],
          "contourcarpet": [
           {
            "colorbar": {
             "outlinewidth": 0,
             "ticks": ""
            },
            "type": "contourcarpet"
           }
          ],
          "heatmap": [
           {
            "colorbar": {
             "outlinewidth": 0,
             "ticks": ""
            },
            "colorscale": [
             [
              0,
              "#0d0887"
             ],
             [
              0.1111111111111111,
              "#46039f"
             ],
             [
              0.2222222222222222,
              "#7201a8"
             ],
             [
              0.3333333333333333,
              "#9c179e"
             ],
             [
              0.4444444444444444,
              "#bd3786"
             ],
             [
              0.5555555555555556,
              "#d8576b"
             ],
             [
              0.6666666666666666,
              "#ed7953"
             ],
             [
              0.7777777777777778,
              "#fb9f3a"
             ],
             [
              0.8888888888888888,
              "#fdca26"
             ],
             [
              1,
              "#f0f921"
             ]
            ],
            "type": "heatmap"
           }
          ],
          "heatmapgl": [
           {
            "colorbar": {
             "outlinewidth": 0,
             "ticks": ""
            },
            "colorscale": [
             [
              0,
              "#0d0887"
             ],
             [
              0.1111111111111111,
              "#46039f"
             ],
             [
              0.2222222222222222,
              "#7201a8"
             ],
             [
              0.3333333333333333,
              "#9c179e"
             ],
             [
              0.4444444444444444,
              "#bd3786"
             ],
             [
              0.5555555555555556,
              "#d8576b"
             ],
             [
              0.6666666666666666,
              "#ed7953"
             ],
             [
              0.7777777777777778,
              "#fb9f3a"
             ],
             [
              0.8888888888888888,
              "#fdca26"
             ],
             [
              1,
              "#f0f921"
             ]
            ],
            "type": "heatmapgl"
           }
          ],
          "histogram": [
           {
            "marker": {
             "colorbar": {
              "outlinewidth": 0,
              "ticks": ""
             }
            },
            "type": "histogram"
           }
          ],
          "histogram2d": [
           {
            "colorbar": {
             "outlinewidth": 0,
             "ticks": ""
            },
            "colorscale": [
             [
              0,
              "#0d0887"
             ],
             [
              0.1111111111111111,
              "#46039f"
             ],
             [
              0.2222222222222222,
              "#7201a8"
             ],
             [
              0.3333333333333333,
              "#9c179e"
             ],
             [
              0.4444444444444444,
              "#bd3786"
             ],
             [
              0.5555555555555556,
              "#d8576b"
             ],
             [
              0.6666666666666666,
              "#ed7953"
             ],
             [
              0.7777777777777778,
              "#fb9f3a"
             ],
             [
              0.8888888888888888,
              "#fdca26"
             ],
             [
              1,
              "#f0f921"
             ]
            ],
            "type": "histogram2d"
           }
          ],
          "histogram2dcontour": [
           {
            "colorbar": {
             "outlinewidth": 0,
             "ticks": ""
            },
            "colorscale": [
             [
              0,
              "#0d0887"
             ],
             [
              0.1111111111111111,
              "#46039f"
             ],
             [
              0.2222222222222222,
              "#7201a8"
             ],
             [
              0.3333333333333333,
              "#9c179e"
             ],
             [
              0.4444444444444444,
              "#bd3786"
             ],
             [
              0.5555555555555556,
              "#d8576b"
             ],
             [
              0.6666666666666666,
              "#ed7953"
             ],
             [
              0.7777777777777778,
              "#fb9f3a"
             ],
             [
              0.8888888888888888,
              "#fdca26"
             ],
             [
              1,
              "#f0f921"
             ]
            ],
            "type": "histogram2dcontour"
           }
          ],
          "mesh3d": [
           {
            "colorbar": {
             "outlinewidth": 0,
             "ticks": ""
            },
            "type": "mesh3d"
           }
          ],
          "parcoords": [
           {
            "line": {
             "colorbar": {
              "outlinewidth": 0,
              "ticks": ""
             }
            },
            "type": "parcoords"
           }
          ],
          "pie": [
           {
            "automargin": true,
            "type": "pie"
           }
          ],
          "scatter": [
           {
            "marker": {
             "colorbar": {
              "outlinewidth": 0,
              "ticks": ""
             }
            },
            "type": "scatter"
           }
          ],
          "scatter3d": [
           {
            "line": {
             "colorbar": {
              "outlinewidth": 0,
              "ticks": ""
             }
            },
            "marker": {
             "colorbar": {
              "outlinewidth": 0,
              "ticks": ""
             }
            },
            "type": "scatter3d"
           }
          ],
          "scattercarpet": [
           {
            "marker": {
             "colorbar": {
              "outlinewidth": 0,
              "ticks": ""
             }
            },
            "type": "scattercarpet"
           }
          ],
          "scattergeo": [
           {
            "marker": {
             "colorbar": {
              "outlinewidth": 0,
              "ticks": ""
             }
            },
            "type": "scattergeo"
           }
          ],
          "scattergl": [
           {
            "marker": {
             "colorbar": {
              "outlinewidth": 0,
              "ticks": ""
             }
            },
            "type": "scattergl"
           }
          ],
          "scattermapbox": [
           {
            "marker": {
             "colorbar": {
              "outlinewidth": 0,
              "ticks": ""
             }
            },
            "type": "scattermapbox"
           }
          ],
          "scatterpolar": [
           {
            "marker": {
             "colorbar": {
              "outlinewidth": 0,
              "ticks": ""
             }
            },
            "type": "scatterpolar"
           }
          ],
          "scatterpolargl": [
           {
            "marker": {
             "colorbar": {
              "outlinewidth": 0,
              "ticks": ""
             }
            },
            "type": "scatterpolargl"
           }
          ],
          "scatterternary": [
           {
            "marker": {
             "colorbar": {
              "outlinewidth": 0,
              "ticks": ""
             }
            },
            "type": "scatterternary"
           }
          ],
          "surface": [
           {
            "colorbar": {
             "outlinewidth": 0,
             "ticks": ""
            },
            "colorscale": [
             [
              0,
              "#0d0887"
             ],
             [
              0.1111111111111111,
              "#46039f"
             ],
             [
              0.2222222222222222,
              "#7201a8"
             ],
             [
              0.3333333333333333,
              "#9c179e"
             ],
             [
              0.4444444444444444,
              "#bd3786"
             ],
             [
              0.5555555555555556,
              "#d8576b"
             ],
             [
              0.6666666666666666,
              "#ed7953"
             ],
             [
              0.7777777777777778,
              "#fb9f3a"
             ],
             [
              0.8888888888888888,
              "#fdca26"
             ],
             [
              1,
              "#f0f921"
             ]
            ],
            "type": "surface"
           }
          ],
          "table": [
           {
            "cells": {
             "fill": {
              "color": "#EBF0F8"
             },
             "line": {
              "color": "white"
             }
            },
            "header": {
             "fill": {
              "color": "#C8D4E3"
             },
             "line": {
              "color": "white"
             }
            },
            "type": "table"
           }
          ]
         },
         "layout": {
          "annotationdefaults": {
           "arrowcolor": "#2a3f5f",
           "arrowhead": 0,
           "arrowwidth": 1
          },
          "autotypenumbers": "strict",
          "coloraxis": {
           "colorbar": {
            "outlinewidth": 0,
            "ticks": ""
           }
          },
          "colorscale": {
           "diverging": [
            [
             0,
             "#8e0152"
            ],
            [
             0.1,
             "#c51b7d"
            ],
            [
             0.2,
             "#de77ae"
            ],
            [
             0.3,
             "#f1b6da"
            ],
            [
             0.4,
             "#fde0ef"
            ],
            [
             0.5,
             "#f7f7f7"
            ],
            [
             0.6,
             "#e6f5d0"
            ],
            [
             0.7,
             "#b8e186"
            ],
            [
             0.8,
             "#7fbc41"
            ],
            [
             0.9,
             "#4d9221"
            ],
            [
             1,
             "#276419"
            ]
           ],
           "sequential": [
            [
             0,
             "#0d0887"
            ],
            [
             0.1111111111111111,
             "#46039f"
            ],
            [
             0.2222222222222222,
             "#7201a8"
            ],
            [
             0.3333333333333333,
             "#9c179e"
            ],
            [
             0.4444444444444444,
             "#bd3786"
            ],
            [
             0.5555555555555556,
             "#d8576b"
            ],
            [
             0.6666666666666666,
             "#ed7953"
            ],
            [
             0.7777777777777778,
             "#fb9f3a"
            ],
            [
             0.8888888888888888,
             "#fdca26"
            ],
            [
             1,
             "#f0f921"
            ]
           ],
           "sequentialminus": [
            [
             0,
             "#0d0887"
            ],
            [
             0.1111111111111111,
             "#46039f"
            ],
            [
             0.2222222222222222,
             "#7201a8"
            ],
            [
             0.3333333333333333,
             "#9c179e"
            ],
            [
             0.4444444444444444,
             "#bd3786"
            ],
            [
             0.5555555555555556,
             "#d8576b"
            ],
            [
             0.6666666666666666,
             "#ed7953"
            ],
            [
             0.7777777777777778,
             "#fb9f3a"
            ],
            [
             0.8888888888888888,
             "#fdca26"
            ],
            [
             1,
             "#f0f921"
            ]
           ]
          },
          "colorway": [
           "#636efa",
           "#EF553B",
           "#00cc96",
           "#ab63fa",
           "#FFA15A",
           "#19d3f3",
           "#FF6692",
           "#B6E880",
           "#FF97FF",
           "#FECB52"
          ],
          "font": {
           "color": "#2a3f5f"
          },
          "geo": {
           "bgcolor": "white",
           "lakecolor": "white",
           "landcolor": "#E5ECF6",
           "showlakes": true,
           "showland": true,
           "subunitcolor": "white"
          },
          "hoverlabel": {
           "align": "left"
          },
          "hovermode": "closest",
          "mapbox": {
           "style": "light"
          },
          "paper_bgcolor": "white",
          "plot_bgcolor": "#E5ECF6",
          "polar": {
           "angularaxis": {
            "gridcolor": "white",
            "linecolor": "white",
            "ticks": ""
           },
           "bgcolor": "#E5ECF6",
           "radialaxis": {
            "gridcolor": "white",
            "linecolor": "white",
            "ticks": ""
           }
          },
          "scene": {
           "xaxis": {
            "backgroundcolor": "#E5ECF6",
            "gridcolor": "white",
            "gridwidth": 2,
            "linecolor": "white",
            "showbackground": true,
            "ticks": "",
            "zerolinecolor": "white"
           },
           "yaxis": {
            "backgroundcolor": "#E5ECF6",
            "gridcolor": "white",
            "gridwidth": 2,
            "linecolor": "white",
            "showbackground": true,
            "ticks": "",
            "zerolinecolor": "white"
           },
           "zaxis": {
            "backgroundcolor": "#E5ECF6",
            "gridcolor": "white",
            "gridwidth": 2,
            "linecolor": "white",
            "showbackground": true,
            "ticks": "",
            "zerolinecolor": "white"
           }
          },
          "shapedefaults": {
           "line": {
            "color": "#2a3f5f"
           }
          },
          "ternary": {
           "aaxis": {
            "gridcolor": "white",
            "linecolor": "white",
            "ticks": ""
           },
           "baxis": {
            "gridcolor": "white",
            "linecolor": "white",
            "ticks": ""
           },
           "bgcolor": "#E5ECF6",
           "caxis": {
            "gridcolor": "white",
            "linecolor": "white",
            "ticks": ""
           }
          },
          "title": {
           "x": 0.05
          },
          "xaxis": {
           "automargin": true,
           "gridcolor": "white",
           "linecolor": "white",
           "ticks": "",
           "title": {
            "standoff": 15
           },
           "zerolinecolor": "white",
           "zerolinewidth": 2
          },
          "yaxis": {
           "automargin": true,
           "gridcolor": "white",
           "linecolor": "white",
           "ticks": "",
           "title": {
            "standoff": 15
           },
           "zerolinecolor": "white",
           "zerolinewidth": 2
          }
         }
        },
        "xaxis": {
         "anchor": "y",
         "domain": [
          0,
          1
         ],
         "title": {
          "text": "Time"
         }
        },
        "yaxis": {
         "anchor": "x",
         "domain": [
          0,
          1
         ],
         "title": {
          "text": "closeness"
         }
        }
       }
      },
      "text/html": [
       "<div>                            <div id=\"1d5671eb-ba4c-48c1-b0a9-4065c5f21fd6\" class=\"plotly-graph-div\" style=\"height:525px; width:100%;\"></div>            <script type=\"text/javascript\">                require([\"plotly\"], function(Plotly) {                    window.PLOTLYENV=window.PLOTLYENV || {};                                    if (document.getElementById(\"1d5671eb-ba4c-48c1-b0a9-4065c5f21fd6\")) {                    Plotly.newPlot(                        \"1d5671eb-ba4c-48c1-b0a9-4065c5f21fd6\",                        [{\"hovertemplate\": \"_index=0<br>Time=%{x}<br>closeness=%{y}<extra></extra>\", \"legendgroup\": \"0\", \"line\": {\"color\": \"#636efa\", \"dash\": \"solid\"}, \"mode\": \"lines\", \"name\": \"0\", \"orientation\": \"v\", \"showlegend\": true, \"type\": \"scatter\", \"x\": [\"February 2019\", \"May 2019\", \"August 2019\", \"November 2019\", \"February 2020\", \"May 2020\", \"August 2020\", \"November 2020\", \"February 2021\"], \"xaxis\": \"x\", \"y\": [0.95, 0.95, 0.95, 0.95, 0.95, 0.9473684210526315, 0.95, 0.9473684210526315, 0.95], \"yaxis\": \"y\"}, {\"hovertemplate\": \"_index=1<br>Time=%{x}<br>closeness=%{y}<extra></extra>\", \"legendgroup\": \"1\", \"line\": {\"color\": \"#EF553B\", \"dash\": \"solid\"}, \"mode\": \"lines\", \"name\": \"1\", \"orientation\": \"v\", \"showlegend\": true, \"type\": \"scatter\", \"x\": [\"February 2019\", \"May 2019\", \"August 2019\", \"November 2019\", \"February 2020\", \"May 2020\", \"August 2020\", \"November 2020\", \"February 2021\"], \"xaxis\": \"x\", \"y\": [1.0, 1.0, 1.0, 1.0, 1.0, 1.0, 1.0, 1.0, 1.0], \"yaxis\": \"y\"}, {\"hovertemplate\": \"_index=2<br>Time=%{x}<br>closeness=%{y}<extra></extra>\", \"legendgroup\": \"2\", \"line\": {\"color\": \"#00cc96\", \"dash\": \"solid\"}, \"mode\": \"lines\", \"name\": \"2\", \"orientation\": \"v\", \"showlegend\": true, \"type\": \"scatter\", \"x\": [\"February 2019\", \"May 2019\", \"August 2019\", \"November 2019\", \"February 2020\", \"May 2020\", \"August 2020\", \"November 2020\", \"February 2021\"], \"xaxis\": \"x\", \"y\": [1.0, 1.0, 1.0, 1.0, 1.0, 1.0, 1.0, 1.0, 1.0], \"yaxis\": \"y\"}, {\"hovertemplate\": \"_index=3<br>Time=%{x}<br>closeness=%{y}<extra></extra>\", \"legendgroup\": \"3\", \"line\": {\"color\": \"#ab63fa\", \"dash\": \"solid\"}, \"mode\": \"lines\", \"name\": \"3\", \"orientation\": \"v\", \"showlegend\": true, \"type\": \"scatter\", \"x\": [\"February 2019\", \"May 2019\", \"August 2019\", \"November 2019\", \"February 2020\", \"May 2020\", \"August 2020\", \"November 2020\", \"February 2021\"], \"xaxis\": \"x\", \"y\": [0.95, 0.95, 0.95, 0.9047619047619048, 0.9047619047619048, 0.9, 0.9047619047619048, 0.9, 0.9047619047619048], \"yaxis\": \"y\"}, {\"hovertemplate\": \"_index=4<br>Time=%{x}<br>closeness=%{y}<extra></extra>\", \"legendgroup\": \"4\", \"line\": {\"color\": \"#FFA15A\", \"dash\": \"solid\"}, \"mode\": \"lines\", \"name\": \"4\", \"orientation\": \"v\", \"showlegend\": true, \"type\": \"scatter\", \"x\": [\"February 2019\", \"May 2019\", \"August 2019\", \"November 2019\", \"February 2020\", \"May 2020\", \"August 2020\", \"November 2020\", \"February 2021\"], \"xaxis\": \"x\", \"y\": [0.95, 0.95, 1.0, 1.0, 1.0, 1.0, 1.0, 1.0, 1.0], \"yaxis\": \"y\"}, {\"hovertemplate\": \"_index=5<br>Time=%{x}<br>closeness=%{y}<extra></extra>\", \"legendgroup\": \"5\", \"line\": {\"color\": \"#19d3f3\", \"dash\": \"solid\"}, \"mode\": \"lines\", \"name\": \"5\", \"orientation\": \"v\", \"showlegend\": true, \"type\": \"scatter\", \"x\": [\"February 2019\", \"May 2019\", \"August 2019\", \"November 2019\", \"February 2020\", \"May 2020\", \"August 2020\", \"November 2020\", \"February 2021\"], \"xaxis\": \"x\", \"y\": [1.0, 0.95, 0.95, 0.95, 1.0, 1.0, 1.0, 1.0, 1.0], \"yaxis\": \"y\"}, {\"hovertemplate\": \"_index=6<br>Time=%{x}<br>closeness=%{y}<extra></extra>\", \"legendgroup\": \"6\", \"line\": {\"color\": \"#FF6692\", \"dash\": \"solid\"}, \"mode\": \"lines\", \"name\": \"6\", \"orientation\": \"v\", \"showlegend\": true, \"type\": \"scatter\", \"x\": [\"February 2019\", \"May 2019\", \"August 2019\", \"November 2019\", \"February 2020\", \"May 2020\", \"August 2020\", \"November 2020\", \"February 2021\"], \"xaxis\": \"x\", \"y\": [0.7037037037037037, 0.6785714285714286, 0.7307692307692307, 0.7307692307692307, 0.76, 0.75, 0.76, 0.75, 0.8260869565217391], \"yaxis\": \"y\"}, {\"hovertemplate\": \"_index=7<br>Time=%{x}<br>closeness=%{y}<extra></extra>\", \"legendgroup\": \"7\", \"line\": {\"color\": \"#B6E880\", \"dash\": \"solid\"}, \"mode\": \"lines\", \"name\": \"7\", \"orientation\": \"v\", \"showlegend\": true, \"type\": \"scatter\", \"x\": [\"February 2019\", \"May 2019\", \"August 2019\", \"November 2019\", \"February 2020\", \"May 2020\", \"August 2020\", \"November 2020\", \"February 2021\"], \"xaxis\": \"x\", \"y\": [1.0, 0.9047619047619048, 1.0, 0.9047619047619048, 0.9047619047619048, 0.9, 0.95, 0.9, 0.9047619047619048], \"yaxis\": \"y\"}, {\"hovertemplate\": \"_index=8<br>Time=%{x}<br>closeness=%{y}<extra></extra>\", \"legendgroup\": \"8\", \"line\": {\"color\": \"#FF97FF\", \"dash\": \"solid\"}, \"mode\": \"lines\", \"name\": \"8\", \"orientation\": \"v\", \"showlegend\": true, \"type\": \"scatter\", \"x\": [\"February 2019\", \"May 2019\", \"August 2019\", \"November 2019\", \"February 2020\", \"May 2020\", \"August 2020\", \"November 2020\", \"February 2021\"], \"xaxis\": \"x\", \"y\": [0.95, 0.95, 0.95, 0.9047619047619048, 0.9047619047619048, 0.9, 0.9047619047619048, 0.9, 0.95], \"yaxis\": \"y\"}, {\"hovertemplate\": \"_index=9<br>Time=%{x}<br>closeness=%{y}<extra></extra>\", \"legendgroup\": \"9\", \"line\": {\"color\": \"#FECB52\", \"dash\": \"solid\"}, \"mode\": \"lines\", \"name\": \"9\", \"orientation\": \"v\", \"showlegend\": true, \"type\": \"scatter\", \"x\": [\"February 2019\", \"May 2019\", \"August 2019\", \"November 2019\", \"February 2020\", \"May 2020\", \"August 2020\", \"November 2020\", \"February 2021\"], \"xaxis\": \"x\", \"y\": [0.9047619047619048, 0.9047619047619048, 0.9047619047619048, 0.9047619047619048, 0.9047619047619048, 0.9, 0.9047619047619048, 0.8571428571428571, 0.8636363636363636], \"yaxis\": \"y\"}, {\"hovertemplate\": \"_index=10<br>Time=%{x}<br>closeness=%{y}<extra></extra>\", \"legendgroup\": \"10\", \"line\": {\"color\": \"#636efa\", \"dash\": \"solid\"}, \"mode\": \"lines\", \"name\": \"10\", \"orientation\": \"v\", \"showlegend\": true, \"type\": \"scatter\", \"x\": [\"February 2019\", \"May 2019\", \"August 2019\", \"November 2019\", \"February 2020\", \"May 2020\", \"August 2020\", \"November 2020\", \"February 2021\"], \"xaxis\": \"x\", \"y\": [0.9047619047619048, 0.9047619047619048, 0.9047619047619048, 0.9047619047619048, 0.9047619047619048, 0.9, 0.9047619047619048, 0.9, 0.9047619047619048], \"yaxis\": \"y\"}, {\"hovertemplate\": \"_index=11<br>Time=%{x}<br>closeness=%{y}<extra></extra>\", \"legendgroup\": \"11\", \"line\": {\"color\": \"#EF553B\", \"dash\": \"solid\"}, \"mode\": \"lines\", \"name\": \"11\", \"orientation\": \"v\", \"showlegend\": true, \"type\": \"scatter\", \"x\": [\"February 2019\", \"May 2019\", \"August 2019\", \"November 2019\", \"February 2020\", \"May 2020\", \"August 2020\", \"November 2020\", \"February 2021\"], \"xaxis\": \"x\", \"y\": [0.95, 0.9047619047619048, 0.9047619047619048, 0.9047619047619048, 0.9047619047619048, 0.9, 0.9047619047619048, 0.9, 0.95], \"yaxis\": \"y\"}, {\"hovertemplate\": \"_index=12<br>Time=%{x}<br>closeness=%{y}<extra></extra>\", \"legendgroup\": \"12\", \"line\": {\"color\": \"#00cc96\", \"dash\": \"solid\"}, \"mode\": \"lines\", \"name\": \"12\", \"orientation\": \"v\", \"showlegend\": true, \"type\": \"scatter\", \"x\": [\"February 2019\", \"May 2019\", \"August 2019\", \"November 2019\", \"February 2020\", \"May 2020\", \"August 2020\", \"November 2020\", \"February 2021\"], \"xaxis\": \"x\", \"y\": [1.0, 1.0, 1.0, 1.0, 1.0, 1.0, 1.0, 1.0, 1.0], \"yaxis\": \"y\"}, {\"hovertemplate\": \"_index=13<br>Time=%{x}<br>closeness=%{y}<extra></extra>\", \"legendgroup\": \"13\", \"line\": {\"color\": \"#ab63fa\", \"dash\": \"solid\"}, \"mode\": \"lines\", \"name\": \"13\", \"orientation\": \"v\", \"showlegend\": true, \"type\": \"scatter\", \"x\": [\"February 2019\", \"May 2019\", \"August 2019\", \"November 2019\", \"February 2020\", \"May 2020\", \"August 2020\", \"November 2020\", \"February 2021\"], \"xaxis\": \"x\", \"y\": [0.95, 0.95, 0.95, 0.95, 0.95, 1.0, 0.95, 1.0, 0.95], \"yaxis\": \"y\"}, {\"hovertemplate\": \"_index=14<br>Time=%{x}<br>closeness=%{y}<extra></extra>\", \"legendgroup\": \"14\", \"line\": {\"color\": \"#FFA15A\", \"dash\": \"solid\"}, \"mode\": \"lines\", \"name\": \"14\", \"orientation\": \"v\", \"showlegend\": true, \"type\": \"scatter\", \"x\": [\"February 2019\", \"May 2019\", \"August 2019\", \"November 2019\", \"February 2020\", \"May 2020\", \"August 2020\", \"November 2020\", \"February 2021\"], \"xaxis\": \"x\", \"y\": [1.0, 1.0, 1.0, 1.0, 1.0, 1.0, 1.0, 1.0, 1.0], \"yaxis\": \"y\"}, {\"hovertemplate\": \"_index=15<br>Time=%{x}<br>closeness=%{y}<extra></extra>\", \"legendgroup\": \"15\", \"line\": {\"color\": \"#19d3f3\", \"dash\": \"solid\"}, \"mode\": \"lines\", \"name\": \"15\", \"orientation\": \"v\", \"showlegend\": true, \"type\": \"scatter\", \"x\": [\"February 2019\", \"May 2019\", \"August 2019\", \"November 2019\", \"February 2020\", \"May 2020\", \"August 2020\", \"November 2020\", \"February 2021\"], \"xaxis\": \"x\", \"y\": [1.0, 1.0, 1.0, 1.0, 1.0, 0.72, 1.0, 0.75, 1.0], \"yaxis\": \"y\"}, {\"hovertemplate\": \"_index=16<br>Time=%{x}<br>closeness=%{y}<extra></extra>\", \"legendgroup\": \"16\", \"line\": {\"color\": \"#FF6692\", \"dash\": \"solid\"}, \"mode\": \"lines\", \"name\": \"16\", \"orientation\": \"v\", \"showlegend\": true, \"type\": \"scatter\", \"x\": [\"February 2019\", \"May 2019\", \"August 2019\", \"November 2019\", \"February 2020\", \"May 2020\", \"August 2020\", \"November 2020\", \"February 2021\"], \"xaxis\": \"x\", \"y\": [0.8260869565217391, 0.76, 0.8260869565217391, 0.7307692307692307, 0.7307692307692307, 0.9473684210526315, 0.7037037037037037, 1.0, 0.7037037037037037], \"yaxis\": \"y\"}, {\"hovertemplate\": \"_index=17<br>Time=%{x}<br>closeness=%{y}<extra></extra>\", \"legendgroup\": \"17\", \"line\": {\"color\": \"#B6E880\", \"dash\": \"solid\"}, \"mode\": \"lines\", \"name\": \"17\", \"orientation\": \"v\", \"showlegend\": true, \"type\": \"scatter\", \"x\": [\"February 2019\", \"May 2019\", \"August 2019\", \"November 2019\", \"February 2020\", \"May 2020\", \"August 2020\", \"November 2020\", \"February 2021\"], \"xaxis\": \"x\", \"y\": [1.0, 1.0, 1.0, 1.0, 1.0, 1.0, 0.95, 1.0, 0.95], \"yaxis\": \"y\"}, {\"hovertemplate\": \"_index=18<br>Time=%{x}<br>closeness=%{y}<extra></extra>\", \"legendgroup\": \"18\", \"line\": {\"color\": \"#FF97FF\", \"dash\": \"solid\"}, \"mode\": \"lines\", \"name\": \"18\", \"orientation\": \"v\", \"showlegend\": true, \"type\": \"scatter\", \"x\": [\"February 2019\", \"May 2019\", \"August 2019\", \"November 2019\", \"February 2020\", \"May 2020\", \"August 2020\", \"November 2020\", \"February 2021\"], \"xaxis\": \"x\", \"y\": [1.0, 1.0, 1.0, 1.0, 1.0, 0.9473684210526315, 1.0, 0.9, 1.0], \"yaxis\": \"y\"}, {\"hovertemplate\": \"_index=19<br>Time=%{x}<br>closeness=%{y}<extra></extra>\", \"legendgroup\": \"19\", \"line\": {\"color\": \"#FECB52\", \"dash\": \"solid\"}, \"mode\": \"lines\", \"name\": \"19\", \"orientation\": \"v\", \"showlegend\": true, \"type\": \"scatter\", \"x\": [\"February 2019\", \"May 2019\", \"August 2019\", \"November 2019\", \"February 2020\", \"August 2020\", \"February 2021\"], \"xaxis\": \"x\", \"y\": [1.0, 0.95, 1.0, 0.95, 0.95, 1.0, 0.9047619047619048], \"yaxis\": \"y\"}],                        {\"legend\": {\"title\": {\"text\": \"_index\"}, \"tracegroupgap\": 0}, \"margin\": {\"t\": 60}, \"template\": {\"data\": {\"bar\": [{\"error_x\": {\"color\": \"#2a3f5f\"}, \"error_y\": {\"color\": \"#2a3f5f\"}, \"marker\": {\"line\": {\"color\": \"#E5ECF6\", \"width\": 0.5}}, \"type\": \"bar\"}], \"barpolar\": [{\"marker\": {\"line\": {\"color\": \"#E5ECF6\", \"width\": 0.5}}, \"type\": \"barpolar\"}], \"carpet\": [{\"aaxis\": {\"endlinecolor\": \"#2a3f5f\", \"gridcolor\": \"white\", \"linecolor\": \"white\", \"minorgridcolor\": \"white\", \"startlinecolor\": \"#2a3f5f\"}, \"baxis\": {\"endlinecolor\": \"#2a3f5f\", \"gridcolor\": \"white\", \"linecolor\": \"white\", \"minorgridcolor\": \"white\", \"startlinecolor\": \"#2a3f5f\"}, \"type\": \"carpet\"}], \"choropleth\": [{\"colorbar\": {\"outlinewidth\": 0, \"ticks\": \"\"}, \"type\": \"choropleth\"}], \"contour\": [{\"colorbar\": {\"outlinewidth\": 0, \"ticks\": \"\"}, \"colorscale\": [[0.0, \"#0d0887\"], [0.1111111111111111, \"#46039f\"], [0.2222222222222222, \"#7201a8\"], [0.3333333333333333, \"#9c179e\"], [0.4444444444444444, \"#bd3786\"], [0.5555555555555556, \"#d8576b\"], [0.6666666666666666, \"#ed7953\"], [0.7777777777777778, \"#fb9f3a\"], [0.8888888888888888, \"#fdca26\"], [1.0, \"#f0f921\"]], \"type\": \"contour\"}], \"contourcarpet\": [{\"colorbar\": {\"outlinewidth\": 0, \"ticks\": \"\"}, \"type\": \"contourcarpet\"}], \"heatmap\": [{\"colorbar\": {\"outlinewidth\": 0, \"ticks\": \"\"}, \"colorscale\": [[0.0, \"#0d0887\"], [0.1111111111111111, \"#46039f\"], [0.2222222222222222, \"#7201a8\"], [0.3333333333333333, \"#9c179e\"], [0.4444444444444444, \"#bd3786\"], [0.5555555555555556, \"#d8576b\"], [0.6666666666666666, \"#ed7953\"], [0.7777777777777778, \"#fb9f3a\"], [0.8888888888888888, \"#fdca26\"], [1.0, \"#f0f921\"]], \"type\": \"heatmap\"}], \"heatmapgl\": [{\"colorbar\": {\"outlinewidth\": 0, \"ticks\": \"\"}, \"colorscale\": [[0.0, \"#0d0887\"], [0.1111111111111111, \"#46039f\"], [0.2222222222222222, \"#7201a8\"], [0.3333333333333333, \"#9c179e\"], [0.4444444444444444, \"#bd3786\"], [0.5555555555555556, \"#d8576b\"], [0.6666666666666666, \"#ed7953\"], [0.7777777777777778, \"#fb9f3a\"], [0.8888888888888888, \"#fdca26\"], [1.0, \"#f0f921\"]], \"type\": \"heatmapgl\"}], \"histogram\": [{\"marker\": {\"colorbar\": {\"outlinewidth\": 0, \"ticks\": \"\"}}, \"type\": \"histogram\"}], \"histogram2d\": [{\"colorbar\": {\"outlinewidth\": 0, \"ticks\": \"\"}, \"colorscale\": [[0.0, \"#0d0887\"], [0.1111111111111111, \"#46039f\"], [0.2222222222222222, \"#7201a8\"], [0.3333333333333333, \"#9c179e\"], [0.4444444444444444, \"#bd3786\"], [0.5555555555555556, \"#d8576b\"], [0.6666666666666666, \"#ed7953\"], [0.7777777777777778, \"#fb9f3a\"], [0.8888888888888888, \"#fdca26\"], [1.0, \"#f0f921\"]], \"type\": \"histogram2d\"}], \"histogram2dcontour\": [{\"colorbar\": {\"outlinewidth\": 0, \"ticks\": \"\"}, \"colorscale\": [[0.0, \"#0d0887\"], [0.1111111111111111, \"#46039f\"], [0.2222222222222222, \"#7201a8\"], [0.3333333333333333, \"#9c179e\"], [0.4444444444444444, \"#bd3786\"], [0.5555555555555556, \"#d8576b\"], [0.6666666666666666, \"#ed7953\"], [0.7777777777777778, \"#fb9f3a\"], [0.8888888888888888, \"#fdca26\"], [1.0, \"#f0f921\"]], \"type\": \"histogram2dcontour\"}], \"mesh3d\": [{\"colorbar\": {\"outlinewidth\": 0, \"ticks\": \"\"}, \"type\": \"mesh3d\"}], \"parcoords\": [{\"line\": {\"colorbar\": {\"outlinewidth\": 0, \"ticks\": \"\"}}, \"type\": \"parcoords\"}], \"pie\": [{\"automargin\": true, \"type\": \"pie\"}], \"scatter\": [{\"marker\": {\"colorbar\": {\"outlinewidth\": 0, \"ticks\": \"\"}}, \"type\": \"scatter\"}], \"scatter3d\": [{\"line\": {\"colorbar\": {\"outlinewidth\": 0, \"ticks\": \"\"}}, \"marker\": {\"colorbar\": {\"outlinewidth\": 0, \"ticks\": \"\"}}, \"type\": \"scatter3d\"}], \"scattercarpet\": [{\"marker\": {\"colorbar\": {\"outlinewidth\": 0, \"ticks\": \"\"}}, \"type\": \"scattercarpet\"}], \"scattergeo\": [{\"marker\": {\"colorbar\": {\"outlinewidth\": 0, \"ticks\": \"\"}}, \"type\": \"scattergeo\"}], \"scattergl\": [{\"marker\": {\"colorbar\": {\"outlinewidth\": 0, \"ticks\": \"\"}}, \"type\": \"scattergl\"}], \"scattermapbox\": [{\"marker\": {\"colorbar\": {\"outlinewidth\": 0, \"ticks\": \"\"}}, \"type\": \"scattermapbox\"}], \"scatterpolar\": [{\"marker\": {\"colorbar\": {\"outlinewidth\": 0, \"ticks\": \"\"}}, \"type\": \"scatterpolar\"}], \"scatterpolargl\": [{\"marker\": {\"colorbar\": {\"outlinewidth\": 0, \"ticks\": \"\"}}, \"type\": \"scatterpolargl\"}], \"scatterternary\": [{\"marker\": {\"colorbar\": {\"outlinewidth\": 0, \"ticks\": \"\"}}, \"type\": \"scatterternary\"}], \"surface\": [{\"colorbar\": {\"outlinewidth\": 0, \"ticks\": \"\"}, \"colorscale\": [[0.0, \"#0d0887\"], [0.1111111111111111, \"#46039f\"], [0.2222222222222222, \"#7201a8\"], [0.3333333333333333, \"#9c179e\"], [0.4444444444444444, \"#bd3786\"], [0.5555555555555556, \"#d8576b\"], [0.6666666666666666, \"#ed7953\"], [0.7777777777777778, \"#fb9f3a\"], [0.8888888888888888, \"#fdca26\"], [1.0, \"#f0f921\"]], \"type\": \"surface\"}], \"table\": [{\"cells\": {\"fill\": {\"color\": \"#EBF0F8\"}, \"line\": {\"color\": \"white\"}}, \"header\": {\"fill\": {\"color\": \"#C8D4E3\"}, \"line\": {\"color\": \"white\"}}, \"type\": \"table\"}]}, \"layout\": {\"annotationdefaults\": {\"arrowcolor\": \"#2a3f5f\", \"arrowhead\": 0, \"arrowwidth\": 1}, \"autotypenumbers\": \"strict\", \"coloraxis\": {\"colorbar\": {\"outlinewidth\": 0, \"ticks\": \"\"}}, \"colorscale\": {\"diverging\": [[0, \"#8e0152\"], [0.1, \"#c51b7d\"], [0.2, \"#de77ae\"], [0.3, \"#f1b6da\"], [0.4, \"#fde0ef\"], [0.5, \"#f7f7f7\"], [0.6, \"#e6f5d0\"], [0.7, \"#b8e186\"], [0.8, \"#7fbc41\"], [0.9, \"#4d9221\"], [1, \"#276419\"]], \"sequential\": [[0.0, \"#0d0887\"], [0.1111111111111111, \"#46039f\"], [0.2222222222222222, \"#7201a8\"], [0.3333333333333333, \"#9c179e\"], [0.4444444444444444, \"#bd3786\"], [0.5555555555555556, \"#d8576b\"], [0.6666666666666666, \"#ed7953\"], [0.7777777777777778, \"#fb9f3a\"], [0.8888888888888888, \"#fdca26\"], [1.0, \"#f0f921\"]], \"sequentialminus\": [[0.0, \"#0d0887\"], [0.1111111111111111, \"#46039f\"], [0.2222222222222222, \"#7201a8\"], [0.3333333333333333, \"#9c179e\"], [0.4444444444444444, \"#bd3786\"], [0.5555555555555556, \"#d8576b\"], [0.6666666666666666, \"#ed7953\"], [0.7777777777777778, \"#fb9f3a\"], [0.8888888888888888, \"#fdca26\"], [1.0, \"#f0f921\"]]}, \"colorway\": [\"#636efa\", \"#EF553B\", \"#00cc96\", \"#ab63fa\", \"#FFA15A\", \"#19d3f3\", \"#FF6692\", \"#B6E880\", \"#FF97FF\", \"#FECB52\"], \"font\": {\"color\": \"#2a3f5f\"}, \"geo\": {\"bgcolor\": \"white\", \"lakecolor\": \"white\", \"landcolor\": \"#E5ECF6\", \"showlakes\": true, \"showland\": true, \"subunitcolor\": \"white\"}, \"hoverlabel\": {\"align\": \"left\"}, \"hovermode\": \"closest\", \"mapbox\": {\"style\": \"light\"}, \"paper_bgcolor\": \"white\", \"plot_bgcolor\": \"#E5ECF6\", \"polar\": {\"angularaxis\": {\"gridcolor\": \"white\", \"linecolor\": \"white\", \"ticks\": \"\"}, \"bgcolor\": \"#E5ECF6\", \"radialaxis\": {\"gridcolor\": \"white\", \"linecolor\": \"white\", \"ticks\": \"\"}}, \"scene\": {\"xaxis\": {\"backgroundcolor\": \"#E5ECF6\", \"gridcolor\": \"white\", \"gridwidth\": 2, \"linecolor\": \"white\", \"showbackground\": true, \"ticks\": \"\", \"zerolinecolor\": \"white\"}, \"yaxis\": {\"backgroundcolor\": \"#E5ECF6\", \"gridcolor\": \"white\", \"gridwidth\": 2, \"linecolor\": \"white\", \"showbackground\": true, \"ticks\": \"\", \"zerolinecolor\": \"white\"}, \"zaxis\": {\"backgroundcolor\": \"#E5ECF6\", \"gridcolor\": \"white\", \"gridwidth\": 2, \"linecolor\": \"white\", \"showbackground\": true, \"ticks\": \"\", \"zerolinecolor\": \"white\"}}, \"shapedefaults\": {\"line\": {\"color\": \"#2a3f5f\"}}, \"ternary\": {\"aaxis\": {\"gridcolor\": \"white\", \"linecolor\": \"white\", \"ticks\": \"\"}, \"baxis\": {\"gridcolor\": \"white\", \"linecolor\": \"white\", \"ticks\": \"\"}, \"bgcolor\": \"#E5ECF6\", \"caxis\": {\"gridcolor\": \"white\", \"linecolor\": \"white\", \"ticks\": \"\"}}, \"title\": {\"x\": 0.05}, \"xaxis\": {\"automargin\": true, \"gridcolor\": \"white\", \"linecolor\": \"white\", \"ticks\": \"\", \"title\": {\"standoff\": 15}, \"zerolinecolor\": \"white\", \"zerolinewidth\": 2}, \"yaxis\": {\"automargin\": true, \"gridcolor\": \"white\", \"linecolor\": \"white\", \"ticks\": \"\", \"title\": {\"standoff\": 15}, \"zerolinecolor\": \"white\", \"zerolinewidth\": 2}}}, \"xaxis\": {\"anchor\": \"y\", \"domain\": [0.0, 1.0], \"title\": {\"text\": \"Time\"}}, \"yaxis\": {\"anchor\": \"x\", \"domain\": [0.0, 1.0], \"title\": {\"text\": \"closeness\"}}},                        {\"responsive\": true}                    ).then(function(){\n",
       "                            \n",
       "var gd = document.getElementById('1d5671eb-ba4c-48c1-b0a9-4065c5f21fd6');\n",
       "var x = new MutationObserver(function (mutations, observer) {{\n",
       "        var display = window.getComputedStyle(gd).display;\n",
       "        if (!display || display === 'none') {{\n",
       "            console.log([gd, 'removed!']);\n",
       "            Plotly.purge(gd);\n",
       "            observer.disconnect();\n",
       "        }}\n",
       "}});\n",
       "\n",
       "// Listen for the removal of the full notebook cells\n",
       "var notebookContainer = gd.closest('#notebook-container');\n",
       "if (notebookContainer) {{\n",
       "    x.observe(notebookContainer, {childList: true});\n",
       "}}\n",
       "\n",
       "// Listen for the clearing of the current output cell\n",
       "var outputEl = gd.closest('.output');\n",
       "if (outputEl) {{\n",
       "    x.observe(outputEl, {childList: true});\n",
       "}}\n",
       "\n",
       "                        })                };                });            </script>        </div>"
      ]
     },
     "metadata": {},
     "output_type": "display_data"
    }
   ],
   "source": [
    "fig= px.line(finaltable, x=finaltable.Time, y=finaltable.closeness, color=finaltable.index)\n",
    "fig.show()"
   ]
  },
  {
   "cell_type": "code",
   "execution_count": 32,
   "metadata": {},
   "outputs": [
    {
     "data": {
      "application/vnd.plotly.v1+json": {
       "config": {
        "plotlyServerURL": "https://plot.ly"
       },
       "data": [
        {
         "hovertemplate": "_index=0<br>Time=%{x}<br>degree=%{y}<extra></extra>",
         "legendgroup": "0",
         "line": {
          "color": "#636efa",
          "dash": "solid"
         },
         "mode": "lines",
         "name": "0",
         "orientation": "v",
         "showlegend": true,
         "type": "scatter",
         "x": [
          "February 2019",
          "May 2019",
          "August 2019",
          "November 2019",
          "February 2020",
          "May 2020",
          "August 2020",
          "November 2020",
          "February 2021"
         ],
         "xaxis": "x",
         "y": [
          1.0526315789473684,
          1.0526315789473684,
          1.0526315789473684,
          1.0526315789473684,
          1.0526315789473684,
          1.0555555555555556,
          1.0526315789473684,
          1.0555555555555556,
          1.0526315789473684
         ],
         "yaxis": "y"
        },
        {
         "hovertemplate": "_index=1<br>Time=%{x}<br>degree=%{y}<extra></extra>",
         "legendgroup": "1",
         "line": {
          "color": "#EF553B",
          "dash": "solid"
         },
         "mode": "lines",
         "name": "1",
         "orientation": "v",
         "showlegend": true,
         "type": "scatter",
         "x": [
          "February 2019",
          "May 2019",
          "August 2019",
          "November 2019",
          "February 2020",
          "May 2020",
          "August 2020",
          "November 2020",
          "February 2021"
         ],
         "xaxis": "x",
         "y": [
          1.1052631578947367,
          1.1052631578947367,
          1.1052631578947367,
          1.1052631578947367,
          1.1052631578947367,
          1.1111111111111112,
          1.1052631578947367,
          1.1111111111111112,
          1.1052631578947367
         ],
         "yaxis": "y"
        },
        {
         "hovertemplate": "_index=2<br>Time=%{x}<br>degree=%{y}<extra></extra>",
         "legendgroup": "2",
         "line": {
          "color": "#00cc96",
          "dash": "solid"
         },
         "mode": "lines",
         "name": "2",
         "orientation": "v",
         "showlegend": true,
         "type": "scatter",
         "x": [
          "February 2019",
          "May 2019",
          "August 2019",
          "November 2019",
          "February 2020",
          "May 2020",
          "August 2020",
          "November 2020",
          "February 2021"
         ],
         "xaxis": "x",
         "y": [
          1.1052631578947367,
          1.1052631578947367,
          1.1052631578947367,
          1.1052631578947367,
          1.1052631578947367,
          1.1111111111111112,
          1.1052631578947367,
          1.1111111111111112,
          1.1052631578947367
         ],
         "yaxis": "y"
        },
        {
         "hovertemplate": "_index=3<br>Time=%{x}<br>degree=%{y}<extra></extra>",
         "legendgroup": "3",
         "line": {
          "color": "#ab63fa",
          "dash": "solid"
         },
         "mode": "lines",
         "name": "3",
         "orientation": "v",
         "showlegend": true,
         "type": "scatter",
         "x": [
          "February 2019",
          "May 2019",
          "August 2019",
          "November 2019",
          "February 2020",
          "May 2020",
          "August 2020",
          "November 2020",
          "February 2021"
         ],
         "xaxis": "x",
         "y": [
          1.0526315789473684,
          1.0526315789473684,
          1.0526315789473684,
          1,
          1,
          1,
          1,
          1,
          1
         ],
         "yaxis": "y"
        },
        {
         "hovertemplate": "_index=4<br>Time=%{x}<br>degree=%{y}<extra></extra>",
         "legendgroup": "4",
         "line": {
          "color": "#FFA15A",
          "dash": "solid"
         },
         "mode": "lines",
         "name": "4",
         "orientation": "v",
         "showlegend": true,
         "type": "scatter",
         "x": [
          "February 2019",
          "May 2019",
          "August 2019",
          "November 2019",
          "February 2020",
          "May 2020",
          "August 2020",
          "November 2020",
          "February 2021"
         ],
         "xaxis": "x",
         "y": [
          1.0526315789473684,
          1.0526315789473684,
          1.1052631578947367,
          1.1052631578947367,
          1.1052631578947367,
          1.1111111111111112,
          1.1052631578947367,
          1.1111111111111112,
          1.1052631578947367
         ],
         "yaxis": "y"
        },
        {
         "hovertemplate": "_index=5<br>Time=%{x}<br>degree=%{y}<extra></extra>",
         "legendgroup": "5",
         "line": {
          "color": "#19d3f3",
          "dash": "solid"
         },
         "mode": "lines",
         "name": "5",
         "orientation": "v",
         "showlegend": true,
         "type": "scatter",
         "x": [
          "February 2019",
          "May 2019",
          "August 2019",
          "November 2019",
          "February 2020",
          "May 2020",
          "August 2020",
          "November 2020",
          "February 2021"
         ],
         "xaxis": "x",
         "y": [
          1.1052631578947367,
          1.0526315789473684,
          1.0526315789473684,
          1.0526315789473684,
          1.1052631578947367,
          1.1111111111111112,
          1.1052631578947367,
          1.1111111111111112,
          1.1052631578947367
         ],
         "yaxis": "y"
        },
        {
         "hovertemplate": "_index=6<br>Time=%{x}<br>degree=%{y}<extra></extra>",
         "legendgroup": "6",
         "line": {
          "color": "#FF6692",
          "dash": "solid"
         },
         "mode": "lines",
         "name": "6",
         "orientation": "v",
         "showlegend": true,
         "type": "scatter",
         "x": [
          "February 2019",
          "May 2019",
          "August 2019",
          "November 2019",
          "February 2020",
          "May 2020",
          "August 2020",
          "November 2020",
          "February 2021"
         ],
         "xaxis": "x",
         "y": [
          0.6842105263157894,
          0.631578947368421,
          0.7368421052631579,
          0.7368421052631579,
          0.7894736842105263,
          0.7777777777777777,
          0.7894736842105263,
          0.7777777777777777,
          0.894736842105263
         ],
         "yaxis": "y"
        },
        {
         "hovertemplate": "_index=7<br>Time=%{x}<br>degree=%{y}<extra></extra>",
         "legendgroup": "7",
         "line": {
          "color": "#B6E880",
          "dash": "solid"
         },
         "mode": "lines",
         "name": "7",
         "orientation": "v",
         "showlegend": true,
         "type": "scatter",
         "x": [
          "February 2019",
          "May 2019",
          "August 2019",
          "November 2019",
          "February 2020",
          "May 2020",
          "August 2020",
          "November 2020",
          "February 2021"
         ],
         "xaxis": "x",
         "y": [
          1.1052631578947367,
          1,
          1.1052631578947367,
          1,
          1,
          1,
          1.0526315789473684,
          1,
          1
         ],
         "yaxis": "y"
        },
        {
         "hovertemplate": "_index=8<br>Time=%{x}<br>degree=%{y}<extra></extra>",
         "legendgroup": "8",
         "line": {
          "color": "#FF97FF",
          "dash": "solid"
         },
         "mode": "lines",
         "name": "8",
         "orientation": "v",
         "showlegend": true,
         "type": "scatter",
         "x": [
          "February 2019",
          "May 2019",
          "August 2019",
          "November 2019",
          "February 2020",
          "May 2020",
          "August 2020",
          "November 2020",
          "February 2021"
         ],
         "xaxis": "x",
         "y": [
          1.0526315789473684,
          1.0526315789473684,
          1.0526315789473684,
          1,
          1,
          1,
          1,
          1,
          1.0526315789473684
         ],
         "yaxis": "y"
        },
        {
         "hovertemplate": "_index=9<br>Time=%{x}<br>degree=%{y}<extra></extra>",
         "legendgroup": "9",
         "line": {
          "color": "#FECB52",
          "dash": "solid"
         },
         "mode": "lines",
         "name": "9",
         "orientation": "v",
         "showlegend": true,
         "type": "scatter",
         "x": [
          "February 2019",
          "May 2019",
          "August 2019",
          "November 2019",
          "February 2020",
          "May 2020",
          "August 2020",
          "November 2020",
          "February 2021"
         ],
         "xaxis": "x",
         "y": [
          1,
          1,
          1,
          1,
          1,
          1,
          1,
          0.9444444444444444,
          0.9473684210526315
         ],
         "yaxis": "y"
        },
        {
         "hovertemplate": "_index=10<br>Time=%{x}<br>degree=%{y}<extra></extra>",
         "legendgroup": "10",
         "line": {
          "color": "#636efa",
          "dash": "solid"
         },
         "mode": "lines",
         "name": "10",
         "orientation": "v",
         "showlegend": true,
         "type": "scatter",
         "x": [
          "February 2019",
          "May 2019",
          "August 2019",
          "November 2019",
          "February 2020",
          "May 2020",
          "August 2020",
          "November 2020",
          "February 2021"
         ],
         "xaxis": "x",
         "y": [
          1,
          1,
          1,
          1,
          1,
          1,
          1,
          1,
          1
         ],
         "yaxis": "y"
        },
        {
         "hovertemplate": "_index=11<br>Time=%{x}<br>degree=%{y}<extra></extra>",
         "legendgroup": "11",
         "line": {
          "color": "#EF553B",
          "dash": "solid"
         },
         "mode": "lines",
         "name": "11",
         "orientation": "v",
         "showlegend": true,
         "type": "scatter",
         "x": [
          "February 2019",
          "May 2019",
          "August 2019",
          "November 2019",
          "February 2020",
          "May 2020",
          "August 2020",
          "November 2020",
          "February 2021"
         ],
         "xaxis": "x",
         "y": [
          1.0526315789473684,
          1,
          1,
          1,
          1,
          1,
          1,
          1,
          1.0526315789473684
         ],
         "yaxis": "y"
        },
        {
         "hovertemplate": "_index=12<br>Time=%{x}<br>degree=%{y}<extra></extra>",
         "legendgroup": "12",
         "line": {
          "color": "#00cc96",
          "dash": "solid"
         },
         "mode": "lines",
         "name": "12",
         "orientation": "v",
         "showlegend": true,
         "type": "scatter",
         "x": [
          "February 2019",
          "May 2019",
          "August 2019",
          "November 2019",
          "February 2020",
          "May 2020",
          "August 2020",
          "November 2020",
          "February 2021"
         ],
         "xaxis": "x",
         "y": [
          1.1052631578947367,
          1.1052631578947367,
          1.1052631578947367,
          1.1052631578947367,
          1.1052631578947367,
          1.1111111111111112,
          1.1052631578947367,
          1.1111111111111112,
          1.1052631578947367
         ],
         "yaxis": "y"
        },
        {
         "hovertemplate": "_index=13<br>Time=%{x}<br>degree=%{y}<extra></extra>",
         "legendgroup": "13",
         "line": {
          "color": "#ab63fa",
          "dash": "solid"
         },
         "mode": "lines",
         "name": "13",
         "orientation": "v",
         "showlegend": true,
         "type": "scatter",
         "x": [
          "February 2019",
          "May 2019",
          "August 2019",
          "November 2019",
          "February 2020",
          "May 2020",
          "August 2020",
          "November 2020",
          "February 2021"
         ],
         "xaxis": "x",
         "y": [
          1.0526315789473684,
          1.0526315789473684,
          1.0526315789473684,
          1.0526315789473684,
          1.0526315789473684,
          1.1111111111111112,
          1.0526315789473684,
          1.1111111111111112,
          1.0526315789473684
         ],
         "yaxis": "y"
        },
        {
         "hovertemplate": "_index=14<br>Time=%{x}<br>degree=%{y}<extra></extra>",
         "legendgroup": "14",
         "line": {
          "color": "#FFA15A",
          "dash": "solid"
         },
         "mode": "lines",
         "name": "14",
         "orientation": "v",
         "showlegend": true,
         "type": "scatter",
         "x": [
          "February 2019",
          "May 2019",
          "August 2019",
          "November 2019",
          "February 2020",
          "May 2020",
          "August 2020",
          "November 2020",
          "February 2021"
         ],
         "xaxis": "x",
         "y": [
          1.1052631578947367,
          1.1052631578947367,
          1.1052631578947367,
          1.1052631578947367,
          1.1052631578947367,
          1.1111111111111112,
          1.1052631578947367,
          1.1111111111111112,
          1.1052631578947367
         ],
         "yaxis": "y"
        },
        {
         "hovertemplate": "_index=15<br>Time=%{x}<br>degree=%{y}<extra></extra>",
         "legendgroup": "15",
         "line": {
          "color": "#19d3f3",
          "dash": "solid"
         },
         "mode": "lines",
         "name": "15",
         "orientation": "v",
         "showlegend": true,
         "type": "scatter",
         "x": [
          "February 2019",
          "May 2019",
          "August 2019",
          "November 2019",
          "February 2020",
          "May 2020",
          "August 2020",
          "November 2020",
          "February 2021"
         ],
         "xaxis": "x",
         "y": [
          1.1052631578947367,
          1.1052631578947367,
          1.1052631578947367,
          1.1052631578947367,
          1.1052631578947367,
          0.7222222222222222,
          1.1052631578947367,
          0.7777777777777777,
          1.1052631578947367
         ],
         "yaxis": "y"
        },
        {
         "hovertemplate": "_index=16<br>Time=%{x}<br>degree=%{y}<extra></extra>",
         "legendgroup": "16",
         "line": {
          "color": "#FF6692",
          "dash": "solid"
         },
         "mode": "lines",
         "name": "16",
         "orientation": "v",
         "showlegend": true,
         "type": "scatter",
         "x": [
          "February 2019",
          "May 2019",
          "August 2019",
          "November 2019",
          "February 2020",
          "May 2020",
          "August 2020",
          "November 2020",
          "February 2021"
         ],
         "xaxis": "x",
         "y": [
          0.894736842105263,
          0.7894736842105263,
          0.894736842105263,
          0.7368421052631579,
          0.7368421052631579,
          1.0555555555555556,
          0.6842105263157894,
          1.1111111111111112,
          0.6842105263157894
         ],
         "yaxis": "y"
        },
        {
         "hovertemplate": "_index=17<br>Time=%{x}<br>degree=%{y}<extra></extra>",
         "legendgroup": "17",
         "line": {
          "color": "#B6E880",
          "dash": "solid"
         },
         "mode": "lines",
         "name": "17",
         "orientation": "v",
         "showlegend": true,
         "type": "scatter",
         "x": [
          "February 2019",
          "May 2019",
          "August 2019",
          "November 2019",
          "February 2020",
          "May 2020",
          "August 2020",
          "November 2020",
          "February 2021"
         ],
         "xaxis": "x",
         "y": [
          1.1052631578947367,
          1.1052631578947367,
          1.1052631578947367,
          1.1052631578947367,
          1.1052631578947367,
          1.1111111111111112,
          1.0526315789473684,
          1.1111111111111112,
          1.0526315789473684
         ],
         "yaxis": "y"
        },
        {
         "hovertemplate": "_index=18<br>Time=%{x}<br>degree=%{y}<extra></extra>",
         "legendgroup": "18",
         "line": {
          "color": "#FF97FF",
          "dash": "solid"
         },
         "mode": "lines",
         "name": "18",
         "orientation": "v",
         "showlegend": true,
         "type": "scatter",
         "x": [
          "February 2019",
          "May 2019",
          "August 2019",
          "November 2019",
          "February 2020",
          "May 2020",
          "August 2020",
          "November 2020",
          "February 2021"
         ],
         "xaxis": "x",
         "y": [
          1.1052631578947367,
          1.1052631578947367,
          1.1052631578947367,
          1.1052631578947367,
          1.1052631578947367,
          1.0555555555555556,
          1.1052631578947367,
          1,
          1.1052631578947367
         ],
         "yaxis": "y"
        },
        {
         "hovertemplate": "_index=19<br>Time=%{x}<br>degree=%{y}<extra></extra>",
         "legendgroup": "19",
         "line": {
          "color": "#FECB52",
          "dash": "solid"
         },
         "mode": "lines",
         "name": "19",
         "orientation": "v",
         "showlegend": true,
         "type": "scatter",
         "x": [
          "February 2019",
          "May 2019",
          "August 2019",
          "November 2019",
          "February 2020",
          "August 2020",
          "February 2021"
         ],
         "xaxis": "x",
         "y": [
          1.1052631578947367,
          1.0526315789473684,
          1.1052631578947367,
          1.0526315789473684,
          1.0526315789473684,
          1.1052631578947367,
          1
         ],
         "yaxis": "y"
        }
       ],
       "layout": {
        "legend": {
         "title": {
          "text": "_index"
         },
         "tracegroupgap": 0
        },
        "margin": {
         "t": 60
        },
        "template": {
         "data": {
          "bar": [
           {
            "error_x": {
             "color": "#2a3f5f"
            },
            "error_y": {
             "color": "#2a3f5f"
            },
            "marker": {
             "line": {
              "color": "#E5ECF6",
              "width": 0.5
             }
            },
            "type": "bar"
           }
          ],
          "barpolar": [
           {
            "marker": {
             "line": {
              "color": "#E5ECF6",
              "width": 0.5
             }
            },
            "type": "barpolar"
           }
          ],
          "carpet": [
           {
            "aaxis": {
             "endlinecolor": "#2a3f5f",
             "gridcolor": "white",
             "linecolor": "white",
             "minorgridcolor": "white",
             "startlinecolor": "#2a3f5f"
            },
            "baxis": {
             "endlinecolor": "#2a3f5f",
             "gridcolor": "white",
             "linecolor": "white",
             "minorgridcolor": "white",
             "startlinecolor": "#2a3f5f"
            },
            "type": "carpet"
           }
          ],
          "choropleth": [
           {
            "colorbar": {
             "outlinewidth": 0,
             "ticks": ""
            },
            "type": "choropleth"
           }
          ],
          "contour": [
           {
            "colorbar": {
             "outlinewidth": 0,
             "ticks": ""
            },
            "colorscale": [
             [
              0,
              "#0d0887"
             ],
             [
              0.1111111111111111,
              "#46039f"
             ],
             [
              0.2222222222222222,
              "#7201a8"
             ],
             [
              0.3333333333333333,
              "#9c179e"
             ],
             [
              0.4444444444444444,
              "#bd3786"
             ],
             [
              0.5555555555555556,
              "#d8576b"
             ],
             [
              0.6666666666666666,
              "#ed7953"
             ],
             [
              0.7777777777777778,
              "#fb9f3a"
             ],
             [
              0.8888888888888888,
              "#fdca26"
             ],
             [
              1,
              "#f0f921"
             ]
            ],
            "type": "contour"
           }
          ],
          "contourcarpet": [
           {
            "colorbar": {
             "outlinewidth": 0,
             "ticks": ""
            },
            "type": "contourcarpet"
           }
          ],
          "heatmap": [
           {
            "colorbar": {
             "outlinewidth": 0,
             "ticks": ""
            },
            "colorscale": [
             [
              0,
              "#0d0887"
             ],
             [
              0.1111111111111111,
              "#46039f"
             ],
             [
              0.2222222222222222,
              "#7201a8"
             ],
             [
              0.3333333333333333,
              "#9c179e"
             ],
             [
              0.4444444444444444,
              "#bd3786"
             ],
             [
              0.5555555555555556,
              "#d8576b"
             ],
             [
              0.6666666666666666,
              "#ed7953"
             ],
             [
              0.7777777777777778,
              "#fb9f3a"
             ],
             [
              0.8888888888888888,
              "#fdca26"
             ],
             [
              1,
              "#f0f921"
             ]
            ],
            "type": "heatmap"
           }
          ],
          "heatmapgl": [
           {
            "colorbar": {
             "outlinewidth": 0,
             "ticks": ""
            },
            "colorscale": [
             [
              0,
              "#0d0887"
             ],
             [
              0.1111111111111111,
              "#46039f"
             ],
             [
              0.2222222222222222,
              "#7201a8"
             ],
             [
              0.3333333333333333,
              "#9c179e"
             ],
             [
              0.4444444444444444,
              "#bd3786"
             ],
             [
              0.5555555555555556,
              "#d8576b"
             ],
             [
              0.6666666666666666,
              "#ed7953"
             ],
             [
              0.7777777777777778,
              "#fb9f3a"
             ],
             [
              0.8888888888888888,
              "#fdca26"
             ],
             [
              1,
              "#f0f921"
             ]
            ],
            "type": "heatmapgl"
           }
          ],
          "histogram": [
           {
            "marker": {
             "colorbar": {
              "outlinewidth": 0,
              "ticks": ""
             }
            },
            "type": "histogram"
           }
          ],
          "histogram2d": [
           {
            "colorbar": {
             "outlinewidth": 0,
             "ticks": ""
            },
            "colorscale": [
             [
              0,
              "#0d0887"
             ],
             [
              0.1111111111111111,
              "#46039f"
             ],
             [
              0.2222222222222222,
              "#7201a8"
             ],
             [
              0.3333333333333333,
              "#9c179e"
             ],
             [
              0.4444444444444444,
              "#bd3786"
             ],
             [
              0.5555555555555556,
              "#d8576b"
             ],
             [
              0.6666666666666666,
              "#ed7953"
             ],
             [
              0.7777777777777778,
              "#fb9f3a"
             ],
             [
              0.8888888888888888,
              "#fdca26"
             ],
             [
              1,
              "#f0f921"
             ]
            ],
            "type": "histogram2d"
           }
          ],
          "histogram2dcontour": [
           {
            "colorbar": {
             "outlinewidth": 0,
             "ticks": ""
            },
            "colorscale": [
             [
              0,
              "#0d0887"
             ],
             [
              0.1111111111111111,
              "#46039f"
             ],
             [
              0.2222222222222222,
              "#7201a8"
             ],
             [
              0.3333333333333333,
              "#9c179e"
             ],
             [
              0.4444444444444444,
              "#bd3786"
             ],
             [
              0.5555555555555556,
              "#d8576b"
             ],
             [
              0.6666666666666666,
              "#ed7953"
             ],
             [
              0.7777777777777778,
              "#fb9f3a"
             ],
             [
              0.8888888888888888,
              "#fdca26"
             ],
             [
              1,
              "#f0f921"
             ]
            ],
            "type": "histogram2dcontour"
           }
          ],
          "mesh3d": [
           {
            "colorbar": {
             "outlinewidth": 0,
             "ticks": ""
            },
            "type": "mesh3d"
           }
          ],
          "parcoords": [
           {
            "line": {
             "colorbar": {
              "outlinewidth": 0,
              "ticks": ""
             }
            },
            "type": "parcoords"
           }
          ],
          "pie": [
           {
            "automargin": true,
            "type": "pie"
           }
          ],
          "scatter": [
           {
            "marker": {
             "colorbar": {
              "outlinewidth": 0,
              "ticks": ""
             }
            },
            "type": "scatter"
           }
          ],
          "scatter3d": [
           {
            "line": {
             "colorbar": {
              "outlinewidth": 0,
              "ticks": ""
             }
            },
            "marker": {
             "colorbar": {
              "outlinewidth": 0,
              "ticks": ""
             }
            },
            "type": "scatter3d"
           }
          ],
          "scattercarpet": [
           {
            "marker": {
             "colorbar": {
              "outlinewidth": 0,
              "ticks": ""
             }
            },
            "type": "scattercarpet"
           }
          ],
          "scattergeo": [
           {
            "marker": {
             "colorbar": {
              "outlinewidth": 0,
              "ticks": ""
             }
            },
            "type": "scattergeo"
           }
          ],
          "scattergl": [
           {
            "marker": {
             "colorbar": {
              "outlinewidth": 0,
              "ticks": ""
             }
            },
            "type": "scattergl"
           }
          ],
          "scattermapbox": [
           {
            "marker": {
             "colorbar": {
              "outlinewidth": 0,
              "ticks": ""
             }
            },
            "type": "scattermapbox"
           }
          ],
          "scatterpolar": [
           {
            "marker": {
             "colorbar": {
              "outlinewidth": 0,
              "ticks": ""
             }
            },
            "type": "scatterpolar"
           }
          ],
          "scatterpolargl": [
           {
            "marker": {
             "colorbar": {
              "outlinewidth": 0,
              "ticks": ""
             }
            },
            "type": "scatterpolargl"
           }
          ],
          "scatterternary": [
           {
            "marker": {
             "colorbar": {
              "outlinewidth": 0,
              "ticks": ""
             }
            },
            "type": "scatterternary"
           }
          ],
          "surface": [
           {
            "colorbar": {
             "outlinewidth": 0,
             "ticks": ""
            },
            "colorscale": [
             [
              0,
              "#0d0887"
             ],
             [
              0.1111111111111111,
              "#46039f"
             ],
             [
              0.2222222222222222,
              "#7201a8"
             ],
             [
              0.3333333333333333,
              "#9c179e"
             ],
             [
              0.4444444444444444,
              "#bd3786"
             ],
             [
              0.5555555555555556,
              "#d8576b"
             ],
             [
              0.6666666666666666,
              "#ed7953"
             ],
             [
              0.7777777777777778,
              "#fb9f3a"
             ],
             [
              0.8888888888888888,
              "#fdca26"
             ],
             [
              1,
              "#f0f921"
             ]
            ],
            "type": "surface"
           }
          ],
          "table": [
           {
            "cells": {
             "fill": {
              "color": "#EBF0F8"
             },
             "line": {
              "color": "white"
             }
            },
            "header": {
             "fill": {
              "color": "#C8D4E3"
             },
             "line": {
              "color": "white"
             }
            },
            "type": "table"
           }
          ]
         },
         "layout": {
          "annotationdefaults": {
           "arrowcolor": "#2a3f5f",
           "arrowhead": 0,
           "arrowwidth": 1
          },
          "autotypenumbers": "strict",
          "coloraxis": {
           "colorbar": {
            "outlinewidth": 0,
            "ticks": ""
           }
          },
          "colorscale": {
           "diverging": [
            [
             0,
             "#8e0152"
            ],
            [
             0.1,
             "#c51b7d"
            ],
            [
             0.2,
             "#de77ae"
            ],
            [
             0.3,
             "#f1b6da"
            ],
            [
             0.4,
             "#fde0ef"
            ],
            [
             0.5,
             "#f7f7f7"
            ],
            [
             0.6,
             "#e6f5d0"
            ],
            [
             0.7,
             "#b8e186"
            ],
            [
             0.8,
             "#7fbc41"
            ],
            [
             0.9,
             "#4d9221"
            ],
            [
             1,
             "#276419"
            ]
           ],
           "sequential": [
            [
             0,
             "#0d0887"
            ],
            [
             0.1111111111111111,
             "#46039f"
            ],
            [
             0.2222222222222222,
             "#7201a8"
            ],
            [
             0.3333333333333333,
             "#9c179e"
            ],
            [
             0.4444444444444444,
             "#bd3786"
            ],
            [
             0.5555555555555556,
             "#d8576b"
            ],
            [
             0.6666666666666666,
             "#ed7953"
            ],
            [
             0.7777777777777778,
             "#fb9f3a"
            ],
            [
             0.8888888888888888,
             "#fdca26"
            ],
            [
             1,
             "#f0f921"
            ]
           ],
           "sequentialminus": [
            [
             0,
             "#0d0887"
            ],
            [
             0.1111111111111111,
             "#46039f"
            ],
            [
             0.2222222222222222,
             "#7201a8"
            ],
            [
             0.3333333333333333,
             "#9c179e"
            ],
            [
             0.4444444444444444,
             "#bd3786"
            ],
            [
             0.5555555555555556,
             "#d8576b"
            ],
            [
             0.6666666666666666,
             "#ed7953"
            ],
            [
             0.7777777777777778,
             "#fb9f3a"
            ],
            [
             0.8888888888888888,
             "#fdca26"
            ],
            [
             1,
             "#f0f921"
            ]
           ]
          },
          "colorway": [
           "#636efa",
           "#EF553B",
           "#00cc96",
           "#ab63fa",
           "#FFA15A",
           "#19d3f3",
           "#FF6692",
           "#B6E880",
           "#FF97FF",
           "#FECB52"
          ],
          "font": {
           "color": "#2a3f5f"
          },
          "geo": {
           "bgcolor": "white",
           "lakecolor": "white",
           "landcolor": "#E5ECF6",
           "showlakes": true,
           "showland": true,
           "subunitcolor": "white"
          },
          "hoverlabel": {
           "align": "left"
          },
          "hovermode": "closest",
          "mapbox": {
           "style": "light"
          },
          "paper_bgcolor": "white",
          "plot_bgcolor": "#E5ECF6",
          "polar": {
           "angularaxis": {
            "gridcolor": "white",
            "linecolor": "white",
            "ticks": ""
           },
           "bgcolor": "#E5ECF6",
           "radialaxis": {
            "gridcolor": "white",
            "linecolor": "white",
            "ticks": ""
           }
          },
          "scene": {
           "xaxis": {
            "backgroundcolor": "#E5ECF6",
            "gridcolor": "white",
            "gridwidth": 2,
            "linecolor": "white",
            "showbackground": true,
            "ticks": "",
            "zerolinecolor": "white"
           },
           "yaxis": {
            "backgroundcolor": "#E5ECF6",
            "gridcolor": "white",
            "gridwidth": 2,
            "linecolor": "white",
            "showbackground": true,
            "ticks": "",
            "zerolinecolor": "white"
           },
           "zaxis": {
            "backgroundcolor": "#E5ECF6",
            "gridcolor": "white",
            "gridwidth": 2,
            "linecolor": "white",
            "showbackground": true,
            "ticks": "",
            "zerolinecolor": "white"
           }
          },
          "shapedefaults": {
           "line": {
            "color": "#2a3f5f"
           }
          },
          "ternary": {
           "aaxis": {
            "gridcolor": "white",
            "linecolor": "white",
            "ticks": ""
           },
           "baxis": {
            "gridcolor": "white",
            "linecolor": "white",
            "ticks": ""
           },
           "bgcolor": "#E5ECF6",
           "caxis": {
            "gridcolor": "white",
            "linecolor": "white",
            "ticks": ""
           }
          },
          "title": {
           "x": 0.05
          },
          "xaxis": {
           "automargin": true,
           "gridcolor": "white",
           "linecolor": "white",
           "ticks": "",
           "title": {
            "standoff": 15
           },
           "zerolinecolor": "white",
           "zerolinewidth": 2
          },
          "yaxis": {
           "automargin": true,
           "gridcolor": "white",
           "linecolor": "white",
           "ticks": "",
           "title": {
            "standoff": 15
           },
           "zerolinecolor": "white",
           "zerolinewidth": 2
          }
         }
        },
        "xaxis": {
         "anchor": "y",
         "domain": [
          0,
          1
         ],
         "title": {
          "text": "Time"
         }
        },
        "yaxis": {
         "anchor": "x",
         "domain": [
          0,
          1
         ],
         "title": {
          "text": "degree"
         }
        }
       }
      },
      "text/html": [
       "<div>                            <div id=\"f214c099-cb4c-4b6e-94d5-461b7eac0571\" class=\"plotly-graph-div\" style=\"height:525px; width:100%;\"></div>            <script type=\"text/javascript\">                require([\"plotly\"], function(Plotly) {                    window.PLOTLYENV=window.PLOTLYENV || {};                                    if (document.getElementById(\"f214c099-cb4c-4b6e-94d5-461b7eac0571\")) {                    Plotly.newPlot(                        \"f214c099-cb4c-4b6e-94d5-461b7eac0571\",                        [{\"hovertemplate\": \"_index=0<br>Time=%{x}<br>degree=%{y}<extra></extra>\", \"legendgroup\": \"0\", \"line\": {\"color\": \"#636efa\", \"dash\": \"solid\"}, \"mode\": \"lines\", \"name\": \"0\", \"orientation\": \"v\", \"showlegend\": true, \"type\": \"scatter\", \"x\": [\"February 2019\", \"May 2019\", \"August 2019\", \"November 2019\", \"February 2020\", \"May 2020\", \"August 2020\", \"November 2020\", \"February 2021\"], \"xaxis\": \"x\", \"y\": [1.0526315789473684, 1.0526315789473684, 1.0526315789473684, 1.0526315789473684, 1.0526315789473684, 1.0555555555555556, 1.0526315789473684, 1.0555555555555556, 1.0526315789473684], \"yaxis\": \"y\"}, {\"hovertemplate\": \"_index=1<br>Time=%{x}<br>degree=%{y}<extra></extra>\", \"legendgroup\": \"1\", \"line\": {\"color\": \"#EF553B\", \"dash\": \"solid\"}, \"mode\": \"lines\", \"name\": \"1\", \"orientation\": \"v\", \"showlegend\": true, \"type\": \"scatter\", \"x\": [\"February 2019\", \"May 2019\", \"August 2019\", \"November 2019\", \"February 2020\", \"May 2020\", \"August 2020\", \"November 2020\", \"February 2021\"], \"xaxis\": \"x\", \"y\": [1.1052631578947367, 1.1052631578947367, 1.1052631578947367, 1.1052631578947367, 1.1052631578947367, 1.1111111111111112, 1.1052631578947367, 1.1111111111111112, 1.1052631578947367], \"yaxis\": \"y\"}, {\"hovertemplate\": \"_index=2<br>Time=%{x}<br>degree=%{y}<extra></extra>\", \"legendgroup\": \"2\", \"line\": {\"color\": \"#00cc96\", \"dash\": \"solid\"}, \"mode\": \"lines\", \"name\": \"2\", \"orientation\": \"v\", \"showlegend\": true, \"type\": \"scatter\", \"x\": [\"February 2019\", \"May 2019\", \"August 2019\", \"November 2019\", \"February 2020\", \"May 2020\", \"August 2020\", \"November 2020\", \"February 2021\"], \"xaxis\": \"x\", \"y\": [1.1052631578947367, 1.1052631578947367, 1.1052631578947367, 1.1052631578947367, 1.1052631578947367, 1.1111111111111112, 1.1052631578947367, 1.1111111111111112, 1.1052631578947367], \"yaxis\": \"y\"}, {\"hovertemplate\": \"_index=3<br>Time=%{x}<br>degree=%{y}<extra></extra>\", \"legendgroup\": \"3\", \"line\": {\"color\": \"#ab63fa\", \"dash\": \"solid\"}, \"mode\": \"lines\", \"name\": \"3\", \"orientation\": \"v\", \"showlegend\": true, \"type\": \"scatter\", \"x\": [\"February 2019\", \"May 2019\", \"August 2019\", \"November 2019\", \"February 2020\", \"May 2020\", \"August 2020\", \"November 2020\", \"February 2021\"], \"xaxis\": \"x\", \"y\": [1.0526315789473684, 1.0526315789473684, 1.0526315789473684, 1.0, 1.0, 1.0, 1.0, 1.0, 1.0], \"yaxis\": \"y\"}, {\"hovertemplate\": \"_index=4<br>Time=%{x}<br>degree=%{y}<extra></extra>\", \"legendgroup\": \"4\", \"line\": {\"color\": \"#FFA15A\", \"dash\": \"solid\"}, \"mode\": \"lines\", \"name\": \"4\", \"orientation\": \"v\", \"showlegend\": true, \"type\": \"scatter\", \"x\": [\"February 2019\", \"May 2019\", \"August 2019\", \"November 2019\", \"February 2020\", \"May 2020\", \"August 2020\", \"November 2020\", \"February 2021\"], \"xaxis\": \"x\", \"y\": [1.0526315789473684, 1.0526315789473684, 1.1052631578947367, 1.1052631578947367, 1.1052631578947367, 1.1111111111111112, 1.1052631578947367, 1.1111111111111112, 1.1052631578947367], \"yaxis\": \"y\"}, {\"hovertemplate\": \"_index=5<br>Time=%{x}<br>degree=%{y}<extra></extra>\", \"legendgroup\": \"5\", \"line\": {\"color\": \"#19d3f3\", \"dash\": \"solid\"}, \"mode\": \"lines\", \"name\": \"5\", \"orientation\": \"v\", \"showlegend\": true, \"type\": \"scatter\", \"x\": [\"February 2019\", \"May 2019\", \"August 2019\", \"November 2019\", \"February 2020\", \"May 2020\", \"August 2020\", \"November 2020\", \"February 2021\"], \"xaxis\": \"x\", \"y\": [1.1052631578947367, 1.0526315789473684, 1.0526315789473684, 1.0526315789473684, 1.1052631578947367, 1.1111111111111112, 1.1052631578947367, 1.1111111111111112, 1.1052631578947367], \"yaxis\": \"y\"}, {\"hovertemplate\": \"_index=6<br>Time=%{x}<br>degree=%{y}<extra></extra>\", \"legendgroup\": \"6\", \"line\": {\"color\": \"#FF6692\", \"dash\": \"solid\"}, \"mode\": \"lines\", \"name\": \"6\", \"orientation\": \"v\", \"showlegend\": true, \"type\": \"scatter\", \"x\": [\"February 2019\", \"May 2019\", \"August 2019\", \"November 2019\", \"February 2020\", \"May 2020\", \"August 2020\", \"November 2020\", \"February 2021\"], \"xaxis\": \"x\", \"y\": [0.6842105263157894, 0.631578947368421, 0.7368421052631579, 0.7368421052631579, 0.7894736842105263, 0.7777777777777777, 0.7894736842105263, 0.7777777777777777, 0.894736842105263], \"yaxis\": \"y\"}, {\"hovertemplate\": \"_index=7<br>Time=%{x}<br>degree=%{y}<extra></extra>\", \"legendgroup\": \"7\", \"line\": {\"color\": \"#B6E880\", \"dash\": \"solid\"}, \"mode\": \"lines\", \"name\": \"7\", \"orientation\": \"v\", \"showlegend\": true, \"type\": \"scatter\", \"x\": [\"February 2019\", \"May 2019\", \"August 2019\", \"November 2019\", \"February 2020\", \"May 2020\", \"August 2020\", \"November 2020\", \"February 2021\"], \"xaxis\": \"x\", \"y\": [1.1052631578947367, 1.0, 1.1052631578947367, 1.0, 1.0, 1.0, 1.0526315789473684, 1.0, 1.0], \"yaxis\": \"y\"}, {\"hovertemplate\": \"_index=8<br>Time=%{x}<br>degree=%{y}<extra></extra>\", \"legendgroup\": \"8\", \"line\": {\"color\": \"#FF97FF\", \"dash\": \"solid\"}, \"mode\": \"lines\", \"name\": \"8\", \"orientation\": \"v\", \"showlegend\": true, \"type\": \"scatter\", \"x\": [\"February 2019\", \"May 2019\", \"August 2019\", \"November 2019\", \"February 2020\", \"May 2020\", \"August 2020\", \"November 2020\", \"February 2021\"], \"xaxis\": \"x\", \"y\": [1.0526315789473684, 1.0526315789473684, 1.0526315789473684, 1.0, 1.0, 1.0, 1.0, 1.0, 1.0526315789473684], \"yaxis\": \"y\"}, {\"hovertemplate\": \"_index=9<br>Time=%{x}<br>degree=%{y}<extra></extra>\", \"legendgroup\": \"9\", \"line\": {\"color\": \"#FECB52\", \"dash\": \"solid\"}, \"mode\": \"lines\", \"name\": \"9\", \"orientation\": \"v\", \"showlegend\": true, \"type\": \"scatter\", \"x\": [\"February 2019\", \"May 2019\", \"August 2019\", \"November 2019\", \"February 2020\", \"May 2020\", \"August 2020\", \"November 2020\", \"February 2021\"], \"xaxis\": \"x\", \"y\": [1.0, 1.0, 1.0, 1.0, 1.0, 1.0, 1.0, 0.9444444444444444, 0.9473684210526315], \"yaxis\": \"y\"}, {\"hovertemplate\": \"_index=10<br>Time=%{x}<br>degree=%{y}<extra></extra>\", \"legendgroup\": \"10\", \"line\": {\"color\": \"#636efa\", \"dash\": \"solid\"}, \"mode\": \"lines\", \"name\": \"10\", \"orientation\": \"v\", \"showlegend\": true, \"type\": \"scatter\", \"x\": [\"February 2019\", \"May 2019\", \"August 2019\", \"November 2019\", \"February 2020\", \"May 2020\", \"August 2020\", \"November 2020\", \"February 2021\"], \"xaxis\": \"x\", \"y\": [1.0, 1.0, 1.0, 1.0, 1.0, 1.0, 1.0, 1.0, 1.0], \"yaxis\": \"y\"}, {\"hovertemplate\": \"_index=11<br>Time=%{x}<br>degree=%{y}<extra></extra>\", \"legendgroup\": \"11\", \"line\": {\"color\": \"#EF553B\", \"dash\": \"solid\"}, \"mode\": \"lines\", \"name\": \"11\", \"orientation\": \"v\", \"showlegend\": true, \"type\": \"scatter\", \"x\": [\"February 2019\", \"May 2019\", \"August 2019\", \"November 2019\", \"February 2020\", \"May 2020\", \"August 2020\", \"November 2020\", \"February 2021\"], \"xaxis\": \"x\", \"y\": [1.0526315789473684, 1.0, 1.0, 1.0, 1.0, 1.0, 1.0, 1.0, 1.0526315789473684], \"yaxis\": \"y\"}, {\"hovertemplate\": \"_index=12<br>Time=%{x}<br>degree=%{y}<extra></extra>\", \"legendgroup\": \"12\", \"line\": {\"color\": \"#00cc96\", \"dash\": \"solid\"}, \"mode\": \"lines\", \"name\": \"12\", \"orientation\": \"v\", \"showlegend\": true, \"type\": \"scatter\", \"x\": [\"February 2019\", \"May 2019\", \"August 2019\", \"November 2019\", \"February 2020\", \"May 2020\", \"August 2020\", \"November 2020\", \"February 2021\"], \"xaxis\": \"x\", \"y\": [1.1052631578947367, 1.1052631578947367, 1.1052631578947367, 1.1052631578947367, 1.1052631578947367, 1.1111111111111112, 1.1052631578947367, 1.1111111111111112, 1.1052631578947367], \"yaxis\": \"y\"}, {\"hovertemplate\": \"_index=13<br>Time=%{x}<br>degree=%{y}<extra></extra>\", \"legendgroup\": \"13\", \"line\": {\"color\": \"#ab63fa\", \"dash\": \"solid\"}, \"mode\": \"lines\", \"name\": \"13\", \"orientation\": \"v\", \"showlegend\": true, \"type\": \"scatter\", \"x\": [\"February 2019\", \"May 2019\", \"August 2019\", \"November 2019\", \"February 2020\", \"May 2020\", \"August 2020\", \"November 2020\", \"February 2021\"], \"xaxis\": \"x\", \"y\": [1.0526315789473684, 1.0526315789473684, 1.0526315789473684, 1.0526315789473684, 1.0526315789473684, 1.1111111111111112, 1.0526315789473684, 1.1111111111111112, 1.0526315789473684], \"yaxis\": \"y\"}, {\"hovertemplate\": \"_index=14<br>Time=%{x}<br>degree=%{y}<extra></extra>\", \"legendgroup\": \"14\", \"line\": {\"color\": \"#FFA15A\", \"dash\": \"solid\"}, \"mode\": \"lines\", \"name\": \"14\", \"orientation\": \"v\", \"showlegend\": true, \"type\": \"scatter\", \"x\": [\"February 2019\", \"May 2019\", \"August 2019\", \"November 2019\", \"February 2020\", \"May 2020\", \"August 2020\", \"November 2020\", \"February 2021\"], \"xaxis\": \"x\", \"y\": [1.1052631578947367, 1.1052631578947367, 1.1052631578947367, 1.1052631578947367, 1.1052631578947367, 1.1111111111111112, 1.1052631578947367, 1.1111111111111112, 1.1052631578947367], \"yaxis\": \"y\"}, {\"hovertemplate\": \"_index=15<br>Time=%{x}<br>degree=%{y}<extra></extra>\", \"legendgroup\": \"15\", \"line\": {\"color\": \"#19d3f3\", \"dash\": \"solid\"}, \"mode\": \"lines\", \"name\": \"15\", \"orientation\": \"v\", \"showlegend\": true, \"type\": \"scatter\", \"x\": [\"February 2019\", \"May 2019\", \"August 2019\", \"November 2019\", \"February 2020\", \"May 2020\", \"August 2020\", \"November 2020\", \"February 2021\"], \"xaxis\": \"x\", \"y\": [1.1052631578947367, 1.1052631578947367, 1.1052631578947367, 1.1052631578947367, 1.1052631578947367, 0.7222222222222222, 1.1052631578947367, 0.7777777777777777, 1.1052631578947367], \"yaxis\": \"y\"}, {\"hovertemplate\": \"_index=16<br>Time=%{x}<br>degree=%{y}<extra></extra>\", \"legendgroup\": \"16\", \"line\": {\"color\": \"#FF6692\", \"dash\": \"solid\"}, \"mode\": \"lines\", \"name\": \"16\", \"orientation\": \"v\", \"showlegend\": true, \"type\": \"scatter\", \"x\": [\"February 2019\", \"May 2019\", \"August 2019\", \"November 2019\", \"February 2020\", \"May 2020\", \"August 2020\", \"November 2020\", \"February 2021\"], \"xaxis\": \"x\", \"y\": [0.894736842105263, 0.7894736842105263, 0.894736842105263, 0.7368421052631579, 0.7368421052631579, 1.0555555555555556, 0.6842105263157894, 1.1111111111111112, 0.6842105263157894], \"yaxis\": \"y\"}, {\"hovertemplate\": \"_index=17<br>Time=%{x}<br>degree=%{y}<extra></extra>\", \"legendgroup\": \"17\", \"line\": {\"color\": \"#B6E880\", \"dash\": \"solid\"}, \"mode\": \"lines\", \"name\": \"17\", \"orientation\": \"v\", \"showlegend\": true, \"type\": \"scatter\", \"x\": [\"February 2019\", \"May 2019\", \"August 2019\", \"November 2019\", \"February 2020\", \"May 2020\", \"August 2020\", \"November 2020\", \"February 2021\"], \"xaxis\": \"x\", \"y\": [1.1052631578947367, 1.1052631578947367, 1.1052631578947367, 1.1052631578947367, 1.1052631578947367, 1.1111111111111112, 1.0526315789473684, 1.1111111111111112, 1.0526315789473684], \"yaxis\": \"y\"}, {\"hovertemplate\": \"_index=18<br>Time=%{x}<br>degree=%{y}<extra></extra>\", \"legendgroup\": \"18\", \"line\": {\"color\": \"#FF97FF\", \"dash\": \"solid\"}, \"mode\": \"lines\", \"name\": \"18\", \"orientation\": \"v\", \"showlegend\": true, \"type\": \"scatter\", \"x\": [\"February 2019\", \"May 2019\", \"August 2019\", \"November 2019\", \"February 2020\", \"May 2020\", \"August 2020\", \"November 2020\", \"February 2021\"], \"xaxis\": \"x\", \"y\": [1.1052631578947367, 1.1052631578947367, 1.1052631578947367, 1.1052631578947367, 1.1052631578947367, 1.0555555555555556, 1.1052631578947367, 1.0, 1.1052631578947367], \"yaxis\": \"y\"}, {\"hovertemplate\": \"_index=19<br>Time=%{x}<br>degree=%{y}<extra></extra>\", \"legendgroup\": \"19\", \"line\": {\"color\": \"#FECB52\", \"dash\": \"solid\"}, \"mode\": \"lines\", \"name\": \"19\", \"orientation\": \"v\", \"showlegend\": true, \"type\": \"scatter\", \"x\": [\"February 2019\", \"May 2019\", \"August 2019\", \"November 2019\", \"February 2020\", \"August 2020\", \"February 2021\"], \"xaxis\": \"x\", \"y\": [1.1052631578947367, 1.0526315789473684, 1.1052631578947367, 1.0526315789473684, 1.0526315789473684, 1.1052631578947367, 1.0], \"yaxis\": \"y\"}],                        {\"legend\": {\"title\": {\"text\": \"_index\"}, \"tracegroupgap\": 0}, \"margin\": {\"t\": 60}, \"template\": {\"data\": {\"bar\": [{\"error_x\": {\"color\": \"#2a3f5f\"}, \"error_y\": {\"color\": \"#2a3f5f\"}, \"marker\": {\"line\": {\"color\": \"#E5ECF6\", \"width\": 0.5}}, \"type\": \"bar\"}], \"barpolar\": [{\"marker\": {\"line\": {\"color\": \"#E5ECF6\", \"width\": 0.5}}, \"type\": \"barpolar\"}], \"carpet\": [{\"aaxis\": {\"endlinecolor\": \"#2a3f5f\", \"gridcolor\": \"white\", \"linecolor\": \"white\", \"minorgridcolor\": \"white\", \"startlinecolor\": \"#2a3f5f\"}, \"baxis\": {\"endlinecolor\": \"#2a3f5f\", \"gridcolor\": \"white\", \"linecolor\": \"white\", \"minorgridcolor\": \"white\", \"startlinecolor\": \"#2a3f5f\"}, \"type\": \"carpet\"}], \"choropleth\": [{\"colorbar\": {\"outlinewidth\": 0, \"ticks\": \"\"}, \"type\": \"choropleth\"}], \"contour\": [{\"colorbar\": {\"outlinewidth\": 0, \"ticks\": \"\"}, \"colorscale\": [[0.0, \"#0d0887\"], [0.1111111111111111, \"#46039f\"], [0.2222222222222222, \"#7201a8\"], [0.3333333333333333, \"#9c179e\"], [0.4444444444444444, \"#bd3786\"], [0.5555555555555556, \"#d8576b\"], [0.6666666666666666, \"#ed7953\"], [0.7777777777777778, \"#fb9f3a\"], [0.8888888888888888, \"#fdca26\"], [1.0, \"#f0f921\"]], \"type\": \"contour\"}], \"contourcarpet\": [{\"colorbar\": {\"outlinewidth\": 0, \"ticks\": \"\"}, \"type\": \"contourcarpet\"}], \"heatmap\": [{\"colorbar\": {\"outlinewidth\": 0, \"ticks\": \"\"}, \"colorscale\": [[0.0, \"#0d0887\"], [0.1111111111111111, \"#46039f\"], [0.2222222222222222, \"#7201a8\"], [0.3333333333333333, \"#9c179e\"], [0.4444444444444444, \"#bd3786\"], [0.5555555555555556, \"#d8576b\"], [0.6666666666666666, \"#ed7953\"], [0.7777777777777778, \"#fb9f3a\"], [0.8888888888888888, \"#fdca26\"], [1.0, \"#f0f921\"]], \"type\": \"heatmap\"}], \"heatmapgl\": [{\"colorbar\": {\"outlinewidth\": 0, \"ticks\": \"\"}, \"colorscale\": [[0.0, \"#0d0887\"], [0.1111111111111111, \"#46039f\"], [0.2222222222222222, \"#7201a8\"], [0.3333333333333333, \"#9c179e\"], [0.4444444444444444, \"#bd3786\"], [0.5555555555555556, \"#d8576b\"], [0.6666666666666666, \"#ed7953\"], [0.7777777777777778, \"#fb9f3a\"], [0.8888888888888888, \"#fdca26\"], [1.0, \"#f0f921\"]], \"type\": \"heatmapgl\"}], \"histogram\": [{\"marker\": {\"colorbar\": {\"outlinewidth\": 0, \"ticks\": \"\"}}, \"type\": \"histogram\"}], \"histogram2d\": [{\"colorbar\": {\"outlinewidth\": 0, \"ticks\": \"\"}, \"colorscale\": [[0.0, \"#0d0887\"], [0.1111111111111111, \"#46039f\"], [0.2222222222222222, \"#7201a8\"], [0.3333333333333333, \"#9c179e\"], [0.4444444444444444, \"#bd3786\"], [0.5555555555555556, \"#d8576b\"], [0.6666666666666666, \"#ed7953\"], [0.7777777777777778, \"#fb9f3a\"], [0.8888888888888888, \"#fdca26\"], [1.0, \"#f0f921\"]], \"type\": \"histogram2d\"}], \"histogram2dcontour\": [{\"colorbar\": {\"outlinewidth\": 0, \"ticks\": \"\"}, \"colorscale\": [[0.0, \"#0d0887\"], [0.1111111111111111, \"#46039f\"], [0.2222222222222222, \"#7201a8\"], [0.3333333333333333, \"#9c179e\"], [0.4444444444444444, \"#bd3786\"], [0.5555555555555556, \"#d8576b\"], [0.6666666666666666, \"#ed7953\"], [0.7777777777777778, \"#fb9f3a\"], [0.8888888888888888, \"#fdca26\"], [1.0, \"#f0f921\"]], \"type\": \"histogram2dcontour\"}], \"mesh3d\": [{\"colorbar\": {\"outlinewidth\": 0, \"ticks\": \"\"}, \"type\": \"mesh3d\"}], \"parcoords\": [{\"line\": {\"colorbar\": {\"outlinewidth\": 0, \"ticks\": \"\"}}, \"type\": \"parcoords\"}], \"pie\": [{\"automargin\": true, \"type\": \"pie\"}], \"scatter\": [{\"marker\": {\"colorbar\": {\"outlinewidth\": 0, \"ticks\": \"\"}}, \"type\": \"scatter\"}], \"scatter3d\": [{\"line\": {\"colorbar\": {\"outlinewidth\": 0, \"ticks\": \"\"}}, \"marker\": {\"colorbar\": {\"outlinewidth\": 0, \"ticks\": \"\"}}, \"type\": \"scatter3d\"}], \"scattercarpet\": [{\"marker\": {\"colorbar\": {\"outlinewidth\": 0, \"ticks\": \"\"}}, \"type\": \"scattercarpet\"}], \"scattergeo\": [{\"marker\": {\"colorbar\": {\"outlinewidth\": 0, \"ticks\": \"\"}}, \"type\": \"scattergeo\"}], \"scattergl\": [{\"marker\": {\"colorbar\": {\"outlinewidth\": 0, \"ticks\": \"\"}}, \"type\": \"scattergl\"}], \"scattermapbox\": [{\"marker\": {\"colorbar\": {\"outlinewidth\": 0, \"ticks\": \"\"}}, \"type\": \"scattermapbox\"}], \"scatterpolar\": [{\"marker\": {\"colorbar\": {\"outlinewidth\": 0, \"ticks\": \"\"}}, \"type\": \"scatterpolar\"}], \"scatterpolargl\": [{\"marker\": {\"colorbar\": {\"outlinewidth\": 0, \"ticks\": \"\"}}, \"type\": \"scatterpolargl\"}], \"scatterternary\": [{\"marker\": {\"colorbar\": {\"outlinewidth\": 0, \"ticks\": \"\"}}, \"type\": \"scatterternary\"}], \"surface\": [{\"colorbar\": {\"outlinewidth\": 0, \"ticks\": \"\"}, \"colorscale\": [[0.0, \"#0d0887\"], [0.1111111111111111, \"#46039f\"], [0.2222222222222222, \"#7201a8\"], [0.3333333333333333, \"#9c179e\"], [0.4444444444444444, \"#bd3786\"], [0.5555555555555556, \"#d8576b\"], [0.6666666666666666, \"#ed7953\"], [0.7777777777777778, \"#fb9f3a\"], [0.8888888888888888, \"#fdca26\"], [1.0, \"#f0f921\"]], \"type\": \"surface\"}], \"table\": [{\"cells\": {\"fill\": {\"color\": \"#EBF0F8\"}, \"line\": {\"color\": \"white\"}}, \"header\": {\"fill\": {\"color\": \"#C8D4E3\"}, \"line\": {\"color\": \"white\"}}, \"type\": \"table\"}]}, \"layout\": {\"annotationdefaults\": {\"arrowcolor\": \"#2a3f5f\", \"arrowhead\": 0, \"arrowwidth\": 1}, \"autotypenumbers\": \"strict\", \"coloraxis\": {\"colorbar\": {\"outlinewidth\": 0, \"ticks\": \"\"}}, \"colorscale\": {\"diverging\": [[0, \"#8e0152\"], [0.1, \"#c51b7d\"], [0.2, \"#de77ae\"], [0.3, \"#f1b6da\"], [0.4, \"#fde0ef\"], [0.5, \"#f7f7f7\"], [0.6, \"#e6f5d0\"], [0.7, \"#b8e186\"], [0.8, \"#7fbc41\"], [0.9, \"#4d9221\"], [1, \"#276419\"]], \"sequential\": [[0.0, \"#0d0887\"], [0.1111111111111111, \"#46039f\"], [0.2222222222222222, \"#7201a8\"], [0.3333333333333333, \"#9c179e\"], [0.4444444444444444, \"#bd3786\"], [0.5555555555555556, \"#d8576b\"], [0.6666666666666666, \"#ed7953\"], [0.7777777777777778, \"#fb9f3a\"], [0.8888888888888888, \"#fdca26\"], [1.0, \"#f0f921\"]], \"sequentialminus\": [[0.0, \"#0d0887\"], [0.1111111111111111, \"#46039f\"], [0.2222222222222222, \"#7201a8\"], [0.3333333333333333, \"#9c179e\"], [0.4444444444444444, \"#bd3786\"], [0.5555555555555556, \"#d8576b\"], [0.6666666666666666, \"#ed7953\"], [0.7777777777777778, \"#fb9f3a\"], [0.8888888888888888, \"#fdca26\"], [1.0, \"#f0f921\"]]}, \"colorway\": [\"#636efa\", \"#EF553B\", \"#00cc96\", \"#ab63fa\", \"#FFA15A\", \"#19d3f3\", \"#FF6692\", \"#B6E880\", \"#FF97FF\", \"#FECB52\"], \"font\": {\"color\": \"#2a3f5f\"}, \"geo\": {\"bgcolor\": \"white\", \"lakecolor\": \"white\", \"landcolor\": \"#E5ECF6\", \"showlakes\": true, \"showland\": true, \"subunitcolor\": \"white\"}, \"hoverlabel\": {\"align\": \"left\"}, \"hovermode\": \"closest\", \"mapbox\": {\"style\": \"light\"}, \"paper_bgcolor\": \"white\", \"plot_bgcolor\": \"#E5ECF6\", \"polar\": {\"angularaxis\": {\"gridcolor\": \"white\", \"linecolor\": \"white\", \"ticks\": \"\"}, \"bgcolor\": \"#E5ECF6\", \"radialaxis\": {\"gridcolor\": \"white\", \"linecolor\": \"white\", \"ticks\": \"\"}}, \"scene\": {\"xaxis\": {\"backgroundcolor\": \"#E5ECF6\", \"gridcolor\": \"white\", \"gridwidth\": 2, \"linecolor\": \"white\", \"showbackground\": true, \"ticks\": \"\", \"zerolinecolor\": \"white\"}, \"yaxis\": {\"backgroundcolor\": \"#E5ECF6\", \"gridcolor\": \"white\", \"gridwidth\": 2, \"linecolor\": \"white\", \"showbackground\": true, \"ticks\": \"\", \"zerolinecolor\": \"white\"}, \"zaxis\": {\"backgroundcolor\": \"#E5ECF6\", \"gridcolor\": \"white\", \"gridwidth\": 2, \"linecolor\": \"white\", \"showbackground\": true, \"ticks\": \"\", \"zerolinecolor\": \"white\"}}, \"shapedefaults\": {\"line\": {\"color\": \"#2a3f5f\"}}, \"ternary\": {\"aaxis\": {\"gridcolor\": \"white\", \"linecolor\": \"white\", \"ticks\": \"\"}, \"baxis\": {\"gridcolor\": \"white\", \"linecolor\": \"white\", \"ticks\": \"\"}, \"bgcolor\": \"#E5ECF6\", \"caxis\": {\"gridcolor\": \"white\", \"linecolor\": \"white\", \"ticks\": \"\"}}, \"title\": {\"x\": 0.05}, \"xaxis\": {\"automargin\": true, \"gridcolor\": \"white\", \"linecolor\": \"white\", \"ticks\": \"\", \"title\": {\"standoff\": 15}, \"zerolinecolor\": \"white\", \"zerolinewidth\": 2}, \"yaxis\": {\"automargin\": true, \"gridcolor\": \"white\", \"linecolor\": \"white\", \"ticks\": \"\", \"title\": {\"standoff\": 15}, \"zerolinecolor\": \"white\", \"zerolinewidth\": 2}}}, \"xaxis\": {\"anchor\": \"y\", \"domain\": [0.0, 1.0], \"title\": {\"text\": \"Time\"}}, \"yaxis\": {\"anchor\": \"x\", \"domain\": [0.0, 1.0], \"title\": {\"text\": \"degree\"}}},                        {\"responsive\": true}                    ).then(function(){\n",
       "                            \n",
       "var gd = document.getElementById('f214c099-cb4c-4b6e-94d5-461b7eac0571');\n",
       "var x = new MutationObserver(function (mutations, observer) {{\n",
       "        var display = window.getComputedStyle(gd).display;\n",
       "        if (!display || display === 'none') {{\n",
       "            console.log([gd, 'removed!']);\n",
       "            Plotly.purge(gd);\n",
       "            observer.disconnect();\n",
       "        }}\n",
       "}});\n",
       "\n",
       "// Listen for the removal of the full notebook cells\n",
       "var notebookContainer = gd.closest('#notebook-container');\n",
       "if (notebookContainer) {{\n",
       "    x.observe(notebookContainer, {childList: true});\n",
       "}}\n",
       "\n",
       "// Listen for the clearing of the current output cell\n",
       "var outputEl = gd.closest('.output');\n",
       "if (outputEl) {{\n",
       "    x.observe(outputEl, {childList: true});\n",
       "}}\n",
       "\n",
       "                        })                };                });            </script>        </div>"
      ]
     },
     "metadata": {},
     "output_type": "display_data"
    }
   ],
   "source": [
    "fig= px.line(finaltable, x=finaltable.Time, y=finaltable.degree, color=finaltable.index)\n",
    "fig.show()"
   ]
  },
  {
   "cell_type": "code",
   "execution_count": null,
   "metadata": {},
   "outputs": [],
   "source": []
  }
 ],
 "metadata": {
  "kernelspec": {
   "display_name": "Python 3",
   "language": "python",
   "name": "python3"
  },
  "language_info": {
   "codemirror_mode": {
    "name": "ipython",
    "version": 3
   },
   "file_extension": ".py",
   "mimetype": "text/x-python",
   "name": "python",
   "nbconvert_exporter": "python",
   "pygments_lexer": "ipython3",
   "version": "3.8.5"
  }
 },
 "nbformat": 4,
 "nbformat_minor": 4
}
